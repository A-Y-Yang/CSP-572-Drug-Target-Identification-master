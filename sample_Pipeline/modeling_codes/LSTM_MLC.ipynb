{
 "cells": [
  {
   "cell_type": "code",
   "execution_count": 1,
   "metadata": {
    "id": "1_i6bRFBpfTE"
   },
   "outputs": [],
   "source": [
    "from termcolor import colored"
   ]
  },
  {
   "cell_type": "code",
   "execution_count": 2,
   "metadata": {
    "id": "QdiFqswRfQim"
   },
   "outputs": [],
   "source": [
    "import pandas as pd\n",
    "import matplotlib.pyplot as plt\n",
    "import seaborn as sns\n",
    "import numpy as np\n",
    "\n",
    "from sklearn.datasets import make_multilabel_classification\n",
    "from keras.models import Sequential\n",
    "from keras.layers import Dense, Bidirectional, LSTM, Dropout, BatchNormalization, Flatten\n",
    "from sklearn.metrics import accuracy_score, confusion_matrix, recall_score, precision_score, multilabel_confusion_matrix, plot_confusion_matrix\n",
    "from sklearn.model_selection import train_test_split\n",
    "import tensorflow as tf \n",
    "from utilities import Util\n",
    "#from Util import Util\n",
    "import os"
   ]
  },
  {
   "cell_type": "code",
   "execution_count": 3,
   "metadata": {
    "id": "x83OeXi1fQiw"
   },
   "outputs": [],
   "source": [
    "smiles_df = pd.read_csv('smiles_converted.csv')\n",
    "smiles_df = smiles_df.rename(columns={'Name':'Molecule ChEMBL ID'})"
   ]
  },
  {
   "cell_type": "code",
   "execution_count": 17,
   "metadata": {
    "id": "q_Py2Ai0fQix"
   },
   "outputs": [
    {
     "data": {
      "text/plain": [
       "Molecule ChEMBL ID    0\n",
       "Smiles                0\n",
       "CHEMBL614725          0\n",
       "CHEMBL1957            0\n",
       "CHEMBL2842            0\n",
       "CHEMBL203             0\n",
       "dtype: int64"
      ]
     },
     "execution_count": 17,
     "metadata": {},
     "output_type": "execute_result"
    }
   ],
   "source": [
    "training_data = pd.read_csv('Training-Data.csv')\n",
    "training_data.head()\n",
    "training_data.isnull().sum()"
   ]
  },
  {
   "cell_type": "code",
   "execution_count": 21,
   "metadata": {
    "colab": {
     "base_uri": "https://localhost:8080/",
     "height": 270
    },
    "id": "fzib73gofQiz",
    "outputId": "c83c0b57-5d53-45b5-a059-3705cfec4b00"
   },
   "outputs": [
    {
     "data": {
      "text/plain": [
       "Molecule ChEMBL ID    False\n",
       "PubchemFP0            False\n",
       "PubchemFP1            False\n",
       "PubchemFP2            False\n",
       "PubchemFP3            False\n",
       "                      ...  \n",
       "PubchemFP876          False\n",
       "PubchemFP877          False\n",
       "PubchemFP878          False\n",
       "PubchemFP879          False\n",
       "PubchemFP880          False\n",
       "Length: 882, dtype: bool"
      ]
     },
     "execution_count": 21,
     "metadata": {},
     "output_type": "execute_result"
    }
   ],
   "source": [
    "smiles_df.isnull().sum() > 0"
   ]
  },
  {
   "cell_type": "code",
   "execution_count": 27,
   "metadata": {
    "colab": {
     "base_uri": "https://localhost:8080/",
     "height": 253
    },
    "id": "MDWgk7mofQi2",
    "outputId": "bcb4ff85-9345-4638-a948-42792af75797"
   },
   "outputs": [
    {
     "data": {
      "text/html": [
       "<div>\n",
       "<style scoped>\n",
       "    .dataframe tbody tr th:only-of-type {\n",
       "        vertical-align: middle;\n",
       "    }\n",
       "\n",
       "    .dataframe tbody tr th {\n",
       "        vertical-align: top;\n",
       "    }\n",
       "\n",
       "    .dataframe thead th {\n",
       "        text-align: right;\n",
       "    }\n",
       "</style>\n",
       "<table border=\"1\" class=\"dataframe\">\n",
       "  <thead>\n",
       "    <tr style=\"text-align: right;\">\n",
       "      <th></th>\n",
       "      <th>CHEMBL614725</th>\n",
       "      <th>CHEMBL1957</th>\n",
       "      <th>CHEMBL2842</th>\n",
       "      <th>CHEMBL203</th>\n",
       "      <th>PubchemFP0</th>\n",
       "      <th>PubchemFP1</th>\n",
       "      <th>PubchemFP2</th>\n",
       "      <th>PubchemFP3</th>\n",
       "      <th>PubchemFP4</th>\n",
       "      <th>PubchemFP5</th>\n",
       "      <th>...</th>\n",
       "      <th>PubchemFP871</th>\n",
       "      <th>PubchemFP872</th>\n",
       "      <th>PubchemFP873</th>\n",
       "      <th>PubchemFP874</th>\n",
       "      <th>PubchemFP875</th>\n",
       "      <th>PubchemFP876</th>\n",
       "      <th>PubchemFP877</th>\n",
       "      <th>PubchemFP878</th>\n",
       "      <th>PubchemFP879</th>\n",
       "      <th>PubchemFP880</th>\n",
       "    </tr>\n",
       "  </thead>\n",
       "  <tbody>\n",
       "    <tr>\n",
       "      <th>0</th>\n",
       "      <td>0</td>\n",
       "      <td>1</td>\n",
       "      <td>0</td>\n",
       "      <td>0</td>\n",
       "      <td>1</td>\n",
       "      <td>1</td>\n",
       "      <td>1</td>\n",
       "      <td>0</td>\n",
       "      <td>0</td>\n",
       "      <td>0</td>\n",
       "      <td>...</td>\n",
       "      <td>0</td>\n",
       "      <td>0</td>\n",
       "      <td>0</td>\n",
       "      <td>0</td>\n",
       "      <td>0</td>\n",
       "      <td>0</td>\n",
       "      <td>0</td>\n",
       "      <td>0</td>\n",
       "      <td>0</td>\n",
       "      <td>0</td>\n",
       "    </tr>\n",
       "    <tr>\n",
       "      <th>1</th>\n",
       "      <td>0</td>\n",
       "      <td>1</td>\n",
       "      <td>0</td>\n",
       "      <td>0</td>\n",
       "      <td>1</td>\n",
       "      <td>1</td>\n",
       "      <td>1</td>\n",
       "      <td>1</td>\n",
       "      <td>0</td>\n",
       "      <td>0</td>\n",
       "      <td>...</td>\n",
       "      <td>0</td>\n",
       "      <td>0</td>\n",
       "      <td>0</td>\n",
       "      <td>0</td>\n",
       "      <td>0</td>\n",
       "      <td>0</td>\n",
       "      <td>0</td>\n",
       "      <td>0</td>\n",
       "      <td>0</td>\n",
       "      <td>0</td>\n",
       "    </tr>\n",
       "    <tr>\n",
       "      <th>2</th>\n",
       "      <td>0</td>\n",
       "      <td>1</td>\n",
       "      <td>0</td>\n",
       "      <td>0</td>\n",
       "      <td>1</td>\n",
       "      <td>1</td>\n",
       "      <td>1</td>\n",
       "      <td>0</td>\n",
       "      <td>0</td>\n",
       "      <td>0</td>\n",
       "      <td>...</td>\n",
       "      <td>0</td>\n",
       "      <td>0</td>\n",
       "      <td>0</td>\n",
       "      <td>0</td>\n",
       "      <td>0</td>\n",
       "      <td>0</td>\n",
       "      <td>0</td>\n",
       "      <td>0</td>\n",
       "      <td>0</td>\n",
       "      <td>0</td>\n",
       "    </tr>\n",
       "    <tr>\n",
       "      <th>3</th>\n",
       "      <td>0</td>\n",
       "      <td>1</td>\n",
       "      <td>0</td>\n",
       "      <td>0</td>\n",
       "      <td>1</td>\n",
       "      <td>1</td>\n",
       "      <td>1</td>\n",
       "      <td>1</td>\n",
       "      <td>0</td>\n",
       "      <td>0</td>\n",
       "      <td>...</td>\n",
       "      <td>0</td>\n",
       "      <td>0</td>\n",
       "      <td>0</td>\n",
       "      <td>0</td>\n",
       "      <td>0</td>\n",
       "      <td>0</td>\n",
       "      <td>0</td>\n",
       "      <td>0</td>\n",
       "      <td>0</td>\n",
       "      <td>0</td>\n",
       "    </tr>\n",
       "    <tr>\n",
       "      <th>4</th>\n",
       "      <td>0</td>\n",
       "      <td>1</td>\n",
       "      <td>0</td>\n",
       "      <td>0</td>\n",
       "      <td>1</td>\n",
       "      <td>1</td>\n",
       "      <td>1</td>\n",
       "      <td>0</td>\n",
       "      <td>0</td>\n",
       "      <td>0</td>\n",
       "      <td>...</td>\n",
       "      <td>0</td>\n",
       "      <td>0</td>\n",
       "      <td>0</td>\n",
       "      <td>0</td>\n",
       "      <td>0</td>\n",
       "      <td>0</td>\n",
       "      <td>0</td>\n",
       "      <td>0</td>\n",
       "      <td>0</td>\n",
       "      <td>0</td>\n",
       "    </tr>\n",
       "  </tbody>\n",
       "</table>\n",
       "<p>5 rows × 885 columns</p>\n",
       "</div>"
      ],
      "text/plain": [
       "   CHEMBL614725  CHEMBL1957  CHEMBL2842  CHEMBL203  PubchemFP0  PubchemFP1  \\\n",
       "0             0           1           0          0           1           1   \n",
       "1             0           1           0          0           1           1   \n",
       "2             0           1           0          0           1           1   \n",
       "3             0           1           0          0           1           1   \n",
       "4             0           1           0          0           1           1   \n",
       "\n",
       "   PubchemFP2  PubchemFP3  PubchemFP4  PubchemFP5  ...  PubchemFP871  \\\n",
       "0           1           0           0           0  ...             0   \n",
       "1           1           1           0           0  ...             0   \n",
       "2           1           0           0           0  ...             0   \n",
       "3           1           1           0           0  ...             0   \n",
       "4           1           0           0           0  ...             0   \n",
       "\n",
       "   PubchemFP872  PubchemFP873  PubchemFP874  PubchemFP875  PubchemFP876  \\\n",
       "0             0             0             0             0             0   \n",
       "1             0             0             0             0             0   \n",
       "2             0             0             0             0             0   \n",
       "3             0             0             0             0             0   \n",
       "4             0             0             0             0             0   \n",
       "\n",
       "   PubchemFP877  PubchemFP878  PubchemFP879  PubchemFP880  \n",
       "0             0             0             0             0  \n",
       "1             0             0             0             0  \n",
       "2             0             0             0             0  \n",
       "3             0             0             0             0  \n",
       "4             0             0             0             0  \n",
       "\n",
       "[5 rows x 885 columns]"
      ]
     },
     "execution_count": 27,
     "metadata": {},
     "output_type": "execute_result"
    }
   ],
   "source": [
    "all_data = pd.merge(training_data, smiles_df, on='Molecule ChEMBL ID')\n",
    "all_data = all_data.drop(columns=['Smiles', \"Molecule ChEMBL ID\"])\n",
    "all_data.head()"
   ]
  },
  {
   "cell_type": "markdown",
   "metadata": {
    "id": "nVvXquadfQi4"
   },
   "source": [
    "## Prepare the dataset"
   ]
  },
  {
   "cell_type": "code",
   "execution_count": 28,
   "metadata": {
    "id": "dfSXHVebfQi4"
   },
   "outputs": [],
   "source": [
    "util_fn = Util(all_data, {'CHEMBL614725', 'CHEMBL1957', 'CHEMBL2842', 'CHEMBL203'})\n",
    "target_ids = ['CHEMBL614725', 'CHEMBL1957', 'CHEMBL2842', 'CHEMBL203']"
   ]
  },
  {
   "cell_type": "code",
   "execution_count": 29,
   "metadata": {
    "id": "2y4NHRnXfQi6"
   },
   "outputs": [],
   "source": [
    "def get_dataset():\n",
    "    y = all_data[target_ids]\n",
    "    X = all_data.drop(columns=target_ids)\n",
    "    return X, y"
   ]
  },
  {
   "cell_type": "code",
   "execution_count": 30,
   "metadata": {
    "id": "OQU0fgpVfQi7"
   },
   "outputs": [],
   "source": [
    "# load dataset\n",
    "X, y = get_dataset()\n",
    "n_inputs, n_outputs = X.shape[1], y.shape[1]\n",
    "X_train, X_test, y_train, y_test = train_test_split(X, y, test_size=0.2)"
   ]
  },
  {
   "cell_type": "markdown",
   "metadata": {
    "id": "XStQwHcQmpsC"
   },
   "source": [
    "# LSTM Model"
   ]
  },
  {
   "cell_type": "code",
   "execution_count": 31,
   "metadata": {
    "id": "9hO2bk_SWc0Q"
   },
   "outputs": [],
   "source": [
    "from tensorflow.keras import regularizers"
   ]
  },
  {
   "cell_type": "code",
   "execution_count": 39,
   "metadata": {
    "id": "rXDEHRv_oHQr"
   },
   "outputs": [],
   "source": [
    "def lstm_model(n_features, n_outputs):\n",
    "    model = Sequential()\n",
    "    model.add(Bidirectional(LSTM(1000, activation='relu', return_sequences=True), input_shape=(1, n_features)))\n",
    "    model.add(Bidirectional(LSTM(500, activation='relu', return_sequences=True)))\n",
    "    model.add(Bidirectional(LSTM(500, activation='relu', return_sequences=True)))\n",
    "    model.add(Flatten())\n",
    "    model.add(Dropout(0.1))\n",
    "    model.add(Dense(128))\n",
    "    model.add(Dense(n_outputs, activation=\"sigmoid\"))\n",
    "    model.compile(optimizer='adam', loss='binary_crossentropy', metrics=['accuracy'])\n",
    "    print(model.summary())\n",
    "    return model"
   ]
  },
  {
   "cell_type": "markdown",
   "metadata": {
    "id": "nePti-CYoRe3"
   },
   "source": [
    "## Prepare data for lstm model"
   ]
  },
  {
   "cell_type": "code",
   "execution_count": 40,
   "metadata": {
    "id": "1LJWg__upNd2"
   },
   "outputs": [],
   "source": [
    "n_samples = len(X_train)\n",
    "n_features = n_inputs\n",
    "train_X = X_train.to_numpy().reshape(n_samples, 1, n_features)\n",
    "train_y = y_train.to_numpy()"
   ]
  },
  {
   "cell_type": "code",
   "execution_count": 43,
   "metadata": {
    "colab": {
     "base_uri": "https://localhost:8080/"
    },
    "id": "EeEUxBM2fQjD",
    "outputId": "afd70b6c-2a3b-442d-a396-326ba1eb9405"
   },
   "outputs": [
    {
     "name": "stdout",
     "output_type": "stream",
     "text": [
      "Model: \"sequential_3\"\n",
      "_________________________________________________________________\n",
      "Layer (type)                 Output Shape              Param #   \n",
      "=================================================================\n",
      "bidirectional_9 (Bidirection (None, 1, 2000)           15056000  \n",
      "_________________________________________________________________\n",
      "bidirectional_10 (Bidirectio (None, 1, 1000)           10004000  \n",
      "_________________________________________________________________\n",
      "bidirectional_11 (Bidirectio (None, 1, 1000)           6004000   \n",
      "_________________________________________________________________\n",
      "flatten_3 (Flatten)          (None, 1000)              0         \n",
      "_________________________________________________________________\n",
      "dropout_3 (Dropout)          (None, 1000)              0         \n",
      "_________________________________________________________________\n",
      "dense_6 (Dense)              (None, 128)               128128    \n",
      "_________________________________________________________________\n",
      "dense_7 (Dense)              (None, 4)                 516       \n",
      "=================================================================\n",
      "Total params: 31,192,644\n",
      "Trainable params: 31,192,644\n",
      "Non-trainable params: 0\n",
      "_________________________________________________________________\n",
      "None\n"
     ]
    }
   ],
   "source": [
    "model = lstm_model(n_inputs, n_outputs)"
   ]
  },
  {
   "cell_type": "code",
   "execution_count": 44,
   "metadata": {
    "colab": {
     "base_uri": "https://localhost:8080/"
    },
    "id": "ZQD8gJEhfQjE",
    "outputId": "306de86b-5e19-4363-b6f6-9ad09432111e"
   },
   "outputs": [
    {
     "name": "stdout",
     "output_type": "stream",
     "text": [
      "Epoch 1/100\n",
      "127/127 [==============================] - 41s 260ms/step - loss: 0.4589 - accuracy: 0.5522\n",
      "Epoch 2/100\n",
      "127/127 [==============================] - 32s 253ms/step - loss: 0.2809 - accuracy: 0.7331\n",
      "Epoch 3/100\n",
      "127/127 [==============================] - 33s 258ms/step - loss: 0.1944 - accuracy: 0.8358\n",
      "Epoch 4/100\n",
      "127/127 [==============================] - 35s 273ms/step - loss: 0.1605 - accuracy: 0.8645\n",
      "Epoch 5/100\n",
      "127/127 [==============================] - 32s 250ms/step - loss: 0.1355 - accuracy: 0.8836\n",
      "Epoch 6/100\n",
      "127/127 [==============================] - 34s 271ms/step - loss: 0.1039 - accuracy: 0.9072\n",
      "Epoch 7/100\n",
      "127/127 [==============================] - 32s 254ms/step - loss: 0.0950 - accuracy: 0.9200\n",
      "Epoch 8/100\n",
      "127/127 [==============================] - 34s 266ms/step - loss: 0.0891 - accuracy: 0.9225\n",
      "Epoch 9/100\n",
      "127/127 [==============================] - 31s 245ms/step - loss: 0.0771 - accuracy: 0.9333\n",
      "Epoch 10/100\n",
      "127/127 [==============================] - 32s 251ms/step - loss: 0.0588 - accuracy: 0.9449\n",
      "Epoch 11/100\n",
      "127/127 [==============================] - 31s 244ms/step - loss: 0.0579 - accuracy: 0.9431\n",
      "Epoch 12/100\n",
      "127/127 [==============================] - 31s 246ms/step - loss: 0.0687 - accuracy: 0.9410\n",
      "Epoch 13/100\n",
      "127/127 [==============================] - 30s 237ms/step - loss: 0.0610 - accuracy: 0.9455\n",
      "Epoch 14/100\n",
      "127/127 [==============================] - 31s 243ms/step - loss: 0.0436 - accuracy: 0.9605\n",
      "Epoch 15/100\n",
      "127/127 [==============================] - 30s 237ms/step - loss: 0.0505 - accuracy: 0.9470\n",
      "Epoch 16/100\n",
      "127/127 [==============================] - 33s 256ms/step - loss: 0.0627 - accuracy: 0.9383\n",
      "Epoch 17/100\n",
      "127/127 [==============================] - 30s 239ms/step - loss: 0.0345 - accuracy: 0.9616\n",
      "Epoch 18/100\n",
      "127/127 [==============================] - 30s 239ms/step - loss: 0.0338 - accuracy: 0.9616\n",
      "Epoch 19/100\n",
      "127/127 [==============================] - 30s 237ms/step - loss: 0.0341 - accuracy: 0.9622\n",
      "Epoch 20/100\n",
      "127/127 [==============================] - 30s 237ms/step - loss: 0.0211 - accuracy: 0.9756\n",
      "Epoch 21/100\n",
      "127/127 [==============================] - 30s 233ms/step - loss: 0.0296 - accuracy: 0.9649\n",
      "Epoch 22/100\n",
      "127/127 [==============================] - 34s 267ms/step - loss: 0.0828 - accuracy: 0.9355\n",
      "Epoch 23/100\n",
      "127/127 [==============================] - 31s 246ms/step - loss: 0.0356 - accuracy: 0.9596\n",
      "Epoch 24/100\n",
      "127/127 [==============================] - 31s 241ms/step - loss: 0.0279 - accuracy: 0.9667\n",
      "Epoch 25/100\n",
      "127/127 [==============================] - 30s 236ms/step - loss: 0.0317 - accuracy: 0.9668\n",
      "Epoch 26/100\n",
      "127/127 [==============================] - 30s 238ms/step - loss: 0.0224 - accuracy: 0.9753\n",
      "Epoch 27/100\n",
      "127/127 [==============================] - 31s 242ms/step - loss: 0.0217 - accuracy: 0.9689\n",
      "Epoch 28/100\n",
      "127/127 [==============================] - 31s 247ms/step - loss: 0.0139 - accuracy: 0.9747\n",
      "Epoch 29/100\n",
      "127/127 [==============================] - 31s 242ms/step - loss: 0.0375 - accuracy: 0.9562\n",
      "Epoch 30/100\n",
      "127/127 [==============================] - 31s 242ms/step - loss: 0.0112 - accuracy: 0.9807\n",
      "Epoch 31/100\n",
      "127/127 [==============================] - 30s 236ms/step - loss: 0.0197 - accuracy: 0.9707\n",
      "Epoch 32/100\n",
      "127/127 [==============================] - 30s 238ms/step - loss: 0.0260 - accuracy: 0.9651\n",
      "Epoch 33/100\n",
      "127/127 [==============================] - 31s 243ms/step - loss: 0.0145 - accuracy: 0.9724\n",
      "Epoch 34/100\n",
      "127/127 [==============================] - 31s 244ms/step - loss: 0.0136 - accuracy: 0.9718\n",
      "Epoch 35/100\n",
      "127/127 [==============================] - 31s 248ms/step - loss: 0.0621 - accuracy: 0.9469\n",
      "Epoch 36/100\n",
      "127/127 [==============================] - 30s 238ms/step - loss: 0.0216 - accuracy: 0.9656\n",
      "Epoch 37/100\n",
      "127/127 [==============================] - 30s 238ms/step - loss: 0.0140 - accuracy: 0.9694\n",
      "Epoch 38/100\n",
      "127/127 [==============================] - 31s 241ms/step - loss: 0.0109 - accuracy: 0.9696\n",
      "Epoch 39/100\n",
      "127/127 [==============================] - 30s 233ms/step - loss: 0.0170 - accuracy: 0.9691\n",
      "Epoch 40/100\n",
      "127/127 [==============================] - 30s 236ms/step - loss: 0.0256 - accuracy: 0.9612\n",
      "Epoch 41/100\n",
      "127/127 [==============================] - 37s 292ms/step - loss: 0.0183 - accuracy: 0.9726\n",
      "Epoch 42/100\n",
      "127/127 [==============================] - 38s 300ms/step - loss: 0.0073 - accuracy: 0.9754\n",
      "Epoch 43/100\n",
      "127/127 [==============================] - 32s 250ms/step - loss: 0.0158 - accuracy: 0.9660\n",
      "Epoch 44/100\n",
      "127/127 [==============================] - 31s 244ms/step - loss: 0.0247 - accuracy: 0.9620\n",
      "Epoch 45/100\n",
      "127/127 [==============================] - 32s 252ms/step - loss: 0.0200 - accuracy: 0.9693\n",
      "Epoch 46/100\n",
      "127/127 [==============================] - 32s 252ms/step - loss: 0.0284 - accuracy: 0.9635\n",
      "Epoch 47/100\n",
      "127/127 [==============================] - 33s 258ms/step - loss: 0.0098 - accuracy: 0.9717\n",
      "Epoch 48/100\n",
      "127/127 [==============================] - 31s 247ms/step - loss: 0.0186 - accuracy: 0.9675\n",
      "Epoch 49/100\n",
      "127/127 [==============================] - 31s 247ms/step - loss: 0.0332 - accuracy: 0.9675\n",
      "Epoch 50/100\n",
      "127/127 [==============================] - 36s 283ms/step - loss: 0.0226 - accuracy: 0.9743\n",
      "Epoch 51/100\n",
      "127/127 [==============================] - 32s 254ms/step - loss: 0.0051 - accuracy: 0.9752\n",
      "Epoch 52/100\n",
      "127/127 [==============================] - 32s 251ms/step - loss: 0.0070 - accuracy: 0.9715\n",
      "Epoch 53/100\n",
      "127/127 [==============================] - 31s 248ms/step - loss: 0.0051 - accuracy: 0.9771\n",
      "Epoch 54/100\n",
      "127/127 [==============================] - 33s 258ms/step - loss: 0.0050 - accuracy: 0.9723\n",
      "Epoch 55/100\n",
      "127/127 [==============================] - 32s 255ms/step - loss: 0.0152 - accuracy: 0.9747\n",
      "Epoch 56/100\n",
      "127/127 [==============================] - 32s 249ms/step - loss: 0.0270 - accuracy: 0.9732\n",
      "Epoch 57/100\n",
      "127/127 [==============================] - 31s 246ms/step - loss: 0.0091 - accuracy: 0.9700\n",
      "Epoch 58/100\n",
      "127/127 [==============================] - 32s 256ms/step - loss: 0.0118 - accuracy: 0.9771\n",
      "Epoch 59/100\n",
      "127/127 [==============================] - 31s 247ms/step - loss: 0.0121 - accuracy: 0.9665\n",
      "Epoch 60/100\n",
      "127/127 [==============================] - 31s 246ms/step - loss: 0.0395 - accuracy: 0.9592\n",
      "Epoch 61/100\n",
      "127/127 [==============================] - 31s 246ms/step - loss: 0.0127 - accuracy: 0.9614\n",
      "Epoch 62/100\n",
      "127/127 [==============================] - 39s 307ms/step - loss: 0.0037 - accuracy: 0.9826\n",
      "Epoch 63/100\n",
      "127/127 [==============================] - 36s 285ms/step - loss: 0.0041 - accuracy: 0.9792\n",
      "Epoch 64/100\n",
      "127/127 [==============================] - 32s 250ms/step - loss: 0.0237 - accuracy: 0.9644\n",
      "Epoch 65/100\n",
      "127/127 [==============================] - 33s 258ms/step - loss: 0.0042 - accuracy: 0.9770\n",
      "Epoch 66/100\n",
      "127/127 [==============================] - 47s 368ms/step - loss: 0.0122 - accuracy: 0.9758\n",
      "Epoch 67/100\n",
      "127/127 [==============================] - 40s 316ms/step - loss: 0.0149 - accuracy: 0.9677\n",
      "Epoch 68/100\n",
      "127/127 [==============================] - 39s 308ms/step - loss: 0.0076 - accuracy: 0.9883\n",
      "Epoch 69/100\n",
      "127/127 [==============================] - 45s 358ms/step - loss: 0.0056 - accuracy: 0.9907\n",
      "Epoch 70/100\n",
      "127/127 [==============================] - 35s 278ms/step - loss: 0.0125 - accuracy: 0.9826\n",
      "Epoch 71/100\n",
      "127/127 [==============================] - 33s 256ms/step - loss: 0.0052 - accuracy: 0.9747\n",
      "Epoch 72/100\n",
      "127/127 [==============================] - 31s 248ms/step - loss: 0.0044 - accuracy: 0.9830\n",
      "Epoch 73/100\n",
      "127/127 [==============================] - 45s 352ms/step - loss: 0.0152 - accuracy: 0.9711\n",
      "Epoch 74/100\n",
      "127/127 [==============================] - 35s 270ms/step - loss: 0.0200 - accuracy: 0.9746\n",
      "Epoch 75/100\n",
      "127/127 [==============================] - 36s 286ms/step - loss: 0.0048 - accuracy: 0.9739\n",
      "Epoch 76/100\n",
      "127/127 [==============================] - 39s 310ms/step - loss: 0.0101 - accuracy: 0.9792\n",
      "Epoch 77/100\n",
      "127/127 [==============================] - 45s 351ms/step - loss: 0.0131 - accuracy: 0.9716\n",
      "Epoch 78/100\n",
      "127/127 [==============================] - 38s 299ms/step - loss: 0.0178 - accuracy: 0.9686\n",
      "Epoch 79/100\n"
     ]
    },
    {
     "name": "stdout",
     "output_type": "stream",
     "text": [
      "127/127 [==============================] - 33s 261ms/step - loss: 0.0060 - accuracy: 0.9740\n",
      "Epoch 80/100\n",
      "127/127 [==============================] - 36s 283ms/step - loss: 0.0022 - accuracy: 0.9732\n",
      "Epoch 81/100\n",
      "127/127 [==============================] - 39s 310ms/step - loss: 0.0062 - accuracy: 0.9706\n",
      "Epoch 82/100\n",
      "127/127 [==============================] - 41s 324ms/step - loss: 0.0047 - accuracy: 0.9684\n",
      "Epoch 83/100\n",
      "127/127 [==============================] - 40s 313ms/step - loss: 0.0025 - accuracy: 0.9757\n",
      "Epoch 84/100\n",
      "127/127 [==============================] - 35s 278ms/step - loss: 0.0023 - accuracy: 0.9784\n",
      "Epoch 85/100\n",
      "127/127 [==============================] - 41s 325ms/step - loss: 0.0021 - accuracy: 0.9760\n",
      "Epoch 86/100\n",
      "127/127 [==============================] - 35s 277ms/step - loss: 0.0130 - accuracy: 0.9772\n",
      "Epoch 87/100\n",
      "127/127 [==============================] - 50s 397ms/step - loss: 0.0440 - accuracy: 0.9615\n",
      "Epoch 88/100\n",
      "127/127 [==============================] - 41s 326ms/step - loss: 0.0527 - accuracy: 0.9532\n",
      "Epoch 89/100\n",
      "127/127 [==============================] - 35s 277ms/step - loss: 0.0169 - accuracy: 0.9638\n",
      "Epoch 90/100\n",
      "127/127 [==============================] - 36s 282ms/step - loss: 0.0179 - accuracy: 0.9711\n",
      "Epoch 91/100\n",
      "127/127 [==============================] - 37s 292ms/step - loss: 0.0050 - accuracy: 0.9729\n",
      "Epoch 92/100\n",
      "127/127 [==============================] - 33s 258ms/step - loss: 0.0034 - accuracy: 0.9829\n",
      "Epoch 93/100\n",
      "127/127 [==============================] - 34s 265ms/step - loss: 0.0024 - accuracy: 0.9730\n",
      "Epoch 94/100\n",
      "127/127 [==============================] - 36s 282ms/step - loss: 0.0018 - accuracy: 0.9786\n",
      "Epoch 95/100\n",
      "127/127 [==============================] - 48s 380ms/step - loss: 0.0030 - accuracy: 0.9758\n",
      "Epoch 96/100\n",
      "127/127 [==============================] - 44s 346ms/step - loss: 0.0095 - accuracy: 0.9615\n",
      "Epoch 97/100\n",
      "127/127 [==============================] - 35s 276ms/step - loss: 0.0075 - accuracy: 0.9686\n",
      "Epoch 98/100\n",
      "127/127 [==============================] - 47s 367ms/step - loss: 0.0145 - accuracy: 0.9779\n",
      "Epoch 99/100\n",
      "127/127 [==============================] - 46s 364ms/step - loss: 0.0135 - accuracy: 0.9689\n",
      "Epoch 100/100\n",
      "127/127 [==============================] - 43s 338ms/step - loss: 0.0266 - accuracy: 0.9713\n"
     ]
    }
   ],
   "source": [
    "history = model.fit(train_X, train_y, epochs=100)"
   ]
  },
  {
   "cell_type": "code",
   "execution_count": 45,
   "metadata": {
    "colab": {
     "base_uri": "https://localhost:8080/",
     "height": 265
    },
    "id": "FN5hyZ7emS5V",
    "outputId": "dac8be0b-65b3-441f-d1b7-03000bb8f245"
   },
   "outputs": [
    {
     "data": {
      "image/png": "[encoded data removed]",
      "text/plain": [
       "<Figure size 432x288 with 1 Axes>"
      ]
     },
     "metadata": {
      "needs_background": "light"
     },
     "output_type": "display_data"
    }
   ],
   "source": [
    "# plt.title('Loss Keras Model')\n",
    "plt.plot(history.history['loss'], label='train')\n",
    "#plt.plot(history.history['val_loss'], label='test')\n",
    "plt.legend()\n",
    "plt.show()"
   ]
  },
  {
   "cell_type": "code",
   "execution_count": 46,
   "metadata": {
    "colab": {
     "base_uri": "https://localhost:8080/",
     "height": 281
    },
    "id": "wFcxhLR2fQjE",
    "outputId": "42f43b78-db19-42a7-82de-889bb3db4956"
   },
   "outputs": [
    {
     "data": {
      "image/png": "[encoded data removed]",
      "text/plain": [
       "<Figure size 432x288 with 1 Axes>"
      ]
     },
     "metadata": {
      "needs_background": "light"
     },
     "output_type": "display_data"
    }
   ],
   "source": [
    "plt.title('Accuracy Keras Model')\n",
    "plt.plot(history.history['accuracy'], label='train')\n",
    "#plt.plot(history.history['val_accuracy'], label='test')\n",
    "plt.legend()\n",
    "plt.show()"
   ]
  },
  {
   "cell_type": "code",
   "execution_count": 47,
   "metadata": {
    "id": "py_CkntkfQjG"
   },
   "outputs": [],
   "source": [
    "n_samples_test = len(X_test)\n",
    "n_features = n_inputs\n",
    "test_X = X_test.to_numpy().reshape(n_samples_test, 1, n_features)"
   ]
  },
  {
   "cell_type": "code",
   "execution_count": 48,
   "metadata": {
    "colab": {
     "base_uri": "https://localhost:8080/"
    },
    "id": "yVunhlNTfQjJ",
    "outputId": "c8f140d3-7503-4fb3-f1f6-b6e90c5cfaed"
   },
   "outputs": [
    {
     "data": {
      "text/plain": [
       "array([[0., 0., 0., 1.],\n",
       "       [0., 0., 0., 1.],\n",
       "       [1., 0., 0., 0.],\n",
       "       ...,\n",
       "       [1., 0., 0., 0.],\n",
       "       [0., 0., 0., 1.],\n",
       "       [0., 0., 0., 1.]], dtype=float32)"
      ]
     },
     "execution_count": 48,
     "metadata": {},
     "output_type": "execute_result"
    }
   ],
   "source": [
    "y_pred = model.predict(test_X)\n",
    "\n",
    "y_pred[y_pred > 0.5] = 1\n",
    "y_pred[y_pred <= 0.5] = 0\n",
    "y_pred"
   ]
  },
  {
   "cell_type": "code",
   "execution_count": 49,
   "metadata": {
    "colab": {
     "base_uri": "https://localhost:8080/"
    },
    "id": "BHh94fUrfQjK",
    "outputId": "5c95c884-ad9e-4529-c2ad-d4a17d96944f"
   },
   "outputs": [
    {
     "data": {
      "text/plain": [
       "0.8919722497522299"
      ]
     },
     "execution_count": 49,
     "metadata": {},
     "output_type": "execute_result"
    }
   ],
   "source": [
    "accuracy_score_val = accuracy_score(y_test, y_pred)\n",
    "accuracy_score_val"
   ]
  },
  {
   "cell_type": "code",
   "execution_count": 50,
   "metadata": {
    "colab": {
     "base_uri": "https://localhost:8080/"
    },
    "id": "KfCqyWy9fQjM",
    "outputId": "883bee7a-dcd4-40cf-81dd-53d693b31fb2"
   },
   "outputs": [
    {
     "name": "stdout",
     "output_type": "stream",
     "text": [
      "Calculated Accuracy score: 0.8919722497522299, Precision: 0.9234496124031008, Recall: 0.9041745730550285, \n",
      " F1 measure: 0.9137104506232022 \n"
     ]
    }
   ],
   "source": [
    "accuracy_score_val = accuracy_score(y_test, y_pred)\n",
    "precision = precision_score(y_test, y_pred, average='micro')\n",
    "recall = recall_score(y_test, y_pred, average='micro')\n",
    "f1_measure = 2 * ((precision * recall) / (precision + recall))\n",
    "print('Calculated Accuracy score: {}, Precision: {}, Recall: {}, \\n F1 measure: {} '.format(accuracy_score_val,\n",
    "                                                            precision, recall, f1_measure))"
   ]
  },
  {
   "cell_type": "code",
   "execution_count": 51,
   "metadata": {
    "id": "iWrcgJiXfQjM"
   },
   "outputs": [],
   "source": [
    "def get_active_targets(compounds):\n",
    "    compounds_predicted = {}\n",
    "    molecule_ids = training_data[training_data[\"Smiles\"].isin(compounds)][\"Molecule ChEMBL ID\"].tolist()\n",
    "    compounds = training_data[training_data[\"Smiles\"].isin(compounds)][\"Smiles\"].tolist()\n",
    "    finger_prints = smiles_df[smiles_df[\"Molecule ChEMBL ID\"].isin(molecule_ids)]\n",
    "    drop_columns =  [\"Molecule ChEMBL ID\"]\n",
    "    finger_prints = finger_prints.drop(columns=drop_columns)\n",
    "    n_samples_test = len(finger_prints)\n",
    "    n_features = n_inputs\n",
    "    i = 0\n",
    "    for index, row in finger_prints.iterrows():\n",
    "        X_new = row.to_numpy().reshape(1, 1, n_features)\n",
    "        pred = model.predict(X_new)[0]\n",
    "        print(pred)\n",
    "        compounds_predicted[compounds[i]] = { 'targets': [], 'prob': []}\n",
    "        for j in range(0, len(pred)):\n",
    "            prob = pred[j]\n",
    "            t = util_fn.target_abbr_from_id(target_ids[j])\n",
    "            compounds_predicted[compounds[i]]['targets'].append(t)\n",
    "            compounds_predicted[compounds[i]]['prob'].append(prob)\n",
    "        i += 1\n",
    "    \n",
    "    return compounds_predicted"
   ]
  },
  {
   "cell_type": "code",
   "execution_count": 52,
   "metadata": {
    "colab": {
     "base_uri": "https://localhost:8080/"
    },
    "id": "wwO2K2n5fQjO",
    "outputId": "ce268dbf-7ee9-4694-8111-d8f97035ca5a"
   },
   "outputs": [
    {
     "name": "stdout",
     "output_type": "stream",
     "text": [
      "[0.06167623 0.3519147  0.96322834 0.39984038]\n",
      "[9.4574690e-04 3.9362907e-04 9.6613610e-01 9.8138702e-01]\n",
      "[9.9999928e-01 1.2435019e-03 1.0000000e+00 1.5726686e-04]\n",
      "\u001b[34mFollowing target probabilites are predicted for Compound: \n",
      " Nc1ccc(-c2ccc3ncc4c(=O)[nH]c(=O)n(-c5cccc(C(F)(F)F)c5)c4c3n2)cn1 \n",
      " \n",
      "\u001b[0m\n",
      "\u001b[31mTarget MIA PaCa-2, Probability 6% \n",
      " \n",
      "\u001b[0m\n",
      "\u001b[31mTarget IGF-1, Probability 35% \n",
      " \n",
      "\u001b[0m\n",
      "\u001b[32mTarget mTOR, Probability 96% \n",
      " \n",
      "\u001b[0m\n",
      "\u001b[31mTarget EGFR-erbB1, Probability 40% \n",
      " \n",
      "\u001b[0m\n",
      "\u001b[34mFollowing target probabilites are predicted for Compound: \n",
      " CS(=O)(=O)N1CCN(Cc2cc3nc(-c4cccc5[nH]ncc45)nc(N4CCOCC4)c3s2)CC1 \n",
      " \n",
      "\u001b[0m\n",
      "\u001b[31mTarget MIA PaCa-2, Probability 0% \n",
      " \n",
      "\u001b[0m\n",
      "\u001b[31mTarget IGF-1, Probability 0% \n",
      " \n",
      "\u001b[0m\n",
      "\u001b[32mTarget mTOR, Probability 97% \n",
      " \n",
      "\u001b[0m\n",
      "\u001b[32mTarget EGFR-erbB1, Probability 98% \n",
      " \n",
      "\u001b[0m\n",
      "\u001b[34mFollowing target probabilites are predicted for Compound: \n",
      " N#CCCCn1nc(-c2ccc(F)c(O)c2)c2c(N)ncnc21 \n",
      " \n",
      "\u001b[0m\n",
      "\u001b[32mTarget MIA PaCa-2, Probability 100% \n",
      " \n",
      "\u001b[0m\n",
      "\u001b[31mTarget IGF-1, Probability 0% \n",
      " \n",
      "\u001b[0m\n",
      "\u001b[32mTarget mTOR, Probability 100% \n",
      " \n",
      "\u001b[0m\n",
      "\u001b[31mTarget EGFR-erbB1, Probability 0% \n",
      " \n",
      "\u001b[0m\n"
     ]
    }
   ],
   "source": [
    "smiles = ['N#CCCCn1nc(-c2ccc(F)c(O)c2)c2c(N)ncnc21', \n",
    "          'CS(=O)(=O)N1CCN(Cc2cc3nc(-c4cccc5[nH]ncc45)nc(N4CCOCC4)c3s2)CC1',\n",
    "          'Nc1ccc(-c2ccc3ncc4c(=O)[nH]c(=O)n(-c5cccc(C(F)(F)F)c5)c4c3n2)cn1',\n",
    "          \n",
    "             ]\n",
    "finger_print = X_test.iloc[[0]]\n",
    "compounds = get_active_targets(smiles)\n",
    "for t in compounds:\n",
    "    print(colored(\"Following target probabilites are predicted for Compound: \\n {} \\n \\n\".format(t), 'blue'))\n",
    "    i = 0\n",
    "    for target in compounds[t]['targets']:\n",
    "        prob = compounds[t]['prob'][i]\n",
    "        if prob >= 0.5:\n",
    "            print(colored(\"Target {}, Probability {}% \\n \\n\".format( target, round(prob * 100)) , 'green'))\n",
    "        else:\n",
    "            print(colored(\"Target {}, Probability {}% \\n \\n\".format( target, round(prob * 100)) , 'red'))\n",
    "        i += 1"
   ]
  },
  {
   "cell_type": "code",
   "execution_count": 57,
   "metadata": {
    "colab": {
     "base_uri": "https://localhost:8080/",
     "height": 142
    },
    "id": "vRA21iqd29Ps",
    "outputId": "748795aa-03ba-47a2-847e-e06309db4fc0"
   },
   "outputs": [
    {
     "data": {
      "text/html": [
       "<div>\n",
       "<style scoped>\n",
       "    .dataframe tbody tr th:only-of-type {\n",
       "        vertical-align: middle;\n",
       "    }\n",
       "\n",
       "    .dataframe tbody tr th {\n",
       "        vertical-align: top;\n",
       "    }\n",
       "\n",
       "    .dataframe thead th {\n",
       "        text-align: right;\n",
       "    }\n",
       "</style>\n",
       "<table border=\"1\" class=\"dataframe\">\n",
       "  <thead>\n",
       "    <tr style=\"text-align: right;\">\n",
       "      <th></th>\n",
       "      <th>Molecule ChEMBL ID</th>\n",
       "      <th>Smiles</th>\n",
       "      <th>CHEMBL614725</th>\n",
       "      <th>CHEMBL1957</th>\n",
       "      <th>CHEMBL2842</th>\n",
       "      <th>CHEMBL203</th>\n",
       "    </tr>\n",
       "  </thead>\n",
       "  <tbody>\n",
       "    <tr>\n",
       "      <th>493</th>\n",
       "      <td>CHEMBL3903725</td>\n",
       "      <td>Nc1ccc(-c2ccc3ncc4c(=O)[nH]c(=O)n(-c5cccc(C(F)...</td>\n",
       "      <td>0</td>\n",
       "      <td>1</td>\n",
       "      <td>1</td>\n",
       "      <td>1</td>\n",
       "    </tr>\n",
       "    <tr>\n",
       "      <th>1452</th>\n",
       "      <td>CHEMBL521851</td>\n",
       "      <td>CS(=O)(=O)N1CCN(Cc2cc3nc(-c4cccc5[nH]ncc45)nc(...</td>\n",
       "      <td>1</td>\n",
       "      <td>0</td>\n",
       "      <td>1</td>\n",
       "      <td>0</td>\n",
       "    </tr>\n",
       "    <tr>\n",
       "      <th>2157</th>\n",
       "      <td>CHEMBL1242469</td>\n",
       "      <td>N#CCCCn1nc(-c2ccc(F)c(O)c2)c2c(N)ncnc21</td>\n",
       "      <td>0</td>\n",
       "      <td>0</td>\n",
       "      <td>1</td>\n",
       "      <td>1</td>\n",
       "    </tr>\n",
       "  </tbody>\n",
       "</table>\n",
       "</div>"
      ],
      "text/plain": [
       "     Molecule ChEMBL ID                                             Smiles  \\\n",
       "493       CHEMBL3903725  Nc1ccc(-c2ccc3ncc4c(=O)[nH]c(=O)n(-c5cccc(C(F)...   \n",
       "1452       CHEMBL521851  CS(=O)(=O)N1CCN(Cc2cc3nc(-c4cccc5[nH]ncc45)nc(...   \n",
       "2157      CHEMBL1242469            N#CCCCn1nc(-c2ccc(F)c(O)c2)c2c(N)ncnc21   \n",
       "\n",
       "      CHEMBL614725  CHEMBL1957  CHEMBL2842  CHEMBL203  \n",
       "493              0           1           1          1  \n",
       "1452             1           0           1          0  \n",
       "2157             0           0           1          1  "
      ]
     },
     "execution_count": 57,
     "metadata": {},
     "output_type": "execute_result"
    }
   ],
   "source": [
    "training_data[training_data[\"Smiles\"].isin(smiles)]\n"
   ]
  },
  {
   "cell_type": "code",
   "execution_count": 55,
   "metadata": {
    "colab": {
     "base_uri": "https://localhost:8080/"
    },
    "id": "F6P1cXExfQjQ",
    "outputId": "a5f071f8-d81f-42aa-dc9f-db4aaf4b68a1"
   },
   "outputs": [
    {
     "data": {
      "text/plain": [
       "array([[[871,  12],\n",
       "        [ 23, 103]],\n",
       "\n",
       "       [[827,  13],\n",
       "        [ 31, 138]],\n",
       "\n",
       "       [[785,  11],\n",
       "        [ 17, 196]],\n",
       "\n",
       "       [[420,  43],\n",
       "        [ 30, 516]]])"
      ]
     },
     "execution_count": 55,
     "metadata": {},
     "output_type": "execute_result"
    }
   ],
   "source": [
    "cm = multilabel_confusion_matrix(y_test, y_pred)\n",
    "cm"
   ]
  },
  {
   "cell_type": "code",
   "execution_count": 56,
   "metadata": {
    "colab": {
     "base_uri": "https://localhost:8080/",
     "height": 1000
    },
    "id": "TRnVfZpQfQjR",
    "outputId": "7d79b356-0c2d-4917-ecd4-2e2221b89a15"
   },
   "outputs": [
    {
     "data": {
      "image/png": "[encoded data removed]",
      "text/plain": [
       "<Figure size 720x504 with 2 Axes>"
      ]
     },
     "metadata": {},
     "output_type": "display_data"
    },
    {
     "data": {
      "image/png": "[encoded data removed]",
      "text/plain": [
       "<Figure size 720x504 with 2 Axes>"
      ]
     },
     "metadata": {},
     "output_type": "display_data"
    },
    {
     "data": {
      "image/png": "[encoded data removed]",
      "text/plain": [
       "<Figure size 720x504 with 2 Axes>"
      ]
     },
     "metadata": {},
     "output_type": "display_data"
    },
    {
     "data": {
      "image/png": "[encoded data removed]",
      "text/plain": [
       "<Figure size 720x504 with 2 Axes>"
      ]
     },
     "metadata": {},
     "output_type": "display_data"
    }
   ],
   "source": [
    "i = 0\n",
    "for t in cm:\n",
    "    sns.set(font_scale=1.4)#for label size\n",
    "    df_cm = pd.DataFrame(t, columns=[\"Positive\", \"Negative\"], index = [\"Positive\", \"Negative\"])\n",
    "    df_cm.index.name = 'Actual'\n",
    "    df_cm.columns.name = 'Predicted'\n",
    "    plt.figure(figsize = (10,7))\n",
    "    plt.title(\"Confusion Matrix for Target {}\".format(util_fn.target_abbr_from_id(target_ids[i])))\n",
    "    sns.heatmap(df_cm, cmap=\"Blues\", annot=True)\n",
    "    plt.show()\n",
    "    i +=1 "
   ]
  },
  {
   "cell_type": "code",
   "execution_count": null,
   "metadata": {
    "id": "ORq2MY1sfQjR"
   },
   "outputs": [],
   "source": []
  },
  {
   "cell_type": "code",
   "execution_count": null,
   "metadata": {
    "id": "X_LNYh7LfQjR"
   },
   "outputs": [],
   "source": []
  }
 ],
 "metadata": {
  "accelerator": "GPU",
  "colab": {
   "collapsed_sections": [],
   "name": "LSTM-MLC.ipynb",
   "provenance": [],
   "toc_visible": true
  },
  "kernelspec": {
   "display_name": "Python 3",
   "language": "python",
   "name": "python3"
  },
  "language_info": {
   "codemirror_mode": {
    "name": "ipython",
    "version": 3
   },
   "file_extension": ".py",
   "mimetype": "text/x-python",
   "name": "python",
   "nbconvert_exporter": "python",
   "pygments_lexer": "ipython3",
   "version": "3.8.5"
  }
 },
 "nbformat": 4,
 "nbformat_minor": 5
}
