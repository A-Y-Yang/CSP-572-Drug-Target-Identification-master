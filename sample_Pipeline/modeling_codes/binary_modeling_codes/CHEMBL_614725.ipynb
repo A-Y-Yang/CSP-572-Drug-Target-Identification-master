{
 "cells": [
  {
   "cell_type": "markdown",
   "metadata": {},
   "source": [
    "<h2>Importing Libraries</h2>"
   ]
  },
  {
   "cell_type": "code",
   "execution_count": 1,
   "metadata": {},
   "outputs": [],
   "source": [
    "import pandas as pd\n",
    "import numpy as np\n",
    "from sklearn.ensemble import RandomForestClassifier\n",
    "from sklearn.tree import DecisionTreeClassifier\n",
    "from sklearn.neighbors import KNeighborsClassifier\n",
    "from sklearn.ensemble import GradientBoostingClassifier\n",
    "from sklearn.metrics import accuracy_score, precision_score, recall_score, auc, f1_score, roc_curve\n",
    "from tensorflow.keras.models import load_model\n",
    "import matplotlib.pyplot as plt"
   ]
  },
  {
   "cell_type": "markdown",
   "metadata": {},
   "source": [
    "<h2>Data Preparation</h2>"
   ]
  },
  {
   "cell_type": "code",
   "execution_count": 3,
   "metadata": {},
   "outputs": [
    {
     "data": {
      "text/html": [
       "<div>\n",
       "<style scoped>\n",
       "    .dataframe tbody tr th:only-of-type {\n",
       "        vertical-align: middle;\n",
       "    }\n",
       "\n",
       "    .dataframe tbody tr th {\n",
       "        vertical-align: top;\n",
       "    }\n",
       "\n",
       "    .dataframe thead th {\n",
       "        text-align: right;\n",
       "    }\n",
       "</style>\n",
       "<table border=\"1\" class=\"dataframe\">\n",
       "  <thead>\n",
       "    <tr style=\"text-align: right;\">\n",
       "      <th></th>\n",
       "      <th>PubchemFP0</th>\n",
       "      <th>PubchemFP1</th>\n",
       "      <th>PubchemFP2</th>\n",
       "      <th>PubchemFP3</th>\n",
       "      <th>PubchemFP4</th>\n",
       "      <th>PubchemFP5</th>\n",
       "      <th>PubchemFP6</th>\n",
       "      <th>PubchemFP7</th>\n",
       "      <th>PubchemFP8</th>\n",
       "      <th>PubchemFP9</th>\n",
       "      <th>...</th>\n",
       "      <th>PubchemFP872</th>\n",
       "      <th>PubchemFP873</th>\n",
       "      <th>PubchemFP874</th>\n",
       "      <th>PubchemFP875</th>\n",
       "      <th>PubchemFP876</th>\n",
       "      <th>PubchemFP877</th>\n",
       "      <th>PubchemFP878</th>\n",
       "      <th>PubchemFP879</th>\n",
       "      <th>PubchemFP880</th>\n",
       "      <th>bioactivity_class</th>\n",
       "    </tr>\n",
       "  </thead>\n",
       "  <tbody>\n",
       "    <tr>\n",
       "      <th>0</th>\n",
       "      <td>1</td>\n",
       "      <td>1</td>\n",
       "      <td>1</td>\n",
       "      <td>1</td>\n",
       "      <td>0</td>\n",
       "      <td>0</td>\n",
       "      <td>0</td>\n",
       "      <td>0</td>\n",
       "      <td>0</td>\n",
       "      <td>1</td>\n",
       "      <td>...</td>\n",
       "      <td>0</td>\n",
       "      <td>0</td>\n",
       "      <td>0</td>\n",
       "      <td>0</td>\n",
       "      <td>0</td>\n",
       "      <td>0</td>\n",
       "      <td>0</td>\n",
       "      <td>0</td>\n",
       "      <td>0</td>\n",
       "      <td>active</td>\n",
       "    </tr>\n",
       "    <tr>\n",
       "      <th>1</th>\n",
       "      <td>1</td>\n",
       "      <td>1</td>\n",
       "      <td>1</td>\n",
       "      <td>1</td>\n",
       "      <td>0</td>\n",
       "      <td>0</td>\n",
       "      <td>0</td>\n",
       "      <td>0</td>\n",
       "      <td>0</td>\n",
       "      <td>1</td>\n",
       "      <td>...</td>\n",
       "      <td>0</td>\n",
       "      <td>0</td>\n",
       "      <td>0</td>\n",
       "      <td>0</td>\n",
       "      <td>0</td>\n",
       "      <td>0</td>\n",
       "      <td>0</td>\n",
       "      <td>0</td>\n",
       "      <td>0</td>\n",
       "      <td>active</td>\n",
       "    </tr>\n",
       "    <tr>\n",
       "      <th>2</th>\n",
       "      <td>1</td>\n",
       "      <td>1</td>\n",
       "      <td>1</td>\n",
       "      <td>0</td>\n",
       "      <td>0</td>\n",
       "      <td>0</td>\n",
       "      <td>0</td>\n",
       "      <td>0</td>\n",
       "      <td>0</td>\n",
       "      <td>1</td>\n",
       "      <td>...</td>\n",
       "      <td>0</td>\n",
       "      <td>0</td>\n",
       "      <td>0</td>\n",
       "      <td>0</td>\n",
       "      <td>0</td>\n",
       "      <td>0</td>\n",
       "      <td>0</td>\n",
       "      <td>0</td>\n",
       "      <td>0</td>\n",
       "      <td>active</td>\n",
       "    </tr>\n",
       "    <tr>\n",
       "      <th>3</th>\n",
       "      <td>1</td>\n",
       "      <td>1</td>\n",
       "      <td>1</td>\n",
       "      <td>1</td>\n",
       "      <td>0</td>\n",
       "      <td>0</td>\n",
       "      <td>0</td>\n",
       "      <td>0</td>\n",
       "      <td>0</td>\n",
       "      <td>1</td>\n",
       "      <td>...</td>\n",
       "      <td>0</td>\n",
       "      <td>0</td>\n",
       "      <td>0</td>\n",
       "      <td>0</td>\n",
       "      <td>0</td>\n",
       "      <td>0</td>\n",
       "      <td>0</td>\n",
       "      <td>0</td>\n",
       "      <td>0</td>\n",
       "      <td>active</td>\n",
       "    </tr>\n",
       "    <tr>\n",
       "      <th>4</th>\n",
       "      <td>1</td>\n",
       "      <td>1</td>\n",
       "      <td>1</td>\n",
       "      <td>1</td>\n",
       "      <td>0</td>\n",
       "      <td>0</td>\n",
       "      <td>0</td>\n",
       "      <td>0</td>\n",
       "      <td>0</td>\n",
       "      <td>1</td>\n",
       "      <td>...</td>\n",
       "      <td>0</td>\n",
       "      <td>0</td>\n",
       "      <td>0</td>\n",
       "      <td>0</td>\n",
       "      <td>0</td>\n",
       "      <td>0</td>\n",
       "      <td>0</td>\n",
       "      <td>0</td>\n",
       "      <td>0</td>\n",
       "      <td>active</td>\n",
       "    </tr>\n",
       "  </tbody>\n",
       "</table>\n",
       "<p>5 rows × 882 columns</p>\n",
       "</div>"
      ],
      "text/plain": [
       "   PubchemFP0  PubchemFP1  PubchemFP2  PubchemFP3  PubchemFP4  PubchemFP5  \\\n",
       "0           1           1           1           1           0           0   \n",
       "1           1           1           1           1           0           0   \n",
       "2           1           1           1           0           0           0   \n",
       "3           1           1           1           1           0           0   \n",
       "4           1           1           1           1           0           0   \n",
       "\n",
       "   PubchemFP6  PubchemFP7  PubchemFP8  PubchemFP9  ...  PubchemFP872  \\\n",
       "0           0           0           0           1  ...             0   \n",
       "1           0           0           0           1  ...             0   \n",
       "2           0           0           0           1  ...             0   \n",
       "3           0           0           0           1  ...             0   \n",
       "4           0           0           0           1  ...             0   \n",
       "\n",
       "   PubchemFP873  PubchemFP874  PubchemFP875  PubchemFP876  PubchemFP877  \\\n",
       "0             0             0             0             0             0   \n",
       "1             0             0             0             0             0   \n",
       "2             0             0             0             0             0   \n",
       "3             0             0             0             0             0   \n",
       "4             0             0             0             0             0   \n",
       "\n",
       "   PubchemFP878  PubchemFP879  PubchemFP880  bioactivity_class  \n",
       "0             0             0             0             active  \n",
       "1             0             0             0             active  \n",
       "2             0             0             0             active  \n",
       "3             0             0             0             active  \n",
       "4             0             0             0             active  \n",
       "\n",
       "[5 rows x 882 columns]"
      ]
     },
     "execution_count": 3,
     "metadata": {},
     "output_type": "execute_result"
    }
   ],
   "source": [
    "# Reading the csv file.\n",
    "df = pd.read_csv('CHEMBL614725_MIA-PaCa-2_2class_pubchem_fp.csv')\n",
    "df.head()"
   ]
  },
  {
   "cell_type": "markdown",
   "metadata": {},
   "source": [
    "<h2>Data Cleaning</h2>"
   ]
  },
  {
   "cell_type": "code",
   "execution_count": 4,
   "metadata": {},
   "outputs": [
    {
     "data": {
      "text/plain": [
       "PubchemFP0           0\n",
       "PubchemFP1           0\n",
       "PubchemFP2           0\n",
       "PubchemFP3           0\n",
       "PubchemFP4           0\n",
       "                    ..\n",
       "PubchemFP877         0\n",
       "PubchemFP878         0\n",
       "PubchemFP879         0\n",
       "PubchemFP880         0\n",
       "bioactivity_class    0\n",
       "Length: 882, dtype: int64"
      ]
     },
     "execution_count": 4,
     "metadata": {},
     "output_type": "execute_result"
    }
   ],
   "source": [
    "df.isna().sum()"
   ]
  },
  {
   "cell_type": "code",
   "execution_count": 5,
   "metadata": {},
   "outputs": [
    {
     "data": {
      "text/plain": [
       "PubchemFP0           0\n",
       "PubchemFP1           0\n",
       "PubchemFP2           0\n",
       "PubchemFP3           0\n",
       "PubchemFP4           0\n",
       "                    ..\n",
       "PubchemFP877         0\n",
       "PubchemFP878         0\n",
       "PubchemFP879         0\n",
       "PubchemFP880         0\n",
       "bioactivity_class    0\n",
       "Length: 882, dtype: int64"
      ]
     },
     "execution_count": 5,
     "metadata": {},
     "output_type": "execute_result"
    }
   ],
   "source": [
    "df.isnull().sum()"
   ]
  },
  {
   "cell_type": "code",
   "execution_count": 6,
   "metadata": {},
   "outputs": [
    {
     "data": {
      "text/plain": [
       "(772, 882)"
      ]
     },
     "execution_count": 6,
     "metadata": {},
     "output_type": "execute_result"
    }
   ],
   "source": [
    "df.shape"
   ]
  },
  {
   "cell_type": "code",
   "execution_count": 7,
   "metadata": {},
   "outputs": [
    {
     "data": {
      "text/plain": [
       "inactive    386\n",
       "active      386\n",
       "Name: bioactivity_class, dtype: int64"
      ]
     },
     "execution_count": 7,
     "metadata": {},
     "output_type": "execute_result"
    }
   ],
   "source": [
    "df['bioactivity_class'].value_counts()"
   ]
  },
  {
   "cell_type": "code",
   "execution_count": 27,
   "metadata": {},
   "outputs": [],
   "source": [
    "# Train-Test split\n",
    "x = df.iloc[:,:881]\n",
    "y = pd.get_dummies(df['bioactivity_class'])['active']\n",
    "from sklearn.model_selection import train_test_split\n",
    "x_train, x_test, y_train, y_test = train_test_split(x, y, test_size=0.2, stratify=y, random_state=42, shuffle=True)"
   ]
  },
  {
   "cell_type": "code",
   "execution_count": 28,
   "metadata": {},
   "outputs": [
    {
     "data": {
      "text/plain": [
       "(617, 881)"
      ]
     },
     "execution_count": 28,
     "metadata": {},
     "output_type": "execute_result"
    }
   ],
   "source": [
    "x_train.shape"
   ]
  },
  {
   "cell_type": "code",
   "execution_count": 29,
   "metadata": {},
   "outputs": [
    {
     "data": {
      "text/plain": [
       "(617,)"
      ]
     },
     "execution_count": 29,
     "metadata": {},
     "output_type": "execute_result"
    }
   ],
   "source": [
    "y_train.shape"
   ]
  },
  {
   "cell_type": "code",
   "execution_count": 30,
   "metadata": {},
   "outputs": [
    {
     "data": {
      "text/plain": [
       "(155, 881)"
      ]
     },
     "execution_count": 30,
     "metadata": {},
     "output_type": "execute_result"
    }
   ],
   "source": [
    "x_test.shape"
   ]
  },
  {
   "cell_type": "code",
   "execution_count": 31,
   "metadata": {},
   "outputs": [
    {
     "data": {
      "text/plain": [
       "(155,)"
      ]
     },
     "execution_count": 31,
     "metadata": {},
     "output_type": "execute_result"
    }
   ],
   "source": [
    "y_test.shape"
   ]
  },
  {
   "cell_type": "markdown",
   "metadata": {},
   "source": [
    "<h2>Data Modeling</h2>"
   ]
  },
  {
   "cell_type": "code",
   "execution_count": 32,
   "metadata": {},
   "outputs": [
    {
     "name": "stdout",
     "output_type": "stream",
     "text": [
      "Best Parameter for KNN, k = 11.0\n"
     ]
    },
    {
     "data": {
      "image/png": "[encoded data removed]",
      "text/plain": [
       "<Figure size 432x288 with 1 Axes>"
      ]
     },
     "metadata": {
      "needs_background": "light"
     },
     "output_type": "display_data"
    }
   ],
   "source": [
    "# KNN\n",
    "# Hyper-tunning the 'n_neighbors' parameter\n",
    "neighbors = list(range(1,21,1))\n",
    "knn_accuracy_test = []\n",
    "knn_accuracy_train = []\n",
    "knn_df = pd.DataFrame(columns=['n_neighbors', 'test_Accuracy', 'train_accuracy'])\n",
    "for i in neighbors:\n",
    "    knn_clf = KNeighborsClassifier(n_neighbors=i)\n",
    "    knn_clf.fit(x_train, y_train)\n",
    "    knn_pred = knn_clf.predict(x_test)\n",
    "    knn_acc = accuracy_score(y_test, knn_pred)\n",
    "    knn_accuracy_test.append(knn_acc)\n",
    "    knn_pred = knn_clf.predict(x_train)\n",
    "    knn_acc = accuracy_score(y_train, knn_pred)\n",
    "    knn_accuracy_train.append(knn_acc)\n",
    "    \n",
    "knn_df['n_neighbors'] = neighbors\n",
    "knn_df['test_Accuracy'] = knn_accuracy_test\n",
    "knn_df['train_accuracy'] = knn_accuracy_train\n",
    "knn_df['difference'] = abs(knn_df['test_Accuracy'].values - knn_df['train_accuracy'].values)\n",
    "knndf = knn_df[knn_df.iloc[:,1]<knn_df.iloc[:,2]]\n",
    "k_best, k_accu_best = knndf.sort_values(['difference', 'test_Accuracy'], ascending=[True, False]).head(1)[['n_neighbors', 'test_Accuracy']].values[0]\n",
    "print(\"Best Parameter for KNN, k =\", k_best)\n",
    "plt.plot(neighbors, knn_accuracy_test, label='test data', marker='o')\n",
    "plt.plot(neighbors, knn_accuracy_train, label='train data', marker='o')\n",
    "plt.plot(k_best, k_accu_best, marker='o', color='red')\n",
    "plt.grid() \n",
    "plt.xlabel(\"Number of Neighbors\")\n",
    "plt.ylabel(\"Accuracy\")\n",
    "plt.title(\"For K-Nearest Neighbors\")\n",
    "plt.legend(loc='upper right')\n",
    "plt.show()"
   ]
  },
  {
   "cell_type": "code",
   "execution_count": 33,
   "metadata": {},
   "outputs": [
    {
     "data": {
      "text/plain": [
       "0.8193548387096774"
      ]
     },
     "execution_count": 33,
     "metadata": {},
     "output_type": "execute_result"
    }
   ],
   "source": [
    "knn_clf = KNeighborsClassifier(n_neighbors=11)\n",
    "knn_clf.fit(x_train, y_train)\n",
    "knn_pred = knn_clf.predict(x_test)\n",
    "knn_acc = accuracy_score(y_test, knn_pred)\n",
    "knn_acc"
   ]
  },
  {
   "cell_type": "code",
   "execution_count": 34,
   "metadata": {},
   "outputs": [
    {
     "name": "stdout",
     "output_type": "stream",
     "text": [
      "Best Parameter for Support Vector Machine(SVC) =  [kernel = scale, gamma = rbf]\n"
     ]
    },
    {
     "data": {
      "image/png": "[encoded data removed]",
      "text/plain": [
       "<Figure size 432x288 with 1 Axes>"
      ]
     },
     "metadata": {
      "needs_background": "light"
     },
     "output_type": "display_data"
    }
   ],
   "source": [
    "# Support Vector Classifier(SVC)\n",
    "from sklearn.svm import SVC\n",
    "# Hyper-tunning the 'kernel' and 'gamma' parameter\n",
    "svc_dict = {'auto': ['linear'], 'scale': ['linear', 'poly', 'rbf', 'sigmoid']}\n",
    "svc_accuracy_test = []\n",
    "svc_accuracy_train = []\n",
    "svc_df = pd.DataFrame(columns=['Parameters', 'test_Accuracy', 'train_Accuracy'])\n",
    "parameter = []\n",
    "cnt = []\n",
    "count = 0\n",
    "for i in svc_dict:\n",
    "    for j in svc_dict[i]:\n",
    "        count+=1\n",
    "        svc_clf = SVC(kernel=j, gamma=i, random_state=100)\n",
    "        svc_clf.fit(x_train, y_train)\n",
    "        svc_pred = svc_clf.predict(x_test)\n",
    "        svc_acc = accuracy_score(y_test, svc_pred)\n",
    "        svc_accuracy_test.append(svc_acc)\n",
    "        svc_pred = svc_clf.predict(x_train)\n",
    "        svc_acc = accuracy_score(y_train, svc_pred)\n",
    "        svc_accuracy_train.append(svc_acc)\n",
    "        cnt.append(count)\n",
    "        para = '[kernel = '+str(i)+', gamma = '+str(j)+']'\n",
    "        parameter.append(para)\n",
    "svc_df['Parameters'] = parameter\n",
    "svc_df['test_Accuracy'] = svc_accuracy_test\n",
    "svc_df['train_Accuracy'] = svc_accuracy_train\n",
    "svc_df['difference'] = abs(svc_df['test_Accuracy'] - svc_df['train_Accuracy'])\n",
    "svc_df[\"count\"] = cnt\n",
    "svcdf = svc_df[svc_df.iloc[:,1]<svc_df.iloc[:,2]]\n",
    "svc_best, svc_accu_best, best_para = svcdf.sort_values(['difference', 'test_Accuracy'], ascending=[True, False]).head(1)[['count', 'test_Accuracy', 'Parameters']].values[0]\n",
    "print('Best Parameter for Support Vector Machine(SVC) = ', best_para)\n",
    "plt.plot(cnt, svc_accuracy_test, label='test_data', marker ='o')\n",
    "plt.plot(cnt, svc_accuracy_train, label='train_data', marker='o')\n",
    "plt.plot(svc_best, svc_accu_best, marker='o', color='red')\n",
    "plt.grid()\n",
    "plt.xlabel(\"Various Parameters\")\n",
    "plt.ylabel(\"Accuracy\")\n",
    "plt.title(\"For SVC\")\n",
    "plt.legend(loc='upper left')\n",
    "plt.show()"
   ]
  },
  {
   "cell_type": "code",
   "execution_count": 35,
   "metadata": {},
   "outputs": [
    {
     "data": {
      "text/plain": [
       "0.8838709677419355"
      ]
     },
     "execution_count": 35,
     "metadata": {},
     "output_type": "execute_result"
    }
   ],
   "source": [
    "svc_clf = SVC(kernel='rbf', random_state=100)\n",
    "svc_clf.fit(x_train, y_train)\n",
    "svc_pred = svc_clf.predict(x_test)\n",
    "svc_acc = accuracy_score(y_test, svc_pred)\n",
    "svc_acc"
   ]
  },
  {
   "cell_type": "code",
   "execution_count": 36,
   "metadata": {},
   "outputs": [
    {
     "name": "stderr",
     "output_type": "stream",
     "text": [
      "c:\\users\\ayush\\appdata\\local\\programs\\python\\python38\\lib\\site-packages\\sklearn\\linear_model\\_sag.py:329: ConvergenceWarning: The max_iter was reached which means the coef_ did not converge\n",
      "  warnings.warn(\"The max_iter was reached which means \"\n",
      "c:\\users\\ayush\\appdata\\local\\programs\\python\\python38\\lib\\site-packages\\sklearn\\linear_model\\_logistic.py:762: ConvergenceWarning: lbfgs failed to converge (status=1):\n",
      "STOP: TOTAL NO. of ITERATIONS REACHED LIMIT.\n",
      "\n",
      "Increase the number of iterations (max_iter) or scale the data as shown in:\n",
      "    https://scikit-learn.org/stable/modules/preprocessing.html\n",
      "Please also refer to the documentation for alternative solver options:\n",
      "    https://scikit-learn.org/stable/modules/linear_model.html#logistic-regression\n",
      "  n_iter_i = _check_optimize_result(\n",
      "c:\\users\\ayush\\appdata\\local\\programs\\python\\python38\\lib\\site-packages\\sklearn\\linear_model\\_sag.py:329: ConvergenceWarning: The max_iter was reached which means the coef_ did not converge\n",
      "  warnings.warn(\"The max_iter was reached which means \"\n",
      "c:\\users\\ayush\\appdata\\local\\programs\\python\\python38\\lib\\site-packages\\sklearn\\linear_model\\_sag.py:329: ConvergenceWarning: The max_iter was reached which means the coef_ did not converge\n",
      "  warnings.warn(\"The max_iter was reached which means \"\n"
     ]
    },
    {
     "name": "stdout",
     "output_type": "stream",
     "text": [
      "Best Parameters for Logistic Regression = [penalty = l1, solver = saga]\n"
     ]
    },
    {
     "data": {
      "image/png": "[encoded data removed]",
      "text/plain": [
       "<Figure size 432x288 with 1 Axes>"
      ]
     },
     "metadata": {
      "needs_background": "light"
     },
     "output_type": "display_data"
    }
   ],
   "source": [
    "# Logistic Regression\n",
    "from sklearn.linear_model import LogisticRegression\n",
    "# Hyper-tunning the 'penalty' and 'solver' parameter\n",
    "lr_dict = {'l1': ['liblinear', 'saga'], 'l2': ['newton-cg', 'lbfgs', 'liblinear', 'sag', 'saga']}\n",
    "lr_accuracy_test = []\n",
    "lr_accuracy_train = []\n",
    "lr_accuracy_cv = []\n",
    "lr_df = pd.DataFrame(columns=['Parameters', 'test_Accuracy', 'train_Accuracy'])\n",
    "parameter = []\n",
    "cnt = []\n",
    "count = 0\n",
    "for i in lr_dict:\n",
    "    for j in lr_dict[i]:\n",
    "        count+=1\n",
    "        lr_clf = LogisticRegression(penalty=i, solver=j, random_state=120)\n",
    "        lr_clf.fit(x_train, y_train)\n",
    "        lr_pred = lr_clf.predict(x_test)\n",
    "        lr_acc = accuracy_score(y_test, lr_pred)\n",
    "        lr_accuracy_test.append(lr_acc)\n",
    "        lr_pred = lr_clf.predict(x_train)\n",
    "        lr_acc = accuracy_score(y_train, lr_pred)\n",
    "        lr_accuracy_train.append(lr_acc)\n",
    "        cnt.append(count)\n",
    "        para = '[penalty = '+str(i)+', solver = '+str(j)+']'\n",
    "        parameter.append(para)\n",
    "\n",
    "lr_df['Parameters'] = parameter\n",
    "lr_df['test_Accuracy'] = lr_accuracy_test\n",
    "lr_df['train_Accuracy'] = lr_accuracy_train\n",
    "lr_df['difference'] = abs(lr_df['test_Accuracy'] - lr_df['train_Accuracy'])\n",
    "lr_df[\"count\"] = cnt\n",
    "lrdf = lr_df[lr_df.iloc[:,1]<lr_df.iloc[:,2]]\n",
    "lr_best, lr_accu_best, best_para = lrdf.sort_values(['difference', 'test_Accuracy'], ascending=[True, False]).head(1)[['count', 'test_Accuracy', 'Parameters']].values[0]\n",
    "print('Best Parameters for Logistic Regression =', best_para)\n",
    "plt.plot(cnt, lr_accuracy_test, label='test_data', marker ='o')\n",
    "plt.plot(cnt, lr_accuracy_train, label='train_data', marker='o')\n",
    "plt.plot(lr_best, lr_accu_best, marker='o', color='red')\n",
    "plt.grid()\n",
    "plt.xlabel(\"Various Parameters\")\n",
    "plt.ylabel(\"Accuracy\")\n",
    "plt.title(\"For Logistic Regression\")\n",
    "plt.legend(loc='upper left')\n",
    "plt.show()"
   ]
  },
  {
   "cell_type": "code",
   "execution_count": 37,
   "metadata": {},
   "outputs": [
    {
     "name": "stderr",
     "output_type": "stream",
     "text": [
      "c:\\users\\ayush\\appdata\\local\\programs\\python\\python38\\lib\\site-packages\\sklearn\\linear_model\\_sag.py:329: ConvergenceWarning: The max_iter was reached which means the coef_ did not converge\n",
      "  warnings.warn(\"The max_iter was reached which means \"\n"
     ]
    },
    {
     "data": {
      "text/plain": [
       "0.8580645161290322"
      ]
     },
     "execution_count": 37,
     "metadata": {},
     "output_type": "execute_result"
    }
   ],
   "source": [
    "lr_clf = LogisticRegression(penalty='l1', solver='saga', random_state=120)\n",
    "lr_clf.fit(x_train, y_train)\n",
    "lr_pred = lr_clf.predict(x_test)\n",
    "lr_acc = accuracy_score(y_test, lr_pred)\n",
    "lr_acc"
   ]
  },
  {
   "cell_type": "code",
   "execution_count": 65,
   "metadata": {},
   "outputs": [
    {
     "name": "stdout",
     "output_type": "stream",
     "text": [
      "Best Parameter for Decision Tree = [criterion = gini, max_depth = 5, min_sample_leaf = 1, min_sample_split = 4]\n"
     ]
    },
    {
     "data": {
      "image/png": "[encoded data removed]",
      "text/plain": [
       "<Figure size 432x288 with 1 Axes>"
      ]
     },
     "metadata": {
      "needs_background": "light"
     },
     "output_type": "display_data"
    }
   ],
   "source": [
    "# Decision Tree\n",
    "# Hyper-tunning the 'criterion', 'max_depth', 'min_sample_leaf' and 'min_sample_split' parameter\n",
    "criterion = ['gini', 'entropy']\n",
    "max_depth = [1,2,3,4,5]\n",
    "min_sample_leaf = [1,2,3,4,5]\n",
    "min_sample_split = [2,3,4,5]\n",
    "dt_accuracy_test = []\n",
    "dt_accuracy_train = []\n",
    "parameter = []\n",
    "dt_df = pd.DataFrame(columns=['Parameters', 'test_Accuracy', 'train_Accuracy'])\n",
    "count = 0\n",
    "cnt = []\n",
    "for i in criterion:\n",
    "    for j in max_depth:\n",
    "        for k in min_sample_leaf:\n",
    "            for l in min_sample_split:\n",
    "                count+=1\n",
    "                dt_clf = DecisionTreeClassifier(criterion=i, max_depth=j, min_samples_leaf=k, min_samples_split=l, random_state=20)\n",
    "                dt_clf.fit(x_train, y_train)\n",
    "                dt_pred = dt_clf.predict(x_test)\n",
    "                dt_acc = accuracy_score(y_test, dt_pred)\n",
    "                dt_accuracy_test.append(dt_acc)\n",
    "                dt_pred = dt_clf.predict(x_train)\n",
    "                dt_acc = accuracy_score(y_train, dt_pred)\n",
    "                dt_accuracy_train.append(dt_acc)\n",
    "                cnt.append(count)\n",
    "                para = '[criterion = '+str(i)+', max_depth = '+str(j)+', min_sample_leaf = '+str(k)+', min_sample_split = '+str(l)+']'\n",
    "                parameter.append(para)\n",
    "\n",
    "dt_df['Parameters'] = parameter\n",
    "dt_df['test_Accuracy'] = dt_accuracy_test\n",
    "dt_df['train_Accuracy'] = dt_accuracy_train\n",
    "dt_df['difference'] = abs(dt_df['test_Accuracy'] - dt_df['train_Accuracy'])\n",
    "dt_df[\"count\"] = cnt\n",
    "dtdf = dt_df[dt_df.iloc[:,1]<dt_df.iloc[:,2]]\n",
    "dt_best, dt_accu_best, best_para = dtdf.iloc[0:int(dtdf.shape[0]*0.50)].sort_values('test_Accuracy', ascending=False).head(1)[['count', 'test_Accuracy', 'Parameters']].values[0]\n",
    "print(\"Best Parameter for Decision Tree =\", best_para)\n",
    "plt.plot(cnt, dt_accuracy_test, label='test_data')\n",
    "plt.plot(cnt, dt_accuracy_train, label='train_data')\n",
    "plt.plot(dt_best, dt_accu_best, marker='o', color='red')\n",
    "plt.grid()\n",
    "plt.xlabel(\"Various Parameters\")\n",
    "plt.ylabel(\"Accuracy\")\n",
    "plt.title(\"For Decision-Tree\")\n",
    "plt.legend(loc='upper left')\n",
    "plt.show()"
   ]
  },
  {
   "cell_type": "code",
   "execution_count": 66,
   "metadata": {},
   "outputs": [
    {
     "data": {
      "text/plain": [
       "0.8193548387096774"
      ]
     },
     "execution_count": 66,
     "metadata": {},
     "output_type": "execute_result"
    }
   ],
   "source": [
    "dt_clf = DecisionTreeClassifier(criterion='gini', max_depth=5, min_samples_leaf=1, min_samples_split=4, random_state=20)\n",
    "dt_clf.fit(x_train, y_train)\n",
    "dt_pred = dt_clf.predict(x_test)\n",
    "dt_acc = accuracy_score(y_test, dt_pred)\n",
    "dt_acc"
   ]
  },
  {
   "cell_type": "code",
   "execution_count": 67,
   "metadata": {},
   "outputs": [
    {
     "name": "stdout",
     "output_type": "stream",
     "text": [
      "Best Accuracy for Random Forest: 0.9032258064516129\n"
     ]
    }
   ],
   "source": [
    "# Random Forest\n",
    "rf_clf = RandomForestClassifier()\n",
    "rf_clf.fit(x_train, y_train)\n",
    "rf_pred = rf_clf.predict(x_test)\n",
    "rf_acc = accuracy_score(y_test, rf_pred)\n",
    "print(\"Best Accuracy for Random Forest:\", rf_acc)"
   ]
  },
  {
   "cell_type": "code",
   "execution_count": 68,
   "metadata": {},
   "outputs": [
    {
     "name": "stdout",
     "output_type": "stream",
     "text": [
      "Accuracy for GradientBoosting: 0.8387096774193549\n"
     ]
    }
   ],
   "source": [
    "# Gradient-Boost Classifier\n",
    "gb_clf = GradientBoostingClassifier()\n",
    "gb_clf.fit(x_train, y_train)\n",
    "pred = gb_clf.predict(x_test)\n",
    "acc_gb = accuracy_score(y_test, pred)\n",
    "print(\"Accuracy for GradientBoosting:\",acc_gb)"
   ]
  },
  {
   "cell_type": "code",
   "execution_count": 6,
   "metadata": {},
   "outputs": [
    {
     "name": "stdout",
     "output_type": "stream",
     "text": [
      "Tensorflow version 2.2.0\n"
     ]
    }
   ],
   "source": [
    "import tensorflow as tf\n",
    "from tensorflow import keras\n",
    "from tensorflow.keras import layers\n",
    "print(\"Tensorflow version \" + tf.__version__)"
   ]
  },
  {
   "cell_type": "code",
   "execution_count": 7,
   "metadata": {},
   "outputs": [],
   "source": [
    "callback = tf.keras.callbacks.EarlyStopping(\n",
    "    monitor='val_loss', min_delta=0, patience=150, verbose=0, mode='auto',\n",
    "    baseline=None, restore_best_weights=False\n",
    ")"
   ]
  },
  {
   "cell_type": "code",
   "execution_count": 30,
   "metadata": {},
   "outputs": [],
   "source": [
    "# Deep Neural Network(DNN)\n",
    "model = keras.Sequential([\n",
    "    layers.Dense(128, activation='relu', kernel_regularizer=keras.regularizers.l2(0.001), input_shape=[len(x_train.keys())]),\n",
    "    layers.Dense(128, activation='tanh', kernel_regularizer=keras.regularizers.l2(0.001)),\n",
    "    layers.Dense(64, activation='relu'),\n",
    "    layers.Dense(128, activation='relu', kernel_regularizer=keras.regularizers.l2(0.001)),\n",
    "    layers.Dropout(0.5),\n",
    "    layers.Dense(64, activation='relu', kernel_regularizer=keras.regularizers.l2(0.001)),\n",
    "    layers.Dropout(0.5),\n",
    "    layers.Dense(1, activation='sigmoid', kernel_regularizer=keras.regularizers.l2(0.001))\n",
    "])"
   ]
  },
  {
   "cell_type": "code",
   "execution_count": 31,
   "metadata": {},
   "outputs": [],
   "source": [
    "model.compile(optimizer='adam',\n",
    "              loss=tf.keras.losses.binary_crossentropy,\n",
    "              metrics=['accuracy'])"
   ]
  },
  {
   "cell_type": "code",
   "execution_count": 32,
   "metadata": {},
   "outputs": [
    {
     "name": "stdout",
     "output_type": "stream",
     "text": [
      "Epoch 1/500\n",
      "16/16 [==============================] - 0s 15ms/step - loss: 1.1825 - accuracy: 0.5132 - val_loss: 1.1105 - val_accuracy: 0.6048\n",
      "Epoch 2/500\n",
      "16/16 [==============================] - 0s 5ms/step - loss: 1.0511 - accuracy: 0.6268 - val_loss: 1.0273 - val_accuracy: 0.6290\n",
      "Epoch 3/500\n",
      "16/16 [==============================] - 0s 5ms/step - loss: 0.9252 - accuracy: 0.6998 - val_loss: 0.9022 - val_accuracy: 0.7177\n",
      "Epoch 4/500\n",
      "16/16 [==============================] - 0s 5ms/step - loss: 0.7571 - accuracy: 0.8276 - val_loss: 0.8297 - val_accuracy: 0.7984\n",
      "Epoch 5/500\n",
      "16/16 [==============================] - 0s 5ms/step - loss: 0.6672 - accuracy: 0.8580 - val_loss: 0.7594 - val_accuracy: 0.8065\n",
      "Epoch 6/500\n",
      "16/16 [==============================] - 0s 5ms/step - loss: 0.5611 - accuracy: 0.9047 - val_loss: 0.7568 - val_accuracy: 0.8468\n",
      "Epoch 7/500\n",
      "16/16 [==============================] - 0s 5ms/step - loss: 0.5103 - accuracy: 0.9290 - val_loss: 0.7251 - val_accuracy: 0.8548\n",
      "Epoch 8/500\n",
      "16/16 [==============================] - 0s 5ms/step - loss: 0.4469 - accuracy: 0.9412 - val_loss: 0.7261 - val_accuracy: 0.8710\n",
      "Epoch 9/500\n",
      "16/16 [==============================] - 0s 5ms/step - loss: 0.3991 - accuracy: 0.9533 - val_loss: 0.8335 - val_accuracy: 0.8871\n",
      "Epoch 10/500\n",
      "16/16 [==============================] - 0s 5ms/step - loss: 0.3279 - accuracy: 0.9736 - val_loss: 1.2024 - val_accuracy: 0.7903\n",
      "Epoch 11/500\n",
      "16/16 [==============================] - 0s 5ms/step - loss: 0.3754 - accuracy: 0.9554 - val_loss: 0.7908 - val_accuracy: 0.8387\n",
      "Epoch 12/500\n",
      "16/16 [==============================] - 0s 6ms/step - loss: 0.3092 - accuracy: 0.9777 - val_loss: 0.8443 - val_accuracy: 0.8629\n",
      "Epoch 13/500\n",
      "16/16 [==============================] - 0s 7ms/step - loss: 0.2669 - accuracy: 0.9959 - val_loss: 0.9648 - val_accuracy: 0.8790\n",
      "Epoch 14/500\n",
      "16/16 [==============================] - 0s 8ms/step - loss: 0.2804 - accuracy: 0.9777 - val_loss: 2.0047 - val_accuracy: 0.6935\n",
      "Epoch 15/500\n",
      "16/16 [==============================] - 0s 8ms/step - loss: 0.4876 - accuracy: 0.9108 - val_loss: 0.7568 - val_accuracy: 0.8548\n",
      "Epoch 16/500\n",
      "16/16 [==============================] - 0s 8ms/step - loss: 0.3639 - accuracy: 0.9473 - val_loss: 0.7189 - val_accuracy: 0.8790\n",
      "Epoch 17/500\n",
      "16/16 [==============================] - 0s 6ms/step - loss: 0.2957 - accuracy: 0.9716 - val_loss: 0.8026 - val_accuracy: 0.8790\n",
      "Epoch 18/500\n",
      "16/16 [==============================] - 0s 5ms/step - loss: 0.2407 - accuracy: 0.9919 - val_loss: 0.9322 - val_accuracy: 0.8871\n",
      "Epoch 19/500\n",
      "16/16 [==============================] - 0s 6ms/step - loss: 0.2360 - accuracy: 0.9919 - val_loss: 0.9909 - val_accuracy: 0.8629\n",
      "Epoch 20/500\n",
      "16/16 [==============================] - 0s 5ms/step - loss: 0.2341 - accuracy: 0.9919 - val_loss: 1.0307 - val_accuracy: 0.8710\n",
      "Epoch 21/500\n",
      "16/16 [==============================] - 0s 25ms/step - loss: 0.2473 - accuracy: 0.9817 - val_loss: 1.0073 - val_accuracy: 0.8710\n",
      "Epoch 22/500\n",
      "16/16 [==============================] - 0s 9ms/step - loss: 0.2185 - accuracy: 0.9899 - val_loss: 1.1342 - val_accuracy: 0.8387\n",
      "Epoch 23/500\n",
      "16/16 [==============================] - 0s 8ms/step - loss: 0.2012 - accuracy: 0.9980 - val_loss: 1.0619 - val_accuracy: 0.8629\n",
      "Epoch 24/500\n",
      "16/16 [==============================] - 0s 7ms/step - loss: 0.1958 - accuracy: 0.9939 - val_loss: 1.2070 - val_accuracy: 0.8468\n",
      "Epoch 25/500\n",
      "16/16 [==============================] - 0s 8ms/step - loss: 0.1983 - accuracy: 0.9980 - val_loss: 1.1593 - val_accuracy: 0.8710\n",
      "Epoch 26/500\n",
      "16/16 [==============================] - 0s 5ms/step - loss: 0.2088 - accuracy: 0.9919 - val_loss: 1.1935 - val_accuracy: 0.8226\n",
      "Epoch 27/500\n",
      "16/16 [==============================] - 0s 7ms/step - loss: 0.2152 - accuracy: 0.9919 - val_loss: 1.1679 - val_accuracy: 0.8306\n",
      "Epoch 28/500\n",
      "16/16 [==============================] - 0s 6ms/step - loss: 0.1912 - accuracy: 0.9959 - val_loss: 1.0226 - val_accuracy: 0.8548\n",
      "Epoch 29/500\n",
      "16/16 [==============================] - 0s 6ms/step - loss: 0.1995 - accuracy: 0.9899 - val_loss: 1.0361 - val_accuracy: 0.8629\n",
      "Epoch 30/500\n",
      "16/16 [==============================] - 0s 6ms/step - loss: 0.1971 - accuracy: 0.9899 - val_loss: 1.0583 - val_accuracy: 0.8548\n",
      "Epoch 31/500\n",
      "16/16 [==============================] - 0s 6ms/step - loss: 0.1715 - accuracy: 0.9980 - val_loss: 1.1586 - val_accuracy: 0.8387\n",
      "Epoch 32/500\n",
      "16/16 [==============================] - 0s 6ms/step - loss: 0.1913 - accuracy: 0.9919 - val_loss: 1.2182 - val_accuracy: 0.8387\n",
      "Epoch 33/500\n",
      "16/16 [==============================] - 0s 6ms/step - loss: 0.1882 - accuracy: 0.9919 - val_loss: 0.9701 - val_accuracy: 0.8548\n",
      "Epoch 34/500\n",
      "16/16 [==============================] - 0s 5ms/step - loss: 0.1739 - accuracy: 0.9919 - val_loss: 1.0587 - val_accuracy: 0.8629\n",
      "Epoch 35/500\n",
      "16/16 [==============================] - 0s 6ms/step - loss: 0.1578 - accuracy: 1.0000 - val_loss: 1.1217 - val_accuracy: 0.8548\n",
      "Epoch 36/500\n",
      "16/16 [==============================] - 0s 6ms/step - loss: 0.1518 - accuracy: 0.9980 - val_loss: 1.2690 - val_accuracy: 0.8306\n",
      "Epoch 37/500\n",
      "16/16 [==============================] - 0s 10ms/step - loss: 0.1481 - accuracy: 0.9980 - val_loss: 1.2472 - val_accuracy: 0.8629\n",
      "Epoch 38/500\n",
      "16/16 [==============================] - 0s 7ms/step - loss: 0.1471 - accuracy: 0.9980 - val_loss: 1.3852 - val_accuracy: 0.8226\n",
      "Epoch 39/500\n",
      "16/16 [==============================] - 0s 6ms/step - loss: 0.1437 - accuracy: 0.9980 - val_loss: 1.3616 - val_accuracy: 0.8468\n",
      "Epoch 40/500\n",
      "16/16 [==============================] - 0s 5ms/step - loss: 0.1518 - accuracy: 0.9980 - val_loss: 1.1929 - val_accuracy: 0.8548\n",
      "Epoch 41/500\n",
      "16/16 [==============================] - 0s 6ms/step - loss: 0.1471 - accuracy: 0.9959 - val_loss: 1.1965 - val_accuracy: 0.8710\n",
      "Epoch 42/500\n",
      "16/16 [==============================] - 0s 6ms/step - loss: 0.1556 - accuracy: 0.9919 - val_loss: 1.2398 - val_accuracy: 0.8468\n",
      "Epoch 43/500\n",
      "16/16 [==============================] - 0s 7ms/step - loss: 0.1699 - accuracy: 0.9878 - val_loss: 1.0906 - val_accuracy: 0.8710\n",
      "Epoch 44/500\n",
      "16/16 [==============================] - 0s 5ms/step - loss: 0.1711 - accuracy: 0.9838 - val_loss: 0.9676 - val_accuracy: 0.8710\n",
      "Epoch 45/500\n",
      "16/16 [==============================] - 0s 5ms/step - loss: 0.1824 - accuracy: 0.9838 - val_loss: 0.9509 - val_accuracy: 0.8790\n",
      "Epoch 46/500\n",
      "16/16 [==============================] - ETA: 0s - loss: 0.1315 - accuracy: 1.00 - 0s 6ms/step - loss: 0.1705 - accuracy: 0.9858 - val_loss: 0.9808 - val_accuracy: 0.8548\n",
      "Epoch 47/500\n",
      "16/16 [==============================] - 0s 6ms/step - loss: 0.1439 - accuracy: 0.9939 - val_loss: 1.0631 - val_accuracy: 0.8710\n",
      "Epoch 48/500\n",
      "16/16 [==============================] - 0s 6ms/step - loss: 0.1375 - accuracy: 0.9959 - val_loss: 1.1779 - val_accuracy: 0.8710\n",
      "Epoch 49/500\n",
      "16/16 [==============================] - 0s 8ms/step - loss: 0.1309 - accuracy: 0.9980 - val_loss: 1.2700 - val_accuracy: 0.8629\n",
      "Epoch 50/500\n",
      "16/16 [==============================] - 0s 6ms/step - loss: 0.1351 - accuracy: 0.9919 - val_loss: 1.3848 - val_accuracy: 0.8306\n",
      "Epoch 51/500\n",
      "16/16 [==============================] - 0s 5ms/step - loss: 0.1592 - accuracy: 0.9878 - val_loss: 1.3139 - val_accuracy: 0.8145\n",
      "Epoch 52/500\n",
      "16/16 [==============================] - 0s 6ms/step - loss: 0.1684 - accuracy: 0.9878 - val_loss: 1.0146 - val_accuracy: 0.8629\n",
      "Epoch 53/500\n",
      "16/16 [==============================] - 0s 7ms/step - loss: 0.1361 - accuracy: 0.9959 - val_loss: 1.0213 - val_accuracy: 0.8710\n",
      "Epoch 54/500\n",
      "16/16 [==============================] - 0s 7ms/step - loss: 0.1287 - accuracy: 0.9959 - val_loss: 1.0287 - val_accuracy: 0.8548\n",
      "Epoch 55/500\n",
      "16/16 [==============================] - 0s 8ms/step - loss: 0.1237 - accuracy: 0.9980 - val_loss: 1.2186 - val_accuracy: 0.8468\n",
      "Epoch 56/500\n",
      "16/16 [==============================] - 0s 6ms/step - loss: 0.1217 - accuracy: 0.9980 - val_loss: 1.2062 - val_accuracy: 0.8548\n",
      "Epoch 57/500\n",
      "16/16 [==============================] - 0s 6ms/step - loss: 0.1432 - accuracy: 0.9939 - val_loss: 1.0656 - val_accuracy: 0.8629\n",
      "Epoch 58/500\n",
      "16/16 [==============================] - 0s 6ms/step - loss: 0.1279 - accuracy: 0.9959 - val_loss: 1.0500 - val_accuracy: 0.8548\n",
      "Epoch 59/500\n",
      "16/16 [==============================] - 0s 6ms/step - loss: 0.1145 - accuracy: 1.0000 - val_loss: 1.1533 - val_accuracy: 0.8629\n",
      "Epoch 60/500\n",
      "16/16 [==============================] - 0s 6ms/step - loss: 0.1103 - accuracy: 0.9980 - val_loss: 1.2106 - val_accuracy: 0.8629\n",
      "Epoch 61/500\n",
      "16/16 [==============================] - 0s 7ms/step - loss: 0.1076 - accuracy: 1.0000 - val_loss: 1.2798 - val_accuracy: 0.8468\n",
      "Epoch 62/500\n",
      "16/16 [==============================] - 0s 6ms/step - loss: 0.1052 - accuracy: 1.0000 - val_loss: 1.2721 - val_accuracy: 0.8629\n",
      "Epoch 63/500\n",
      "16/16 [==============================] - 0s 6ms/step - loss: 0.1046 - accuracy: 1.0000 - val_loss: 1.3536 - val_accuracy: 0.8629\n",
      "Epoch 64/500\n",
      "16/16 [==============================] - 0s 6ms/step - loss: 0.1080 - accuracy: 0.9980 - val_loss: 1.2636 - val_accuracy: 0.8548\n",
      "Epoch 65/500\n",
      "16/16 [==============================] - 0s 6ms/step - loss: 0.0996 - accuracy: 1.0000 - val_loss: 1.2464 - val_accuracy: 0.8468\n",
      "Epoch 66/500\n",
      "16/16 [==============================] - 0s 6ms/step - loss: 0.0970 - accuracy: 1.0000 - val_loss: 1.2479 - val_accuracy: 0.8629\n",
      "Epoch 67/500\n",
      "16/16 [==============================] - 0s 6ms/step - loss: 0.0950 - accuracy: 1.0000 - val_loss: 1.2661 - val_accuracy: 0.8629\n",
      "Epoch 68/500\n",
      "16/16 [==============================] - 0s 6ms/step - loss: 0.0938 - accuracy: 1.0000 - val_loss: 1.2650 - val_accuracy: 0.8629\n",
      "Epoch 69/500\n",
      "16/16 [==============================] - 0s 6ms/step - loss: 0.0923 - accuracy: 1.0000 - val_loss: 1.2669 - val_accuracy: 0.8629\n",
      "Epoch 70/500\n",
      "16/16 [==============================] - 0s 6ms/step - loss: 0.0904 - accuracy: 1.0000 - val_loss: 1.3637 - val_accuracy: 0.8548\n",
      "Epoch 71/500\n",
      "16/16 [==============================] - 0s 6ms/step - loss: 0.0920 - accuracy: 0.9980 - val_loss: 1.3277 - val_accuracy: 0.8387\n",
      "Epoch 72/500\n",
      "16/16 [==============================] - 0s 6ms/step - loss: 0.1017 - accuracy: 0.9959 - val_loss: 1.3375 - val_accuracy: 0.8226\n",
      "Epoch 73/500\n",
      "16/16 [==============================] - 0s 6ms/step - loss: 0.3047 - accuracy: 0.9331 - val_loss: 0.9121 - val_accuracy: 0.8226\n",
      "Epoch 74/500\n",
      "16/16 [==============================] - 0s 6ms/step - loss: 0.2286 - accuracy: 0.9675 - val_loss: 0.6073 - val_accuracy: 0.8629\n",
      "Epoch 75/500\n",
      "16/16 [==============================] - 0s 6ms/step - loss: 0.1456 - accuracy: 0.9858 - val_loss: 0.9385 - val_accuracy: 0.8629\n",
      "Epoch 76/500\n",
      "16/16 [==============================] - 0s 6ms/step - loss: 0.1064 - accuracy: 0.9980 - val_loss: 1.0301 - val_accuracy: 0.8629\n",
      "Epoch 77/500\n",
      "16/16 [==============================] - 0s 5ms/step - loss: 0.0968 - accuracy: 1.0000 - val_loss: 1.2819 - val_accuracy: 0.8306\n",
      "Epoch 78/500\n",
      "16/16 [==============================] - 0s 6ms/step - loss: 0.0945 - accuracy: 1.0000 - val_loss: 1.2992 - val_accuracy: 0.8629\n",
      "Epoch 79/500\n",
      "16/16 [==============================] - 0s 6ms/step - loss: 0.0909 - accuracy: 1.0000 - val_loss: 1.3506 - val_accuracy: 0.8548\n",
      "Epoch 80/500\n",
      "16/16 [==============================] - 0s 5ms/step - loss: 0.0890 - accuracy: 1.0000 - val_loss: 1.3376 - val_accuracy: 0.8548\n",
      "Epoch 81/500\n",
      "16/16 [==============================] - 0s 6ms/step - loss: 0.0875 - accuracy: 1.0000 - val_loss: 1.3040 - val_accuracy: 0.8548\n",
      "Epoch 82/500\n",
      "16/16 [==============================] - 0s 5ms/step - loss: 0.0859 - accuracy: 1.0000 - val_loss: 1.2933 - val_accuracy: 0.8548\n",
      "Epoch 83/500\n",
      "16/16 [==============================] - 0s 5ms/step - loss: 0.0845 - accuracy: 1.0000 - val_loss: 1.2773 - val_accuracy: 0.8548\n",
      "Epoch 84/500\n",
      "16/16 [==============================] - 0s 6ms/step - loss: 0.0832 - accuracy: 1.0000 - val_loss: 1.2824 - val_accuracy: 0.8548\n",
      "Epoch 85/500\n",
      "16/16 [==============================] - 0s 6ms/step - loss: 0.0819 - accuracy: 1.0000 - val_loss: 1.2564 - val_accuracy: 0.8629\n",
      "Epoch 86/500\n",
      "16/16 [==============================] - 0s 8ms/step - loss: 0.0807 - accuracy: 1.0000 - val_loss: 1.2518 - val_accuracy: 0.8629\n",
      "Epoch 87/500\n",
      "16/16 [==============================] - 0s 6ms/step - loss: 0.0793 - accuracy: 1.0000 - val_loss: 1.2622 - val_accuracy: 0.8548\n",
      "Epoch 88/500\n",
      "16/16 [==============================] - 0s 5ms/step - loss: 0.0784 - accuracy: 1.0000 - val_loss: 1.2376 - val_accuracy: 0.8629\n",
      "Epoch 89/500\n",
      "16/16 [==============================] - 0s 6ms/step - loss: 0.0769 - accuracy: 1.0000 - val_loss: 1.2165 - val_accuracy: 0.8710\n",
      "Epoch 90/500\n",
      "16/16 [==============================] - 0s 5ms/step - loss: 0.0756 - accuracy: 1.0000 - val_loss: 1.2105 - val_accuracy: 0.8629\n",
      "Epoch 91/500\n",
      "16/16 [==============================] - 0s 5ms/step - loss: 0.0751 - accuracy: 1.0000 - val_loss: 1.2119 - val_accuracy: 0.8710\n",
      "Epoch 92/500\n",
      "16/16 [==============================] - 0s 6ms/step - loss: 0.0737 - accuracy: 1.0000 - val_loss: 1.2193 - val_accuracy: 0.8629\n",
      "Epoch 93/500\n",
      "16/16 [==============================] - 0s 6ms/step - loss: 0.0729 - accuracy: 1.0000 - val_loss: 1.1923 - val_accuracy: 0.8710\n",
      "Epoch 94/500\n",
      "16/16 [==============================] - 0s 5ms/step - loss: 0.0714 - accuracy: 1.0000 - val_loss: 1.1880 - val_accuracy: 0.8710\n",
      "Epoch 95/500\n",
      "16/16 [==============================] - 0s 5ms/step - loss: 0.0708 - accuracy: 1.0000 - val_loss: 1.1943 - val_accuracy: 0.8629\n",
      "Epoch 96/500\n",
      "16/16 [==============================] - 0s 5ms/step - loss: 0.0695 - accuracy: 1.0000 - val_loss: 1.1947 - val_accuracy: 0.8629\n",
      "Epoch 97/500\n",
      "16/16 [==============================] - 0s 5ms/step - loss: 0.0687 - accuracy: 1.0000 - val_loss: 1.1893 - val_accuracy: 0.8629\n",
      "Epoch 98/500\n",
      "16/16 [==============================] - 0s 5ms/step - loss: 0.0675 - accuracy: 1.0000 - val_loss: 1.1889 - val_accuracy: 0.8710\n",
      "Epoch 99/500\n",
      "16/16 [==============================] - 0s 5ms/step - loss: 0.0676 - accuracy: 1.0000 - val_loss: 1.1473 - val_accuracy: 0.8790\n",
      "Epoch 100/500\n",
      "16/16 [==============================] - 0s 5ms/step - loss: 0.0663 - accuracy: 1.0000 - val_loss: 1.1657 - val_accuracy: 0.8629\n",
      "Epoch 101/500\n",
      "16/16 [==============================] - 0s 5ms/step - loss: 0.0651 - accuracy: 1.0000 - val_loss: 1.1635 - val_accuracy: 0.8710\n",
      "Epoch 102/500\n",
      "16/16 [==============================] - 0s 6ms/step - loss: 0.0645 - accuracy: 1.0000 - val_loss: 1.2160 - val_accuracy: 0.8468\n",
      "Epoch 103/500\n",
      "16/16 [==============================] - 0s 5ms/step - loss: 0.0637 - accuracy: 1.0000 - val_loss: 1.1878 - val_accuracy: 0.8629\n",
      "Epoch 104/500\n",
      "16/16 [==============================] - 0s 5ms/step - loss: 0.0741 - accuracy: 0.9959 - val_loss: 1.1141 - val_accuracy: 0.8548\n",
      "Epoch 105/500\n",
      "16/16 [==============================] - 0s 6ms/step - loss: 0.1493 - accuracy: 0.9757 - val_loss: 0.7929 - val_accuracy: 0.8468\n",
      "Epoch 106/500\n",
      "16/16 [==============================] - 0s 7ms/step - loss: 0.1318 - accuracy: 0.9797 - val_loss: 0.7132 - val_accuracy: 0.8710\n",
      "Epoch 107/500\n",
      "16/16 [==============================] - 0s 6ms/step - loss: 0.0960 - accuracy: 0.9959 - val_loss: 0.9105 - val_accuracy: 0.8468\n",
      "Epoch 108/500\n",
      "16/16 [==============================] - 0s 5ms/step - loss: 0.0724 - accuracy: 0.9980 - val_loss: 1.0887 - val_accuracy: 0.8710\n",
      "Epoch 109/500\n",
      "16/16 [==============================] - 0s 6ms/step - loss: 0.0884 - accuracy: 0.9939 - val_loss: 1.1703 - val_accuracy: 0.8548\n",
      "Epoch 110/500\n",
      "16/16 [==============================] - 0s 6ms/step - loss: 0.1009 - accuracy: 0.9919 - val_loss: 1.0589 - val_accuracy: 0.8548\n",
      "Epoch 111/500\n",
      "16/16 [==============================] - 0s 7ms/step - loss: 0.0984 - accuracy: 0.9919 - val_loss: 1.0032 - val_accuracy: 0.8629\n",
      "Epoch 112/500\n",
      "16/16 [==============================] - 0s 12ms/step - loss: 0.1471 - accuracy: 0.9716 - val_loss: 0.9636 - val_accuracy: 0.7903\n",
      "Epoch 113/500\n",
      "16/16 [==============================] - 0s 5ms/step - loss: 0.1847 - accuracy: 0.9615 - val_loss: 0.6561 - val_accuracy: 0.8790\n",
      "Epoch 114/500\n",
      "16/16 [==============================] - 0s 7ms/step - loss: 0.1143 - accuracy: 0.9858 - val_loss: 0.7577 - val_accuracy: 0.8548\n",
      "Epoch 115/500\n"
     ]
    },
    {
     "name": "stdout",
     "output_type": "stream",
     "text": [
      "16/16 [==============================] - 0s 6ms/step - loss: 0.0833 - accuracy: 0.9980 - val_loss: 1.0050 - val_accuracy: 0.8387\n",
      "Epoch 116/500\n",
      "16/16 [==============================] - 0s 6ms/step - loss: 0.0712 - accuracy: 1.0000 - val_loss: 1.1281 - val_accuracy: 0.8548\n",
      "Epoch 117/500\n",
      "16/16 [==============================] - 0s 5ms/step - loss: 0.0695 - accuracy: 1.0000 - val_loss: 1.1990 - val_accuracy: 0.8468\n",
      "Epoch 118/500\n",
      "16/16 [==============================] - 0s 5ms/step - loss: 0.0677 - accuracy: 1.0000 - val_loss: 1.2624 - val_accuracy: 0.8387\n",
      "Epoch 119/500\n",
      "16/16 [==============================] - 0s 7ms/step - loss: 0.0667 - accuracy: 1.0000 - val_loss: 1.2610 - val_accuracy: 0.8468\n",
      "Epoch 120/500\n",
      "16/16 [==============================] - 0s 8ms/step - loss: 0.0654 - accuracy: 1.0000 - val_loss: 1.2762 - val_accuracy: 0.8548\n",
      "Epoch 121/500\n",
      "16/16 [==============================] - 0s 8ms/step - loss: 0.0643 - accuracy: 1.0000 - val_loss: 1.2736 - val_accuracy: 0.8629\n",
      "Epoch 122/500\n",
      "16/16 [==============================] - 0s 8ms/step - loss: 0.0632 - accuracy: 1.0000 - val_loss: 1.2619 - val_accuracy: 0.8629\n",
      "Epoch 123/500\n",
      "16/16 [==============================] - 0s 7ms/step - loss: 0.0624 - accuracy: 1.0000 - val_loss: 1.2557 - val_accuracy: 0.8629\n",
      "Epoch 124/500\n",
      "16/16 [==============================] - 0s 8ms/step - loss: 0.0617 - accuracy: 1.0000 - val_loss: 1.2653 - val_accuracy: 0.8629\n",
      "Epoch 125/500\n",
      "16/16 [==============================] - 0s 9ms/step - loss: 0.0604 - accuracy: 1.0000 - val_loss: 1.2537 - val_accuracy: 0.8629\n",
      "Epoch 126/500\n",
      "16/16 [==============================] - 0s 8ms/step - loss: 0.0597 - accuracy: 1.0000 - val_loss: 1.2444 - val_accuracy: 0.8548\n",
      "Epoch 127/500\n",
      "16/16 [==============================] - 0s 6ms/step - loss: 0.0586 - accuracy: 1.0000 - val_loss: 1.2298 - val_accuracy: 0.8468\n",
      "Epoch 128/500\n",
      "16/16 [==============================] - 0s 7ms/step - loss: 0.0580 - accuracy: 1.0000 - val_loss: 1.2263 - val_accuracy: 0.8468\n",
      "Epoch 129/500\n",
      "16/16 [==============================] - 0s 6ms/step - loss: 0.0574 - accuracy: 1.0000 - val_loss: 1.2346 - val_accuracy: 0.8468\n",
      "Epoch 130/500\n",
      "16/16 [==============================] - 0s 6ms/step - loss: 0.0565 - accuracy: 1.0000 - val_loss: 1.2140 - val_accuracy: 0.8629\n",
      "Epoch 131/500\n",
      "16/16 [==============================] - 0s 6ms/step - loss: 0.0557 - accuracy: 1.0000 - val_loss: 1.2150 - val_accuracy: 0.8468\n",
      "Epoch 132/500\n",
      "16/16 [==============================] - 0s 6ms/step - loss: 0.0549 - accuracy: 1.0000 - val_loss: 1.2263 - val_accuracy: 0.8387\n",
      "Epoch 133/500\n",
      "16/16 [==============================] - 0s 7ms/step - loss: 0.0542 - accuracy: 1.0000 - val_loss: 1.1888 - val_accuracy: 0.8468\n",
      "Epoch 134/500\n",
      "16/16 [==============================] - 0s 6ms/step - loss: 0.0536 - accuracy: 1.0000 - val_loss: 1.2004 - val_accuracy: 0.8468\n",
      "Epoch 135/500\n",
      "16/16 [==============================] - 0s 10ms/step - loss: 0.0540 - accuracy: 1.0000 - val_loss: 1.2446 - val_accuracy: 0.8387\n",
      "Epoch 136/500\n",
      "16/16 [==============================] - 0s 8ms/step - loss: 0.0529 - accuracy: 1.0000 - val_loss: 1.1708 - val_accuracy: 0.8387\n",
      "Epoch 137/500\n",
      "16/16 [==============================] - 0s 12ms/step - loss: 0.0518 - accuracy: 1.0000 - val_loss: 1.1728 - val_accuracy: 0.8468\n",
      "Epoch 138/500\n",
      "16/16 [==============================] - 0s 12ms/step - loss: 0.0514 - accuracy: 1.0000 - val_loss: 1.1766 - val_accuracy: 0.8468\n",
      "Epoch 139/500\n",
      "16/16 [==============================] - 0s 10ms/step - loss: 0.0507 - accuracy: 1.0000 - val_loss: 1.1990 - val_accuracy: 0.8387\n",
      "Epoch 140/500\n",
      "16/16 [==============================] - 0s 10ms/step - loss: 0.0500 - accuracy: 1.0000 - val_loss: 1.1693 - val_accuracy: 0.8710\n",
      "Epoch 141/500\n",
      "16/16 [==============================] - 0s 9ms/step - loss: 0.0495 - accuracy: 1.0000 - val_loss: 1.1909 - val_accuracy: 0.8387\n",
      "Epoch 142/500\n",
      "16/16 [==============================] - 0s 9ms/step - loss: 0.0491 - accuracy: 1.0000 - val_loss: 1.1789 - val_accuracy: 0.8387\n",
      "Epoch 143/500\n",
      "16/16 [==============================] - 0s 8ms/step - loss: 0.0489 - accuracy: 1.0000 - val_loss: 1.2069 - val_accuracy: 0.8387\n",
      "Epoch 144/500\n",
      "16/16 [==============================] - 0s 7ms/step - loss: 0.0480 - accuracy: 1.0000 - val_loss: 1.1962 - val_accuracy: 0.8629\n",
      "Epoch 145/500\n",
      "16/16 [==============================] - 0s 8ms/step - loss: 0.0479 - accuracy: 1.0000 - val_loss: 1.2010 - val_accuracy: 0.8629\n",
      "Epoch 146/500\n",
      "16/16 [==============================] - 0s 6ms/step - loss: 0.0467 - accuracy: 1.0000 - val_loss: 1.1905 - val_accuracy: 0.8629\n",
      "Epoch 147/500\n",
      "16/16 [==============================] - 0s 5ms/step - loss: 0.0463 - accuracy: 1.0000 - val_loss: 1.1639 - val_accuracy: 0.8629\n",
      "Epoch 148/500\n",
      "16/16 [==============================] - 0s 5ms/step - loss: 0.0458 - accuracy: 1.0000 - val_loss: 1.1409 - val_accuracy: 0.8629\n",
      "Epoch 149/500\n",
      "16/16 [==============================] - 0s 6ms/step - loss: 0.0452 - accuracy: 1.0000 - val_loss: 1.1474 - val_accuracy: 0.8548\n",
      "Epoch 150/500\n",
      "16/16 [==============================] - 0s 7ms/step - loss: 0.0447 - accuracy: 1.0000 - val_loss: 1.1453 - val_accuracy: 0.8548\n",
      "Epoch 151/500\n",
      "16/16 [==============================] - 0s 6ms/step - loss: 0.0440 - accuracy: 1.0000 - val_loss: 1.1484 - val_accuracy: 0.8468\n",
      "Epoch 152/500\n",
      "16/16 [==============================] - 0s 5ms/step - loss: 0.0440 - accuracy: 1.0000 - val_loss: 1.1310 - val_accuracy: 0.8468\n",
      "Epoch 153/500\n",
      "16/16 [==============================] - 0s 5ms/step - loss: 0.0430 - accuracy: 1.0000 - val_loss: 1.1166 - val_accuracy: 0.8710\n",
      "Epoch 154/500\n",
      "16/16 [==============================] - 0s 6ms/step - loss: 0.0434 - accuracy: 1.0000 - val_loss: 1.1658 - val_accuracy: 0.8468\n",
      "Epoch 155/500\n",
      "16/16 [==============================] - 0s 6ms/step - loss: 0.0423 - accuracy: 1.0000 - val_loss: 1.1827 - val_accuracy: 0.8468\n",
      "Epoch 156/500\n",
      "16/16 [==============================] - 0s 8ms/step - loss: 0.0422 - accuracy: 1.0000 - val_loss: 1.1529 - val_accuracy: 0.8548\n",
      "Epoch 157/500\n",
      "16/16 [==============================] - 0s 5ms/step - loss: 0.0418 - accuracy: 1.0000 - val_loss: 1.1505 - val_accuracy: 0.8468\n",
      "Epoch 158/500\n",
      "16/16 [==============================] - 0s 6ms/step - loss: 0.0411 - accuracy: 1.0000 - val_loss: 1.0986 - val_accuracy: 0.8548\n",
      "Epoch 159/500\n",
      "16/16 [==============================] - 0s 6ms/step - loss: 0.0407 - accuracy: 1.0000 - val_loss: 1.1113 - val_accuracy: 0.8629\n",
      "Epoch 160/500\n",
      "16/16 [==============================] - 0s 6ms/step - loss: 0.0406 - accuracy: 1.0000 - val_loss: 1.1233 - val_accuracy: 0.8790\n",
      "Epoch 161/500\n",
      "16/16 [==============================] - 0s 5ms/step - loss: 0.0401 - accuracy: 1.0000 - val_loss: 1.1332 - val_accuracy: 0.8710\n",
      "Epoch 162/500\n",
      "16/16 [==============================] - 0s 6ms/step - loss: 0.0396 - accuracy: 1.0000 - val_loss: 1.1231 - val_accuracy: 0.8548\n",
      "Epoch 163/500\n",
      "16/16 [==============================] - 0s 6ms/step - loss: 0.0391 - accuracy: 1.0000 - val_loss: 1.1222 - val_accuracy: 0.8629\n",
      "Epoch 164/500\n",
      "16/16 [==============================] - 0s 5ms/step - loss: 0.0386 - accuracy: 1.0000 - val_loss: 1.1153 - val_accuracy: 0.8710\n",
      "Epoch 165/500\n",
      "16/16 [==============================] - 0s 6ms/step - loss: 0.0382 - accuracy: 1.0000 - val_loss: 1.1171 - val_accuracy: 0.8629\n",
      "Epoch 166/500\n",
      "16/16 [==============================] - 0s 7ms/step - loss: 0.0380 - accuracy: 1.0000 - val_loss: 1.1075 - val_accuracy: 0.8710\n",
      "Epoch 167/500\n",
      "16/16 [==============================] - 0s 5ms/step - loss: 0.0377 - accuracy: 1.0000 - val_loss: 1.1318 - val_accuracy: 0.8629\n",
      "Epoch 168/500\n",
      "16/16 [==============================] - 0s 6ms/step - loss: 0.0374 - accuracy: 1.0000 - val_loss: 1.1222 - val_accuracy: 0.8629\n",
      "Epoch 169/500\n",
      "16/16 [==============================] - 0s 8ms/step - loss: 0.0598 - accuracy: 0.9899 - val_loss: 1.3188 - val_accuracy: 0.8145\n",
      "Epoch 170/500\n",
      "16/16 [==============================] - 0s 8ms/step - loss: 0.1621 - accuracy: 0.9675 - val_loss: 0.9018 - val_accuracy: 0.8226\n",
      "Epoch 171/500\n",
      "16/16 [==============================] - 0s 6ms/step - loss: 0.1177 - accuracy: 0.9757 - val_loss: 0.9329 - val_accuracy: 0.8145\n",
      "Epoch 172/500\n",
      "16/16 [==============================] - 0s 5ms/step - loss: 0.1042 - accuracy: 0.9878 - val_loss: 0.8507 - val_accuracy: 0.8629\n",
      "Epoch 173/500\n",
      "16/16 [==============================] - 0s 7ms/step - loss: 0.0689 - accuracy: 0.9939 - val_loss: 1.1960 - val_accuracy: 0.8226\n",
      "Epoch 174/500\n",
      "16/16 [==============================] - 0s 6ms/step - loss: 0.1016 - accuracy: 0.9797 - val_loss: 0.8576 - val_accuracy: 0.8306\n",
      "Epoch 175/500\n",
      "16/16 [==============================] - 0s 6ms/step - loss: 0.1247 - accuracy: 0.9777 - val_loss: 0.8196 - val_accuracy: 0.8548\n",
      "Epoch 176/500\n",
      "16/16 [==============================] - 0s 7ms/step - loss: 0.1412 - accuracy: 0.9655 - val_loss: 0.7372 - val_accuracy: 0.8387\n",
      "Epoch 177/500\n",
      "16/16 [==============================] - 0s 8ms/step - loss: 0.0973 - accuracy: 0.9858 - val_loss: 0.8216 - val_accuracy: 0.8548\n",
      "Epoch 178/500\n",
      "16/16 [==============================] - 0s 8ms/step - loss: 0.0659 - accuracy: 0.9980 - val_loss: 0.9073 - val_accuracy: 0.8790\n",
      "Epoch 179/500\n",
      "16/16 [==============================] - 0s 8ms/step - loss: 0.0661 - accuracy: 0.9939 - val_loss: 1.2130 - val_accuracy: 0.8145\n",
      "Epoch 180/500\n",
      "16/16 [==============================] - 0s 9ms/step - loss: 0.0826 - accuracy: 0.9919 - val_loss: 1.1126 - val_accuracy: 0.8468\n",
      "Epoch 181/500\n",
      "16/16 [==============================] - 0s 8ms/step - loss: 0.0831 - accuracy: 0.9919 - val_loss: 1.1564 - val_accuracy: 0.8226\n",
      "Epoch 182/500\n",
      "16/16 [==============================] - 0s 8ms/step - loss: 0.0933 - accuracy: 0.9838 - val_loss: 1.1282 - val_accuracy: 0.8226\n",
      "Epoch 183/500\n",
      "16/16 [==============================] - 0s 23ms/step - loss: 0.0841 - accuracy: 0.9899 - val_loss: 1.4548 - val_accuracy: 0.8387\n",
      "Epoch 184/500\n",
      "16/16 [==============================] - 0s 7ms/step - loss: 0.1391 - accuracy: 0.9736 - val_loss: 1.1173 - val_accuracy: 0.8065\n",
      "Epoch 185/500\n",
      "16/16 [==============================] - 0s 8ms/step - loss: 0.0889 - accuracy: 0.9878 - val_loss: 1.0453 - val_accuracy: 0.8387\n",
      "Epoch 186/500\n",
      "16/16 [==============================] - 0s 8ms/step - loss: 0.0654 - accuracy: 0.9959 - val_loss: 1.0467 - val_accuracy: 0.8629\n",
      "Epoch 187/500\n",
      "16/16 [==============================] - 0s 8ms/step - loss: 0.0538 - accuracy: 1.0000 - val_loss: 1.2823 - val_accuracy: 0.8306\n",
      "Epoch 188/500\n",
      "16/16 [==============================] - 0s 9ms/step - loss: 0.0527 - accuracy: 1.0000 - val_loss: 1.3035 - val_accuracy: 0.8548\n",
      "Epoch 189/500\n",
      "16/16 [==============================] - 0s 7ms/step - loss: 0.0505 - accuracy: 1.0000 - val_loss: 1.3067 - val_accuracy: 0.8629\n",
      "Epoch 190/500\n",
      "16/16 [==============================] - 0s 7ms/step - loss: 0.0504 - accuracy: 1.0000 - val_loss: 1.3130 - val_accuracy: 0.8548\n",
      "Epoch 191/500\n",
      "16/16 [==============================] - 0s 5ms/step - loss: 0.0492 - accuracy: 1.0000 - val_loss: 1.3322 - val_accuracy: 0.8468\n",
      "Epoch 192/500\n",
      "16/16 [==============================] - 0s 7ms/step - loss: 0.0488 - accuracy: 1.0000 - val_loss: 1.3139 - val_accuracy: 0.8548\n",
      "Epoch 193/500\n",
      "16/16 [==============================] - 0s 7ms/step - loss: 0.0479 - accuracy: 1.0000 - val_loss: 1.3038 - val_accuracy: 0.8468\n",
      "Epoch 194/500\n",
      "16/16 [==============================] - 0s 6ms/step - loss: 0.0477 - accuracy: 1.0000 - val_loss: 1.2936 - val_accuracy: 0.8548\n",
      "Epoch 195/500\n",
      "16/16 [==============================] - 0s 7ms/step - loss: 0.0469 - accuracy: 1.0000 - val_loss: 1.2793 - val_accuracy: 0.8548\n",
      "Epoch 196/500\n",
      "16/16 [==============================] - 0s 8ms/step - loss: 0.0464 - accuracy: 1.0000 - val_loss: 1.2819 - val_accuracy: 0.8548\n",
      "Epoch 197/500\n",
      "16/16 [==============================] - 0s 9ms/step - loss: 0.0458 - accuracy: 1.0000 - val_loss: 1.2672 - val_accuracy: 0.8548\n",
      "Epoch 198/500\n",
      "16/16 [==============================] - 0s 8ms/step - loss: 0.0456 - accuracy: 1.0000 - val_loss: 1.2629 - val_accuracy: 0.8548\n",
      "Epoch 199/500\n",
      "16/16 [==============================] - 0s 6ms/step - loss: 0.0450 - accuracy: 1.0000 - val_loss: 1.2711 - val_accuracy: 0.8548\n",
      "Epoch 200/500\n",
      "16/16 [==============================] - 0s 5ms/step - loss: 0.0446 - accuracy: 1.0000 - val_loss: 1.2628 - val_accuracy: 0.8548\n",
      "Epoch 201/500\n",
      "16/16 [==============================] - 0s 5ms/step - loss: 0.0439 - accuracy: 1.0000 - val_loss: 1.2414 - val_accuracy: 0.8710\n",
      "Epoch 202/500\n",
      "16/16 [==============================] - 0s 6ms/step - loss: 0.0436 - accuracy: 1.0000 - val_loss: 1.2303 - val_accuracy: 0.8710\n",
      "Epoch 203/500\n",
      "16/16 [==============================] - 0s 6ms/step - loss: 0.0431 - accuracy: 1.0000 - val_loss: 1.2307 - val_accuracy: 0.8710\n",
      "Epoch 204/500\n",
      "16/16 [==============================] - 0s 6ms/step - loss: 0.0425 - accuracy: 1.0000 - val_loss: 1.2356 - val_accuracy: 0.8548\n",
      "Epoch 205/500\n",
      "16/16 [==============================] - 0s 5ms/step - loss: 0.0425 - accuracy: 1.0000 - val_loss: 1.2513 - val_accuracy: 0.8629\n",
      "Epoch 206/500\n",
      "16/16 [==============================] - 0s 6ms/step - loss: 0.0419 - accuracy: 1.0000 - val_loss: 1.2915 - val_accuracy: 0.8629\n",
      "Epoch 207/500\n",
      "16/16 [==============================] - 0s 6ms/step - loss: 0.0411 - accuracy: 1.0000 - val_loss: 1.3770 - val_accuracy: 0.8468\n",
      "Epoch 208/500\n",
      "16/16 [==============================] - 0s 6ms/step - loss: 0.0407 - accuracy: 1.0000 - val_loss: 1.4311 - val_accuracy: 0.8548\n",
      "Epoch 209/500\n",
      "16/16 [==============================] - 0s 7ms/step - loss: 0.0400 - accuracy: 1.0000 - val_loss: 1.3973 - val_accuracy: 0.8548\n",
      "Epoch 210/500\n",
      "16/16 [==============================] - 0s 6ms/step - loss: 0.0396 - accuracy: 1.0000 - val_loss: 1.3311 - val_accuracy: 0.8710\n",
      "Epoch 211/500\n",
      "16/16 [==============================] - 0s 5ms/step - loss: 0.0391 - accuracy: 1.0000 - val_loss: 1.3666 - val_accuracy: 0.8468\n",
      "Epoch 212/500\n",
      "16/16 [==============================] - 0s 5ms/step - loss: 0.0386 - accuracy: 1.0000 - val_loss: 1.2817 - val_accuracy: 0.8710\n",
      "Epoch 213/500\n",
      "16/16 [==============================] - 0s 7ms/step - loss: 0.0388 - accuracy: 1.0000 - val_loss: 1.2511 - val_accuracy: 0.8548\n",
      "Epoch 214/500\n",
      "16/16 [==============================] - 0s 7ms/step - loss: 0.0389 - accuracy: 1.0000 - val_loss: 1.1979 - val_accuracy: 0.8468\n",
      "Epoch 215/500\n",
      "16/16 [==============================] - 0s 6ms/step - loss: 0.0386 - accuracy: 1.0000 - val_loss: 1.3002 - val_accuracy: 0.8629\n",
      "Epoch 216/500\n",
      "16/16 [==============================] - 0s 5ms/step - loss: 0.0374 - accuracy: 1.0000 - val_loss: 1.3785 - val_accuracy: 0.8548\n",
      "Epoch 217/500\n",
      "16/16 [==============================] - 0s 5ms/step - loss: 0.0370 - accuracy: 1.0000 - val_loss: 1.3016 - val_accuracy: 0.8629\n",
      "Epoch 218/500\n",
      "16/16 [==============================] - 0s 5ms/step - loss: 0.0367 - accuracy: 1.0000 - val_loss: 1.1957 - val_accuracy: 0.8710\n",
      "Epoch 219/500\n",
      "16/16 [==============================] - 0s 5ms/step - loss: 0.0379 - accuracy: 1.0000 - val_loss: 1.2333 - val_accuracy: 0.8468\n",
      "Epoch 220/500\n",
      "16/16 [==============================] - 0s 6ms/step - loss: 0.0364 - accuracy: 1.0000 - val_loss: 1.2910 - val_accuracy: 0.8710\n",
      "Epoch 221/500\n",
      "16/16 [==============================] - 0s 7ms/step - loss: 0.0360 - accuracy: 1.0000 - val_loss: 1.3080 - val_accuracy: 0.8710\n",
      "Epoch 222/500\n",
      "16/16 [==============================] - 0s 9ms/step - loss: 0.0362 - accuracy: 1.0000 - val_loss: 1.2743 - val_accuracy: 0.8629\n",
      "Epoch 223/500\n",
      "16/16 [==============================] - 0s 8ms/step - loss: 0.0871 - accuracy: 0.9858 - val_loss: 0.8636 - val_accuracy: 0.8548\n",
      "Epoch 224/500\n",
      "16/16 [==============================] - 0s 9ms/step - loss: 0.1013 - accuracy: 0.9817 - val_loss: 0.7544 - val_accuracy: 0.8468\n"
     ]
    }
   ],
   "source": [
    "history = model.fit(x_train, y_train, epochs=500, validation_split=0.2, callbacks=callback)"
   ]
  },
  {
   "cell_type": "code",
   "execution_count": 33,
   "metadata": {},
   "outputs": [
    {
     "data": {
      "text/plain": [
       "0.9870417996176651"
      ]
     },
     "execution_count": 33,
     "metadata": {},
     "output_type": "execute_result"
    }
   ],
   "source": [
    "np.mean(history.history[\"accuracy\"])"
   ]
  },
  {
   "cell_type": "code",
   "execution_count": 34,
   "metadata": {},
   "outputs": [
    {
     "data": {
      "text/plain": [
       "0.8505904466978141"
      ]
     },
     "execution_count": 34,
     "metadata": {},
     "output_type": "execute_result"
    }
   ],
   "source": [
    "np.mean(history.history[\"val_accuracy\"])"
   ]
  },
  {
   "cell_type": "code",
   "execution_count": 20,
   "metadata": {},
   "outputs": [
    {
     "data": {
      "image/png": "[encoded data removed]",
      "text/plain": [
       "<Figure size 432x288 with 1 Axes>"
      ]
     },
     "metadata": {
      "needs_background": "light"
     },
     "output_type": "display_data"
    }
   ],
   "source": [
    "plt.plot(history.history['accuracy'])\n",
    "plt.plot(history.history['val_accuracy'])\n",
    "plt.title('model accuracy')\n",
    "plt.ylabel('accuracy')\n",
    "plt.xlabel('epoch')\n",
    "plt.legend(['training', 'validation'], loc='upper left')\n",
    "plt.show()"
   ]
  },
  {
   "cell_type": "code",
   "execution_count": 21,
   "metadata": {},
   "outputs": [
    {
     "data": {
      "image/png": "[encoded data removed]",
      "text/plain": [
       "<Figure size 432x288 with 1 Axes>"
      ]
     },
     "metadata": {
      "needs_background": "light"
     },
     "output_type": "display_data"
    }
   ],
   "source": [
    "plt.plot(history.history['loss'])\n",
    "plt.plot(history.history['val_loss'])\n",
    "plt.title('model loss')\n",
    "plt.ylabel('loss')\n",
    "plt.xlabel('epoch')\n",
    "plt.legend(['training', 'validation'], loc='upper left')\n",
    "plt.show()"
   ]
  },
  {
   "cell_type": "code",
   "execution_count": 83,
   "metadata": {},
   "outputs": [],
   "source": [
    "# import pickle\n",
    "# with open(\"gb.pkl\", \"wb\") as file:\n",
    "#     pickle.dump(gb_clf, file)"
   ]
  },
  {
   "cell_type": "code",
   "execution_count": 84,
   "metadata": {},
   "outputs": [],
   "source": [
    "# x_train.to_csv('x_train.csv')\n",
    "# y_train.to_csv('y_train.csv')\n",
    "# x_test.to_csv('x_test.csv')\n",
    "# y_test.to_csv('y_test.csv')"
   ]
  },
  {
   "cell_type": "code",
   "execution_count": 5,
   "metadata": {},
   "outputs": [],
   "source": [
    "x_train = pd.read_csv('x_train.csv', index_col=0)\n",
    "y_train = pd.read_csv('y_train.csv', index_col=0)\n",
    "x_test = pd.read_csv('x_test.csv', index_col=0)\n",
    "y_test = pd.read_csv('y_test.csv', index_col=0)\n",
    "y_train = y_train.values.ravel()\n",
    "y_test = y_test.values.ravel()"
   ]
  },
  {
   "cell_type": "code",
   "execution_count": 2,
   "metadata": {},
   "outputs": [
    {
     "name": "stdout",
     "output_type": "stream",
     "text": [
      "WARNING:tensorflow:From <ipython-input-2-c8bbe5d2e66a>:67: Sequential.predict_classes (from tensorflow.python.keras.engine.sequential) is deprecated and will be removed after 2021-01-01.\n",
      "Instructions for updating:\n",
      "Please use instead:* `np.argmax(model.predict(x), axis=-1)`,   if your model does multi-class classification   (e.g. if it uses a `softmax` last-layer activation).* `(model.predict(x) > 0.5).astype(\"int32\")`,   if your model does binary classification   (e.g. if it uses a `sigmoid` last-layer activation).\n"
     ]
    }
   ],
   "source": [
    "# Testing all the models on the test dataset.\n",
    "x_train = pd.read_csv('x_train.csv', index_col=0)\n",
    "y_train = pd.read_csv('y_train.csv', index_col=0)\n",
    "x_test = pd.read_csv('x_test.csv', index_col=0)\n",
    "y_test = pd.read_csv('y_test.csv', index_col=0)\n",
    "y_train = y_train.values.ravel()\n",
    "y_test = y_test.values.ravel()\n",
    "\n",
    "\n",
    "\n",
    "import pickle\n",
    "with open(\"svc.pkl\", 'rb') as file:\n",
    "    pickle_model_svc = pickle.load(file)\n",
    "svc_ac = accuracy_score(y_test, pickle_model_svc.predict(x_test))\n",
    "svc_precision = precision_score(y_test, pickle_model_svc.predict(x_test))\n",
    "svc_recall = recall_score(y_test, pickle_model_svc.predict(x_test))\n",
    "svc_f1 = f1_score(y_test, pickle_model_svc.predict(x_test))\n",
    "svc_fpr, svc_tpr, svc_thresholds = roc_curve(y_test, pickle_model_svc.predict(x_test)) \n",
    "svc_auc = auc(svc_fpr, svc_tpr)\n",
    "                          \n",
    "\n",
    "with open(\"rf.pkl\", 'rb') as file:\n",
    "    pickle_model_rf = pickle.load(file)\n",
    "rf_ac = accuracy_score(y_test, pickle_model_rf.predict(x_test))\n",
    "rf_precision = precision_score(y_test, pickle_model_rf.predict(x_test))\n",
    "rf_recall = recall_score(y_test, pickle_model_rf.predict(x_test))\n",
    "rf_f1 = f1_score(y_test, pickle_model_rf.predict(x_test))\n",
    "rf_fpr, rf_tpr, rf_thresholds = roc_curve(y_test, pickle_model_rf.predict(x_test)) \n",
    "rf_auc = auc(rf_fpr, rf_tpr)\n",
    "\n",
    "with open(\"lr.pkl\", 'rb') as file:\n",
    "    pickle_model_lr = pickle.load(file)\n",
    "lr_ac = accuracy_score(y_test, pickle_model_lr.predict(x_test))\n",
    "lr_precision = precision_score(y_test, pickle_model_lr.predict(x_test))\n",
    "lr_recall = recall_score(y_test, pickle_model_lr.predict(x_test))\n",
    "lr_f1 = f1_score(y_test, pickle_model_lr.predict(x_test))\n",
    "lr_fpr, lr_tpr, lr_thresholds = roc_curve(y_test, pickle_model_lr.predict(x_test)) \n",
    "lr_auc = auc(lr_fpr, lr_tpr)\n",
    "\n",
    "with open(\"gb.pkl\", 'rb') as file:\n",
    "    pickle_model_gb = pickle.load(file)\n",
    "gb_ac = accuracy_score(y_test, pickle_model_gb.predict(x_test))\n",
    "gb_precision = precision_score(y_test, pickle_model_gb.predict(x_test))\n",
    "gb_recall = recall_score(y_test, pickle_model_gb.predict(x_test))\n",
    "gb_f1 = f1_score(y_test, pickle_model_gb.predict(x_test))\n",
    "gb_fpr, gb_tpr, gb_thresholds = roc_curve(y_test, pickle_model_gb.predict(x_test)) \n",
    "gb_auc = auc(gb_fpr, gb_tpr)\n",
    "\n",
    "with open(\"dt.pkl\", 'rb') as file:\n",
    "    pickle_model_dt = pickle.load(file)\n",
    "dt_ac = accuracy_score(y_test, pickle_model_dt.predict(x_test))\n",
    "dt_precision = precision_score(y_test, pickle_model_dt.predict(x_test))\n",
    "dt_recall = recall_score(y_test, pickle_model_dt.predict(x_test))\n",
    "dt_f1 = f1_score(y_test, pickle_model_dt.predict(x_test))\n",
    "dt_fpr, dt_tpr, dt_thresholds = roc_curve(y_test, pickle_model_dt.predict(x_test)) \n",
    "dt_auc = auc(dt_fpr, dt_tpr)\n",
    "\n",
    "with open(\"knn.pkl\", 'rb') as file:\n",
    "    pickle_model_knn = pickle.load(file)\n",
    "knn_ac = accuracy_score(y_test, pickle_model_knn.predict(x_test))\n",
    "knn_precision = precision_score(y_test, pickle_model_knn.predict(x_test))\n",
    "knn_recall = recall_score(y_test, pickle_model_knn.predict(x_test))\n",
    "knn_f1 = f1_score(y_test, pickle_model_knn.predict(x_test))\n",
    "knn_fpr, knn_tpr, knn_thresholds = roc_curve(y_test, pickle_model_knn.predict(x_test)) \n",
    "knn_auc = auc(knn_fpr, knn_tpr)\n",
    "\n",
    "dnn_model = load_model('dnn.h5')\n",
    "dnn_pred = dnn_model.predict_classes(x_test)\n",
    "dnn_ac = accuracy_score(y_test, dnn_pred)\n",
    "dnn_precision = precision_score(y_test, dnn_pred)\n",
    "dnn_recall = recall_score(y_test, dnn_pred)\n",
    "dnn_f1 = f1_score(y_test, dnn_pred)\n",
    "dnn_fpr, dnn_tpr, dnn_thresholds = roc_curve(y_test, dnn_pred) \n",
    "dnn_auc = auc(dnn_fpr, dnn_tpr)"
   ]
  },
  {
   "cell_type": "code",
   "execution_count": 3,
   "metadata": {},
   "outputs": [
    {
     "data": {
      "text/html": [
       "<style  type=\"text/css\" >\n",
       "    #T_7195cea9_7c62_11eb_8fc3_4c1d964a5208row5_col0 {\n",
       "            background:  lightblue;\n",
       "        }    #T_7195cea9_7c62_11eb_8fc3_4c1d964a5208row5_col1 {\n",
       "            background:  lightblue;\n",
       "        }    #T_7195cea9_7c62_11eb_8fc3_4c1d964a5208row5_col2 {\n",
       "            background:  lightblue;\n",
       "        }    #T_7195cea9_7c62_11eb_8fc3_4c1d964a5208row5_col3 {\n",
       "            background:  lightblue;\n",
       "        }    #T_7195cea9_7c62_11eb_8fc3_4c1d964a5208row5_col4 {\n",
       "            background:  lightblue;\n",
       "        }    #T_7195cea9_7c62_11eb_8fc3_4c1d964a5208row5_col5 {\n",
       "            background:  lightblue;\n",
       "        }</style><table id=\"T_7195cea9_7c62_11eb_8fc3_4c1d964a5208\" ><thead>    <tr>        <th class=\"blank level0\" ></th>        <th class=\"col_heading level0 col0\" >Models</th>        <th class=\"col_heading level0 col1\" >Accuracy</th>        <th class=\"col_heading level0 col2\" >Precision</th>        <th class=\"col_heading level0 col3\" >Recall</th>        <th class=\"col_heading level0 col4\" >F1</th>        <th class=\"col_heading level0 col5\" >AUC</th>    </tr></thead><tbody>\n",
       "                <tr>\n",
       "                        <th id=\"T_7195cea9_7c62_11eb_8fc3_4c1d964a5208level0_row0\" class=\"row_heading level0 row0\" >0</th>\n",
       "                        <td id=\"T_7195cea9_7c62_11eb_8fc3_4c1d964a5208row0_col0\" class=\"data row0 col0\" >DNN</td>\n",
       "                        <td id=\"T_7195cea9_7c62_11eb_8fc3_4c1d964a5208row0_col1\" class=\"data row0 col1\" >0.890323</td>\n",
       "                        <td id=\"T_7195cea9_7c62_11eb_8fc3_4c1d964a5208row0_col2\" class=\"data row0 col2\" >0.905405</td>\n",
       "                        <td id=\"T_7195cea9_7c62_11eb_8fc3_4c1d964a5208row0_col3\" class=\"data row0 col3\" >0.870130</td>\n",
       "                        <td id=\"T_7195cea9_7c62_11eb_8fc3_4c1d964a5208row0_col4\" class=\"data row0 col4\" >0.887417</td>\n",
       "                        <td id=\"T_7195cea9_7c62_11eb_8fc3_4c1d964a5208row0_col5\" class=\"data row0 col5\" >0.890193</td>\n",
       "            </tr>\n",
       "            <tr>\n",
       "                        <th id=\"T_7195cea9_7c62_11eb_8fc3_4c1d964a5208level0_row1\" class=\"row_heading level0 row1\" >1</th>\n",
       "                        <td id=\"T_7195cea9_7c62_11eb_8fc3_4c1d964a5208row1_col0\" class=\"data row1 col0\" >Decision-Tree</td>\n",
       "                        <td id=\"T_7195cea9_7c62_11eb_8fc3_4c1d964a5208row1_col1\" class=\"data row1 col1\" >0.819355</td>\n",
       "                        <td id=\"T_7195cea9_7c62_11eb_8fc3_4c1d964a5208row1_col2\" class=\"data row1 col2\" >0.865672</td>\n",
       "                        <td id=\"T_7195cea9_7c62_11eb_8fc3_4c1d964a5208row1_col3\" class=\"data row1 col3\" >0.753247</td>\n",
       "                        <td id=\"T_7195cea9_7c62_11eb_8fc3_4c1d964a5208row1_col4\" class=\"data row1 col4\" >0.805556</td>\n",
       "                        <td id=\"T_7195cea9_7c62_11eb_8fc3_4c1d964a5208row1_col5\" class=\"data row1 col5\" >0.818931</td>\n",
       "            </tr>\n",
       "            <tr>\n",
       "                        <th id=\"T_7195cea9_7c62_11eb_8fc3_4c1d964a5208level0_row2\" class=\"row_heading level0 row2\" >2</th>\n",
       "                        <td id=\"T_7195cea9_7c62_11eb_8fc3_4c1d964a5208row2_col0\" class=\"data row2 col0\" >Gradient Boosting</td>\n",
       "                        <td id=\"T_7195cea9_7c62_11eb_8fc3_4c1d964a5208row2_col1\" class=\"data row2 col1\" >0.838710</td>\n",
       "                        <td id=\"T_7195cea9_7c62_11eb_8fc3_4c1d964a5208row2_col2\" class=\"data row2 col2\" >0.842105</td>\n",
       "                        <td id=\"T_7195cea9_7c62_11eb_8fc3_4c1d964a5208row2_col3\" class=\"data row2 col3\" >0.831169</td>\n",
       "                        <td id=\"T_7195cea9_7c62_11eb_8fc3_4c1d964a5208row2_col4\" class=\"data row2 col4\" >0.836601</td>\n",
       "                        <td id=\"T_7195cea9_7c62_11eb_8fc3_4c1d964a5208row2_col5\" class=\"data row2 col5\" >0.838661</td>\n",
       "            </tr>\n",
       "            <tr>\n",
       "                        <th id=\"T_7195cea9_7c62_11eb_8fc3_4c1d964a5208level0_row3\" class=\"row_heading level0 row3\" >3</th>\n",
       "                        <td id=\"T_7195cea9_7c62_11eb_8fc3_4c1d964a5208row3_col0\" class=\"data row3 col0\" >KNN</td>\n",
       "                        <td id=\"T_7195cea9_7c62_11eb_8fc3_4c1d964a5208row3_col1\" class=\"data row3 col1\" >0.819355</td>\n",
       "                        <td id=\"T_7195cea9_7c62_11eb_8fc3_4c1d964a5208row3_col2\" class=\"data row3 col2\" >0.901639</td>\n",
       "                        <td id=\"T_7195cea9_7c62_11eb_8fc3_4c1d964a5208row3_col3\" class=\"data row3 col3\" >0.714286</td>\n",
       "                        <td id=\"T_7195cea9_7c62_11eb_8fc3_4c1d964a5208row3_col4\" class=\"data row3 col4\" >0.797101</td>\n",
       "                        <td id=\"T_7195cea9_7c62_11eb_8fc3_4c1d964a5208row3_col5\" class=\"data row3 col5\" >0.818681</td>\n",
       "            </tr>\n",
       "            <tr>\n",
       "                        <th id=\"T_7195cea9_7c62_11eb_8fc3_4c1d964a5208level0_row4\" class=\"row_heading level0 row4\" >4</th>\n",
       "                        <td id=\"T_7195cea9_7c62_11eb_8fc3_4c1d964a5208row4_col0\" class=\"data row4 col0\" >Logistic Regression</td>\n",
       "                        <td id=\"T_7195cea9_7c62_11eb_8fc3_4c1d964a5208row4_col1\" class=\"data row4 col1\" >0.858065</td>\n",
       "                        <td id=\"T_7195cea9_7c62_11eb_8fc3_4c1d964a5208row4_col2\" class=\"data row4 col2\" >0.857143</td>\n",
       "                        <td id=\"T_7195cea9_7c62_11eb_8fc3_4c1d964a5208row4_col3\" class=\"data row4 col3\" >0.857143</td>\n",
       "                        <td id=\"T_7195cea9_7c62_11eb_8fc3_4c1d964a5208row4_col4\" class=\"data row4 col4\" >0.857143</td>\n",
       "                        <td id=\"T_7195cea9_7c62_11eb_8fc3_4c1d964a5208row4_col5\" class=\"data row4 col5\" >0.858059</td>\n",
       "            </tr>\n",
       "            <tr>\n",
       "                        <th id=\"T_7195cea9_7c62_11eb_8fc3_4c1d964a5208level0_row5\" class=\"row_heading level0 row5\" >5</th>\n",
       "                        <td id=\"T_7195cea9_7c62_11eb_8fc3_4c1d964a5208row5_col0\" class=\"data row5 col0\" >Random-Forest</td>\n",
       "                        <td id=\"T_7195cea9_7c62_11eb_8fc3_4c1d964a5208row5_col1\" class=\"data row5 col1\" >0.903226</td>\n",
       "                        <td id=\"T_7195cea9_7c62_11eb_8fc3_4c1d964a5208row5_col2\" class=\"data row5 col2\" >0.907895</td>\n",
       "                        <td id=\"T_7195cea9_7c62_11eb_8fc3_4c1d964a5208row5_col3\" class=\"data row5 col3\" >0.896104</td>\n",
       "                        <td id=\"T_7195cea9_7c62_11eb_8fc3_4c1d964a5208row5_col4\" class=\"data row5 col4\" >0.901961</td>\n",
       "                        <td id=\"T_7195cea9_7c62_11eb_8fc3_4c1d964a5208row5_col5\" class=\"data row5 col5\" >0.903180</td>\n",
       "            </tr>\n",
       "            <tr>\n",
       "                        <th id=\"T_7195cea9_7c62_11eb_8fc3_4c1d964a5208level0_row6\" class=\"row_heading level0 row6\" >6</th>\n",
       "                        <td id=\"T_7195cea9_7c62_11eb_8fc3_4c1d964a5208row6_col0\" class=\"data row6 col0\" >SVM</td>\n",
       "                        <td id=\"T_7195cea9_7c62_11eb_8fc3_4c1d964a5208row6_col1\" class=\"data row6 col1\" >0.883871</td>\n",
       "                        <td id=\"T_7195cea9_7c62_11eb_8fc3_4c1d964a5208row6_col2\" class=\"data row6 col2\" >0.893333</td>\n",
       "                        <td id=\"T_7195cea9_7c62_11eb_8fc3_4c1d964a5208row6_col3\" class=\"data row6 col3\" >0.870130</td>\n",
       "                        <td id=\"T_7195cea9_7c62_11eb_8fc3_4c1d964a5208row6_col4\" class=\"data row6 col4\" >0.881579</td>\n",
       "                        <td id=\"T_7195cea9_7c62_11eb_8fc3_4c1d964a5208row6_col5\" class=\"data row6 col5\" >0.883783</td>\n",
       "            </tr>\n",
       "    </tbody></table>"
      ],
      "text/plain": [
       "<pandas.io.formats.style.Styler at 0x1f736664580>"
      ]
     },
     "metadata": {},
     "output_type": "display_data"
    }
   ],
   "source": [
    "all_accuracy = [dnn_ac, dt_ac, gb_ac, knn_ac, lr_ac, rf_ac, svc_ac]\n",
    "all_precision = [dnn_precision, dt_precision, gb_precision, knn_precision, lr_precision, rf_precision, svc_precision]\n",
    "all_recall = [dnn_recall, dt_recall, gb_recall, knn_recall, lr_recall, rf_recall, svc_recall]\n",
    "all_f1 = [dnn_f1, dt_f1, gb_f1, knn_f1, lr_f1, rf_f1, svc_f1]\n",
    "all_auc = [dnn_auc, dt_auc, gb_auc, knn_auc, lr_auc, rf_auc, svc_auc]\n",
    "models = [\"DNN\", \"Decision-Tree\", \"Gradient Boosting\", \"KNN\", \"Logistic Regression\", \"Random-Forest\", \"SVM\"]\n",
    "data = {'Models':models, 'Accuracy':all_accuracy, \"Precision\":all_precision, \"Recall\":all_recall, \"F1\":all_f1, \"AUC\":all_auc}\n",
    "dfg = pd.DataFrame(data, columns=['Models',\"Accuracy\", \"Precision\", \"Recall\", \"F1\", \"AUC\"])\n",
    "display(dfg.style.apply(lambda x: ['background: lightblue' if i == max(dfg[\"Accuracy\"]) else '' for i in dfg[\"Accuracy\"]]))"
   ]
  },
  {
   "cell_type": "code",
   "execution_count": 22,
   "metadata": {},
   "outputs": [],
   "source": [
    "# model.save('dnn.h5')"
   ]
  },
  {
   "cell_type": "code",
   "execution_count": 4,
   "metadata": {},
   "outputs": [
    {
     "data": {
      "text/plain": [
       "<sklearn.metrics._plot.roc_curve.RocCurveDisplay at 0x1f77bcfe370>"
      ]
     },
     "execution_count": 4,
     "metadata": {},
     "output_type": "execute_result"
    },
    {
     "data": {
      "image/png": "[encoded data removed]",
      "text/plain": [
       "<Figure size 432x288 with 1 Axes>"
      ]
     },
     "metadata": {
      "needs_background": "light"
     },
     "output_type": "display_data"
    }
   ],
   "source": [
    "# ROC curve for KNN model\n",
    "from sklearn.metrics import plot_roc_curve\n",
    "plot_roc_curve(pickle_model_knn, x_test, y_test)"
   ]
  },
  {
   "cell_type": "code",
   "execution_count": 5,
   "metadata": {},
   "outputs": [
    {
     "data": {
      "text/html": [
       "<div>\n",
       "<style scoped>\n",
       "    .dataframe tbody tr th:only-of-type {\n",
       "        vertical-align: middle;\n",
       "    }\n",
       "\n",
       "    .dataframe tbody tr th {\n",
       "        vertical-align: top;\n",
       "    }\n",
       "\n",
       "    .dataframe thead th {\n",
       "        text-align: right;\n",
       "    }\n",
       "</style>\n",
       "<table border=\"1\" class=\"dataframe\">\n",
       "  <thead>\n",
       "    <tr style=\"text-align: right;\">\n",
       "      <th></th>\n",
       "      <th>PubchemFP0</th>\n",
       "      <th>PubchemFP1</th>\n",
       "      <th>PubchemFP2</th>\n",
       "      <th>PubchemFP3</th>\n",
       "      <th>PubchemFP4</th>\n",
       "      <th>PubchemFP5</th>\n",
       "      <th>PubchemFP6</th>\n",
       "      <th>PubchemFP7</th>\n",
       "      <th>PubchemFP8</th>\n",
       "      <th>PubchemFP9</th>\n",
       "      <th>...</th>\n",
       "      <th>PubchemFP871</th>\n",
       "      <th>PubchemFP872</th>\n",
       "      <th>PubchemFP873</th>\n",
       "      <th>PubchemFP874</th>\n",
       "      <th>PubchemFP875</th>\n",
       "      <th>PubchemFP876</th>\n",
       "      <th>PubchemFP877</th>\n",
       "      <th>PubchemFP878</th>\n",
       "      <th>PubchemFP879</th>\n",
       "      <th>PubchemFP880</th>\n",
       "    </tr>\n",
       "  </thead>\n",
       "  <tbody>\n",
       "    <tr>\n",
       "      <th>417</th>\n",
       "      <td>1</td>\n",
       "      <td>1</td>\n",
       "      <td>1</td>\n",
       "      <td>0</td>\n",
       "      <td>0</td>\n",
       "      <td>0</td>\n",
       "      <td>0</td>\n",
       "      <td>0</td>\n",
       "      <td>0</td>\n",
       "      <td>1</td>\n",
       "      <td>...</td>\n",
       "      <td>0</td>\n",
       "      <td>0</td>\n",
       "      <td>0</td>\n",
       "      <td>0</td>\n",
       "      <td>0</td>\n",
       "      <td>0</td>\n",
       "      <td>0</td>\n",
       "      <td>0</td>\n",
       "      <td>0</td>\n",
       "      <td>0</td>\n",
       "    </tr>\n",
       "    <tr>\n",
       "      <th>586</th>\n",
       "      <td>1</td>\n",
       "      <td>1</td>\n",
       "      <td>1</td>\n",
       "      <td>0</td>\n",
       "      <td>0</td>\n",
       "      <td>0</td>\n",
       "      <td>0</td>\n",
       "      <td>0</td>\n",
       "      <td>0</td>\n",
       "      <td>1</td>\n",
       "      <td>...</td>\n",
       "      <td>0</td>\n",
       "      <td>0</td>\n",
       "      <td>0</td>\n",
       "      <td>0</td>\n",
       "      <td>0</td>\n",
       "      <td>0</td>\n",
       "      <td>0</td>\n",
       "      <td>0</td>\n",
       "      <td>0</td>\n",
       "      <td>0</td>\n",
       "    </tr>\n",
       "    <tr>\n",
       "      <th>73</th>\n",
       "      <td>1</td>\n",
       "      <td>1</td>\n",
       "      <td>1</td>\n",
       "      <td>0</td>\n",
       "      <td>0</td>\n",
       "      <td>0</td>\n",
       "      <td>0</td>\n",
       "      <td>0</td>\n",
       "      <td>0</td>\n",
       "      <td>1</td>\n",
       "      <td>...</td>\n",
       "      <td>0</td>\n",
       "      <td>0</td>\n",
       "      <td>0</td>\n",
       "      <td>0</td>\n",
       "      <td>0</td>\n",
       "      <td>0</td>\n",
       "      <td>0</td>\n",
       "      <td>0</td>\n",
       "      <td>0</td>\n",
       "      <td>0</td>\n",
       "    </tr>\n",
       "    <tr>\n",
       "      <th>54</th>\n",
       "      <td>1</td>\n",
       "      <td>1</td>\n",
       "      <td>0</td>\n",
       "      <td>0</td>\n",
       "      <td>0</td>\n",
       "      <td>0</td>\n",
       "      <td>0</td>\n",
       "      <td>0</td>\n",
       "      <td>0</td>\n",
       "      <td>1</td>\n",
       "      <td>...</td>\n",
       "      <td>0</td>\n",
       "      <td>0</td>\n",
       "      <td>0</td>\n",
       "      <td>0</td>\n",
       "      <td>0</td>\n",
       "      <td>0</td>\n",
       "      <td>0</td>\n",
       "      <td>0</td>\n",
       "      <td>0</td>\n",
       "      <td>0</td>\n",
       "    </tr>\n",
       "    <tr>\n",
       "      <th>641</th>\n",
       "      <td>1</td>\n",
       "      <td>1</td>\n",
       "      <td>1</td>\n",
       "      <td>0</td>\n",
       "      <td>0</td>\n",
       "      <td>0</td>\n",
       "      <td>0</td>\n",
       "      <td>0</td>\n",
       "      <td>0</td>\n",
       "      <td>1</td>\n",
       "      <td>...</td>\n",
       "      <td>0</td>\n",
       "      <td>0</td>\n",
       "      <td>0</td>\n",
       "      <td>0</td>\n",
       "      <td>0</td>\n",
       "      <td>0</td>\n",
       "      <td>0</td>\n",
       "      <td>0</td>\n",
       "      <td>0</td>\n",
       "      <td>0</td>\n",
       "    </tr>\n",
       "    <tr>\n",
       "      <th>...</th>\n",
       "      <td>...</td>\n",
       "      <td>...</td>\n",
       "      <td>...</td>\n",
       "      <td>...</td>\n",
       "      <td>...</td>\n",
       "      <td>...</td>\n",
       "      <td>...</td>\n",
       "      <td>...</td>\n",
       "      <td>...</td>\n",
       "      <td>...</td>\n",
       "      <td>...</td>\n",
       "      <td>...</td>\n",
       "      <td>...</td>\n",
       "      <td>...</td>\n",
       "      <td>...</td>\n",
       "      <td>...</td>\n",
       "      <td>...</td>\n",
       "      <td>...</td>\n",
       "      <td>...</td>\n",
       "      <td>...</td>\n",
       "      <td>...</td>\n",
       "    </tr>\n",
       "    <tr>\n",
       "      <th>572</th>\n",
       "      <td>1</td>\n",
       "      <td>1</td>\n",
       "      <td>1</td>\n",
       "      <td>1</td>\n",
       "      <td>0</td>\n",
       "      <td>0</td>\n",
       "      <td>0</td>\n",
       "      <td>0</td>\n",
       "      <td>0</td>\n",
       "      <td>1</td>\n",
       "      <td>...</td>\n",
       "      <td>0</td>\n",
       "      <td>0</td>\n",
       "      <td>0</td>\n",
       "      <td>0</td>\n",
       "      <td>0</td>\n",
       "      <td>0</td>\n",
       "      <td>0</td>\n",
       "      <td>0</td>\n",
       "      <td>0</td>\n",
       "      <td>0</td>\n",
       "    </tr>\n",
       "    <tr>\n",
       "      <th>622</th>\n",
       "      <td>1</td>\n",
       "      <td>1</td>\n",
       "      <td>1</td>\n",
       "      <td>0</td>\n",
       "      <td>0</td>\n",
       "      <td>0</td>\n",
       "      <td>0</td>\n",
       "      <td>0</td>\n",
       "      <td>0</td>\n",
       "      <td>1</td>\n",
       "      <td>...</td>\n",
       "      <td>0</td>\n",
       "      <td>0</td>\n",
       "      <td>0</td>\n",
       "      <td>0</td>\n",
       "      <td>0</td>\n",
       "      <td>0</td>\n",
       "      <td>0</td>\n",
       "      <td>0</td>\n",
       "      <td>0</td>\n",
       "      <td>0</td>\n",
       "    </tr>\n",
       "    <tr>\n",
       "      <th>208</th>\n",
       "      <td>1</td>\n",
       "      <td>1</td>\n",
       "      <td>1</td>\n",
       "      <td>0</td>\n",
       "      <td>0</td>\n",
       "      <td>0</td>\n",
       "      <td>0</td>\n",
       "      <td>0</td>\n",
       "      <td>0</td>\n",
       "      <td>1</td>\n",
       "      <td>...</td>\n",
       "      <td>0</td>\n",
       "      <td>0</td>\n",
       "      <td>0</td>\n",
       "      <td>0</td>\n",
       "      <td>0</td>\n",
       "      <td>0</td>\n",
       "      <td>0</td>\n",
       "      <td>0</td>\n",
       "      <td>0</td>\n",
       "      <td>0</td>\n",
       "    </tr>\n",
       "    <tr>\n",
       "      <th>14</th>\n",
       "      <td>1</td>\n",
       "      <td>1</td>\n",
       "      <td>1</td>\n",
       "      <td>1</td>\n",
       "      <td>0</td>\n",
       "      <td>0</td>\n",
       "      <td>0</td>\n",
       "      <td>0</td>\n",
       "      <td>0</td>\n",
       "      <td>1</td>\n",
       "      <td>...</td>\n",
       "      <td>0</td>\n",
       "      <td>0</td>\n",
       "      <td>0</td>\n",
       "      <td>0</td>\n",
       "      <td>0</td>\n",
       "      <td>0</td>\n",
       "      <td>0</td>\n",
       "      <td>0</td>\n",
       "      <td>0</td>\n",
       "      <td>0</td>\n",
       "    </tr>\n",
       "    <tr>\n",
       "      <th>50</th>\n",
       "      <td>1</td>\n",
       "      <td>1</td>\n",
       "      <td>1</td>\n",
       "      <td>0</td>\n",
       "      <td>0</td>\n",
       "      <td>0</td>\n",
       "      <td>0</td>\n",
       "      <td>0</td>\n",
       "      <td>0</td>\n",
       "      <td>1</td>\n",
       "      <td>...</td>\n",
       "      <td>0</td>\n",
       "      <td>0</td>\n",
       "      <td>0</td>\n",
       "      <td>0</td>\n",
       "      <td>0</td>\n",
       "      <td>0</td>\n",
       "      <td>0</td>\n",
       "      <td>0</td>\n",
       "      <td>0</td>\n",
       "      <td>0</td>\n",
       "    </tr>\n",
       "  </tbody>\n",
       "</table>\n",
       "<p>617 rows × 881 columns</p>\n",
       "</div>"
      ],
      "text/plain": [
       "     PubchemFP0  PubchemFP1  PubchemFP2  PubchemFP3  PubchemFP4  PubchemFP5  \\\n",
       "417           1           1           1           0           0           0   \n",
       "586           1           1           1           0           0           0   \n",
       "73            1           1           1           0           0           0   \n",
       "54            1           1           0           0           0           0   \n",
       "641           1           1           1           0           0           0   \n",
       "..          ...         ...         ...         ...         ...         ...   \n",
       "572           1           1           1           1           0           0   \n",
       "622           1           1           1           0           0           0   \n",
       "208           1           1           1           0           0           0   \n",
       "14            1           1           1           1           0           0   \n",
       "50            1           1           1           0           0           0   \n",
       "\n",
       "     PubchemFP6  PubchemFP7  PubchemFP8  PubchemFP9  ...  PubchemFP871  \\\n",
       "417           0           0           0           1  ...             0   \n",
       "586           0           0           0           1  ...             0   \n",
       "73            0           0           0           1  ...             0   \n",
       "54            0           0           0           1  ...             0   \n",
       "641           0           0           0           1  ...             0   \n",
       "..          ...         ...         ...         ...  ...           ...   \n",
       "572           0           0           0           1  ...             0   \n",
       "622           0           0           0           1  ...             0   \n",
       "208           0           0           0           1  ...             0   \n",
       "14            0           0           0           1  ...             0   \n",
       "50            0           0           0           1  ...             0   \n",
       "\n",
       "     PubchemFP872  PubchemFP873  PubchemFP874  PubchemFP875  PubchemFP876  \\\n",
       "417             0             0             0             0             0   \n",
       "586             0             0             0             0             0   \n",
       "73              0             0             0             0             0   \n",
       "54              0             0             0             0             0   \n",
       "641             0             0             0             0             0   \n",
       "..            ...           ...           ...           ...           ...   \n",
       "572             0             0             0             0             0   \n",
       "622             0             0             0             0             0   \n",
       "208             0             0             0             0             0   \n",
       "14              0             0             0             0             0   \n",
       "50              0             0             0             0             0   \n",
       "\n",
       "     PubchemFP877  PubchemFP878  PubchemFP879  PubchemFP880  \n",
       "417             0             0             0             0  \n",
       "586             0             0             0             0  \n",
       "73              0             0             0             0  \n",
       "54              0             0             0             0  \n",
       "641             0             0             0             0  \n",
       "..            ...           ...           ...           ...  \n",
       "572             0             0             0             0  \n",
       "622             0             0             0             0  \n",
       "208             0             0             0             0  \n",
       "14              0             0             0             0  \n",
       "50              0             0             0             0  \n",
       "\n",
       "[617 rows x 881 columns]"
      ]
     },
     "execution_count": 5,
     "metadata": {},
     "output_type": "execute_result"
    }
   ],
   "source": [
    "x_train"
   ]
  },
  {
   "cell_type": "code",
   "execution_count": null,
   "metadata": {},
   "outputs": [],
   "source": []
  }
 ],
 "metadata": {
  "kernelspec": {
   "display_name": "Python 3",
   "language": "python",
   "name": "python3"
  },
  "language_info": {
   "codemirror_mode": {
    "name": "ipython",
    "version": 3
   },
   "file_extension": ".py",
   "mimetype": "text/x-python",
   "name": "python",
   "nbconvert_exporter": "python",
   "pygments_lexer": "ipython3",
   "version": "3.8.3"
  }
 },
 "nbformat": 4,
 "nbformat_minor": 4
}
