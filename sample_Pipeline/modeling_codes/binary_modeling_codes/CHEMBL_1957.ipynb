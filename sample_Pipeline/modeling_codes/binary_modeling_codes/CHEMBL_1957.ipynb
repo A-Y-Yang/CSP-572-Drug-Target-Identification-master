{
 "cells": [
  {
   "cell_type": "markdown",
   "metadata": {},
   "source": [
    "<h2>Importing Libraries</h2>"
   ]
  },
  {
   "cell_type": "code",
   "execution_count": 69,
   "metadata": {},
   "outputs": [],
   "source": [
    "import pandas as pd\n",
    "import numpy as np\n",
    "from sklearn.ensemble import RandomForestClassifier\n",
    "from sklearn.tree import DecisionTreeClassifier\n",
    "from sklearn.neighbors import KNeighborsClassifier\n",
    "from sklearn.ensemble import GradientBoostingClassifier\n",
    "from sklearn.metrics import accuracy_score, precision_score, recall_score, auc, f1_score, roc_curve\n",
    "from tensorflow.keras.models import load_model\n",
    "import matplotlib.pyplot as plt"
   ]
  },
  {
   "cell_type": "markdown",
   "metadata": {},
   "source": [
    "<h2>Data Preparation</h2>"
   ]
  },
  {
   "cell_type": "code",
   "execution_count": 2,
   "metadata": {},
   "outputs": [
    {
     "data": {
      "text/html": [
       "<div>\n",
       "<style scoped>\n",
       "    .dataframe tbody tr th:only-of-type {\n",
       "        vertical-align: middle;\n",
       "    }\n",
       "\n",
       "    .dataframe tbody tr th {\n",
       "        vertical-align: top;\n",
       "    }\n",
       "\n",
       "    .dataframe thead th {\n",
       "        text-align: right;\n",
       "    }\n",
       "</style>\n",
       "<table border=\"1\" class=\"dataframe\">\n",
       "  <thead>\n",
       "    <tr style=\"text-align: right;\">\n",
       "      <th></th>\n",
       "      <th>PubchemFP0</th>\n",
       "      <th>PubchemFP1</th>\n",
       "      <th>PubchemFP2</th>\n",
       "      <th>PubchemFP3</th>\n",
       "      <th>PubchemFP4</th>\n",
       "      <th>PubchemFP5</th>\n",
       "      <th>PubchemFP6</th>\n",
       "      <th>PubchemFP7</th>\n",
       "      <th>PubchemFP8</th>\n",
       "      <th>PubchemFP9</th>\n",
       "      <th>...</th>\n",
       "      <th>PubchemFP872</th>\n",
       "      <th>PubchemFP873</th>\n",
       "      <th>PubchemFP874</th>\n",
       "      <th>PubchemFP875</th>\n",
       "      <th>PubchemFP876</th>\n",
       "      <th>PubchemFP877</th>\n",
       "      <th>PubchemFP878</th>\n",
       "      <th>PubchemFP879</th>\n",
       "      <th>PubchemFP880</th>\n",
       "      <th>bioactivity_class</th>\n",
       "    </tr>\n",
       "  </thead>\n",
       "  <tbody>\n",
       "    <tr>\n",
       "      <th>0</th>\n",
       "      <td>1</td>\n",
       "      <td>1</td>\n",
       "      <td>1</td>\n",
       "      <td>0</td>\n",
       "      <td>0</td>\n",
       "      <td>0</td>\n",
       "      <td>0</td>\n",
       "      <td>0</td>\n",
       "      <td>0</td>\n",
       "      <td>1</td>\n",
       "      <td>...</td>\n",
       "      <td>0</td>\n",
       "      <td>0</td>\n",
       "      <td>0</td>\n",
       "      <td>0</td>\n",
       "      <td>0</td>\n",
       "      <td>0</td>\n",
       "      <td>0</td>\n",
       "      <td>0</td>\n",
       "      <td>0</td>\n",
       "      <td>active</td>\n",
       "    </tr>\n",
       "    <tr>\n",
       "      <th>1</th>\n",
       "      <td>1</td>\n",
       "      <td>1</td>\n",
       "      <td>1</td>\n",
       "      <td>0</td>\n",
       "      <td>0</td>\n",
       "      <td>0</td>\n",
       "      <td>0</td>\n",
       "      <td>0</td>\n",
       "      <td>0</td>\n",
       "      <td>1</td>\n",
       "      <td>...</td>\n",
       "      <td>0</td>\n",
       "      <td>0</td>\n",
       "      <td>0</td>\n",
       "      <td>0</td>\n",
       "      <td>0</td>\n",
       "      <td>0</td>\n",
       "      <td>0</td>\n",
       "      <td>0</td>\n",
       "      <td>0</td>\n",
       "      <td>active</td>\n",
       "    </tr>\n",
       "    <tr>\n",
       "      <th>2</th>\n",
       "      <td>1</td>\n",
       "      <td>1</td>\n",
       "      <td>1</td>\n",
       "      <td>1</td>\n",
       "      <td>0</td>\n",
       "      <td>0</td>\n",
       "      <td>0</td>\n",
       "      <td>0</td>\n",
       "      <td>0</td>\n",
       "      <td>1</td>\n",
       "      <td>...</td>\n",
       "      <td>0</td>\n",
       "      <td>0</td>\n",
       "      <td>0</td>\n",
       "      <td>0</td>\n",
       "      <td>0</td>\n",
       "      <td>0</td>\n",
       "      <td>0</td>\n",
       "      <td>0</td>\n",
       "      <td>0</td>\n",
       "      <td>active</td>\n",
       "    </tr>\n",
       "    <tr>\n",
       "      <th>3</th>\n",
       "      <td>1</td>\n",
       "      <td>1</td>\n",
       "      <td>1</td>\n",
       "      <td>0</td>\n",
       "      <td>0</td>\n",
       "      <td>0</td>\n",
       "      <td>0</td>\n",
       "      <td>0</td>\n",
       "      <td>0</td>\n",
       "      <td>1</td>\n",
       "      <td>...</td>\n",
       "      <td>0</td>\n",
       "      <td>0</td>\n",
       "      <td>0</td>\n",
       "      <td>0</td>\n",
       "      <td>0</td>\n",
       "      <td>0</td>\n",
       "      <td>0</td>\n",
       "      <td>0</td>\n",
       "      <td>0</td>\n",
       "      <td>active</td>\n",
       "    </tr>\n",
       "    <tr>\n",
       "      <th>4</th>\n",
       "      <td>1</td>\n",
       "      <td>1</td>\n",
       "      <td>1</td>\n",
       "      <td>0</td>\n",
       "      <td>0</td>\n",
       "      <td>0</td>\n",
       "      <td>0</td>\n",
       "      <td>0</td>\n",
       "      <td>0</td>\n",
       "      <td>1</td>\n",
       "      <td>...</td>\n",
       "      <td>0</td>\n",
       "      <td>0</td>\n",
       "      <td>0</td>\n",
       "      <td>0</td>\n",
       "      <td>0</td>\n",
       "      <td>0</td>\n",
       "      <td>0</td>\n",
       "      <td>0</td>\n",
       "      <td>0</td>\n",
       "      <td>active</td>\n",
       "    </tr>\n",
       "  </tbody>\n",
       "</table>\n",
       "<p>5 rows × 882 columns</p>\n",
       "</div>"
      ],
      "text/plain": [
       "   PubchemFP0  PubchemFP1  PubchemFP2  PubchemFP3  PubchemFP4  PubchemFP5  \\\n",
       "0           1           1           1           0           0           0   \n",
       "1           1           1           1           0           0           0   \n",
       "2           1           1           1           1           0           0   \n",
       "3           1           1           1           0           0           0   \n",
       "4           1           1           1           0           0           0   \n",
       "\n",
       "   PubchemFP6  PubchemFP7  PubchemFP8  PubchemFP9  ...  PubchemFP872  \\\n",
       "0           0           0           0           1  ...             0   \n",
       "1           0           0           0           1  ...             0   \n",
       "2           0           0           0           1  ...             0   \n",
       "3           0           0           0           1  ...             0   \n",
       "4           0           0           0           1  ...             0   \n",
       "\n",
       "   PubchemFP873  PubchemFP874  PubchemFP875  PubchemFP876  PubchemFP877  \\\n",
       "0             0             0             0             0             0   \n",
       "1             0             0             0             0             0   \n",
       "2             0             0             0             0             0   \n",
       "3             0             0             0             0             0   \n",
       "4             0             0             0             0             0   \n",
       "\n",
       "   PubchemFP878  PubchemFP879  PubchemFP880  bioactivity_class  \n",
       "0             0             0             0             active  \n",
       "1             0             0             0             active  \n",
       "2             0             0             0             active  \n",
       "3             0             0             0             active  \n",
       "4             0             0             0             active  \n",
       "\n",
       "[5 rows x 882 columns]"
      ]
     },
     "execution_count": 2,
     "metadata": {},
     "output_type": "execute_result"
    }
   ],
   "source": [
    "# Reading the csv file.\n",
    "df = pd.read_csv('CHEMBL1957_IGF1R_2class_pubchem_fp.csv')\n",
    "df.head()"
   ]
  },
  {
   "cell_type": "markdown",
   "metadata": {},
   "source": [
    "<h2>Data Cleaning</h2>"
   ]
  },
  {
   "cell_type": "code",
   "execution_count": 3,
   "metadata": {},
   "outputs": [
    {
     "data": {
      "text/plain": [
       "PubchemFP0           0\n",
       "PubchemFP1           0\n",
       "PubchemFP2           0\n",
       "PubchemFP3           0\n",
       "PubchemFP4           0\n",
       "                    ..\n",
       "PubchemFP877         0\n",
       "PubchemFP878         0\n",
       "PubchemFP879         0\n",
       "PubchemFP880         0\n",
       "bioactivity_class    0\n",
       "Length: 882, dtype: int64"
      ]
     },
     "execution_count": 3,
     "metadata": {},
     "output_type": "execute_result"
    }
   ],
   "source": [
    "df.isna().sum()"
   ]
  },
  {
   "cell_type": "code",
   "execution_count": 4,
   "metadata": {},
   "outputs": [
    {
     "data": {
      "text/plain": [
       "PubchemFP0           0\n",
       "PubchemFP1           0\n",
       "PubchemFP2           0\n",
       "PubchemFP3           0\n",
       "PubchemFP4           0\n",
       "                    ..\n",
       "PubchemFP877         0\n",
       "PubchemFP878         0\n",
       "PubchemFP879         0\n",
       "PubchemFP880         0\n",
       "bioactivity_class    0\n",
       "Length: 882, dtype: int64"
      ]
     },
     "execution_count": 4,
     "metadata": {},
     "output_type": "execute_result"
    }
   ],
   "source": [
    "df.isnull().sum()"
   ]
  },
  {
   "cell_type": "code",
   "execution_count": 5,
   "metadata": {},
   "outputs": [
    {
     "data": {
      "text/plain": [
       "(889, 882)"
      ]
     },
     "execution_count": 5,
     "metadata": {},
     "output_type": "execute_result"
    }
   ],
   "source": [
    "df.shape"
   ]
  },
  {
   "cell_type": "code",
   "execution_count": 6,
   "metadata": {},
   "outputs": [
    {
     "data": {
      "text/plain": [
       "active      447\n",
       "inactive    442\n",
       "Name: bioactivity_class, dtype: int64"
      ]
     },
     "execution_count": 6,
     "metadata": {},
     "output_type": "execute_result"
    }
   ],
   "source": [
    "df['bioactivity_class'].value_counts()"
   ]
  },
  {
   "cell_type": "code",
   "execution_count": 7,
   "metadata": {},
   "outputs": [],
   "source": [
    "# Train-Test split\n",
    "x = df.iloc[:,:881]\n",
    "y = pd.get_dummies(df['bioactivity_class'])['active']\n",
    "from sklearn.model_selection import train_test_split\n",
    "x_train, x_test, y_train, y_test = train_test_split(x, y, test_size=0.2, stratify=y, random_state=42, shuffle=True)"
   ]
  },
  {
   "cell_type": "code",
   "execution_count": 8,
   "metadata": {},
   "outputs": [
    {
     "data": {
      "text/plain": [
       "(711, 881)"
      ]
     },
     "execution_count": 8,
     "metadata": {},
     "output_type": "execute_result"
    }
   ],
   "source": [
    "x_train.shape"
   ]
  },
  {
   "cell_type": "code",
   "execution_count": 9,
   "metadata": {},
   "outputs": [
    {
     "data": {
      "text/plain": [
       "(711,)"
      ]
     },
     "execution_count": 9,
     "metadata": {},
     "output_type": "execute_result"
    }
   ],
   "source": [
    "y_train.shape"
   ]
  },
  {
   "cell_type": "code",
   "execution_count": 10,
   "metadata": {},
   "outputs": [
    {
     "data": {
      "text/plain": [
       "(178, 881)"
      ]
     },
     "execution_count": 10,
     "metadata": {},
     "output_type": "execute_result"
    }
   ],
   "source": [
    "x_test.shape"
   ]
  },
  {
   "cell_type": "code",
   "execution_count": 11,
   "metadata": {},
   "outputs": [
    {
     "data": {
      "text/plain": [
       "(178,)"
      ]
     },
     "execution_count": 11,
     "metadata": {},
     "output_type": "execute_result"
    }
   ],
   "source": [
    "y_test.shape"
   ]
  },
  {
   "cell_type": "markdown",
   "metadata": {},
   "source": [
    "<h2>Data Modeling</h2>"
   ]
  },
  {
   "cell_type": "code",
   "execution_count": 44,
   "metadata": {},
   "outputs": [
    {
     "name": "stdout",
     "output_type": "stream",
     "text": [
      "Best Parameter for KNN, k = 14.0\n"
     ]
    },
    {
     "data": {
      "image/png": "[encoded data removed]",
      "text/plain": [
       "<Figure size 432x288 with 1 Axes>"
      ]
     },
     "metadata": {
      "needs_background": "light"
     },
     "output_type": "display_data"
    }
   ],
   "source": [
    "# KNN\n",
    "# Hyper-tunning the 'n_neighbors' parameter\n",
    "neighbors = list(range(1,21,1))\n",
    "knn_accuracy_test = []\n",
    "knn_accuracy_train = []\n",
    "knn_df = pd.DataFrame(columns=['n_neighbors', 'test_Accuracy', 'train_accuracy'])\n",
    "for i in neighbors:\n",
    "    knn_clf = KNeighborsClassifier(n_neighbors=i)\n",
    "    knn_clf.fit(x_train, y_train)\n",
    "    knn_pred = knn_clf.predict(x_test)\n",
    "    knn_acc = accuracy_score(y_test, knn_pred)\n",
    "    knn_accuracy_test.append(knn_acc)\n",
    "    knn_pred = knn_clf.predict(x_train)\n",
    "    knn_acc = accuracy_score(y_train, knn_pred)\n",
    "    knn_accuracy_train.append(knn_acc)\n",
    "    \n",
    "knn_df['n_neighbors'] = neighbors\n",
    "knn_df['test_Accuracy'] = knn_accuracy_test\n",
    "knn_df['train_accuracy'] = knn_accuracy_train\n",
    "knn_df['difference'] = abs(knn_df['test_Accuracy'].values - knn_df['train_accuracy'].values)\n",
    "knndf = knn_df[knn_df.iloc[:,1]<knn_df.iloc[:,2]]\n",
    "k_best, k_accu_best = knndf.sort_values(['difference', 'test_Accuracy'], ascending=[True, False]).head(1)[['n_neighbors', 'test_Accuracy']].values[0]\n",
    "print(\"Best Parameter for KNN, k =\", k_best)\n",
    "plt.plot(neighbors, knn_accuracy_test, label='test data', marker='o')\n",
    "plt.plot(neighbors, knn_accuracy_train, label='train data', marker='o')\n",
    "plt.plot(k_best, k_accu_best, marker='o', color='red')\n",
    "plt.grid() \n",
    "plt.xlabel(\"Number of Neighbors\")\n",
    "plt.ylabel(\"Accuracy\")\n",
    "plt.title(\"For K-Nearest Neighbors\")\n",
    "plt.legend(loc='upper right')\n",
    "plt.show()"
   ]
  },
  {
   "cell_type": "code",
   "execution_count": 45,
   "metadata": {},
   "outputs": [
    {
     "data": {
      "text/plain": [
       "0.9157303370786517"
      ]
     },
     "execution_count": 45,
     "metadata": {},
     "output_type": "execute_result"
    }
   ],
   "source": [
    "knn_clf = KNeighborsClassifier(n_neighbors=13)\n",
    "knn_clf.fit(x_train, y_train)\n",
    "knn_pred = knn_clf.predict(x_test)\n",
    "knn_acc = accuracy_score(y_test, knn_pred)\n",
    "knn_acc"
   ]
  },
  {
   "cell_type": "code",
   "execution_count": 42,
   "metadata": {},
   "outputs": [
    {
     "name": "stdout",
     "output_type": "stream",
     "text": [
      "Best Parameter for Support Vector Machine(SVC) =  [kernel = scale, gamma = rbf]\n"
     ]
    },
    {
     "data": {
      "image/png": "[encoded data removed]",
      "text/plain": [
       "<Figure size 432x288 with 1 Axes>"
      ]
     },
     "metadata": {
      "needs_background": "light"
     },
     "output_type": "display_data"
    }
   ],
   "source": [
    "# Support Vector Classifier(SVC)\n",
    "from sklearn.svm import SVC\n",
    "# Hyper-tunning the 'kernel' and 'gamma' parameter\n",
    "svc_dict = {'auto': ['linear'], 'scale': ['linear', 'poly', 'rbf', 'sigmoid']}\n",
    "svc_accuracy_test = []\n",
    "svc_accuracy_train = []\n",
    "svc_df = pd.DataFrame(columns=['Parameters', 'test_Accuracy', 'train_Accuracy'])\n",
    "parameter = []\n",
    "cnt = []\n",
    "count = 0\n",
    "for i in svc_dict:\n",
    "    for j in svc_dict[i]:\n",
    "        count+=1\n",
    "        svc_clf = SVC(kernel=j, gamma=i, random_state=100)\n",
    "        svc_clf.fit(x_train, y_train)\n",
    "        svc_pred = svc_clf.predict(x_test)\n",
    "        svc_acc = accuracy_score(y_test, svc_pred)\n",
    "        svc_accuracy_test.append(svc_acc)\n",
    "        svc_pred = svc_clf.predict(x_train)\n",
    "        svc_acc = accuracy_score(y_train, svc_pred)\n",
    "        svc_accuracy_train.append(svc_acc)\n",
    "        cnt.append(count)\n",
    "        para = '[kernel = '+str(i)+', gamma = '+str(j)+']'\n",
    "        parameter.append(para)\n",
    "svc_df['Parameters'] = parameter\n",
    "svc_df['test_Accuracy'] = svc_accuracy_test\n",
    "svc_df['train_Accuracy'] = svc_accuracy_train\n",
    "svc_df['difference'] = abs(svc_df['test_Accuracy'] - svc_df['train_Accuracy'])\n",
    "svc_df[\"count\"] = cnt\n",
    "svcdf = svc_df[svc_df.iloc[:,1]<svc_df.iloc[:,2]]\n",
    "svc_best, svc_accu_best, best_para = svcdf.sort_values(['difference', 'test_Accuracy'], ascending=[True, False]).head(1)[['count', 'test_Accuracy', 'Parameters']].values[0]\n",
    "print('Best Parameter for Support Vector Machine(SVC) = ', best_para)\n",
    "plt.plot(cnt, svc_accuracy_test, label='test_data', marker ='o')\n",
    "plt.plot(cnt, svc_accuracy_train, label='train_data', marker='o')\n",
    "plt.plot(svc_best, svc_accu_best, marker='o', color='red')\n",
    "plt.grid()\n",
    "plt.xlabel(\"Various Parameters\")\n",
    "plt.ylabel(\"Accuracy\")\n",
    "plt.title(\"For SVC\")\n",
    "plt.legend(loc='upper left')\n",
    "plt.show()"
   ]
  },
  {
   "cell_type": "code",
   "execution_count": 43,
   "metadata": {},
   "outputs": [
    {
     "data": {
      "text/plain": [
       "0.9550561797752809"
      ]
     },
     "execution_count": 43,
     "metadata": {},
     "output_type": "execute_result"
    }
   ],
   "source": [
    "svc_clf = SVC(kernel='rbf', random_state=100)\n",
    "svc_clf.fit(x_train, y_train)\n",
    "svc_pred = svc_clf.predict(x_test)\n",
    "svc_acc = accuracy_score(y_test, svc_pred)\n",
    "svc_acc"
   ]
  },
  {
   "cell_type": "code",
   "execution_count": 40,
   "metadata": {},
   "outputs": [
    {
     "name": "stderr",
     "output_type": "stream",
     "text": [
      "c:\\users\\ayush\\appdata\\local\\programs\\python\\python38\\lib\\site-packages\\sklearn\\linear_model\\_sag.py:329: ConvergenceWarning: The max_iter was reached which means the coef_ did not converge\n",
      "  warnings.warn(\"The max_iter was reached which means \"\n",
      "c:\\users\\ayush\\appdata\\local\\programs\\python\\python38\\lib\\site-packages\\sklearn\\linear_model\\_logistic.py:762: ConvergenceWarning: lbfgs failed to converge (status=1):\n",
      "STOP: TOTAL NO. of ITERATIONS REACHED LIMIT.\n",
      "\n",
      "Increase the number of iterations (max_iter) or scale the data as shown in:\n",
      "    https://scikit-learn.org/stable/modules/preprocessing.html\n",
      "Please also refer to the documentation for alternative solver options:\n",
      "    https://scikit-learn.org/stable/modules/linear_model.html#logistic-regression\n",
      "  n_iter_i = _check_optimize_result(\n",
      "c:\\users\\ayush\\appdata\\local\\programs\\python\\python38\\lib\\site-packages\\sklearn\\linear_model\\_sag.py:329: ConvergenceWarning: The max_iter was reached which means the coef_ did not converge\n",
      "  warnings.warn(\"The max_iter was reached which means \"\n",
      "c:\\users\\ayush\\appdata\\local\\programs\\python\\python38\\lib\\site-packages\\sklearn\\linear_model\\_sag.py:329: ConvergenceWarning: The max_iter was reached which means the coef_ did not converge\n",
      "  warnings.warn(\"The max_iter was reached which means \"\n"
     ]
    },
    {
     "name": "stdout",
     "output_type": "stream",
     "text": [
      "Best Parameters for Logistic Regression = [penalty = l1, solver = liblinear]\n"
     ]
    },
    {
     "data": {
      "image/png": "[encoded data removed]",
      "text/plain": [
       "<Figure size 432x288 with 1 Axes>"
      ]
     },
     "metadata": {
      "needs_background": "light"
     },
     "output_type": "display_data"
    }
   ],
   "source": [
    "# Logistic Regression\n",
    "from sklearn.linear_model import LogisticRegression\n",
    "# Hyper-tunning the 'penalty' and 'solver' parameter\n",
    "lr_dict = {'l1': ['liblinear', 'saga'], 'l2': ['newton-cg', 'lbfgs', 'liblinear', 'sag', 'saga']}\n",
    "lr_accuracy_test = []\n",
    "lr_accuracy_train = []\n",
    "lr_accuracy_cv = []\n",
    "lr_df = pd.DataFrame(columns=['Parameters', 'test_Accuracy', 'train_Accuracy'])\n",
    "parameter = []\n",
    "cnt = []\n",
    "count = 0\n",
    "for i in lr_dict:\n",
    "    for j in lr_dict[i]:\n",
    "        count+=1\n",
    "        lr_clf = LogisticRegression(penalty=i, solver=j, random_state=120)\n",
    "        lr_clf.fit(x_train, y_train)\n",
    "        lr_pred = lr_clf.predict(x_test)\n",
    "        lr_acc = accuracy_score(y_test, lr_pred)\n",
    "        lr_accuracy_test.append(lr_acc)\n",
    "        lr_pred = lr_clf.predict(x_train)\n",
    "        lr_acc = accuracy_score(y_train, lr_pred)\n",
    "        lr_accuracy_train.append(lr_acc)\n",
    "        cnt.append(count)\n",
    "        para = '[penalty = '+str(i)+', solver = '+str(j)+']'\n",
    "        parameter.append(para)\n",
    "\n",
    "lr_df['Parameters'] = parameter\n",
    "lr_df['test_Accuracy'] = lr_accuracy_test\n",
    "lr_df['train_Accuracy'] = lr_accuracy_train\n",
    "lr_df['difference'] = abs(lr_df['test_Accuracy'] - lr_df['train_Accuracy'])\n",
    "lr_df[\"count\"] = cnt\n",
    "lrdf = lr_df[lr_df.iloc[:,1]<lr_df.iloc[:,2]]\n",
    "lr_best, lr_accu_best, best_para = lrdf.sort_values(['difference', 'test_Accuracy'], ascending=[True, False]).head(1)[['count', 'test_Accuracy', 'Parameters']].values[0]\n",
    "print('Best Parameters for Logistic Regression =', best_para)\n",
    "plt.plot(cnt, lr_accuracy_test, label='test_data', marker ='o')\n",
    "plt.plot(cnt, lr_accuracy_train, label='train_data', marker='o')\n",
    "plt.plot(lr_best, lr_accu_best, marker='o', color='red')\n",
    "plt.grid()\n",
    "plt.xlabel(\"Various Parameters\")\n",
    "plt.ylabel(\"Accuracy\")\n",
    "plt.title(\"For Logistic Regression\")\n",
    "plt.legend(loc='upper left')\n",
    "plt.show()"
   ]
  },
  {
   "cell_type": "code",
   "execution_count": 41,
   "metadata": {},
   "outputs": [
    {
     "data": {
      "text/plain": [
       "0.9831460674157303"
      ]
     },
     "execution_count": 41,
     "metadata": {},
     "output_type": "execute_result"
    }
   ],
   "source": [
    "lr_clf = LogisticRegression(penalty='l1', solver='liblinear', random_state=120)\n",
    "lr_clf.fit(x_train, y_train)\n",
    "lr_pred = lr_clf.predict(x_test)\n",
    "lr_acc = accuracy_score(y_test, lr_pred)\n",
    "lr_acc"
   ]
  },
  {
   "cell_type": "code",
   "execution_count": 36,
   "metadata": {},
   "outputs": [
    {
     "name": "stdout",
     "output_type": "stream",
     "text": [
      "Best Parameter for Decision Tree = [criterion = entropy, max_depth = 4, min_sample_leaf = 5, min_sample_split = 2]\n"
     ]
    },
    {
     "data": {
      "image/png": "[encoded data removed]",
      "text/plain": [
       "<Figure size 432x288 with 1 Axes>"
      ]
     },
     "metadata": {
      "needs_background": "light"
     },
     "output_type": "display_data"
    }
   ],
   "source": [
    "# Decision Tree\n",
    "# Hyper-tunning the 'criterion', 'max_depth', 'min_sample_leaf' and 'min_sample_split' parameter\n",
    "criterion = ['gini', 'entropy']\n",
    "max_depth = [1,2,3,4,5]\n",
    "min_sample_leaf = [1,2,3,4,5]\n",
    "min_sample_split = [2,3,4,5]\n",
    "dt_accuracy_test = []\n",
    "dt_accuracy_train = []\n",
    "parameter = []\n",
    "dt_df = pd.DataFrame(columns=['Parameters', 'test_Accuracy', 'train_Accuracy'])\n",
    "count = 0\n",
    "cnt = []\n",
    "for i in criterion:\n",
    "    for j in max_depth:\n",
    "        for k in min_sample_leaf:\n",
    "            for l in min_sample_split:\n",
    "                count+=1\n",
    "                dt_clf = DecisionTreeClassifier(criterion=i, max_depth=j, min_samples_leaf=k, min_samples_split=l, random_state=20)\n",
    "                dt_clf.fit(x_train, y_train)\n",
    "                dt_pred = dt_clf.predict(x_test)\n",
    "                dt_acc = accuracy_score(y_test, dt_pred)\n",
    "                dt_accuracy_test.append(dt_acc)\n",
    "                dt_pred = dt_clf.predict(x_train)\n",
    "                dt_acc = accuracy_score(y_train, dt_pred)\n",
    "                dt_accuracy_train.append(dt_acc)\n",
    "                cnt.append(count)\n",
    "                para = '[criterion = '+str(i)+', max_depth = '+str(j)+', min_sample_leaf = '+str(k)+', min_sample_split = '+str(l)+']'\n",
    "                parameter.append(para)\n",
    "\n",
    "dt_df['Parameters'] = parameter\n",
    "dt_df['test_Accuracy'] = dt_accuracy_test\n",
    "dt_df['train_Accuracy'] = dt_accuracy_train\n",
    "dt_df['difference'] = abs(dt_df['test_Accuracy'] - dt_df['train_Accuracy'])\n",
    "dt_df[\"count\"] = cnt\n",
    "dtdf = dt_df[dt_df.iloc[:,1]<dt_df.iloc[:,2]]\n",
    "dt_best, dt_accu_best, best_para = dtdf.sort_values(['difference', 'test_Accuracy'], ascending=[True, False]).head(1)[['count', 'test_Accuracy', 'Parameters']].values[0]\n",
    "print(\"Best Parameter for Decision Tree =\", best_para)\n",
    "plt.plot(cnt, dt_accuracy_test, label='test_data')\n",
    "plt.plot(cnt, dt_accuracy_train, label='train_data')\n",
    "plt.plot(dt_best, dt_accu_best, marker='o', color='red')\n",
    "plt.grid()\n",
    "plt.xlabel(\"Various Parameters\")\n",
    "plt.ylabel(\"Accuracy\")\n",
    "plt.title(\"For Decision-Tree\")\n",
    "plt.legend(loc='upper left')\n",
    "plt.show()"
   ]
  },
  {
   "cell_type": "code",
   "execution_count": 39,
   "metadata": {},
   "outputs": [
    {
     "data": {
      "text/plain": [
       "0.9325842696629213"
      ]
     },
     "execution_count": 39,
     "metadata": {},
     "output_type": "execute_result"
    }
   ],
   "source": [
    "dt_clf = DecisionTreeClassifier(criterion='entropy', max_depth=4, min_samples_leaf=5, min_samples_split=2, random_state=20)\n",
    "dt_clf.fit(x_train, y_train)\n",
    "dt_pred = dt_clf.predict(x_test)\n",
    "dt_acc = accuracy_score(y_test, dt_pred)\n",
    "dt_acc"
   ]
  },
  {
   "cell_type": "code",
   "execution_count": 46,
   "metadata": {},
   "outputs": [
    {
     "name": "stdout",
     "output_type": "stream",
     "text": [
      "Best Accuracy for Random Forest: 0.9887640449438202\n"
     ]
    }
   ],
   "source": [
    "# Random Forest\n",
    "rf_clf = RandomForestClassifier()\n",
    "rf_clf.fit(x_train, y_train)\n",
    "rf_pred = rf_clf.predict(x_test)\n",
    "rf_acc = accuracy_score(y_test, rf_pred)\n",
    "print(\"Best Accuracy for Random Forest:\", rf_acc)"
   ]
  },
  {
   "cell_type": "code",
   "execution_count": 61,
   "metadata": {},
   "outputs": [
    {
     "name": "stdout",
     "output_type": "stream",
     "text": [
      "Accuracy for GradientBoosting: 0.9887640449438202\n"
     ]
    }
   ],
   "source": [
    "# Gradient Boosting\n",
    "gb_clf = GradientBoostingClassifier()\n",
    "gb_clf.fit(x_train, y_train)\n",
    "pred = gb_clf.predict(x_test)\n",
    "acc_gb = accuracy_score(y_test, pred)\n",
    "print(\"Accuracy for GradientBoosting:\",acc_gb)"
   ]
  },
  {
   "cell_type": "code",
   "execution_count": 47,
   "metadata": {},
   "outputs": [
    {
     "name": "stdout",
     "output_type": "stream",
     "text": [
      "Tensorflow version 2.2.0\n"
     ]
    }
   ],
   "source": [
    "import tensorflow as tf\n",
    "from tensorflow import keras\n",
    "from tensorflow.keras import layers\n",
    "print(\"Tensorflow version \" + tf.__version__)"
   ]
  },
  {
   "cell_type": "code",
   "execution_count": 48,
   "metadata": {},
   "outputs": [],
   "source": [
    "callback = tf.keras.callbacks.EarlyStopping(\n",
    "    monitor='val_loss', min_delta=0, patience=150, verbose=0, mode='auto',\n",
    "    baseline=None, restore_best_weights=False\n",
    ")"
   ]
  },
  {
   "cell_type": "code",
   "execution_count": 49,
   "metadata": {},
   "outputs": [],
   "source": [
    "# Deep Neural Network(DNN)\n",
    "model = keras.Sequential([\n",
    "    layers.Dense(32, activation='relu', kernel_regularizer=keras.regularizers.l2(0.001), input_shape=[len(x_train.keys())]),\n",
    "    layers.Dense(64, activation='relu', kernel_regularizer=keras.regularizers.l2(0.001)),\n",
    "    layers.Dropout(0.5),\n",
    "    layers.Dense(64, activation='relu', kernel_regularizer=keras.regularizers.l2(0.001)),\n",
    "    layers.Dropout(0.5),\n",
    "    layers.Dense(64, activation='relu', kernel_regularizer=keras.regularizers.l2(0.001)),\n",
    "    layers.Dropout(0.5),\n",
    "    layers.Dense(1, activation='sigmoid', kernel_regularizer=keras.regularizers.l2(0.001))\n",
    "])"
   ]
  },
  {
   "cell_type": "code",
   "execution_count": 50,
   "metadata": {},
   "outputs": [],
   "source": [
    "model.compile(optimizer='adam',\n",
    "              loss=tf.keras.losses.binary_crossentropy,\n",
    "              metrics=['accuracy'])"
   ]
  },
  {
   "cell_type": "code",
   "execution_count": 51,
   "metadata": {},
   "outputs": [
    {
     "name": "stdout",
     "output_type": "stream",
     "text": [
      "Epoch 1/500\n",
      "18/18 [==============================] - 0s 25ms/step - loss: 0.9212 - accuracy: 0.5475 - val_loss: 0.8745 - val_accuracy: 0.7622\n",
      "Epoch 2/500\n",
      "18/18 [==============================] - 0s 4ms/step - loss: 0.8603 - accuracy: 0.5845 - val_loss: 0.8132 - val_accuracy: 0.7622\n",
      "Epoch 3/500\n",
      "18/18 [==============================] - 0s 5ms/step - loss: 0.7689 - accuracy: 0.7077 - val_loss: 0.7268 - val_accuracy: 0.7902\n",
      "Epoch 4/500\n",
      "18/18 [==============================] - 0s 7ms/step - loss: 0.6985 - accuracy: 0.7535 - val_loss: 0.6250 - val_accuracy: 0.7692\n",
      "Epoch 5/500\n",
      "18/18 [==============================] - 0s 8ms/step - loss: 0.5643 - accuracy: 0.8451 - val_loss: 0.5425 - val_accuracy: 0.7972\n",
      "Epoch 6/500\n",
      "18/18 [==============================] - 0s 8ms/step - loss: 0.4969 - accuracy: 0.8908 - val_loss: 0.5018 - val_accuracy: 0.8322\n",
      "Epoch 7/500\n",
      "18/18 [==============================] - 0s 7ms/step - loss: 0.4043 - accuracy: 0.9208 - val_loss: 0.4896 - val_accuracy: 0.8601\n",
      "Epoch 8/500\n",
      "18/18 [==============================] - 0s 7ms/step - loss: 0.3796 - accuracy: 0.9296 - val_loss: 0.4360 - val_accuracy: 0.8881\n",
      "Epoch 9/500\n",
      "18/18 [==============================] - 0s 5ms/step - loss: 0.3945 - accuracy: 0.9331 - val_loss: 0.4055 - val_accuracy: 0.8951\n",
      "Epoch 10/500\n",
      "18/18 [==============================] - 0s 5ms/step - loss: 0.3349 - accuracy: 0.9419 - val_loss: 0.4166 - val_accuracy: 0.9021\n",
      "Epoch 11/500\n",
      "18/18 [==============================] - 0s 5ms/step - loss: 0.3069 - accuracy: 0.9489 - val_loss: 0.3801 - val_accuracy: 0.9021\n",
      "Epoch 12/500\n",
      "18/18 [==============================] - 0s 5ms/step - loss: 0.2892 - accuracy: 0.9613 - val_loss: 0.4059 - val_accuracy: 0.9091\n",
      "Epoch 13/500\n",
      "18/18 [==============================] - 0s 5ms/step - loss: 0.2626 - accuracy: 0.9613 - val_loss: 0.3879 - val_accuracy: 0.9231\n",
      "Epoch 14/500\n",
      "18/18 [==============================] - 0s 5ms/step - loss: 0.2817 - accuracy: 0.9613 - val_loss: 0.4101 - val_accuracy: 0.9091\n",
      "Epoch 15/500\n",
      "18/18 [==============================] - 0s 5ms/step - loss: 0.2407 - accuracy: 0.9754 - val_loss: 0.3680 - val_accuracy: 0.9301\n",
      "Epoch 16/500\n",
      "18/18 [==============================] - 0s 4ms/step - loss: 0.2364 - accuracy: 0.9630 - val_loss: 0.3771 - val_accuracy: 0.9301\n",
      "Epoch 17/500\n",
      "18/18 [==============================] - 0s 6ms/step - loss: 0.2207 - accuracy: 0.9683 - val_loss: 0.3906 - val_accuracy: 0.9231\n",
      "Epoch 18/500\n",
      "18/18 [==============================] - 0s 7ms/step - loss: 0.2235 - accuracy: 0.9665 - val_loss: 0.4411 - val_accuracy: 0.9161\n",
      "Epoch 19/500\n",
      "18/18 [==============================] - 0s 5ms/step - loss: 0.2501 - accuracy: 0.9525 - val_loss: 0.3654 - val_accuracy: 0.9301\n",
      "Epoch 20/500\n",
      "18/18 [==============================] - 0s 6ms/step - loss: 0.2612 - accuracy: 0.9577 - val_loss: 0.3182 - val_accuracy: 0.9371\n",
      "Epoch 21/500\n",
      "18/18 [==============================] - 0s 5ms/step - loss: 0.2056 - accuracy: 0.9754 - val_loss: 0.3350 - val_accuracy: 0.9301\n",
      "Epoch 22/500\n",
      "18/18 [==============================] - 0s 5ms/step - loss: 0.2043 - accuracy: 0.9789 - val_loss: 0.3324 - val_accuracy: 0.9161\n",
      "Epoch 23/500\n",
      "18/18 [==============================] - 0s 5ms/step - loss: 0.2168 - accuracy: 0.9771 - val_loss: 0.3398 - val_accuracy: 0.9231\n",
      "Epoch 24/500\n",
      "18/18 [==============================] - 0s 5ms/step - loss: 0.1728 - accuracy: 0.9842 - val_loss: 0.3701 - val_accuracy: 0.9231\n",
      "Epoch 25/500\n",
      "18/18 [==============================] - 0s 5ms/step - loss: 0.2075 - accuracy: 0.9683 - val_loss: 0.3253 - val_accuracy: 0.9301\n",
      "Epoch 26/500\n",
      "18/18 [==============================] - 0s 5ms/step - loss: 0.1774 - accuracy: 0.9754 - val_loss: 0.3072 - val_accuracy: 0.9371\n",
      "Epoch 27/500\n",
      "18/18 [==============================] - 0s 5ms/step - loss: 0.1764 - accuracy: 0.9718 - val_loss: 0.2844 - val_accuracy: 0.9371\n",
      "Epoch 28/500\n",
      "18/18 [==============================] - 0s 5ms/step - loss: 0.1521 - accuracy: 0.9877 - val_loss: 0.3078 - val_accuracy: 0.9371\n",
      "Epoch 29/500\n",
      "18/18 [==============================] - 0s 5ms/step - loss: 0.1491 - accuracy: 0.9859 - val_loss: 0.3515 - val_accuracy: 0.9371\n",
      "Epoch 30/500\n",
      "18/18 [==============================] - 0s 7ms/step - loss: 0.1498 - accuracy: 0.9824 - val_loss: 0.3591 - val_accuracy: 0.9301\n",
      "Epoch 31/500\n",
      "18/18 [==============================] - 0s 6ms/step - loss: 0.1391 - accuracy: 0.9894 - val_loss: 0.3079 - val_accuracy: 0.9510\n",
      "Epoch 32/500\n",
      "18/18 [==============================] - 0s 6ms/step - loss: 0.1666 - accuracy: 0.9754 - val_loss: 0.2759 - val_accuracy: 0.9510\n",
      "Epoch 33/500\n",
      "18/18 [==============================] - 0s 6ms/step - loss: 0.1364 - accuracy: 0.9859 - val_loss: 0.3319 - val_accuracy: 0.9231\n",
      "Epoch 34/500\n",
      "18/18 [==============================] - 0s 5ms/step - loss: 0.1387 - accuracy: 0.9824 - val_loss: 0.3612 - val_accuracy: 0.9231\n",
      "Epoch 35/500\n",
      "18/18 [==============================] - 0s 5ms/step - loss: 0.1382 - accuracy: 0.9877 - val_loss: 0.3044 - val_accuracy: 0.9510\n",
      "Epoch 36/500\n",
      "18/18 [==============================] - 0s 6ms/step - loss: 0.1442 - accuracy: 0.9877 - val_loss: 0.3050 - val_accuracy: 0.9301\n",
      "Epoch 37/500\n",
      "18/18 [==============================] - 0s 6ms/step - loss: 0.1145 - accuracy: 0.9912 - val_loss: 0.2889 - val_accuracy: 0.9650\n",
      "Epoch 38/500\n",
      "18/18 [==============================] - 0s 5ms/step - loss: 0.1147 - accuracy: 0.9912 - val_loss: 0.2853 - val_accuracy: 0.9580\n",
      "Epoch 39/500\n",
      "18/18 [==============================] - 0s 4ms/step - loss: 0.1490 - accuracy: 0.9806 - val_loss: 0.3931 - val_accuracy: 0.8951\n",
      "Epoch 40/500\n",
      "18/18 [==============================] - 0s 4ms/step - loss: 0.1351 - accuracy: 0.9842 - val_loss: 0.5430 - val_accuracy: 0.8811\n",
      "Epoch 41/500\n",
      "18/18 [==============================] - 0s 5ms/step - loss: 0.1242 - accuracy: 0.9894 - val_loss: 0.3727 - val_accuracy: 0.9441\n",
      "Epoch 42/500\n",
      "18/18 [==============================] - 0s 5ms/step - loss: 0.1280 - accuracy: 0.9877 - val_loss: 0.3900 - val_accuracy: 0.9231\n",
      "Epoch 43/500\n",
      "18/18 [==============================] - 0s 4ms/step - loss: 0.1061 - accuracy: 0.9894 - val_loss: 0.3645 - val_accuracy: 0.9441\n",
      "Epoch 44/500\n",
      "18/18 [==============================] - 0s 4ms/step - loss: 0.0994 - accuracy: 0.9947 - val_loss: 0.3190 - val_accuracy: 0.9510\n",
      "Epoch 45/500\n",
      "18/18 [==============================] - 0s 5ms/step - loss: 0.0942 - accuracy: 0.9947 - val_loss: 0.3179 - val_accuracy: 0.9580\n",
      "Epoch 46/500\n",
      "18/18 [==============================] - 0s 5ms/step - loss: 0.0918 - accuracy: 0.9930 - val_loss: 0.4609 - val_accuracy: 0.9371\n",
      "Epoch 47/500\n",
      "18/18 [==============================] - 0s 5ms/step - loss: 0.0944 - accuracy: 0.9912 - val_loss: 0.3898 - val_accuracy: 0.9441\n",
      "Epoch 48/500\n",
      "18/18 [==============================] - 0s 5ms/step - loss: 0.0847 - accuracy: 0.9982 - val_loss: 0.2698 - val_accuracy: 0.9650\n",
      "Epoch 49/500\n",
      "18/18 [==============================] - 0s 5ms/step - loss: 0.0935 - accuracy: 0.9912 - val_loss: 0.2743 - val_accuracy: 0.9580\n",
      "Epoch 50/500\n",
      "18/18 [==============================] - 0s 5ms/step - loss: 0.0943 - accuracy: 0.9930 - val_loss: 0.2637 - val_accuracy: 0.9650\n",
      "Epoch 51/500\n",
      "18/18 [==============================] - 0s 5ms/step - loss: 0.0965 - accuracy: 0.9930 - val_loss: 0.2947 - val_accuracy: 0.9510\n",
      "Epoch 52/500\n",
      "18/18 [==============================] - 0s 5ms/step - loss: 0.0932 - accuracy: 0.9912 - val_loss: 0.2608 - val_accuracy: 0.9510\n",
      "Epoch 53/500\n",
      "18/18 [==============================] - 0s 5ms/step - loss: 0.0916 - accuracy: 0.9947 - val_loss: 0.3702 - val_accuracy: 0.9371\n",
      "Epoch 54/500\n",
      "18/18 [==============================] - 0s 5ms/step - loss: 0.0803 - accuracy: 0.9982 - val_loss: 0.2916 - val_accuracy: 0.9510\n",
      "Epoch 55/500\n",
      "18/18 [==============================] - 0s 5ms/step - loss: 0.0915 - accuracy: 0.9894 - val_loss: 0.4110 - val_accuracy: 0.9371\n",
      "Epoch 56/500\n",
      "18/18 [==============================] - 0s 4ms/step - loss: 0.1156 - accuracy: 0.9806 - val_loss: 0.4466 - val_accuracy: 0.9091\n",
      "Epoch 57/500\n",
      "18/18 [==============================] - 0s 5ms/step - loss: 0.0928 - accuracy: 0.9930 - val_loss: 0.2711 - val_accuracy: 0.9650\n",
      "Epoch 58/500\n",
      "18/18 [==============================] - 0s 5ms/step - loss: 0.0877 - accuracy: 0.9930 - val_loss: 0.2706 - val_accuracy: 0.9510\n"
     ]
    },
    {
     "name": "stdout",
     "output_type": "stream",
     "text": [
      "Epoch 59/500\n",
      "18/18 [==============================] - 0s 7ms/step - loss: 0.0972 - accuracy: 0.9930 - val_loss: 0.2285 - val_accuracy: 0.9580\n",
      "Epoch 60/500\n",
      "18/18 [==============================] - 0s 7ms/step - loss: 0.0759 - accuracy: 0.9965 - val_loss: 0.2906 - val_accuracy: 0.9510\n",
      "Epoch 61/500\n",
      "18/18 [==============================] - 0s 5ms/step - loss: 0.0782 - accuracy: 0.9982 - val_loss: 0.4394 - val_accuracy: 0.9301\n",
      "Epoch 62/500\n",
      "18/18 [==============================] - 0s 5ms/step - loss: 0.0803 - accuracy: 0.9912 - val_loss: 0.3517 - val_accuracy: 0.9441\n",
      "Epoch 63/500\n",
      "18/18 [==============================] - 0s 6ms/step - loss: 0.0843 - accuracy: 0.9930 - val_loss: 0.2570 - val_accuracy: 0.9790\n",
      "Epoch 64/500\n",
      "18/18 [==============================] - 0s 5ms/step - loss: 0.0719 - accuracy: 0.9982 - val_loss: 0.2928 - val_accuracy: 0.9580\n",
      "Epoch 65/500\n",
      "18/18 [==============================] - 0s 5ms/step - loss: 0.0757 - accuracy: 0.9947 - val_loss: 0.4722 - val_accuracy: 0.9161\n",
      "Epoch 66/500\n",
      "18/18 [==============================] - 0s 5ms/step - loss: 0.0878 - accuracy: 0.9947 - val_loss: 0.2661 - val_accuracy: 0.9650\n",
      "Epoch 67/500\n",
      "18/18 [==============================] - 0s 5ms/step - loss: 0.0659 - accuracy: 0.9982 - val_loss: 0.2698 - val_accuracy: 0.9580\n",
      "Epoch 68/500\n",
      "18/18 [==============================] - 0s 5ms/step - loss: 0.0702 - accuracy: 0.9982 - val_loss: 0.3153 - val_accuracy: 0.9510\n",
      "Epoch 69/500\n",
      "18/18 [==============================] - 0s 6ms/step - loss: 0.0642 - accuracy: 0.9982 - val_loss: 0.3055 - val_accuracy: 0.9510\n",
      "Epoch 70/500\n",
      "18/18 [==============================] - 0s 6ms/step - loss: 0.0627 - accuracy: 0.9982 - val_loss: 0.3527 - val_accuracy: 0.9580\n",
      "Epoch 71/500\n",
      "18/18 [==============================] - 0s 6ms/step - loss: 0.0637 - accuracy: 0.9982 - val_loss: 0.3030 - val_accuracy: 0.9580\n",
      "Epoch 72/500\n",
      "18/18 [==============================] - 0s 6ms/step - loss: 0.0670 - accuracy: 0.9982 - val_loss: 0.2695 - val_accuracy: 0.9720\n",
      "Epoch 73/500\n",
      "18/18 [==============================] - 0s 6ms/step - loss: 0.0744 - accuracy: 0.9965 - val_loss: 0.2639 - val_accuracy: 0.9510\n",
      "Epoch 74/500\n",
      "18/18 [==============================] - 0s 5ms/step - loss: 0.0611 - accuracy: 0.9982 - val_loss: 0.3273 - val_accuracy: 0.9510\n",
      "Epoch 75/500\n",
      "18/18 [==============================] - 0s 5ms/step - loss: 0.0646 - accuracy: 0.9982 - val_loss: 0.2377 - val_accuracy: 0.9580\n",
      "Epoch 76/500\n",
      "18/18 [==============================] - 0s 5ms/step - loss: 0.0580 - accuracy: 1.0000 - val_loss: 0.3351 - val_accuracy: 0.9580\n",
      "Epoch 77/500\n",
      "18/18 [==============================] - 0s 6ms/step - loss: 0.0595 - accuracy: 0.9982 - val_loss: 0.2564 - val_accuracy: 0.9580\n",
      "Epoch 78/500\n",
      "18/18 [==============================] - 0s 5ms/step - loss: 0.0637 - accuracy: 0.9965 - val_loss: 0.4351 - val_accuracy: 0.9231\n",
      "Epoch 79/500\n",
      "18/18 [==============================] - 0s 4ms/step - loss: 0.0654 - accuracy: 0.9965 - val_loss: 0.3855 - val_accuracy: 0.9161\n",
      "Epoch 80/500\n",
      "18/18 [==============================] - 0s 5ms/step - loss: 0.0593 - accuracy: 1.0000 - val_loss: 0.2605 - val_accuracy: 0.9650\n",
      "Epoch 81/500\n",
      "18/18 [==============================] - 0s 4ms/step - loss: 0.0602 - accuracy: 0.9982 - val_loss: 0.3109 - val_accuracy: 0.9580\n",
      "Epoch 82/500\n",
      "18/18 [==============================] - 0s 5ms/step - loss: 0.0606 - accuracy: 0.9965 - val_loss: 0.3230 - val_accuracy: 0.9510\n",
      "Epoch 83/500\n",
      "18/18 [==============================] - 0s 5ms/step - loss: 0.0568 - accuracy: 0.9982 - val_loss: 0.4054 - val_accuracy: 0.9371\n",
      "Epoch 84/500\n",
      "18/18 [==============================] - 0s 7ms/step - loss: 0.0599 - accuracy: 0.9965 - val_loss: 0.3691 - val_accuracy: 0.9441\n",
      "Epoch 85/500\n",
      "18/18 [==============================] - 0s 5ms/step - loss: 0.0633 - accuracy: 0.9965 - val_loss: 0.2442 - val_accuracy: 0.9650\n",
      "Epoch 86/500\n",
      "18/18 [==============================] - 0s 7ms/step - loss: 0.0597 - accuracy: 0.9965 - val_loss: 0.2495 - val_accuracy: 0.9580\n",
      "Epoch 87/500\n",
      "18/18 [==============================] - 0s 5ms/step - loss: 0.0532 - accuracy: 1.0000 - val_loss: 0.2831 - val_accuracy: 0.9580\n",
      "Epoch 88/500\n",
      "18/18 [==============================] - 0s 4ms/step - loss: 0.0532 - accuracy: 0.9982 - val_loss: 0.2904 - val_accuracy: 0.9580\n",
      "Epoch 89/500\n",
      "18/18 [==============================] - 0s 5ms/step - loss: 0.0526 - accuracy: 1.0000 - val_loss: 0.4143 - val_accuracy: 0.9441\n",
      "Epoch 90/500\n",
      "18/18 [==============================] - 0s 4ms/step - loss: 0.0558 - accuracy: 0.9965 - val_loss: 0.2632 - val_accuracy: 0.9720\n",
      "Epoch 91/500\n",
      "18/18 [==============================] - 0s 5ms/step - loss: 0.0561 - accuracy: 0.9982 - val_loss: 0.2468 - val_accuracy: 0.9720\n",
      "Epoch 92/500\n",
      "18/18 [==============================] - 0s 5ms/step - loss: 0.0575 - accuracy: 0.9965 - val_loss: 0.3226 - val_accuracy: 0.9510\n",
      "Epoch 93/500\n",
      "18/18 [==============================] - 0s 5ms/step - loss: 0.0619 - accuracy: 0.9965 - val_loss: 0.2943 - val_accuracy: 0.9441\n",
      "Epoch 94/500\n",
      "18/18 [==============================] - 0s 5ms/step - loss: 0.0615 - accuracy: 0.9982 - val_loss: 0.2367 - val_accuracy: 0.9650\n",
      "Epoch 95/500\n",
      "18/18 [==============================] - 0s 6ms/step - loss: 0.0612 - accuracy: 0.9982 - val_loss: 0.2548 - val_accuracy: 0.9650\n",
      "Epoch 96/500\n",
      "18/18 [==============================] - 0s 5ms/step - loss: 0.0491 - accuracy: 1.0000 - val_loss: 0.2773 - val_accuracy: 0.9580\n",
      "Epoch 97/500\n",
      "18/18 [==============================] - 0s 5ms/step - loss: 0.0482 - accuracy: 1.0000 - val_loss: 0.2931 - val_accuracy: 0.9580\n",
      "Epoch 98/500\n",
      "18/18 [==============================] - 0s 5ms/step - loss: 0.0541 - accuracy: 0.9965 - val_loss: 0.2824 - val_accuracy: 0.9580\n",
      "Epoch 99/500\n",
      "18/18 [==============================] - 0s 4ms/step - loss: 0.0504 - accuracy: 0.9982 - val_loss: 0.3137 - val_accuracy: 0.9510\n",
      "Epoch 100/500\n",
      "18/18 [==============================] - 0s 5ms/step - loss: 0.0583 - accuracy: 0.9947 - val_loss: 0.3341 - val_accuracy: 0.9441\n",
      "Epoch 101/500\n",
      "18/18 [==============================] - 0s 5ms/step - loss: 0.0493 - accuracy: 1.0000 - val_loss: 0.2891 - val_accuracy: 0.9510\n",
      "Epoch 102/500\n",
      "18/18 [==============================] - 0s 5ms/step - loss: 0.0467 - accuracy: 1.0000 - val_loss: 0.2738 - val_accuracy: 0.9510\n",
      "Epoch 103/500\n",
      "18/18 [==============================] - 0s 5ms/step - loss: 0.0463 - accuracy: 1.0000 - val_loss: 0.2591 - val_accuracy: 0.9580\n",
      "Epoch 104/500\n",
      "18/18 [==============================] - 0s 5ms/step - loss: 0.0459 - accuracy: 0.9982 - val_loss: 0.2749 - val_accuracy: 0.9580\n",
      "Epoch 105/500\n",
      "18/18 [==============================] - 0s 5ms/step - loss: 0.0497 - accuracy: 0.9982 - val_loss: 0.2130 - val_accuracy: 0.9860\n",
      "Epoch 106/500\n",
      "18/18 [==============================] - 0s 5ms/step - loss: 0.0459 - accuracy: 1.0000 - val_loss: 0.2358 - val_accuracy: 0.9650\n",
      "Epoch 107/500\n",
      "18/18 [==============================] - 0s 5ms/step - loss: 0.0455 - accuracy: 1.0000 - val_loss: 0.2490 - val_accuracy: 0.9650\n",
      "Epoch 108/500\n",
      "18/18 [==============================] - 0s 5ms/step - loss: 0.0446 - accuracy: 1.0000 - val_loss: 0.2850 - val_accuracy: 0.9510\n",
      "Epoch 109/500\n",
      "18/18 [==============================] - 0s 5ms/step - loss: 0.0440 - accuracy: 1.0000 - val_loss: 0.2214 - val_accuracy: 0.9790\n",
      "Epoch 110/500\n",
      "18/18 [==============================] - 0s 5ms/step - loss: 0.0440 - accuracy: 0.9982 - val_loss: 0.2215 - val_accuracy: 0.9860\n",
      "Epoch 111/500\n",
      "18/18 [==============================] - 0s 5ms/step - loss: 0.0494 - accuracy: 0.9982 - val_loss: 0.2124 - val_accuracy: 0.9790\n",
      "Epoch 112/500\n",
      "18/18 [==============================] - 0s 6ms/step - loss: 0.0541 - accuracy: 0.9965 - val_loss: 0.2858 - val_accuracy: 0.9510\n",
      "Epoch 113/500\n",
      "18/18 [==============================] - 0s 5ms/step - loss: 0.0553 - accuracy: 0.9965 - val_loss: 0.2525 - val_accuracy: 0.9580\n",
      "Epoch 114/500\n",
      "18/18 [==============================] - 0s 5ms/step - loss: 0.0474 - accuracy: 0.9982 - val_loss: 0.2048 - val_accuracy: 0.9790\n",
      "Epoch 115/500\n",
      "18/18 [==============================] - 0s 5ms/step - loss: 0.0433 - accuracy: 1.0000 - val_loss: 0.2248 - val_accuracy: 0.9720\n",
      "Epoch 116/500\n",
      "18/18 [==============================] - 0s 6ms/step - loss: 0.0447 - accuracy: 0.9982 - val_loss: 0.2395 - val_accuracy: 0.9650\n",
      "Epoch 117/500\n",
      "18/18 [==============================] - 0s 7ms/step - loss: 0.0535 - accuracy: 0.9982 - val_loss: 0.1948 - val_accuracy: 0.9790\n",
      "Epoch 118/500\n",
      "18/18 [==============================] - 0s 7ms/step - loss: 0.0464 - accuracy: 0.9982 - val_loss: 0.2100 - val_accuracy: 0.9720\n",
      "Epoch 119/500\n",
      "18/18 [==============================] - 0s 6ms/step - loss: 0.0431 - accuracy: 1.0000 - val_loss: 0.2041 - val_accuracy: 0.9860\n",
      "Epoch 120/500\n",
      "18/18 [==============================] - 0s 6ms/step - loss: 0.0403 - accuracy: 1.0000 - val_loss: 0.2218 - val_accuracy: 0.9790\n",
      "Epoch 121/500\n",
      "18/18 [==============================] - 0s 6ms/step - loss: 0.0400 - accuracy: 1.0000 - val_loss: 0.2224 - val_accuracy: 0.9790\n",
      "Epoch 122/500\n",
      "18/18 [==============================] - 0s 7ms/step - loss: 0.0403 - accuracy: 1.0000 - val_loss: 0.2478 - val_accuracy: 0.9510\n",
      "Epoch 123/500\n",
      "18/18 [==============================] - 0s 7ms/step - loss: 0.0413 - accuracy: 1.0000 - val_loss: 0.1978 - val_accuracy: 0.9860\n",
      "Epoch 124/500\n",
      "18/18 [==============================] - 0s 5ms/step - loss: 0.0449 - accuracy: 0.9965 - val_loss: 0.1983 - val_accuracy: 0.9790\n",
      "Epoch 125/500\n",
      "18/18 [==============================] - 0s 5ms/step - loss: 0.0695 - accuracy: 0.9894 - val_loss: 0.3707 - val_accuracy: 0.9091\n",
      "Epoch 126/500\n",
      "18/18 [==============================] - 0s 7ms/step - loss: 0.0892 - accuracy: 0.9824 - val_loss: 0.1786 - val_accuracy: 0.9580\n",
      "Epoch 127/500\n",
      "18/18 [==============================] - 0s 7ms/step - loss: 0.0757 - accuracy: 0.9894 - val_loss: 0.2253 - val_accuracy: 0.9650\n",
      "Epoch 128/500\n",
      "18/18 [==============================] - 0s 7ms/step - loss: 0.0641 - accuracy: 0.9930 - val_loss: 0.2146 - val_accuracy: 0.9510\n",
      "Epoch 129/500\n",
      "18/18 [==============================] - 0s 5ms/step - loss: 0.0793 - accuracy: 0.9842 - val_loss: 0.3612 - val_accuracy: 0.9301\n",
      "Epoch 130/500\n",
      "18/18 [==============================] - 0s 6ms/step - loss: 0.0726 - accuracy: 0.9912 - val_loss: 0.2626 - val_accuracy: 0.9510\n",
      "Epoch 131/500\n",
      "18/18 [==============================] - 0s 8ms/step - loss: 0.0563 - accuracy: 0.9965 - val_loss: 0.2232 - val_accuracy: 0.9650\n",
      "Epoch 132/500\n",
      "18/18 [==============================] - 0s 8ms/step - loss: 0.0505 - accuracy: 0.9965 - val_loss: 0.3030 - val_accuracy: 0.9650\n",
      "Epoch 133/500\n",
      "18/18 [==============================] - 0s 7ms/step - loss: 0.0531 - accuracy: 0.9965 - val_loss: 0.2820 - val_accuracy: 0.9580\n",
      "Epoch 134/500\n",
      "18/18 [==============================] - 0s 6ms/step - loss: 0.0533 - accuracy: 0.9947 - val_loss: 0.2341 - val_accuracy: 0.9650\n",
      "Epoch 135/500\n",
      "18/18 [==============================] - 0s 5ms/step - loss: 0.0452 - accuracy: 0.9982 - val_loss: 0.2935 - val_accuracy: 0.9580\n",
      "Epoch 136/500\n",
      "18/18 [==============================] - 0s 5ms/step - loss: 0.0437 - accuracy: 1.0000 - val_loss: 0.2729 - val_accuracy: 0.9720\n",
      "Epoch 137/500\n",
      "18/18 [==============================] - 0s 5ms/step - loss: 0.0440 - accuracy: 0.9982 - val_loss: 0.3061 - val_accuracy: 0.9650\n",
      "Epoch 138/500\n",
      "18/18 [==============================] - 0s 8ms/step - loss: 0.0450 - accuracy: 0.9982 - val_loss: 0.2808 - val_accuracy: 0.9510\n",
      "Epoch 139/500\n",
      "18/18 [==============================] - 0s 7ms/step - loss: 0.0454 - accuracy: 0.9982 - val_loss: 0.2472 - val_accuracy: 0.9720\n",
      "Epoch 140/500\n",
      "18/18 [==============================] - 0s 7ms/step - loss: 0.0416 - accuracy: 1.0000 - val_loss: 0.2527 - val_accuracy: 0.9720\n",
      "Epoch 141/500\n",
      "18/18 [==============================] - 0s 6ms/step - loss: 0.0412 - accuracy: 1.0000 - val_loss: 0.2735 - val_accuracy: 0.9720\n",
      "Epoch 142/500\n",
      "18/18 [==============================] - 0s 6ms/step - loss: 0.0411 - accuracy: 1.0000 - val_loss: 0.3294 - val_accuracy: 0.9441\n",
      "Epoch 143/500\n",
      "18/18 [==============================] - 0s 4ms/step - loss: 0.0406 - accuracy: 1.0000 - val_loss: 0.2934 - val_accuracy: 0.9580\n",
      "Epoch 144/500\n",
      "18/18 [==============================] - 0s 5ms/step - loss: 0.0389 - accuracy: 1.0000 - val_loss: 0.3020 - val_accuracy: 0.9441\n",
      "Epoch 145/500\n",
      "18/18 [==============================] - 0s 7ms/step - loss: 0.0389 - accuracy: 1.0000 - val_loss: 0.2602 - val_accuracy: 0.9650\n",
      "Epoch 146/500\n",
      "18/18 [==============================] - 0s 6ms/step - loss: 0.0393 - accuracy: 1.0000 - val_loss: 0.3635 - val_accuracy: 0.9441\n",
      "Epoch 147/500\n",
      "18/18 [==============================] - 0s 5ms/step - loss: 0.0390 - accuracy: 1.0000 - val_loss: 0.2529 - val_accuracy: 0.9720\n",
      "Epoch 148/500\n",
      "18/18 [==============================] - 0s 6ms/step - loss: 0.0471 - accuracy: 0.9965 - val_loss: 0.2830 - val_accuracy: 0.9441\n",
      "Epoch 149/500\n",
      "18/18 [==============================] - 0s 6ms/step - loss: 0.0512 - accuracy: 0.9947 - val_loss: 0.2037 - val_accuracy: 0.9720\n",
      "Epoch 150/500\n",
      "18/18 [==============================] - 0s 5ms/step - loss: 0.0455 - accuracy: 0.9982 - val_loss: 0.2822 - val_accuracy: 0.9510\n",
      "Epoch 151/500\n",
      "18/18 [==============================] - 0s 5ms/step - loss: 0.0471 - accuracy: 0.9982 - val_loss: 0.2313 - val_accuracy: 0.9720\n",
      "Epoch 152/500\n",
      "18/18 [==============================] - 0s 6ms/step - loss: 0.0422 - accuracy: 0.9982 - val_loss: 0.4858 - val_accuracy: 0.9371\n",
      "Epoch 153/500\n",
      "18/18 [==============================] - 0s 6ms/step - loss: 0.0481 - accuracy: 0.9965 - val_loss: 0.5504 - val_accuracy: 0.9091\n",
      "Epoch 154/500\n",
      "18/18 [==============================] - 0s 7ms/step - loss: 0.0716 - accuracy: 0.9877 - val_loss: 0.2381 - val_accuracy: 0.9510\n",
      "Epoch 155/500\n",
      "18/18 [==============================] - 0s 9ms/step - loss: 0.0891 - accuracy: 0.9842 - val_loss: 0.1814 - val_accuracy: 0.9720\n",
      "Epoch 156/500\n",
      "18/18 [==============================] - 0s 8ms/step - loss: 0.0514 - accuracy: 0.9982 - val_loss: 0.2223 - val_accuracy: 0.9510\n",
      "Epoch 157/500\n",
      "18/18 [==============================] - 0s 6ms/step - loss: 0.0443 - accuracy: 1.0000 - val_loss: 0.1962 - val_accuracy: 0.9580\n",
      "Epoch 158/500\n",
      "18/18 [==============================] - 0s 6ms/step - loss: 0.0421 - accuracy: 1.0000 - val_loss: 0.2305 - val_accuracy: 0.9510\n",
      "Epoch 159/500\n",
      "18/18 [==============================] - 1s 29ms/step - loss: 0.0417 - accuracy: 1.0000 - val_loss: 0.2470 - val_accuracy: 0.9580\n",
      "Epoch 160/500\n",
      "18/18 [==============================] - 0s 6ms/step - loss: 0.0401 - accuracy: 1.0000 - val_loss: 0.2469 - val_accuracy: 0.9510\n",
      "Epoch 161/500\n",
      "18/18 [==============================] - 0s 5ms/step - loss: 0.0410 - accuracy: 1.0000 - val_loss: 0.2664 - val_accuracy: 0.9580\n",
      "Epoch 162/500\n",
      "18/18 [==============================] - 0s 6ms/step - loss: 0.0407 - accuracy: 1.0000 - val_loss: 0.2609 - val_accuracy: 0.9510\n",
      "Epoch 163/500\n",
      "18/18 [==============================] - 0s 7ms/step - loss: 0.0399 - accuracy: 1.0000 - val_loss: 0.2701 - val_accuracy: 0.9510\n",
      "Epoch 164/500\n",
      "18/18 [==============================] - 0s 6ms/step - loss: 0.0395 - accuracy: 1.0000 - val_loss: 0.2274 - val_accuracy: 0.9510\n",
      "Epoch 165/500\n",
      "18/18 [==============================] - 0s 7ms/step - loss: 0.0391 - accuracy: 1.0000 - val_loss: 0.2374 - val_accuracy: 0.9510\n",
      "Epoch 166/500\n",
      "18/18 [==============================] - 0s 5ms/step - loss: 0.0398 - accuracy: 0.9982 - val_loss: 0.2103 - val_accuracy: 0.9790\n",
      "Epoch 167/500\n",
      "18/18 [==============================] - 0s 5ms/step - loss: 0.0399 - accuracy: 1.0000 - val_loss: 0.2353 - val_accuracy: 0.9580\n",
      "Epoch 168/500\n",
      "18/18 [==============================] - 0s 5ms/step - loss: 0.0390 - accuracy: 1.0000 - val_loss: 0.2995 - val_accuracy: 0.9441\n",
      "Epoch 169/500\n",
      "18/18 [==============================] - 0s 5ms/step - loss: 0.0393 - accuracy: 1.0000 - val_loss: 0.2086 - val_accuracy: 0.9720\n",
      "Epoch 170/500\n",
      "18/18 [==============================] - 0s 5ms/step - loss: 0.0383 - accuracy: 1.0000 - val_loss: 0.2447 - val_accuracy: 0.9580\n",
      "Epoch 171/500\n",
      "18/18 [==============================] - 0s 7ms/step - loss: 0.0377 - accuracy: 1.0000 - val_loss: 0.3202 - val_accuracy: 0.9441\n",
      "Epoch 172/500\n",
      "18/18 [==============================] - 0s 7ms/step - loss: 0.0378 - accuracy: 1.0000 - val_loss: 0.2444 - val_accuracy: 0.9510\n",
      "Epoch 173/500\n"
     ]
    },
    {
     "name": "stdout",
     "output_type": "stream",
     "text": [
      "18/18 [==============================] - 0s 5ms/step - loss: 0.0365 - accuracy: 1.0000 - val_loss: 0.2371 - val_accuracy: 0.9580\n",
      "Epoch 174/500\n",
      "18/18 [==============================] - 0s 4ms/step - loss: 0.0359 - accuracy: 1.0000 - val_loss: 0.2653 - val_accuracy: 0.9580\n",
      "Epoch 175/500\n",
      "18/18 [==============================] - 0s 6ms/step - loss: 0.0391 - accuracy: 0.9982 - val_loss: 0.2199 - val_accuracy: 0.9510\n",
      "Epoch 176/500\n",
      "18/18 [==============================] - 0s 6ms/step - loss: 0.0378 - accuracy: 1.0000 - val_loss: 0.2519 - val_accuracy: 0.9580\n",
      "Epoch 177/500\n",
      "18/18 [==============================] - 0s 7ms/step - loss: 0.0360 - accuracy: 1.0000 - val_loss: 0.1994 - val_accuracy: 0.9790\n",
      "Epoch 178/500\n",
      "18/18 [==============================] - 0s 6ms/step - loss: 0.0361 - accuracy: 1.0000 - val_loss: 0.2349 - val_accuracy: 0.9580\n",
      "Epoch 179/500\n",
      "18/18 [==============================] - 0s 7ms/step - loss: 0.0354 - accuracy: 1.0000 - val_loss: 0.2236 - val_accuracy: 0.9580\n",
      "Epoch 180/500\n",
      "18/18 [==============================] - 0s 7ms/step - loss: 0.0346 - accuracy: 1.0000 - val_loss: 0.2281 - val_accuracy: 0.9580\n",
      "Epoch 181/500\n",
      "18/18 [==============================] - 0s 7ms/step - loss: 0.0346 - accuracy: 1.0000 - val_loss: 0.2384 - val_accuracy: 0.9580\n",
      "Epoch 182/500\n",
      "18/18 [==============================] - 0s 7ms/step - loss: 0.0360 - accuracy: 1.0000 - val_loss: 0.1927 - val_accuracy: 0.9790\n",
      "Epoch 183/500\n",
      "18/18 [==============================] - 0s 5ms/step - loss: 0.0359 - accuracy: 1.0000 - val_loss: 0.1887 - val_accuracy: 0.9860\n",
      "Epoch 184/500\n",
      "18/18 [==============================] - 0s 7ms/step - loss: 0.0373 - accuracy: 0.9982 - val_loss: 0.2283 - val_accuracy: 0.9720\n",
      "Epoch 185/500\n",
      "18/18 [==============================] - 0s 8ms/step - loss: 0.0360 - accuracy: 1.0000 - val_loss: 0.1841 - val_accuracy: 0.9860\n",
      "Epoch 186/500\n",
      "18/18 [==============================] - 0s 8ms/step - loss: 0.0344 - accuracy: 1.0000 - val_loss: 0.2106 - val_accuracy: 0.9720\n",
      "Epoch 187/500\n",
      "18/18 [==============================] - 0s 8ms/step - loss: 0.0350 - accuracy: 1.0000 - val_loss: 0.1941 - val_accuracy: 0.9720\n",
      "Epoch 188/500\n",
      "18/18 [==============================] - 0s 6ms/step - loss: 0.0339 - accuracy: 1.0000 - val_loss: 0.2469 - val_accuracy: 0.9650\n",
      "Epoch 189/500\n",
      "18/18 [==============================] - 0s 6ms/step - loss: 0.0336 - accuracy: 1.0000 - val_loss: 0.2044 - val_accuracy: 0.9720\n",
      "Epoch 190/500\n",
      "18/18 [==============================] - 0s 6ms/step - loss: 0.0333 - accuracy: 1.0000 - val_loss: 0.2320 - val_accuracy: 0.9650\n",
      "Epoch 191/500\n",
      "18/18 [==============================] - 0s 6ms/step - loss: 0.0332 - accuracy: 1.0000 - val_loss: 0.2045 - val_accuracy: 0.9720\n",
      "Epoch 192/500\n",
      "18/18 [==============================] - 0s 6ms/step - loss: 0.0331 - accuracy: 1.0000 - val_loss: 0.2038 - val_accuracy: 0.9720\n",
      "Epoch 193/500\n",
      "18/18 [==============================] - 0s 6ms/step - loss: 0.0337 - accuracy: 1.0000 - val_loss: 0.2234 - val_accuracy: 0.9720\n",
      "Epoch 194/500\n",
      "18/18 [==============================] - 0s 6ms/step - loss: 0.0349 - accuracy: 1.0000 - val_loss: 0.1797 - val_accuracy: 0.9860\n",
      "Epoch 195/500\n",
      "18/18 [==============================] - 0s 7ms/step - loss: 0.0333 - accuracy: 1.0000 - val_loss: 0.2205 - val_accuracy: 0.9580\n",
      "Epoch 196/500\n",
      "18/18 [==============================] - 0s 8ms/step - loss: 0.0333 - accuracy: 1.0000 - val_loss: 0.2497 - val_accuracy: 0.9441\n",
      "Epoch 197/500\n",
      "18/18 [==============================] - 0s 8ms/step - loss: 0.0324 - accuracy: 1.0000 - val_loss: 0.2107 - val_accuracy: 0.9720\n",
      "Epoch 198/500\n",
      "18/18 [==============================] - 0s 6ms/step - loss: 0.0323 - accuracy: 1.0000 - val_loss: 0.1883 - val_accuracy: 0.9790\n",
      "Epoch 199/500\n",
      "18/18 [==============================] - 0s 5ms/step - loss: 0.0356 - accuracy: 0.9982 - val_loss: 0.4263 - val_accuracy: 0.9161\n",
      "Epoch 200/500\n",
      "18/18 [==============================] - 0s 4ms/step - loss: 0.0616 - accuracy: 0.9930 - val_loss: 0.1737 - val_accuracy: 0.9650\n",
      "Epoch 201/500\n",
      "18/18 [==============================] - 0s 5ms/step - loss: 0.0560 - accuracy: 0.9930 - val_loss: 0.1566 - val_accuracy: 0.9720\n",
      "Epoch 202/500\n",
      "18/18 [==============================] - 0s 5ms/step - loss: 0.0466 - accuracy: 0.9965 - val_loss: 0.2854 - val_accuracy: 0.9371\n",
      "Epoch 203/500\n",
      "18/18 [==============================] - 0s 5ms/step - loss: 0.0469 - accuracy: 0.9947 - val_loss: 0.3770 - val_accuracy: 0.9301\n",
      "Epoch 204/500\n",
      "18/18 [==============================] - 0s 8ms/step - loss: 0.0501 - accuracy: 0.9947 - val_loss: 0.3796 - val_accuracy: 0.9371\n",
      "Epoch 205/500\n",
      "18/18 [==============================] - 0s 6ms/step - loss: 0.0482 - accuracy: 0.9965 - val_loss: 0.1963 - val_accuracy: 0.9650\n",
      "Epoch 206/500\n",
      "18/18 [==============================] - 0s 5ms/step - loss: 0.0412 - accuracy: 0.9982 - val_loss: 0.1798 - val_accuracy: 0.9790\n",
      "Epoch 207/500\n",
      "18/18 [==============================] - 0s 5ms/step - loss: 0.0440 - accuracy: 0.9965 - val_loss: 0.2024 - val_accuracy: 0.9790\n",
      "Epoch 208/500\n",
      "18/18 [==============================] - 0s 5ms/step - loss: 0.0572 - accuracy: 0.9912 - val_loss: 0.2082 - val_accuracy: 0.9650\n",
      "Epoch 209/500\n",
      "18/18 [==============================] - 0s 4ms/step - loss: 0.1222 - accuracy: 0.9718 - val_loss: 0.2813 - val_accuracy: 0.9510\n",
      "Epoch 210/500\n",
      "18/18 [==============================] - 0s 5ms/step - loss: 0.0546 - accuracy: 0.9947 - val_loss: 0.3338 - val_accuracy: 0.9161\n",
      "Epoch 211/500\n",
      "18/18 [==============================] - 0s 4ms/step - loss: 0.0601 - accuracy: 0.9877 - val_loss: 0.2450 - val_accuracy: 0.9510\n",
      "Epoch 212/500\n",
      "18/18 [==============================] - 0s 4ms/step - loss: 0.0521 - accuracy: 0.9965 - val_loss: 0.1950 - val_accuracy: 0.9720\n",
      "Epoch 213/500\n",
      "18/18 [==============================] - 0s 5ms/step - loss: 0.0437 - accuracy: 0.9982 - val_loss: 0.2237 - val_accuracy: 0.9720\n",
      "Epoch 214/500\n",
      "18/18 [==============================] - 0s 5ms/step - loss: 0.0379 - accuracy: 1.0000 - val_loss: 0.1866 - val_accuracy: 0.9720\n",
      "Epoch 215/500\n",
      "18/18 [==============================] - 0s 5ms/step - loss: 0.0383 - accuracy: 1.0000 - val_loss: 0.2175 - val_accuracy: 0.9720\n",
      "Epoch 216/500\n",
      "18/18 [==============================] - 0s 7ms/step - loss: 0.0369 - accuracy: 1.0000 - val_loss: 0.2164 - val_accuracy: 0.9650\n",
      "Epoch 217/500\n",
      "18/18 [==============================] - 0s 5ms/step - loss: 0.0368 - accuracy: 1.0000 - val_loss: 0.2169 - val_accuracy: 0.9580\n",
      "Epoch 218/500\n",
      "18/18 [==============================] - 0s 5ms/step - loss: 0.0359 - accuracy: 1.0000 - val_loss: 0.2277 - val_accuracy: 0.9580\n",
      "Epoch 219/500\n",
      "18/18 [==============================] - 0s 5ms/step - loss: 0.0361 - accuracy: 1.0000 - val_loss: 0.2080 - val_accuracy: 0.9650\n",
      "Epoch 220/500\n",
      "18/18 [==============================] - 0s 5ms/step - loss: 0.0358 - accuracy: 1.0000 - val_loss: 0.2086 - val_accuracy: 0.9580\n",
      "Epoch 221/500\n",
      "18/18 [==============================] - 0s 5ms/step - loss: 0.0353 - accuracy: 1.0000 - val_loss: 0.2146 - val_accuracy: 0.9580\n",
      "Epoch 222/500\n",
      "18/18 [==============================] - 0s 6ms/step - loss: 0.0349 - accuracy: 1.0000 - val_loss: 0.1880 - val_accuracy: 0.9790\n",
      "Epoch 223/500\n",
      "18/18 [==============================] - 0s 6ms/step - loss: 0.0351 - accuracy: 1.0000 - val_loss: 0.2118 - val_accuracy: 0.9580\n",
      "Epoch 224/500\n",
      "18/18 [==============================] - 0s 5ms/step - loss: 0.0349 - accuracy: 1.0000 - val_loss: 0.1834 - val_accuracy: 0.9860\n",
      "Epoch 225/500\n",
      "18/18 [==============================] - 0s 5ms/step - loss: 0.0374 - accuracy: 0.9982 - val_loss: 0.1746 - val_accuracy: 0.9860\n",
      "Epoch 226/500\n",
      "18/18 [==============================] - 0s 6ms/step - loss: 0.0370 - accuracy: 1.0000 - val_loss: 0.2389 - val_accuracy: 0.9580\n",
      "Epoch 227/500\n",
      "18/18 [==============================] - 0s 6ms/step - loss: 0.0374 - accuracy: 1.0000 - val_loss: 0.2189 - val_accuracy: 0.9650\n",
      "Epoch 228/500\n",
      "18/18 [==============================] - 0s 5ms/step - loss: 0.0356 - accuracy: 1.0000 - val_loss: 0.2084 - val_accuracy: 0.9650\n",
      "Epoch 229/500\n",
      "18/18 [==============================] - 0s 5ms/step - loss: 0.0359 - accuracy: 1.0000 - val_loss: 0.2536 - val_accuracy: 0.9580\n",
      "Epoch 230/500\n",
      "18/18 [==============================] - 0s 5ms/step - loss: 0.0348 - accuracy: 1.0000 - val_loss: 0.1914 - val_accuracy: 0.9650\n",
      "Epoch 231/500\n",
      "18/18 [==============================] - 0s 6ms/step - loss: 0.0352 - accuracy: 1.0000 - val_loss: 0.3022 - val_accuracy: 0.9510\n",
      "Epoch 232/500\n",
      "18/18 [==============================] - 0s 7ms/step - loss: 0.0345 - accuracy: 1.0000 - val_loss: 0.2004 - val_accuracy: 0.9650\n",
      "Epoch 233/500\n",
      "18/18 [==============================] - 0s 8ms/step - loss: 0.0340 - accuracy: 1.0000 - val_loss: 0.2222 - val_accuracy: 0.9580\n",
      "Epoch 234/500\n",
      "18/18 [==============================] - 0s 7ms/step - loss: 0.0339 - accuracy: 1.0000 - val_loss: 0.2312 - val_accuracy: 0.9580\n",
      "Epoch 235/500\n",
      "18/18 [==============================] - 0s 7ms/step - loss: 0.0334 - accuracy: 1.0000 - val_loss: 0.2285 - val_accuracy: 0.9580\n",
      "Epoch 236/500\n",
      "18/18 [==============================] - 0s 5ms/step - loss: 0.0327 - accuracy: 1.0000 - val_loss: 0.2236 - val_accuracy: 0.9580\n",
      "Epoch 237/500\n",
      "18/18 [==============================] - 0s 5ms/step - loss: 0.0336 - accuracy: 1.0000 - val_loss: 0.2272 - val_accuracy: 0.9510\n",
      "Epoch 238/500\n",
      "18/18 [==============================] - 0s 5ms/step - loss: 0.0333 - accuracy: 1.0000 - val_loss: 0.2209 - val_accuracy: 0.9580\n",
      "Epoch 239/500\n",
      "18/18 [==============================] - 0s 5ms/step - loss: 0.0333 - accuracy: 1.0000 - val_loss: 0.2405 - val_accuracy: 0.9580\n",
      "Epoch 240/500\n",
      "18/18 [==============================] - 0s 6ms/step - loss: 0.0325 - accuracy: 1.0000 - val_loss: 0.1943 - val_accuracy: 0.9720\n",
      "Epoch 241/500\n",
      "18/18 [==============================] - 0s 8ms/step - loss: 0.0322 - accuracy: 1.0000 - val_loss: 0.2530 - val_accuracy: 0.9510\n",
      "Epoch 242/500\n",
      "18/18 [==============================] - 0s 8ms/step - loss: 0.0337 - accuracy: 1.0000 - val_loss: 0.2519 - val_accuracy: 0.9510\n",
      "Epoch 243/500\n",
      "18/18 [==============================] - 0s 6ms/step - loss: 0.0344 - accuracy: 1.0000 - val_loss: 0.1731 - val_accuracy: 0.9860\n",
      "Epoch 244/500\n",
      "18/18 [==============================] - 0s 5ms/step - loss: 0.0323 - accuracy: 1.0000 - val_loss: 0.2767 - val_accuracy: 0.9510\n",
      "Epoch 245/500\n",
      "18/18 [==============================] - 0s 5ms/step - loss: 0.0324 - accuracy: 1.0000 - val_loss: 0.2517 - val_accuracy: 0.9580\n",
      "Epoch 246/500\n",
      "18/18 [==============================] - 0s 5ms/step - loss: 0.0313 - accuracy: 1.0000 - val_loss: 0.2245 - val_accuracy: 0.9650\n",
      "Epoch 247/500\n",
      "18/18 [==============================] - 0s 5ms/step - loss: 0.0326 - accuracy: 1.0000 - val_loss: 0.2190 - val_accuracy: 0.9650\n",
      "Epoch 248/500\n",
      "18/18 [==============================] - 0s 5ms/step - loss: 0.0349 - accuracy: 0.9982 - val_loss: 0.2013 - val_accuracy: 0.9650\n",
      "Epoch 249/500\n",
      "18/18 [==============================] - 0s 6ms/step - loss: 0.0621 - accuracy: 0.9842 - val_loss: 0.3931 - val_accuracy: 0.9301\n",
      "Epoch 250/500\n",
      "18/18 [==============================] - 0s 6ms/step - loss: 0.0958 - accuracy: 0.9754 - val_loss: 0.2513 - val_accuracy: 0.9580\n",
      "Epoch 251/500\n",
      "18/18 [==============================] - 0s 6ms/step - loss: 0.0895 - accuracy: 0.9859 - val_loss: 0.1810 - val_accuracy: 0.9580\n",
      "Epoch 252/500\n",
      "18/18 [==============================] - 0s 5ms/step - loss: 0.0451 - accuracy: 0.9947 - val_loss: 0.1850 - val_accuracy: 0.9720\n",
      "Epoch 253/500\n",
      "18/18 [==============================] - 0s 7ms/step - loss: 0.0504 - accuracy: 0.9947 - val_loss: 0.1672 - val_accuracy: 0.9720\n",
      "Epoch 254/500\n",
      "18/18 [==============================] - 0s 7ms/step - loss: 0.0378 - accuracy: 1.0000 - val_loss: 0.1802 - val_accuracy: 0.9720\n",
      "Epoch 255/500\n",
      "18/18 [==============================] - 0s 7ms/step - loss: 0.0366 - accuracy: 1.0000 - val_loss: 0.1892 - val_accuracy: 0.9720\n",
      "Epoch 256/500\n",
      "18/18 [==============================] - 0s 5ms/step - loss: 0.0359 - accuracy: 1.0000 - val_loss: 0.1903 - val_accuracy: 0.9790\n",
      "Epoch 257/500\n",
      "18/18 [==============================] - 0s 8ms/step - loss: 0.0361 - accuracy: 1.0000 - val_loss: 0.1855 - val_accuracy: 0.9860\n",
      "Epoch 258/500\n",
      "18/18 [==============================] - 0s 6ms/step - loss: 0.0363 - accuracy: 0.9982 - val_loss: 0.1869 - val_accuracy: 0.9860\n",
      "Epoch 259/500\n",
      "18/18 [==============================] - 0s 7ms/step - loss: 0.0343 - accuracy: 1.0000 - val_loss: 0.1907 - val_accuracy: 0.9790\n",
      "Epoch 260/500\n",
      "18/18 [==============================] - 0s 7ms/step - loss: 0.0340 - accuracy: 1.0000 - val_loss: 0.1899 - val_accuracy: 0.9790\n",
      "Epoch 261/500\n",
      "18/18 [==============================] - 0s 5ms/step - loss: 0.0336 - accuracy: 1.0000 - val_loss: 0.2174 - val_accuracy: 0.9580\n",
      "Epoch 262/500\n",
      "18/18 [==============================] - 0s 11ms/step - loss: 0.0349 - accuracy: 1.0000 - val_loss: 0.2128 - val_accuracy: 0.9580\n",
      "Epoch 263/500\n",
      "18/18 [==============================] - 0s 7ms/step - loss: 0.0356 - accuracy: 0.9982 - val_loss: 0.1866 - val_accuracy: 0.9720\n",
      "Epoch 264/500\n",
      "18/18 [==============================] - 0s 10ms/step - loss: 0.0341 - accuracy: 1.0000 - val_loss: 0.2183 - val_accuracy: 0.9580\n",
      "Epoch 265/500\n",
      "18/18 [==============================] - 0s 9ms/step - loss: 0.0335 - accuracy: 1.0000 - val_loss: 0.1887 - val_accuracy: 0.9720\n",
      "Epoch 266/500\n",
      "18/18 [==============================] - 0s 7ms/step - loss: 0.0357 - accuracy: 1.0000 - val_loss: 0.1899 - val_accuracy: 0.9790\n",
      "Epoch 267/500\n",
      "18/18 [==============================] - 0s 4ms/step - loss: 0.0335 - accuracy: 1.0000 - val_loss: 0.1961 - val_accuracy: 0.9720\n",
      "Epoch 268/500\n",
      "18/18 [==============================] - 0s 4ms/step - loss: 0.0328 - accuracy: 1.0000 - val_loss: 0.1931 - val_accuracy: 0.9720\n",
      "Epoch 269/500\n",
      "18/18 [==============================] - 0s 4ms/step - loss: 0.0330 - accuracy: 1.0000 - val_loss: 0.2042 - val_accuracy: 0.9650\n",
      "Epoch 270/500\n",
      "18/18 [==============================] - 0s 5ms/step - loss: 0.0330 - accuracy: 1.0000 - val_loss: 0.2025 - val_accuracy: 0.9650\n",
      "Epoch 271/500\n",
      "18/18 [==============================] - 0s 7ms/step - loss: 0.0322 - accuracy: 1.0000 - val_loss: 0.2173 - val_accuracy: 0.9650\n",
      "Epoch 272/500\n",
      "18/18 [==============================] - 0s 5ms/step - loss: 0.0318 - accuracy: 1.0000 - val_loss: 0.2290 - val_accuracy: 0.9580\n",
      "Epoch 273/500\n",
      "18/18 [==============================] - 0s 5ms/step - loss: 0.0328 - accuracy: 1.0000 - val_loss: 0.2254 - val_accuracy: 0.9580\n",
      "Epoch 274/500\n",
      "18/18 [==============================] - 0s 5ms/step - loss: 0.0326 - accuracy: 1.0000 - val_loss: 0.2018 - val_accuracy: 0.9720\n",
      "Epoch 275/500\n",
      "18/18 [==============================] - 0s 4ms/step - loss: 0.0315 - accuracy: 1.0000 - val_loss: 0.2225 - val_accuracy: 0.9720\n",
      "Epoch 276/500\n",
      "18/18 [==============================] - 0s 7ms/step - loss: 0.0313 - accuracy: 1.0000 - val_loss: 0.2189 - val_accuracy: 0.9720\n",
      "Epoch 277/500\n",
      "18/18 [==============================] - 0s 8ms/step - loss: 0.0316 - accuracy: 1.0000 - val_loss: 0.1946 - val_accuracy: 0.9720\n",
      "Epoch 278/500\n",
      "18/18 [==============================] - 0s 7ms/step - loss: 0.0327 - accuracy: 1.0000 - val_loss: 0.2563 - val_accuracy: 0.9441\n",
      "Epoch 279/500\n",
      "18/18 [==============================] - 0s 7ms/step - loss: 0.0322 - accuracy: 1.0000 - val_loss: 0.1991 - val_accuracy: 0.9650\n",
      "Epoch 280/500\n",
      "18/18 [==============================] - 0s 9ms/step - loss: 0.0346 - accuracy: 0.9982 - val_loss: 0.3753 - val_accuracy: 0.9371\n",
      "Epoch 281/500\n",
      "18/18 [==============================] - 0s 10ms/step - loss: 0.0320 - accuracy: 1.0000 - val_loss: 0.1944 - val_accuracy: 0.9720\n",
      "Epoch 282/500\n",
      "18/18 [==============================] - 0s 4ms/step - loss: 0.0450 - accuracy: 0.9947 - val_loss: 0.1913 - val_accuracy: 0.9650\n",
      "Epoch 283/500\n",
      "18/18 [==============================] - 0s 5ms/step - loss: 0.0485 - accuracy: 0.9965 - val_loss: 0.1981 - val_accuracy: 0.9650\n",
      "Epoch 284/500\n",
      "18/18 [==============================] - 0s 10ms/step - loss: 0.0341 - accuracy: 1.0000 - val_loss: 0.1639 - val_accuracy: 0.9860\n",
      "Epoch 285/500\n",
      "18/18 [==============================] - 0s 10ms/step - loss: 0.0337 - accuracy: 1.0000 - val_loss: 0.2941 - val_accuracy: 0.9441\n",
      "Epoch 286/500\n",
      "18/18 [==============================] - 0s 4ms/step - loss: 0.0343 - accuracy: 1.0000 - val_loss: 0.1837 - val_accuracy: 0.9790\n",
      "Epoch 287/500\n"
     ]
    },
    {
     "name": "stdout",
     "output_type": "stream",
     "text": [
      "18/18 [==============================] - 0s 4ms/step - loss: 0.0319 - accuracy: 1.0000 - val_loss: 0.2127 - val_accuracy: 0.9650\n",
      "Epoch 288/500\n",
      "18/18 [==============================] - 0s 4ms/step - loss: 0.0326 - accuracy: 1.0000 - val_loss: 0.2077 - val_accuracy: 0.9720\n",
      "Epoch 289/500\n",
      "18/18 [==============================] - 0s 4ms/step - loss: 0.0318 - accuracy: 1.0000 - val_loss: 0.2251 - val_accuracy: 0.9580\n",
      "Epoch 290/500\n",
      "18/18 [==============================] - 0s 4ms/step - loss: 0.0326 - accuracy: 1.0000 - val_loss: 0.2056 - val_accuracy: 0.9720\n",
      "Epoch 291/500\n",
      "18/18 [==============================] - 0s 4ms/step - loss: 0.0325 - accuracy: 1.0000 - val_loss: 0.2326 - val_accuracy: 0.9580\n",
      "Epoch 292/500\n",
      "18/18 [==============================] - 0s 4ms/step - loss: 0.0345 - accuracy: 0.9982 - val_loss: 0.1764 - val_accuracy: 0.9860\n",
      "Epoch 293/500\n",
      "18/18 [==============================] - 0s 4ms/step - loss: 0.0367 - accuracy: 0.9965 - val_loss: 0.1786 - val_accuracy: 0.9790\n",
      "Epoch 294/500\n",
      "18/18 [==============================] - 0s 4ms/step - loss: 0.0381 - accuracy: 0.9982 - val_loss: 0.2144 - val_accuracy: 0.9580\n",
      "Epoch 295/500\n",
      "18/18 [==============================] - 0s 5ms/step - loss: 0.0382 - accuracy: 0.9965 - val_loss: 0.2409 - val_accuracy: 0.9580\n",
      "Epoch 296/500\n",
      "18/18 [==============================] - 0s 7ms/step - loss: 0.0344 - accuracy: 1.0000 - val_loss: 0.2816 - val_accuracy: 0.9441\n",
      "Epoch 297/500\n",
      "18/18 [==============================] - 0s 7ms/step - loss: 0.0315 - accuracy: 1.0000 - val_loss: 0.2779 - val_accuracy: 0.9580\n",
      "Epoch 298/500\n",
      "18/18 [==============================] - 0s 7ms/step - loss: 0.0390 - accuracy: 0.9965 - val_loss: 0.1867 - val_accuracy: 0.9720\n",
      "Epoch 299/500\n",
      "18/18 [==============================] - 0s 7ms/step - loss: 0.0319 - accuracy: 1.0000 - val_loss: 0.2827 - val_accuracy: 0.9441\n",
      "Epoch 300/500\n",
      "18/18 [==============================] - 0s 7ms/step - loss: 0.0316 - accuracy: 1.0000 - val_loss: 0.2231 - val_accuracy: 0.9650\n",
      "Epoch 301/500\n",
      "18/18 [==============================] - 0s 7ms/step - loss: 0.0307 - accuracy: 1.0000 - val_loss: 0.2382 - val_accuracy: 0.9580\n",
      "Epoch 302/500\n",
      "18/18 [==============================] - 0s 5ms/step - loss: 0.0310 - accuracy: 1.0000 - val_loss: 0.2328 - val_accuracy: 0.9580\n",
      "Epoch 303/500\n",
      "18/18 [==============================] - 0s 8ms/step - loss: 0.0310 - accuracy: 1.0000 - val_loss: 0.2021 - val_accuracy: 0.9720\n",
      "Epoch 304/500\n",
      "18/18 [==============================] - 0s 7ms/step - loss: 0.0304 - accuracy: 1.0000 - val_loss: 0.2259 - val_accuracy: 0.9720\n",
      "Epoch 305/500\n",
      "18/18 [==============================] - 0s 7ms/step - loss: 0.0307 - accuracy: 1.0000 - val_loss: 0.2084 - val_accuracy: 0.9720\n",
      "Epoch 306/500\n",
      "18/18 [==============================] - 0s 6ms/step - loss: 0.0319 - accuracy: 1.0000 - val_loss: 0.2003 - val_accuracy: 0.9720\n",
      "Epoch 307/500\n",
      "18/18 [==============================] - 0s 7ms/step - loss: 0.0343 - accuracy: 0.9965 - val_loss: 0.2645 - val_accuracy: 0.9371\n",
      "Epoch 308/500\n",
      "18/18 [==============================] - 0s 7ms/step - loss: 0.0361 - accuracy: 0.9982 - val_loss: 0.2323 - val_accuracy: 0.9580\n",
      "Epoch 309/500\n",
      "18/18 [==============================] - 0s 6ms/step - loss: 0.0571 - accuracy: 0.9912 - val_loss: 0.5317 - val_accuracy: 0.9091\n",
      "Epoch 310/500\n",
      "18/18 [==============================] - 0s 7ms/step - loss: 0.0913 - accuracy: 0.9824 - val_loss: 0.2389 - val_accuracy: 0.9441\n",
      "Epoch 311/500\n",
      "18/18 [==============================] - 0s 8ms/step - loss: 0.0571 - accuracy: 0.9912 - val_loss: 0.1874 - val_accuracy: 0.9650\n",
      "Epoch 312/500\n",
      "18/18 [==============================] - 0s 6ms/step - loss: 0.0450 - accuracy: 0.9965 - val_loss: 0.1820 - val_accuracy: 0.9580\n",
      "Epoch 313/500\n",
      "18/18 [==============================] - 0s 7ms/step - loss: 0.0544 - accuracy: 0.9947 - val_loss: 0.2235 - val_accuracy: 0.9580\n",
      "Epoch 314/500\n",
      "18/18 [==============================] - 0s 4ms/step - loss: 0.0378 - accuracy: 1.0000 - val_loss: 0.2884 - val_accuracy: 0.9441\n",
      "Epoch 315/500\n",
      "18/18 [==============================] - 0s 4ms/step - loss: 0.0352 - accuracy: 1.0000 - val_loss: 0.2244 - val_accuracy: 0.9580\n",
      "Epoch 316/500\n",
      "18/18 [==============================] - 0s 5ms/step - loss: 0.0349 - accuracy: 1.0000 - val_loss: 0.2525 - val_accuracy: 0.9580\n",
      "Epoch 317/500\n",
      "18/18 [==============================] - 0s 10ms/step - loss: 0.0343 - accuracy: 1.0000 - val_loss: 0.2056 - val_accuracy: 0.9580\n",
      "Epoch 318/500\n",
      "18/18 [==============================] - 0s 10ms/step - loss: 0.0334 - accuracy: 1.0000 - val_loss: 0.2425 - val_accuracy: 0.9580\n",
      "Epoch 319/500\n",
      "18/18 [==============================] - 0s 9ms/step - loss: 0.0331 - accuracy: 1.0000 - val_loss: 0.2192 - val_accuracy: 0.9580\n",
      "Epoch 320/500\n",
      "18/18 [==============================] - 0s 7ms/step - loss: 0.0329 - accuracy: 1.0000 - val_loss: 0.2206 - val_accuracy: 0.9580\n",
      "Epoch 321/500\n",
      "18/18 [==============================] - 0s 8ms/step - loss: 0.0327 - accuracy: 1.0000 - val_loss: 0.2266 - val_accuracy: 0.9580\n",
      "Epoch 322/500\n",
      "18/18 [==============================] - 0s 6ms/step - loss: 0.0316 - accuracy: 1.0000 - val_loss: 0.2342 - val_accuracy: 0.9580\n",
      "Epoch 323/500\n",
      "18/18 [==============================] - 0s 7ms/step - loss: 0.0318 - accuracy: 1.0000 - val_loss: 0.1881 - val_accuracy: 0.9650\n",
      "Epoch 324/500\n",
      "18/18 [==============================] - 0s 6ms/step - loss: 0.0321 - accuracy: 1.0000 - val_loss: 0.2850 - val_accuracy: 0.9510\n",
      "Epoch 325/500\n",
      "18/18 [==============================] - 0s 8ms/step - loss: 0.0311 - accuracy: 1.0000 - val_loss: 0.1989 - val_accuracy: 0.9650\n",
      "Epoch 326/500\n",
      "18/18 [==============================] - 0s 8ms/step - loss: 0.0315 - accuracy: 1.0000 - val_loss: 0.2130 - val_accuracy: 0.9580\n",
      "Epoch 327/500\n",
      "18/18 [==============================] - 0s 7ms/step - loss: 0.0312 - accuracy: 1.0000 - val_loss: 0.2170 - val_accuracy: 0.9580\n",
      "Epoch 328/500\n",
      "18/18 [==============================] - 0s 7ms/step - loss: 0.0325 - accuracy: 1.0000 - val_loss: 0.2858 - val_accuracy: 0.9510\n",
      "Epoch 329/500\n",
      "18/18 [==============================] - 0s 5ms/step - loss: 0.0311 - accuracy: 1.0000 - val_loss: 0.2411 - val_accuracy: 0.9510\n",
      "Epoch 330/500\n",
      "18/18 [==============================] - 0s 4ms/step - loss: 0.0316 - accuracy: 1.0000 - val_loss: 0.2531 - val_accuracy: 0.9510\n",
      "Epoch 331/500\n",
      "18/18 [==============================] - 0s 5ms/step - loss: 0.0322 - accuracy: 1.0000 - val_loss: 0.1849 - val_accuracy: 0.9790\n",
      "Epoch 332/500\n",
      "18/18 [==============================] - 0s 9ms/step - loss: 0.0399 - accuracy: 0.9965 - val_loss: 0.1744 - val_accuracy: 0.9720\n",
      "Epoch 333/500\n",
      "18/18 [==============================] - 0s 8ms/step - loss: 0.0416 - accuracy: 0.9947 - val_loss: 0.1730 - val_accuracy: 0.9720\n",
      "Epoch 334/500\n",
      "18/18 [==============================] - 0s 11ms/step - loss: 0.0380 - accuracy: 0.9965 - val_loss: 0.2108 - val_accuracy: 0.9580\n",
      "Epoch 335/500\n",
      "18/18 [==============================] - 0s 4ms/step - loss: 0.0546 - accuracy: 0.9912 - val_loss: 0.1744 - val_accuracy: 0.9790\n",
      "Epoch 336/500\n",
      "18/18 [==============================] - 0s 4ms/step - loss: 0.0361 - accuracy: 0.9982 - val_loss: 0.1710 - val_accuracy: 0.9720\n",
      "Epoch 337/500\n",
      "18/18 [==============================] - 0s 4ms/step - loss: 0.0338 - accuracy: 1.0000 - val_loss: 0.1718 - val_accuracy: 0.9720\n",
      "Epoch 338/500\n",
      "18/18 [==============================] - 0s 4ms/step - loss: 0.0322 - accuracy: 1.0000 - val_loss: 0.1819 - val_accuracy: 0.9720\n",
      "Epoch 339/500\n",
      "18/18 [==============================] - 0s 5ms/step - loss: 0.0314 - accuracy: 1.0000 - val_loss: 0.2043 - val_accuracy: 0.9650\n",
      "Epoch 340/500\n",
      "18/18 [==============================] - 0s 7ms/step - loss: 0.0312 - accuracy: 1.0000 - val_loss: 0.1832 - val_accuracy: 0.9650\n",
      "Epoch 341/500\n",
      "18/18 [==============================] - 0s 7ms/step - loss: 0.0317 - accuracy: 1.0000 - val_loss: 0.1881 - val_accuracy: 0.9650\n",
      "Epoch 342/500\n",
      "18/18 [==============================] - 0s 6ms/step - loss: 0.0308 - accuracy: 1.0000 - val_loss: 0.1860 - val_accuracy: 0.9650\n",
      "Epoch 343/500\n",
      "18/18 [==============================] - 0s 5ms/step - loss: 0.0312 - accuracy: 1.0000 - val_loss: 0.1733 - val_accuracy: 0.9790\n",
      "Epoch 344/500\n",
      "18/18 [==============================] - 0s 5ms/step - loss: 0.0309 - accuracy: 1.0000 - val_loss: 0.2218 - val_accuracy: 0.9510\n",
      "Epoch 345/500\n",
      "18/18 [==============================] - 0s 7ms/step - loss: 0.0304 - accuracy: 1.0000 - val_loss: 0.1704 - val_accuracy: 0.9790\n",
      "Epoch 346/500\n",
      "18/18 [==============================] - 0s 7ms/step - loss: 0.0303 - accuracy: 1.0000 - val_loss: 0.1858 - val_accuracy: 0.9650\n",
      "Epoch 347/500\n",
      "18/18 [==============================] - 0s 6ms/step - loss: 0.0358 - accuracy: 0.9965 - val_loss: 0.1736 - val_accuracy: 0.9790\n",
      "Epoch 348/500\n",
      "18/18 [==============================] - 0s 5ms/step - loss: 0.0385 - accuracy: 0.9965 - val_loss: 0.1758 - val_accuracy: 0.9720\n",
      "Epoch 349/500\n",
      "18/18 [==============================] - 0s 5ms/step - loss: 0.0486 - accuracy: 0.9947 - val_loss: 0.3033 - val_accuracy: 0.9441\n",
      "Epoch 350/500\n",
      "18/18 [==============================] - 0s 5ms/step - loss: 0.0370 - accuracy: 1.0000 - val_loss: 0.2554 - val_accuracy: 0.9510\n",
      "Epoch 351/500\n",
      "18/18 [==============================] - 0s 7ms/step - loss: 0.0426 - accuracy: 0.9965 - val_loss: 0.2095 - val_accuracy: 0.9650\n"
     ]
    }
   ],
   "source": [
    "history = model.fit(x_train, y_train, epochs=500, validation_split=0.2, callbacks=callback)"
   ]
  },
  {
   "cell_type": "code",
   "execution_count": 52,
   "metadata": {},
   "outputs": [
    {
     "data": {
      "text/plain": [
       "0.9903194112995072"
      ]
     },
     "execution_count": 52,
     "metadata": {},
     "output_type": "execute_result"
    }
   ],
   "source": [
    "np.mean(history.history[\"accuracy\"])"
   ]
  },
  {
   "cell_type": "code",
   "execution_count": 53,
   "metadata": {},
   "outputs": [
    {
     "data": {
      "text/plain": [
       "0.9536190292774103"
      ]
     },
     "execution_count": 53,
     "metadata": {},
     "output_type": "execute_result"
    }
   ],
   "source": [
    "np.mean(history.history[\"val_accuracy\"])"
   ]
  },
  {
   "cell_type": "code",
   "execution_count": 67,
   "metadata": {},
   "outputs": [
    {
     "name": "stdout",
     "output_type": "stream",
     "text": [
      "WARNING:tensorflow:From <ipython-input-67-df63d27dd71d>:1: Sequential.predict_classes (from tensorflow.python.keras.engine.sequential) is deprecated and will be removed after 2021-01-01.\n",
      "Instructions for updating:\n",
      "Please use instead:* `np.argmax(model.predict(x), axis=-1)`,   if your model does multi-class classification   (e.g. if it uses a `softmax` last-layer activation).* `(model.predict(x) > 0.5).astype(\"int32\")`,   if your model does binary classification   (e.g. if it uses a `sigmoid` last-layer activation).\n"
     ]
    },
    {
     "data": {
      "text/plain": [
       "0.9887640449438202"
      ]
     },
     "execution_count": 67,
     "metadata": {},
     "output_type": "execute_result"
    }
   ],
   "source": [
    "pre = model.predict_classes(x_test)\n",
    "accuracy_score(y_test, pre)"
   ]
  },
  {
   "cell_type": "code",
   "execution_count": 71,
   "metadata": {},
   "outputs": [],
   "source": [
    "# model.save('dnn.h5')"
   ]
  },
  {
   "cell_type": "code",
   "execution_count": 54,
   "metadata": {},
   "outputs": [
    {
     "data": {
      "image/png": "[encoded data removed]",
      "text/plain": [
       "<Figure size 432x288 with 1 Axes>"
      ]
     },
     "metadata": {
      "needs_background": "light"
     },
     "output_type": "display_data"
    }
   ],
   "source": [
    "plt.plot(history.history['accuracy'])\n",
    "plt.plot(history.history['val_accuracy'])\n",
    "plt.title('model accuracy')\n",
    "plt.ylabel('accuracy')\n",
    "plt.xlabel('epoch')\n",
    "plt.legend(['training', 'validation'], loc='upper left')\n",
    "plt.show()"
   ]
  },
  {
   "cell_type": "code",
   "execution_count": 55,
   "metadata": {},
   "outputs": [
    {
     "data": {
      "image/png": "[encoded data removed]",
      "text/plain": [
       "<Figure size 432x288 with 1 Axes>"
      ]
     },
     "metadata": {
      "needs_background": "light"
     },
     "output_type": "display_data"
    }
   ],
   "source": [
    "plt.plot(history.history['loss'])\n",
    "plt.plot(history.history['val_loss'])\n",
    "plt.title('model loss')\n",
    "plt.ylabel('loss')\n",
    "plt.xlabel('epoch')\n",
    "plt.legend(['training', 'validation'], loc='upper left')\n",
    "plt.show()"
   ]
  },
  {
   "cell_type": "code",
   "execution_count": 62,
   "metadata": {},
   "outputs": [],
   "source": [
    "# import pickle\n",
    "# with open(\"gb.pkl\", \"wb\") as file:\n",
    "#     pickle.dump(gb_clf, file)"
   ]
  },
  {
   "cell_type": "code",
   "execution_count": 63,
   "metadata": {},
   "outputs": [],
   "source": [
    "# x_train.to_csv('x_train.csv')\n",
    "# y_train.to_csv('y_train.csv')\n",
    "# x_test.to_csv('x_test.csv')\n",
    "# y_test.to_csv('y_test.csv')"
   ]
  },
  {
   "cell_type": "code",
   "execution_count": 72,
   "metadata": {},
   "outputs": [],
   "source": [
    "# Testing all the models on the test dataset.\n",
    "x_train = pd.read_csv('x_train.csv', index_col=0)\n",
    "y_train = pd.read_csv('y_train.csv', index_col=0)\n",
    "x_test = pd.read_csv('x_test.csv', index_col=0)\n",
    "y_test = pd.read_csv('y_test.csv', index_col=0)\n",
    "y_train = y_train.values.ravel()\n",
    "y_test = y_test.values.ravel()\n",
    "\n",
    "\n",
    "\n",
    "import pickle\n",
    "with open(\"svc.pkl\", 'rb') as file:\n",
    "    pickle_model_svc = pickle.load(file)\n",
    "svc_ac = accuracy_score(y_test, pickle_model_svc.predict(x_test))\n",
    "svc_precision = precision_score(y_test, pickle_model_svc.predict(x_test))\n",
    "svc_recall = recall_score(y_test, pickle_model_svc.predict(x_test))\n",
    "svc_f1 = f1_score(y_test, pickle_model_svc.predict(x_test))\n",
    "svc_fpr, svc_tpr, svc_thresholds = roc_curve(y_test, pickle_model_svc.predict(x_test)) \n",
    "svc_auc = auc(svc_fpr, svc_tpr)\n",
    "                          \n",
    "\n",
    "with open(\"rf.pkl\", 'rb') as file:\n",
    "    pickle_model_rf = pickle.load(file)\n",
    "rf_ac = accuracy_score(y_test, pickle_model_rf.predict(x_test))\n",
    "rf_precision = precision_score(y_test, pickle_model_rf.predict(x_test))\n",
    "rf_recall = recall_score(y_test, pickle_model_rf.predict(x_test))\n",
    "rf_f1 = f1_score(y_test, pickle_model_rf.predict(x_test))\n",
    "rf_fpr, rf_tpr, rf_thresholds = roc_curve(y_test, pickle_model_rf.predict(x_test)) \n",
    "rf_auc = auc(rf_fpr, rf_tpr)\n",
    "\n",
    "with open(\"lr.pkl\", 'rb') as file:\n",
    "    pickle_model_lr = pickle.load(file)\n",
    "lr_ac = accuracy_score(y_test, pickle_model_lr.predict(x_test))\n",
    "lr_precision = precision_score(y_test, pickle_model_lr.predict(x_test))\n",
    "lr_recall = recall_score(y_test, pickle_model_lr.predict(x_test))\n",
    "lr_f1 = f1_score(y_test, pickle_model_lr.predict(x_test))\n",
    "lr_fpr, lr_tpr, lr_thresholds = roc_curve(y_test, pickle_model_lr.predict(x_test)) \n",
    "lr_auc = auc(lr_fpr, lr_tpr)\n",
    "\n",
    "with open(\"gb.pkl\", 'rb') as file:\n",
    "    pickle_model_gb = pickle.load(file)\n",
    "gb_ac = accuracy_score(y_test, pickle_model_gb.predict(x_test))\n",
    "gb_precision = precision_score(y_test, pickle_model_gb.predict(x_test))\n",
    "gb_recall = recall_score(y_test, pickle_model_gb.predict(x_test))\n",
    "gb_f1 = f1_score(y_test, pickle_model_gb.predict(x_test))\n",
    "gb_fpr, gb_tpr, gb_thresholds = roc_curve(y_test, pickle_model_gb.predict(x_test)) \n",
    "gb_auc = auc(gb_fpr, gb_tpr)\n",
    "\n",
    "with open(\"dt.pkl\", 'rb') as file:\n",
    "    pickle_model_dt = pickle.load(file)\n",
    "dt_ac = accuracy_score(y_test, pickle_model_dt.predict(x_test))\n",
    "dt_precision = precision_score(y_test, pickle_model_dt.predict(x_test))\n",
    "dt_recall = recall_score(y_test, pickle_model_dt.predict(x_test))\n",
    "dt_f1 = f1_score(y_test, pickle_model_dt.predict(x_test))\n",
    "dt_fpr, dt_tpr, dt_thresholds = roc_curve(y_test, pickle_model_dt.predict(x_test)) \n",
    "dt_auc = auc(dt_fpr, dt_tpr)\n",
    "\n",
    "with open(\"knn.pkl\", 'rb') as file:\n",
    "    pickle_model_knn = pickle.load(file)\n",
    "knn_ac = accuracy_score(y_test, pickle_model_knn.predict(x_test))\n",
    "knn_precision = precision_score(y_test, pickle_model_knn.predict(x_test))\n",
    "knn_recall = recall_score(y_test, pickle_model_knn.predict(x_test))\n",
    "knn_f1 = f1_score(y_test, pickle_model_knn.predict(x_test))\n",
    "knn_fpr, knn_tpr, knn_thresholds = roc_curve(y_test, pickle_model_knn.predict(x_test)) \n",
    "knn_auc = auc(knn_fpr, knn_tpr)\n",
    "\n",
    "dnn_model = load_model('dnn.h5')\n",
    "dnn_pred = dnn_model.predict_classes(x_test)\n",
    "dnn_ac = accuracy_score(y_test, dnn_pred)\n",
    "dnn_precision = precision_score(y_test, dnn_pred)\n",
    "dnn_recall = recall_score(y_test, dnn_pred)\n",
    "dnn_f1 = f1_score(y_test, dnn_pred)\n",
    "dnn_fpr, dnn_tpr, dnn_thresholds = roc_curve(y_test, dnn_pred) \n",
    "dnn_auc = auc(dnn_fpr, dnn_tpr)"
   ]
  },
  {
   "cell_type": "code",
   "execution_count": 75,
   "metadata": {},
   "outputs": [
    {
     "data": {
      "text/html": [
       "<style  type=\"text/css\" >\n",
       "    #T_d9bb19ad_77e3_11eb_9f65_f5377067064brow0_col0 {\n",
       "            background:  lightblue;\n",
       "        }    #T_d9bb19ad_77e3_11eb_9f65_f5377067064brow0_col1 {\n",
       "            background:  lightblue;\n",
       "        }    #T_d9bb19ad_77e3_11eb_9f65_f5377067064brow0_col2 {\n",
       "            background:  lightblue;\n",
       "        }    #T_d9bb19ad_77e3_11eb_9f65_f5377067064brow0_col3 {\n",
       "            background:  lightblue;\n",
       "        }    #T_d9bb19ad_77e3_11eb_9f65_f5377067064brow0_col4 {\n",
       "            background:  lightblue;\n",
       "        }    #T_d9bb19ad_77e3_11eb_9f65_f5377067064brow0_col5 {\n",
       "            background:  lightblue;\n",
       "        }    #T_d9bb19ad_77e3_11eb_9f65_f5377067064brow2_col0 {\n",
       "            background:  lightblue;\n",
       "        }    #T_d9bb19ad_77e3_11eb_9f65_f5377067064brow2_col1 {\n",
       "            background:  lightblue;\n",
       "        }    #T_d9bb19ad_77e3_11eb_9f65_f5377067064brow2_col2 {\n",
       "            background:  lightblue;\n",
       "        }    #T_d9bb19ad_77e3_11eb_9f65_f5377067064brow2_col3 {\n",
       "            background:  lightblue;\n",
       "        }    #T_d9bb19ad_77e3_11eb_9f65_f5377067064brow2_col4 {\n",
       "            background:  lightblue;\n",
       "        }    #T_d9bb19ad_77e3_11eb_9f65_f5377067064brow2_col5 {\n",
       "            background:  lightblue;\n",
       "        }    #T_d9bb19ad_77e3_11eb_9f65_f5377067064brow5_col0 {\n",
       "            background:  lightblue;\n",
       "        }    #T_d9bb19ad_77e3_11eb_9f65_f5377067064brow5_col1 {\n",
       "            background:  lightblue;\n",
       "        }    #T_d9bb19ad_77e3_11eb_9f65_f5377067064brow5_col2 {\n",
       "            background:  lightblue;\n",
       "        }    #T_d9bb19ad_77e3_11eb_9f65_f5377067064brow5_col3 {\n",
       "            background:  lightblue;\n",
       "        }    #T_d9bb19ad_77e3_11eb_9f65_f5377067064brow5_col4 {\n",
       "            background:  lightblue;\n",
       "        }    #T_d9bb19ad_77e3_11eb_9f65_f5377067064brow5_col5 {\n",
       "            background:  lightblue;\n",
       "        }</style><table id=\"T_d9bb19ad_77e3_11eb_9f65_f5377067064b\" ><thead>    <tr>        <th class=\"blank level0\" ></th>        <th class=\"col_heading level0 col0\" >Models</th>        <th class=\"col_heading level0 col1\" >Accuracy</th>        <th class=\"col_heading level0 col2\" >Precision</th>        <th class=\"col_heading level0 col3\" >Recall</th>        <th class=\"col_heading level0 col4\" >F1</th>        <th class=\"col_heading level0 col5\" >AUC</th>    </tr></thead><tbody>\n",
       "                <tr>\n",
       "                        <th id=\"T_d9bb19ad_77e3_11eb_9f65_f5377067064blevel0_row0\" class=\"row_heading level0 row0\" >0</th>\n",
       "                        <td id=\"T_d9bb19ad_77e3_11eb_9f65_f5377067064brow0_col0\" class=\"data row0 col0\" >DNN</td>\n",
       "                        <td id=\"T_d9bb19ad_77e3_11eb_9f65_f5377067064brow0_col1\" class=\"data row0 col1\" >0.988764</td>\n",
       "                        <td id=\"T_d9bb19ad_77e3_11eb_9f65_f5377067064brow0_col2\" class=\"data row0 col2\" >0.988889</td>\n",
       "                        <td id=\"T_d9bb19ad_77e3_11eb_9f65_f5377067064brow0_col3\" class=\"data row0 col3\" >0.988889</td>\n",
       "                        <td id=\"T_d9bb19ad_77e3_11eb_9f65_f5377067064brow0_col4\" class=\"data row0 col4\" >0.988889</td>\n",
       "                        <td id=\"T_d9bb19ad_77e3_11eb_9f65_f5377067064brow0_col5\" class=\"data row0 col5\" >0.988763</td>\n",
       "            </tr>\n",
       "            <tr>\n",
       "                        <th id=\"T_d9bb19ad_77e3_11eb_9f65_f5377067064blevel0_row1\" class=\"row_heading level0 row1\" >1</th>\n",
       "                        <td id=\"T_d9bb19ad_77e3_11eb_9f65_f5377067064brow1_col0\" class=\"data row1 col0\" >Decision-Tree</td>\n",
       "                        <td id=\"T_d9bb19ad_77e3_11eb_9f65_f5377067064brow1_col1\" class=\"data row1 col1\" >0.932584</td>\n",
       "                        <td id=\"T_d9bb19ad_77e3_11eb_9f65_f5377067064brow1_col2\" class=\"data row1 col2\" >0.964286</td>\n",
       "                        <td id=\"T_d9bb19ad_77e3_11eb_9f65_f5377067064brow1_col3\" class=\"data row1 col3\" >0.900000</td>\n",
       "                        <td id=\"T_d9bb19ad_77e3_11eb_9f65_f5377067064brow1_col4\" class=\"data row1 col4\" >0.931034</td>\n",
       "                        <td id=\"T_d9bb19ad_77e3_11eb_9f65_f5377067064brow1_col5\" class=\"data row1 col5\" >0.932955</td>\n",
       "            </tr>\n",
       "            <tr>\n",
       "                        <th id=\"T_d9bb19ad_77e3_11eb_9f65_f5377067064blevel0_row2\" class=\"row_heading level0 row2\" >2</th>\n",
       "                        <td id=\"T_d9bb19ad_77e3_11eb_9f65_f5377067064brow2_col0\" class=\"data row2 col0\" >Gradient Boosting</td>\n",
       "                        <td id=\"T_d9bb19ad_77e3_11eb_9f65_f5377067064brow2_col1\" class=\"data row2 col1\" >0.988764</td>\n",
       "                        <td id=\"T_d9bb19ad_77e3_11eb_9f65_f5377067064brow2_col2\" class=\"data row2 col2\" >0.988889</td>\n",
       "                        <td id=\"T_d9bb19ad_77e3_11eb_9f65_f5377067064brow2_col3\" class=\"data row2 col3\" >0.988889</td>\n",
       "                        <td id=\"T_d9bb19ad_77e3_11eb_9f65_f5377067064brow2_col4\" class=\"data row2 col4\" >0.988889</td>\n",
       "                        <td id=\"T_d9bb19ad_77e3_11eb_9f65_f5377067064brow2_col5\" class=\"data row2 col5\" >0.988763</td>\n",
       "            </tr>\n",
       "            <tr>\n",
       "                        <th id=\"T_d9bb19ad_77e3_11eb_9f65_f5377067064blevel0_row3\" class=\"row_heading level0 row3\" >3</th>\n",
       "                        <td id=\"T_d9bb19ad_77e3_11eb_9f65_f5377067064brow3_col0\" class=\"data row3 col0\" >KNN</td>\n",
       "                        <td id=\"T_d9bb19ad_77e3_11eb_9f65_f5377067064brow3_col1\" class=\"data row3 col1\" >0.915730</td>\n",
       "                        <td id=\"T_d9bb19ad_77e3_11eb_9f65_f5377067064brow3_col2\" class=\"data row3 col2\" >0.864078</td>\n",
       "                        <td id=\"T_d9bb19ad_77e3_11eb_9f65_f5377067064brow3_col3\" class=\"data row3 col3\" >0.988889</td>\n",
       "                        <td id=\"T_d9bb19ad_77e3_11eb_9f65_f5377067064brow3_col4\" class=\"data row3 col4\" >0.922280</td>\n",
       "                        <td id=\"T_d9bb19ad_77e3_11eb_9f65_f5377067064brow3_col5\" class=\"data row3 col5\" >0.914899</td>\n",
       "            </tr>\n",
       "            <tr>\n",
       "                        <th id=\"T_d9bb19ad_77e3_11eb_9f65_f5377067064blevel0_row4\" class=\"row_heading level0 row4\" >4</th>\n",
       "                        <td id=\"T_d9bb19ad_77e3_11eb_9f65_f5377067064brow4_col0\" class=\"data row4 col0\" >Logistic Regression</td>\n",
       "                        <td id=\"T_d9bb19ad_77e3_11eb_9f65_f5377067064brow4_col1\" class=\"data row4 col1\" >0.983146</td>\n",
       "                        <td id=\"T_d9bb19ad_77e3_11eb_9f65_f5377067064brow4_col2\" class=\"data row4 col2\" >0.967742</td>\n",
       "                        <td id=\"T_d9bb19ad_77e3_11eb_9f65_f5377067064brow4_col3\" class=\"data row4 col3\" >1.000000</td>\n",
       "                        <td id=\"T_d9bb19ad_77e3_11eb_9f65_f5377067064brow4_col4\" class=\"data row4 col4\" >0.983607</td>\n",
       "                        <td id=\"T_d9bb19ad_77e3_11eb_9f65_f5377067064brow4_col5\" class=\"data row4 col5\" >0.982955</td>\n",
       "            </tr>\n",
       "            <tr>\n",
       "                        <th id=\"T_d9bb19ad_77e3_11eb_9f65_f5377067064blevel0_row5\" class=\"row_heading level0 row5\" >5</th>\n",
       "                        <td id=\"T_d9bb19ad_77e3_11eb_9f65_f5377067064brow5_col0\" class=\"data row5 col0\" >Random-Forest</td>\n",
       "                        <td id=\"T_d9bb19ad_77e3_11eb_9f65_f5377067064brow5_col1\" class=\"data row5 col1\" >0.988764</td>\n",
       "                        <td id=\"T_d9bb19ad_77e3_11eb_9f65_f5377067064brow5_col2\" class=\"data row5 col2\" >0.978261</td>\n",
       "                        <td id=\"T_d9bb19ad_77e3_11eb_9f65_f5377067064brow5_col3\" class=\"data row5 col3\" >1.000000</td>\n",
       "                        <td id=\"T_d9bb19ad_77e3_11eb_9f65_f5377067064brow5_col4\" class=\"data row5 col4\" >0.989011</td>\n",
       "                        <td id=\"T_d9bb19ad_77e3_11eb_9f65_f5377067064brow5_col5\" class=\"data row5 col5\" >0.988636</td>\n",
       "            </tr>\n",
       "            <tr>\n",
       "                        <th id=\"T_d9bb19ad_77e3_11eb_9f65_f5377067064blevel0_row6\" class=\"row_heading level0 row6\" >6</th>\n",
       "                        <td id=\"T_d9bb19ad_77e3_11eb_9f65_f5377067064brow6_col0\" class=\"data row6 col0\" >SVM</td>\n",
       "                        <td id=\"T_d9bb19ad_77e3_11eb_9f65_f5377067064brow6_col1\" class=\"data row6 col1\" >0.955056</td>\n",
       "                        <td id=\"T_d9bb19ad_77e3_11eb_9f65_f5377067064brow6_col2\" class=\"data row6 col2\" >0.936170</td>\n",
       "                        <td id=\"T_d9bb19ad_77e3_11eb_9f65_f5377067064brow6_col3\" class=\"data row6 col3\" >0.977778</td>\n",
       "                        <td id=\"T_d9bb19ad_77e3_11eb_9f65_f5377067064brow6_col4\" class=\"data row6 col4\" >0.956522</td>\n",
       "                        <td id=\"T_d9bb19ad_77e3_11eb_9f65_f5377067064brow6_col5\" class=\"data row6 col5\" >0.954798</td>\n",
       "            </tr>\n",
       "    </tbody></table>"
      ],
      "text/plain": [
       "<pandas.io.formats.style.Styler at 0x2d544397580>"
      ]
     },
     "metadata": {},
     "output_type": "display_data"
    }
   ],
   "source": [
    "# Showing the results of all the models in tabular form.\n",
    "# Here, 'AUC' is considered as metric for model evaluation.\n",
    "all_accuracy = [dnn_ac, dt_ac, gb_ac, knn_ac, lr_ac, rf_ac, svc_ac]\n",
    "all_precision = [dnn_precision, dt_precision, gb_precision, knn_precision, lr_precision, rf_precision, svc_precision]\n",
    "all_recall = [dnn_recall, dt_recall, gb_recall, knn_recall, lr_recall, rf_recall, svc_recall]\n",
    "all_f1 = [dnn_f1, dt_f1, gb_f1, knn_f1, lr_f1, rf_f1, svc_f1]\n",
    "all_auc = [dnn_auc, dt_auc, gb_auc, knn_auc, lr_auc, rf_auc, svc_auc]\n",
    "models = [\"DNN\", \"Decision-Tree\", \"Gradient Boosting\", \"KNN\", \"Logistic Regression\", \"Random-Forest\", \"SVM\"]\n",
    "data = {'Models':models, 'Accuracy':all_accuracy, \"Precision\":all_precision, \"Recall\":all_recall, \"F1\":all_f1, \"AUC\":all_auc}\n",
    "dfg = pd.DataFrame(data, columns=['Models',\"Accuracy\", \"Precision\", \"Recall\", \"F1\", \"AUC\"])\n",
    "display(dfg.style.apply(lambda x: ['background: lightblue' if i == max(dfg[\"Accuracy\"]) else '' for i in dfg[\"Accuracy\"]]))"
   ]
  },
  {
   "cell_type": "code",
   "execution_count": null,
   "metadata": {},
   "outputs": [],
   "source": []
  }
 ],
 "metadata": {
  "kernelspec": {
   "display_name": "Python 3",
   "language": "python",
   "name": "python3"
  },
  "language_info": {
   "codemirror_mode": {
    "name": "ipython",
    "version": 3
   },
   "file_extension": ".py",
   "mimetype": "text/x-python",
   "name": "python",
   "nbconvert_exporter": "python",
   "pygments_lexer": "ipython3",
   "version": "3.8.3"
  }
 },
 "nbformat": 4,
 "nbformat_minor": 4
}
