{
 "cells": [
  {
   "cell_type": "markdown",
   "metadata": {},
   "source": [
    "<h2>Importing Libraries</h2>"
   ]
  },
  {
   "cell_type": "code",
   "execution_count": 1,
   "metadata": {},
   "outputs": [],
   "source": [
    "import pandas as pd\n",
    "import numpy as np\n",
    "from sklearn.ensemble import RandomForestClassifier\n",
    "from sklearn.tree import DecisionTreeClassifier\n",
    "from sklearn.neighbors import KNeighborsClassifier\n",
    "from sklearn.ensemble import GradientBoostingClassifier\n",
    "from sklearn.metrics import accuracy_score, precision_score, recall_score, auc, f1_score, roc_curve\n",
    "from tensorflow.keras.models import load_model\n",
    "import matplotlib.pyplot as plt"
   ]
  },
  {
   "cell_type": "markdown",
   "metadata": {},
   "source": [
    "<h2>Data Preparation</h2>"
   ]
  },
  {
   "cell_type": "code",
   "execution_count": 2,
   "metadata": {},
   "outputs": [
    {
     "data": {
      "text/html": [
       "<div>\n",
       "<style scoped>\n",
       "    .dataframe tbody tr th:only-of-type {\n",
       "        vertical-align: middle;\n",
       "    }\n",
       "\n",
       "    .dataframe tbody tr th {\n",
       "        vertical-align: top;\n",
       "    }\n",
       "\n",
       "    .dataframe thead th {\n",
       "        text-align: right;\n",
       "    }\n",
       "</style>\n",
       "<table border=\"1\" class=\"dataframe\">\n",
       "  <thead>\n",
       "    <tr style=\"text-align: right;\">\n",
       "      <th></th>\n",
       "      <th>PubchemFP0</th>\n",
       "      <th>PubchemFP1</th>\n",
       "      <th>PubchemFP2</th>\n",
       "      <th>PubchemFP3</th>\n",
       "      <th>PubchemFP4</th>\n",
       "      <th>PubchemFP5</th>\n",
       "      <th>PubchemFP6</th>\n",
       "      <th>PubchemFP7</th>\n",
       "      <th>PubchemFP8</th>\n",
       "      <th>PubchemFP9</th>\n",
       "      <th>...</th>\n",
       "      <th>PubchemFP872</th>\n",
       "      <th>PubchemFP873</th>\n",
       "      <th>PubchemFP874</th>\n",
       "      <th>PubchemFP875</th>\n",
       "      <th>PubchemFP876</th>\n",
       "      <th>PubchemFP877</th>\n",
       "      <th>PubchemFP878</th>\n",
       "      <th>PubchemFP879</th>\n",
       "      <th>PubchemFP880</th>\n",
       "      <th>bioactivity_class</th>\n",
       "    </tr>\n",
       "  </thead>\n",
       "  <tbody>\n",
       "    <tr>\n",
       "      <th>0</th>\n",
       "      <td>1</td>\n",
       "      <td>1</td>\n",
       "      <td>1</td>\n",
       "      <td>0</td>\n",
       "      <td>0</td>\n",
       "      <td>0</td>\n",
       "      <td>0</td>\n",
       "      <td>0</td>\n",
       "      <td>0</td>\n",
       "      <td>1</td>\n",
       "      <td>...</td>\n",
       "      <td>0</td>\n",
       "      <td>0</td>\n",
       "      <td>0</td>\n",
       "      <td>0</td>\n",
       "      <td>0</td>\n",
       "      <td>0</td>\n",
       "      <td>0</td>\n",
       "      <td>0</td>\n",
       "      <td>0</td>\n",
       "      <td>active</td>\n",
       "    </tr>\n",
       "    <tr>\n",
       "      <th>1</th>\n",
       "      <td>1</td>\n",
       "      <td>1</td>\n",
       "      <td>1</td>\n",
       "      <td>1</td>\n",
       "      <td>0</td>\n",
       "      <td>0</td>\n",
       "      <td>0</td>\n",
       "      <td>0</td>\n",
       "      <td>0</td>\n",
       "      <td>1</td>\n",
       "      <td>...</td>\n",
       "      <td>0</td>\n",
       "      <td>0</td>\n",
       "      <td>0</td>\n",
       "      <td>0</td>\n",
       "      <td>0</td>\n",
       "      <td>0</td>\n",
       "      <td>0</td>\n",
       "      <td>0</td>\n",
       "      <td>0</td>\n",
       "      <td>active</td>\n",
       "    </tr>\n",
       "    <tr>\n",
       "      <th>2</th>\n",
       "      <td>1</td>\n",
       "      <td>1</td>\n",
       "      <td>1</td>\n",
       "      <td>0</td>\n",
       "      <td>0</td>\n",
       "      <td>0</td>\n",
       "      <td>0</td>\n",
       "      <td>0</td>\n",
       "      <td>0</td>\n",
       "      <td>1</td>\n",
       "      <td>...</td>\n",
       "      <td>0</td>\n",
       "      <td>0</td>\n",
       "      <td>0</td>\n",
       "      <td>0</td>\n",
       "      <td>0</td>\n",
       "      <td>0</td>\n",
       "      <td>0</td>\n",
       "      <td>0</td>\n",
       "      <td>0</td>\n",
       "      <td>active</td>\n",
       "    </tr>\n",
       "    <tr>\n",
       "      <th>3</th>\n",
       "      <td>1</td>\n",
       "      <td>1</td>\n",
       "      <td>1</td>\n",
       "      <td>0</td>\n",
       "      <td>0</td>\n",
       "      <td>0</td>\n",
       "      <td>0</td>\n",
       "      <td>0</td>\n",
       "      <td>0</td>\n",
       "      <td>1</td>\n",
       "      <td>...</td>\n",
       "      <td>0</td>\n",
       "      <td>0</td>\n",
       "      <td>0</td>\n",
       "      <td>0</td>\n",
       "      <td>0</td>\n",
       "      <td>0</td>\n",
       "      <td>0</td>\n",
       "      <td>0</td>\n",
       "      <td>0</td>\n",
       "      <td>active</td>\n",
       "    </tr>\n",
       "    <tr>\n",
       "      <th>4</th>\n",
       "      <td>1</td>\n",
       "      <td>1</td>\n",
       "      <td>1</td>\n",
       "      <td>0</td>\n",
       "      <td>0</td>\n",
       "      <td>0</td>\n",
       "      <td>0</td>\n",
       "      <td>0</td>\n",
       "      <td>0</td>\n",
       "      <td>1</td>\n",
       "      <td>...</td>\n",
       "      <td>0</td>\n",
       "      <td>0</td>\n",
       "      <td>0</td>\n",
       "      <td>0</td>\n",
       "      <td>0</td>\n",
       "      <td>0</td>\n",
       "      <td>0</td>\n",
       "      <td>0</td>\n",
       "      <td>0</td>\n",
       "      <td>active</td>\n",
       "    </tr>\n",
       "  </tbody>\n",
       "</table>\n",
       "<p>5 rows × 882 columns</p>\n",
       "</div>"
      ],
      "text/plain": [
       "   PubchemFP0  PubchemFP1  PubchemFP2  PubchemFP3  PubchemFP4  PubchemFP5  \\\n",
       "0           1           1           1           0           0           0   \n",
       "1           1           1           1           1           0           0   \n",
       "2           1           1           1           0           0           0   \n",
       "3           1           1           1           0           0           0   \n",
       "4           1           1           1           0           0           0   \n",
       "\n",
       "   PubchemFP6  PubchemFP7  PubchemFP8  PubchemFP9  ...  PubchemFP872  \\\n",
       "0           0           0           0           1  ...             0   \n",
       "1           0           0           0           1  ...             0   \n",
       "2           0           0           0           1  ...             0   \n",
       "3           0           0           0           1  ...             0   \n",
       "4           0           0           0           1  ...             0   \n",
       "\n",
       "   PubchemFP873  PubchemFP874  PubchemFP875  PubchemFP876  PubchemFP877  \\\n",
       "0             0             0             0             0             0   \n",
       "1             0             0             0             0             0   \n",
       "2             0             0             0             0             0   \n",
       "3             0             0             0             0             0   \n",
       "4             0             0             0             0             0   \n",
       "\n",
       "   PubchemFP878  PubchemFP879  PubchemFP880  bioactivity_class  \n",
       "0             0             0             0             active  \n",
       "1             0             0             0             active  \n",
       "2             0             0             0             active  \n",
       "3             0             0             0             active  \n",
       "4             0             0             0             active  \n",
       "\n",
       "[5 rows x 882 columns]"
      ]
     },
     "execution_count": 2,
     "metadata": {},
     "output_type": "execute_result"
    }
   ],
   "source": [
    "# Reading the csv file.\n",
    "df = pd.read_csv('CHEMBL2842_mTOR_2class_pubchem_fp.csv')\n",
    "df.head()"
   ]
  },
  {
   "cell_type": "markdown",
   "metadata": {},
   "source": [
    "<h2>Data Cleaning</h2>"
   ]
  },
  {
   "cell_type": "code",
   "execution_count": 4,
   "metadata": {},
   "outputs": [
    {
     "data": {
      "text/plain": [
       "PubchemFP0           0\n",
       "PubchemFP1           0\n",
       "PubchemFP2           0\n",
       "PubchemFP3           0\n",
       "PubchemFP4           0\n",
       "                    ..\n",
       "PubchemFP877         0\n",
       "PubchemFP878         0\n",
       "PubchemFP879         0\n",
       "PubchemFP880         0\n",
       "bioactivity_class    0\n",
       "Length: 882, dtype: int64"
      ]
     },
     "execution_count": 4,
     "metadata": {},
     "output_type": "execute_result"
    }
   ],
   "source": [
    "df.isna().sum()"
   ]
  },
  {
   "cell_type": "code",
   "execution_count": 5,
   "metadata": {},
   "outputs": [
    {
     "data": {
      "text/plain": [
       "PubchemFP0           0\n",
       "PubchemFP1           0\n",
       "PubchemFP2           0\n",
       "PubchemFP3           0\n",
       "PubchemFP4           0\n",
       "                    ..\n",
       "PubchemFP877         0\n",
       "PubchemFP878         0\n",
       "PubchemFP879         0\n",
       "PubchemFP880         0\n",
       "bioactivity_class    0\n",
       "Length: 882, dtype: int64"
      ]
     },
     "execution_count": 5,
     "metadata": {},
     "output_type": "execute_result"
    }
   ],
   "source": [
    "df.isnull().sum()"
   ]
  },
  {
   "cell_type": "code",
   "execution_count": 6,
   "metadata": {},
   "outputs": [
    {
     "data": {
      "text/plain": [
       "(1326, 882)"
      ]
     },
     "execution_count": 6,
     "metadata": {},
     "output_type": "execute_result"
    }
   ],
   "source": [
    "df.shape"
   ]
  },
  {
   "cell_type": "code",
   "execution_count": 7,
   "metadata": {},
   "outputs": [
    {
     "data": {
      "text/plain": [
       "inactive    664\n",
       "active      662\n",
       "Name: bioactivity_class, dtype: int64"
      ]
     },
     "execution_count": 7,
     "metadata": {},
     "output_type": "execute_result"
    }
   ],
   "source": [
    "df['bioactivity_class'].value_counts()"
   ]
  },
  {
   "cell_type": "code",
   "execution_count": 8,
   "metadata": {},
   "outputs": [],
   "source": [
    "# Train-Test split\n",
    "x = df.iloc[:,:881]\n",
    "y = pd.get_dummies(df['bioactivity_class'])['active']\n",
    "from sklearn.model_selection import train_test_split\n",
    "x_train, x_test, y_train, y_test = train_test_split(x, y, test_size=0.2, stratify=y, random_state=42, shuffle=True)"
   ]
  },
  {
   "cell_type": "code",
   "execution_count": 9,
   "metadata": {},
   "outputs": [
    {
     "data": {
      "text/plain": [
       "(1060, 881)"
      ]
     },
     "execution_count": 9,
     "metadata": {},
     "output_type": "execute_result"
    }
   ],
   "source": [
    "x_train.shape"
   ]
  },
  {
   "cell_type": "code",
   "execution_count": 10,
   "metadata": {},
   "outputs": [
    {
     "data": {
      "text/plain": [
       "(1060,)"
      ]
     },
     "execution_count": 10,
     "metadata": {},
     "output_type": "execute_result"
    }
   ],
   "source": [
    "y_train.shape"
   ]
  },
  {
   "cell_type": "code",
   "execution_count": 11,
   "metadata": {},
   "outputs": [
    {
     "data": {
      "text/plain": [
       "(266, 881)"
      ]
     },
     "execution_count": 11,
     "metadata": {},
     "output_type": "execute_result"
    }
   ],
   "source": [
    "x_test.shape"
   ]
  },
  {
   "cell_type": "code",
   "execution_count": 12,
   "metadata": {},
   "outputs": [
    {
     "data": {
      "text/plain": [
       "(266,)"
      ]
     },
     "execution_count": 12,
     "metadata": {},
     "output_type": "execute_result"
    }
   ],
   "source": [
    "y_test.shape"
   ]
  },
  {
   "cell_type": "markdown",
   "metadata": {},
   "source": [
    "<h2>Data Modeling</h2>"
   ]
  },
  {
   "cell_type": "code",
   "execution_count": 55,
   "metadata": {},
   "outputs": [
    {
     "name": "stdout",
     "output_type": "stream",
     "text": [
      "Best Parameter for KNN, k = 11.0\n"
     ]
    },
    {
     "data": {
      "image/png": "[encoded data removed]",
      "text/plain": [
       "<Figure size 432x288 with 1 Axes>"
      ]
     },
     "metadata": {
      "needs_background": "light"
     },
     "output_type": "display_data"
    }
   ],
   "source": [
    "# KNN\n",
    "# Hyper-tunning the 'n_neighbors' parameter\n",
    "neighbors = list(range(1,21,1))\n",
    "knn_accuracy_test = []\n",
    "knn_accuracy_train = []\n",
    "knn_df = pd.DataFrame(columns=['n_neighbors', 'test_Accuracy', 'train_accuracy'])\n",
    "for i in neighbors:\n",
    "    knn_clf = KNeighborsClassifier(n_neighbors=i)\n",
    "    knn_clf.fit(x_train, y_train)\n",
    "    knn_pred = knn_clf.predict(x_test)\n",
    "    knn_acc = accuracy_score(y_test, knn_pred)\n",
    "    knn_accuracy_test.append(knn_acc)\n",
    "    knn_pred = knn_clf.predict(x_train)\n",
    "    knn_acc = accuracy_score(y_train, knn_pred)\n",
    "    knn_accuracy_train.append(knn_acc)\n",
    "    \n",
    "knn_df['n_neighbors'] = neighbors\n",
    "knn_df['test_Accuracy'] = knn_accuracy_test\n",
    "knn_df['train_accuracy'] = knn_accuracy_train\n",
    "knn_df['difference'] = abs(knn_df['test_Accuracy'].values - knn_df['train_accuracy'].values)\n",
    "knndf = knn_df[knn_df.iloc[:,1]<knn_df.iloc[:,2]]\n",
    "k_best, k_accu_best = knndf.sort_values(['difference', 'test_Accuracy'], ascending=[True, False]).head(1)[['n_neighbors', 'test_Accuracy']].values[0]\n",
    "print(\"Best Parameter for KNN, k =\", k_best)\n",
    "plt.plot(neighbors, knn_accuracy_test, label='test data', marker='o')\n",
    "plt.plot(neighbors, knn_accuracy_train, label='train data', marker='o')\n",
    "plt.plot(k_best, k_accu_best, marker='o', color='red')\n",
    "plt.grid() \n",
    "plt.xlabel(\"Number of Neighbors\")\n",
    "plt.ylabel(\"Accuracy\")\n",
    "plt.title(\"For K-Nearest Neighbors\")\n",
    "plt.legend(loc='upper right')\n",
    "plt.show()"
   ]
  },
  {
   "cell_type": "code",
   "execution_count": 15,
   "metadata": {},
   "outputs": [
    {
     "data": {
      "text/plain": [
       "0.9624060150375939"
      ]
     },
     "execution_count": 15,
     "metadata": {},
     "output_type": "execute_result"
    }
   ],
   "source": [
    "knn_clf = KNeighborsClassifier(n_neighbors=4)\n",
    "knn_clf.fit(x_train, y_train)\n",
    "knn_pred = knn_clf.predict(x_test)\n",
    "knn_acc = accuracy_score(y_test, knn_pred)\n",
    "knn_acc"
   ]
  },
  {
   "cell_type": "code",
   "execution_count": 54,
   "metadata": {},
   "outputs": [
    {
     "name": "stdout",
     "output_type": "stream",
     "text": [
      "Best Parameter for Support Vector Machine(SVC) =  [kernel = scale, gamma = sigmoid]\n"
     ]
    },
    {
     "data": {
      "image/png": "[encoded data removed]",
      "text/plain": [
       "<Figure size 432x288 with 1 Axes>"
      ]
     },
     "metadata": {
      "needs_background": "light"
     },
     "output_type": "display_data"
    }
   ],
   "source": [
    "# Support Vector Classifier(SVC)\n",
    "from sklearn.svm import SVC\n",
    "# Hyper-tunning the 'kernel' and 'gamma' parameter\n",
    "svc_dict = {'auto': ['linear'], 'scale': ['linear', 'poly', 'rbf', 'sigmoid']}\n",
    "svc_accuracy_test = []\n",
    "svc_accuracy_train = []\n",
    "svc_df = pd.DataFrame(columns=['Parameters', 'test_Accuracy', 'train_Accuracy'])\n",
    "parameter = []\n",
    "cnt = []\n",
    "count = 0\n",
    "for i in svc_dict:\n",
    "    for j in svc_dict[i]:\n",
    "        count+=1\n",
    "        svc_clf = SVC(kernel=j, gamma=i, random_state=100)\n",
    "        svc_clf.fit(x_train, y_train)\n",
    "        svc_pred = svc_clf.predict(x_test)\n",
    "        svc_acc = accuracy_score(y_test, svc_pred)\n",
    "        svc_accuracy_test.append(svc_acc)\n",
    "        svc_pred = svc_clf.predict(x_train)\n",
    "        svc_acc = accuracy_score(y_train, svc_pred)\n",
    "        svc_accuracy_train.append(svc_acc)\n",
    "        cnt.append(count)\n",
    "        para = '[kernel = '+str(i)+', gamma = '+str(j)+']'\n",
    "        parameter.append(para)\n",
    "svc_df['Parameters'] = parameter\n",
    "svc_df['test_Accuracy'] = svc_accuracy_test\n",
    "svc_df['train_Accuracy'] = svc_accuracy_train\n",
    "svc_df['difference'] = abs(svc_df['test_Accuracy'] - svc_df['train_Accuracy'])\n",
    "svc_df[\"count\"] = cnt\n",
    "svcdf = svc_df[svc_df.iloc[:,1]<svc_df.iloc[:,2]]\n",
    "svc_best, svc_accu_best, best_para = svcdf.sort_values(['difference', 'test_Accuracy'], ascending=[True, False]).head(1)[['count', 'test_Accuracy', 'Parameters']].values[0]\n",
    "print('Best Parameter for Support Vector Machine(SVC) = ', best_para)\n",
    "plt.plot(cnt, svc_accuracy_test, label='test_data', marker ='o')\n",
    "plt.plot(cnt, svc_accuracy_train, label='train_data', marker='o')\n",
    "plt.plot(svc_best, svc_accu_best, marker='o', color='red')\n",
    "plt.grid()\n",
    "plt.xlabel(\"Various Parameters\")\n",
    "plt.ylabel(\"Accuracy\")\n",
    "plt.title(\"For SVC\")\n",
    "plt.legend(loc='upper left')\n",
    "plt.show()"
   ]
  },
  {
   "cell_type": "code",
   "execution_count": 19,
   "metadata": {},
   "outputs": [
    {
     "data": {
      "text/plain": [
       "0.9661654135338346"
      ]
     },
     "execution_count": 19,
     "metadata": {},
     "output_type": "execute_result"
    }
   ],
   "source": [
    "svc_clf = SVC(kernel='poly', random_state=100)\n",
    "svc_clf.fit(x_train, y_train)\n",
    "svc_pred = svc_clf.predict(x_test)\n",
    "svc_acc = accuracy_score(y_test, svc_pred)\n",
    "svc_acc"
   ]
  },
  {
   "cell_type": "code",
   "execution_count": 53,
   "metadata": {},
   "outputs": [
    {
     "name": "stderr",
     "output_type": "stream",
     "text": [
      "c:\\users\\ayush\\appdata\\local\\programs\\python\\python38\\lib\\site-packages\\sklearn\\linear_model\\_sag.py:329: ConvergenceWarning: The max_iter was reached which means the coef_ did not converge\n",
      "  warnings.warn(\"The max_iter was reached which means \"\n",
      "c:\\users\\ayush\\appdata\\local\\programs\\python\\python38\\lib\\site-packages\\sklearn\\linear_model\\_logistic.py:762: ConvergenceWarning: lbfgs failed to converge (status=1):\n",
      "STOP: TOTAL NO. of ITERATIONS REACHED LIMIT.\n",
      "\n",
      "Increase the number of iterations (max_iter) or scale the data as shown in:\n",
      "    https://scikit-learn.org/stable/modules/preprocessing.html\n",
      "Please also refer to the documentation for alternative solver options:\n",
      "    https://scikit-learn.org/stable/modules/linear_model.html#logistic-regression\n",
      "  n_iter_i = _check_optimize_result(\n",
      "c:\\users\\ayush\\appdata\\local\\programs\\python\\python38\\lib\\site-packages\\sklearn\\linear_model\\_sag.py:329: ConvergenceWarning: The max_iter was reached which means the coef_ did not converge\n",
      "  warnings.warn(\"The max_iter was reached which means \"\n",
      "c:\\users\\ayush\\appdata\\local\\programs\\python\\python38\\lib\\site-packages\\sklearn\\linear_model\\_sag.py:329: ConvergenceWarning: The max_iter was reached which means the coef_ did not converge\n",
      "  warnings.warn(\"The max_iter was reached which means \"\n"
     ]
    },
    {
     "name": "stdout",
     "output_type": "stream",
     "text": [
      "Best Parameters for Logistic Regression = [penalty = l1, solver = saga]\n"
     ]
    },
    {
     "data": {
      "image/png": "[encoded data removed]",
      "text/plain": [
       "<Figure size 432x288 with 1 Axes>"
      ]
     },
     "metadata": {
      "needs_background": "light"
     },
     "output_type": "display_data"
    }
   ],
   "source": [
    "# Logistic Regression\n",
    "from sklearn.linear_model import LogisticRegression\n",
    "# Hyper-tunning the 'penalty' and 'solver' parameter\n",
    "lr_dict = {'l1': ['liblinear', 'saga'], 'l2': ['newton-cg', 'lbfgs', 'liblinear', 'sag', 'saga']}\n",
    "lr_accuracy_test = []\n",
    "lr_accuracy_train = []\n",
    "lr_accuracy_cv = []\n",
    "lr_df = pd.DataFrame(columns=['Parameters', 'test_Accuracy', 'train_Accuracy'])\n",
    "parameter = []\n",
    "cnt = []\n",
    "count = 0\n",
    "for i in lr_dict:\n",
    "    for j in lr_dict[i]:\n",
    "        count+=1\n",
    "        lr_clf = LogisticRegression(penalty=i, solver=j, random_state=120)\n",
    "        lr_clf.fit(x_train, y_train)\n",
    "        lr_pred = lr_clf.predict(x_test)\n",
    "        lr_acc = accuracy_score(y_test, lr_pred)\n",
    "        lr_accuracy_test.append(lr_acc)\n",
    "        lr_pred = lr_clf.predict(x_train)\n",
    "        lr_acc = accuracy_score(y_train, lr_pred)\n",
    "        lr_accuracy_train.append(lr_acc)\n",
    "        cnt.append(count)\n",
    "        para = '[penalty = '+str(i)+', solver = '+str(j)+']'\n",
    "        parameter.append(para)\n",
    "\n",
    "lr_df['Parameters'] = parameter\n",
    "lr_df['test_Accuracy'] = lr_accuracy_test\n",
    "lr_df['train_Accuracy'] = lr_accuracy_train\n",
    "lr_df['difference'] = abs(lr_df['test_Accuracy'] - lr_df['train_Accuracy'])\n",
    "lr_df[\"count\"] = cnt\n",
    "lrdf = lr_df[lr_df.iloc[:,1]<lr_df.iloc[:,2]]\n",
    "lr_best, lr_accu_best, best_para = lrdf.sort_values(['difference', 'test_Accuracy'], ascending=[True, False]).head(1)[['count', 'test_Accuracy', 'Parameters']].values[0]\n",
    "print('Best Parameters for Logistic Regression =', best_para)\n",
    "plt.plot(cnt, lr_accuracy_test, label='test_data', marker ='o')\n",
    "plt.plot(cnt, lr_accuracy_train, label='train_data', marker='o')\n",
    "plt.plot(lr_best, lr_accu_best, marker='o', color='red')\n",
    "plt.grid()\n",
    "plt.xlabel(\"Various Parameters\")\n",
    "plt.ylabel(\"Accuracy\")\n",
    "plt.title(\"For Logistic Regression\")\n",
    "plt.legend(loc='upper left')\n",
    "plt.show()"
   ]
  },
  {
   "cell_type": "code",
   "execution_count": 21,
   "metadata": {},
   "outputs": [
    {
     "name": "stderr",
     "output_type": "stream",
     "text": [
      "c:\\users\\ayush\\appdata\\local\\programs\\python\\python38\\lib\\site-packages\\sklearn\\linear_model\\_sag.py:329: ConvergenceWarning: The max_iter was reached which means the coef_ did not converge\n",
      "  warnings.warn(\"The max_iter was reached which means \"\n"
     ]
    },
    {
     "data": {
      "text/plain": [
       "0.9661654135338346"
      ]
     },
     "execution_count": 21,
     "metadata": {},
     "output_type": "execute_result"
    }
   ],
   "source": [
    "lr_clf = LogisticRegression(penalty='l1', solver='saga', random_state=120)\n",
    "lr_clf.fit(x_train, y_train)\n",
    "lr_pred = lr_clf.predict(x_test)\n",
    "lr_acc = accuracy_score(y_test, lr_pred)\n",
    "lr_acc"
   ]
  },
  {
   "cell_type": "code",
   "execution_count": 22,
   "metadata": {},
   "outputs": [
    {
     "name": "stdout",
     "output_type": "stream",
     "text": [
      "Best Parameter for Decision Tree = [criterion = gini, max_depth = 5, min_sample_leaf = 1, min_sample_split = 4]\n"
     ]
    },
    {
     "data": {
      "image/png": "[encoded data removed]",
      "text/plain": [
       "<Figure size 432x288 with 1 Axes>"
      ]
     },
     "metadata": {
      "needs_background": "light"
     },
     "output_type": "display_data"
    }
   ],
   "source": [
    "# Decision Tree\n",
    "# Hyper-tunning the 'criterion', 'max_depth', 'min_sample_leaf' and 'min_sample_split' parameter\n",
    "criterion = ['gini', 'entropy']\n",
    "max_depth = [1,2,3,4,5]\n",
    "min_sample_leaf = [1,2,3,4,5]\n",
    "min_sample_split = [2,3,4,5]\n",
    "dt_accuracy_test = []\n",
    "dt_accuracy_train = []\n",
    "parameter = []\n",
    "dt_df = pd.DataFrame(columns=['Parameters', 'test_Accuracy', 'train_Accuracy'])\n",
    "count = 0\n",
    "cnt = []\n",
    "for i in criterion:\n",
    "    for j in max_depth:\n",
    "        for k in min_sample_leaf:\n",
    "            for l in min_sample_split:\n",
    "                count+=1\n",
    "                dt_clf = DecisionTreeClassifier(criterion=i, max_depth=j, min_samples_leaf=k, min_samples_split=l)\n",
    "                dt_clf.fit(x_train, y_train)\n",
    "                dt_pred = dt_clf.predict(x_test)\n",
    "                dt_acc = accuracy_score(y_test, dt_pred)\n",
    "                dt_accuracy_test.append(dt_acc)\n",
    "                dt_pred = dt_clf.predict(x_train)\n",
    "                dt_acc = accuracy_score(y_train, dt_pred)\n",
    "                dt_accuracy_train.append(dt_acc)\n",
    "                cnt.append(count)\n",
    "                para = '[criterion = '+str(i)+', max_depth = '+str(j)+', min_sample_leaf = '+str(k)+', min_sample_split = '+str(l)+']'\n",
    "                parameter.append(para)\n",
    "\n",
    "dt_df['Parameters'] = parameter\n",
    "dt_df['test_Accuracy'] = dt_accuracy_test\n",
    "dt_df['train_Accuracy'] = dt_accuracy_train\n",
    "dt_df['difference'] = abs(dt_df['test_Accuracy'] - dt_df['train_Accuracy'])\n",
    "dt_df[\"count\"] = cnt\n",
    "dtdf = dt_df[dt_df.iloc[:,1]<dt_df.iloc[:,2]]\n",
    "dt_best, dt_accu_best, best_para = dtdf.sort_values(['difference', 'test_Accuracy'], ascending=[True, False]).head(1)[['count', 'test_Accuracy', 'Parameters']].values[0]\n",
    "print(\"Best Parameter for Decision Tree =\", best_para)\n",
    "plt.plot(cnt, dt_accuracy_test, label='test_data')\n",
    "plt.plot(cnt, dt_accuracy_train, label='train_data')\n",
    "plt.plot(dt_best, dt_accu_best, marker='o', color='red')\n",
    "plt.grid()\n",
    "plt.xlabel(\"Various Parameters\")\n",
    "plt.ylabel(\"Accuracy\")\n",
    "plt.title(\"For Decision-Tree\")\n",
    "plt.legend(loc='upper left')\n",
    "plt.show()"
   ]
  },
  {
   "cell_type": "code",
   "execution_count": 23,
   "metadata": {},
   "outputs": [
    {
     "data": {
      "text/plain": [
       "0.9511278195488722"
      ]
     },
     "execution_count": 23,
     "metadata": {},
     "output_type": "execute_result"
    }
   ],
   "source": [
    "dt_clf = DecisionTreeClassifier(criterion='gini', max_depth=5, min_samples_leaf=1, min_samples_split=4)\n",
    "dt_clf.fit(x_train, y_train)\n",
    "dt_pred = dt_clf.predict(x_test)\n",
    "dt_acc = accuracy_score(y_test, dt_pred)\n",
    "dt_acc"
   ]
  },
  {
   "cell_type": "code",
   "execution_count": 56,
   "metadata": {},
   "outputs": [
    {
     "name": "stdout",
     "output_type": "stream",
     "text": [
      "Best Accuracy for Random Forest: 0.9849624060150376\n"
     ]
    }
   ],
   "source": [
    "# Random Forest\n",
    "rf_clf = RandomForestClassifier()\n",
    "rf_clf.fit(x_train, y_train)\n",
    "rf_pred = rf_clf.predict(x_test)\n",
    "rf_acc = accuracy_score(y_test, rf_pred)\n",
    "print(\"Best Accuracy for Random Forest:\", rf_acc)"
   ]
  },
  {
   "cell_type": "code",
   "execution_count": 41,
   "metadata": {},
   "outputs": [
    {
     "name": "stdout",
     "output_type": "stream",
     "text": [
      "Accuracy for GradientBoosting: 0.9661654135338346\n"
     ]
    }
   ],
   "source": [
    "# Gradient Boost Classifier\n",
    "gb_clf = GradientBoostingClassifier()\n",
    "gb_clf.fit(x_train, y_train)\n",
    "pred = gb_clf.predict(x_test)\n",
    "acc_gb = accuracy_score(y_test, pred)\n",
    "print(\"Accuracy for GradientBoosting:\",acc_gb)"
   ]
  },
  {
   "cell_type": "code",
   "execution_count": 3,
   "metadata": {},
   "outputs": [
    {
     "name": "stdout",
     "output_type": "stream",
     "text": [
      "Tensorflow version 2.2.0\n"
     ]
    }
   ],
   "source": [
    "import tensorflow as tf\n",
    "from tensorflow import keras\n",
    "from tensorflow.keras import layers\n",
    "print(\"Tensorflow version \" + tf.__version__)"
   ]
  },
  {
   "cell_type": "code",
   "execution_count": 4,
   "metadata": {},
   "outputs": [],
   "source": [
    "callback = tf.keras.callbacks.EarlyStopping(\n",
    "    monitor='val_loss', min_delta=0, patience=150, verbose=0, mode='auto',\n",
    "    baseline=None, restore_best_weights=False\n",
    ")"
   ]
  },
  {
   "cell_type": "code",
   "execution_count": 7,
   "metadata": {},
   "outputs": [],
   "source": [
    "# Deep Neural Network(DNN)\n",
    "model = keras.Sequential([\n",
    "    layers.Dense(32, activation='relu', kernel_regularizer=keras.regularizers.l2(0.001), input_shape=[len(x_train.keys())]),\n",
    "    layers.Dense(64, activation='relu', kernel_regularizer=keras.regularizers.l2(0.001)),\n",
    "    layers.Dropout(0.5),\n",
    "    layers.Dense(64, activation='relu', kernel_regularizer=keras.regularizers.l2(0.001)),\n",
    "    layers.Dropout(0.5),\n",
    "    layers.Dense(64, activation='relu', kernel_regularizer=keras.regularizers.l2(0.001)),\n",
    "    layers.Dropout(0.5),\n",
    "    layers.Dense(1, activation='sigmoid', kernel_regularizer=keras.regularizers.l2(0.001))\n",
    "])"
   ]
  },
  {
   "cell_type": "code",
   "execution_count": 8,
   "metadata": {},
   "outputs": [],
   "source": [
    "model.compile(optimizer='adam',\n",
    "              loss=tf.keras.losses.binary_crossentropy,\n",
    "              metrics=['accuracy'])"
   ]
  },
  {
   "cell_type": "code",
   "execution_count": 9,
   "metadata": {},
   "outputs": [
    {
     "name": "stdout",
     "output_type": "stream",
     "text": [
      "Epoch 1/500\n",
      "27/27 [==============================] - 0s 11ms/step - loss: 0.9182 - accuracy: 0.5106 - val_loss: 0.8473 - val_accuracy: 0.8160\n",
      "Epoch 2/500\n",
      "27/27 [==============================] - 0s 3ms/step - loss: 0.7890 - accuracy: 0.6403 - val_loss: 0.6481 - val_accuracy: 0.8585\n",
      "Epoch 3/500\n",
      "27/27 [==============================] - 0s 4ms/step - loss: 0.6112 - accuracy: 0.8149 - val_loss: 0.4507 - val_accuracy: 0.8821\n",
      "Epoch 4/500\n",
      "27/27 [==============================] - 0s 9ms/step - loss: 0.4792 - accuracy: 0.8774 - val_loss: 0.3949 - val_accuracy: 0.8962\n",
      "Epoch 5/500\n",
      "27/27 [==============================] - 0s 5ms/step - loss: 0.3963 - accuracy: 0.9163 - val_loss: 0.3991 - val_accuracy: 0.9009\n",
      "Epoch 6/500\n",
      "27/27 [==============================] - 0s 3ms/step - loss: 0.3724 - accuracy: 0.9151 - val_loss: 0.3437 - val_accuracy: 0.9104\n",
      "Epoch 7/500\n",
      "27/27 [==============================] - 0s 4ms/step - loss: 0.3087 - accuracy: 0.9410 - val_loss: 0.3642 - val_accuracy: 0.9104\n",
      "Epoch 8/500\n",
      "27/27 [==============================] - 0s 4ms/step - loss: 0.2776 - accuracy: 0.9575 - val_loss: 0.3354 - val_accuracy: 0.9104\n",
      "Epoch 9/500\n",
      "27/27 [==============================] - 0s 4ms/step - loss: 0.2644 - accuracy: 0.9481 - val_loss: 0.3301 - val_accuracy: 0.9057\n",
      "Epoch 10/500\n",
      "27/27 [==============================] - 0s 4ms/step - loss: 0.2527 - accuracy: 0.9564 - val_loss: 0.3382 - val_accuracy: 0.9151\n",
      "Epoch 11/500\n",
      "27/27 [==============================] - 0s 5ms/step - loss: 0.2156 - accuracy: 0.9611 - val_loss: 0.3325 - val_accuracy: 0.9198\n",
      "Epoch 12/500\n",
      "27/27 [==============================] - 0s 5ms/step - loss: 0.2274 - accuracy: 0.9611 - val_loss: 0.3099 - val_accuracy: 0.9151\n",
      "Epoch 13/500\n",
      "27/27 [==============================] - 0s 5ms/step - loss: 0.2095 - accuracy: 0.9693 - val_loss: 0.3278 - val_accuracy: 0.9057\n",
      "Epoch 14/500\n",
      "27/27 [==============================] - 0s 5ms/step - loss: 0.1964 - accuracy: 0.9693 - val_loss: 0.3454 - val_accuracy: 0.9151\n",
      "Epoch 15/500\n",
      "27/27 [==============================] - 0s 4ms/step - loss: 0.2069 - accuracy: 0.9658 - val_loss: 0.3223 - val_accuracy: 0.9151\n",
      "Epoch 16/500\n",
      "27/27 [==============================] - 0s 4ms/step - loss: 0.1936 - accuracy: 0.9741 - val_loss: 0.3236 - val_accuracy: 0.9104\n",
      "Epoch 17/500\n",
      "27/27 [==============================] - 0s 5ms/step - loss: 0.1995 - accuracy: 0.9634 - val_loss: 0.3750 - val_accuracy: 0.9104\n",
      "Epoch 18/500\n",
      "27/27 [==============================] - 0s 4ms/step - loss: 0.1970 - accuracy: 0.9623 - val_loss: 0.2932 - val_accuracy: 0.9198\n",
      "Epoch 19/500\n",
      "27/27 [==============================] - 0s 4ms/step - loss: 0.1671 - accuracy: 0.9764 - val_loss: 0.3147 - val_accuracy: 0.9245\n",
      "Epoch 20/500\n",
      "27/27 [==============================] - 0s 4ms/step - loss: 0.1526 - accuracy: 0.9776 - val_loss: 0.3304 - val_accuracy: 0.9104\n",
      "Epoch 21/500\n",
      "27/27 [==============================] - 0s 4ms/step - loss: 0.1458 - accuracy: 0.9776 - val_loss: 0.3634 - val_accuracy: 0.9057\n",
      "Epoch 22/500\n",
      "27/27 [==============================] - 0s 4ms/step - loss: 0.1640 - accuracy: 0.9764 - val_loss: 0.3227 - val_accuracy: 0.9151\n",
      "Epoch 23/500\n",
      "27/27 [==============================] - 0s 4ms/step - loss: 0.1351 - accuracy: 0.9776 - val_loss: 0.3437 - val_accuracy: 0.9245\n",
      "Epoch 24/500\n",
      "27/27 [==============================] - 0s 5ms/step - loss: 0.1219 - accuracy: 0.9870 - val_loss: 0.3413 - val_accuracy: 0.9198\n",
      "Epoch 25/500\n",
      "27/27 [==============================] - 0s 6ms/step - loss: 0.1186 - accuracy: 0.9882 - val_loss: 0.4069 - val_accuracy: 0.9292\n",
      "Epoch 26/500\n",
      "27/27 [==============================] - 0s 5ms/step - loss: 0.1263 - accuracy: 0.9823 - val_loss: 0.3712 - val_accuracy: 0.9198\n",
      "Epoch 27/500\n",
      "27/27 [==============================] - 0s 5ms/step - loss: 0.1057 - accuracy: 0.9894 - val_loss: 0.3908 - val_accuracy: 0.9151\n",
      "Epoch 28/500\n",
      "27/27 [==============================] - 0s 4ms/step - loss: 0.1621 - accuracy: 0.9634 - val_loss: 0.3810 - val_accuracy: 0.9104\n",
      "Epoch 29/500\n",
      "27/27 [==============================] - 0s 4ms/step - loss: 0.1305 - accuracy: 0.9811 - val_loss: 0.3403 - val_accuracy: 0.9292\n",
      "Epoch 30/500\n",
      "27/27 [==============================] - 0s 4ms/step - loss: 0.1133 - accuracy: 0.9823 - val_loss: 0.3306 - val_accuracy: 0.9198\n",
      "Epoch 31/500\n",
      "27/27 [==============================] - 0s 6ms/step - loss: 0.1077 - accuracy: 0.9870 - val_loss: 0.3820 - val_accuracy: 0.9198\n",
      "Epoch 32/500\n",
      "27/27 [==============================] - 0s 4ms/step - loss: 0.0973 - accuracy: 0.9894 - val_loss: 0.4046 - val_accuracy: 0.9151\n",
      "Epoch 33/500\n",
      "27/27 [==============================] - 0s 4ms/step - loss: 0.1151 - accuracy: 0.9800 - val_loss: 0.4055 - val_accuracy: 0.9104\n",
      "Epoch 34/500\n",
      "27/27 [==============================] - 0s 5ms/step - loss: 0.1184 - accuracy: 0.9776 - val_loss: 0.3175 - val_accuracy: 0.9340\n",
      "Epoch 35/500\n",
      "27/27 [==============================] - 0s 6ms/step - loss: 0.0937 - accuracy: 0.9870 - val_loss: 0.4223 - val_accuracy: 0.9245\n",
      "Epoch 36/500\n",
      "27/27 [==============================] - 0s 6ms/step - loss: 0.0837 - accuracy: 0.9929 - val_loss: 0.4215 - val_accuracy: 0.9198\n",
      "Epoch 37/500\n",
      "27/27 [==============================] - 0s 4ms/step - loss: 0.0822 - accuracy: 0.9894 - val_loss: 0.4366 - val_accuracy: 0.9151\n",
      "Epoch 38/500\n",
      "27/27 [==============================] - 0s 4ms/step - loss: 0.0858 - accuracy: 0.9894 - val_loss: 0.4240 - val_accuracy: 0.9198\n",
      "Epoch 39/500\n",
      "27/27 [==============================] - 0s 4ms/step - loss: 0.0757 - accuracy: 0.9917 - val_loss: 0.4206 - val_accuracy: 0.9245\n",
      "Epoch 40/500\n",
      "27/27 [==============================] - 0s 4ms/step - loss: 0.0815 - accuracy: 0.9941 - val_loss: 0.4904 - val_accuracy: 0.8962\n",
      "Epoch 41/500\n",
      "27/27 [==============================] - 0s 4ms/step - loss: 0.1116 - accuracy: 0.9800 - val_loss: 0.3818 - val_accuracy: 0.9340\n",
      "Epoch 42/500\n",
      "27/27 [==============================] - 0s 4ms/step - loss: 0.0851 - accuracy: 0.9894 - val_loss: 0.4050 - val_accuracy: 0.9198\n",
      "Epoch 43/500\n",
      "27/27 [==============================] - 0s 4ms/step - loss: 0.0695 - accuracy: 0.9965 - val_loss: 0.4389 - val_accuracy: 0.9198\n",
      "Epoch 44/500\n",
      "27/27 [==============================] - 0s 4ms/step - loss: 0.0900 - accuracy: 0.9870 - val_loss: 0.3636 - val_accuracy: 0.9151\n",
      "Epoch 45/500\n",
      "27/27 [==============================] - 0s 5ms/step - loss: 0.0979 - accuracy: 0.9835 - val_loss: 0.4502 - val_accuracy: 0.9057\n",
      "Epoch 46/500\n",
      "27/27 [==============================] - 0s 4ms/step - loss: 0.0881 - accuracy: 0.9858 - val_loss: 0.3808 - val_accuracy: 0.9245\n",
      "Epoch 47/500\n",
      "27/27 [==============================] - 0s 5ms/step - loss: 0.0650 - accuracy: 0.9965 - val_loss: 0.3886 - val_accuracy: 0.9340\n",
      "Epoch 48/500\n",
      "27/27 [==============================] - 0s 6ms/step - loss: 0.0640 - accuracy: 0.9965 - val_loss: 0.3896 - val_accuracy: 0.9198\n",
      "Epoch 49/500\n",
      "27/27 [==============================] - 0s 6ms/step - loss: 0.0669 - accuracy: 0.9917 - val_loss: 0.4034 - val_accuracy: 0.9198\n",
      "Epoch 50/500\n",
      "27/27 [==============================] - 0s 6ms/step - loss: 0.0594 - accuracy: 0.9976 - val_loss: 0.4061 - val_accuracy: 0.9198\n",
      "Epoch 51/500\n",
      "27/27 [==============================] - 0s 6ms/step - loss: 0.0604 - accuracy: 0.9965 - val_loss: 0.4090 - val_accuracy: 0.9245\n",
      "Epoch 52/500\n",
      "27/27 [==============================] - 0s 5ms/step - loss: 0.0556 - accuracy: 0.9988 - val_loss: 0.4407 - val_accuracy: 0.9151\n",
      "Epoch 53/500\n",
      "27/27 [==============================] - 0s 4ms/step - loss: 0.0543 - accuracy: 1.0000 - val_loss: 0.4498 - val_accuracy: 0.9151\n",
      "Epoch 54/500\n",
      "27/27 [==============================] - 0s 5ms/step - loss: 0.0668 - accuracy: 0.9929 - val_loss: 0.4262 - val_accuracy: 0.9198\n",
      "Epoch 55/500\n",
      "27/27 [==============================] - 0s 4ms/step - loss: 0.0545 - accuracy: 0.9976 - val_loss: 0.4382 - val_accuracy: 0.9292\n",
      "Epoch 56/500\n",
      "27/27 [==============================] - 0s 4ms/step - loss: 0.0660 - accuracy: 0.9929 - val_loss: 0.4071 - val_accuracy: 0.9198\n",
      "Epoch 57/500\n",
      "27/27 [==============================] - 0s 4ms/step - loss: 0.0566 - accuracy: 0.9988 - val_loss: 0.4028 - val_accuracy: 0.9245\n",
      "Epoch 58/500\n",
      "27/27 [==============================] - 0s 5ms/step - loss: 0.0506 - accuracy: 1.0000 - val_loss: 0.4191 - val_accuracy: 0.9245\n"
     ]
    },
    {
     "name": "stdout",
     "output_type": "stream",
     "text": [
      "Epoch 59/500\n",
      "27/27 [==============================] - 0s 7ms/step - loss: 0.0495 - accuracy: 1.0000 - val_loss: 0.4166 - val_accuracy: 0.9292\n",
      "Epoch 60/500\n",
      "27/27 [==============================] - 0s 5ms/step - loss: 0.0475 - accuracy: 1.0000 - val_loss: 0.4249 - val_accuracy: 0.9198\n",
      "Epoch 61/500\n",
      "27/27 [==============================] - 0s 6ms/step - loss: 0.0795 - accuracy: 0.9882 - val_loss: 0.4024 - val_accuracy: 0.9245\n",
      "Epoch 62/500\n",
      "27/27 [==============================] - 0s 6ms/step - loss: 0.0854 - accuracy: 0.9917 - val_loss: 0.3539 - val_accuracy: 0.9057\n",
      "Epoch 63/500\n",
      "27/27 [==============================] - 0s 6ms/step - loss: 0.0764 - accuracy: 0.9894 - val_loss: 0.3469 - val_accuracy: 0.9198\n",
      "Epoch 64/500\n",
      "27/27 [==============================] - 0s 5ms/step - loss: 0.0536 - accuracy: 0.9953 - val_loss: 0.3823 - val_accuracy: 0.9292\n",
      "Epoch 65/500\n",
      "27/27 [==============================] - 0s 4ms/step - loss: 0.0665 - accuracy: 0.9906 - val_loss: 0.3436 - val_accuracy: 0.9198\n",
      "Epoch 66/500\n",
      "27/27 [==============================] - 0s 4ms/step - loss: 0.0776 - accuracy: 0.9917 - val_loss: 0.3979 - val_accuracy: 0.9151\n",
      "Epoch 67/500\n",
      "27/27 [==============================] - 0s 5ms/step - loss: 0.0521 - accuracy: 1.0000 - val_loss: 0.4202 - val_accuracy: 0.9151\n",
      "Epoch 68/500\n",
      "27/27 [==============================] - 0s 5ms/step - loss: 0.0475 - accuracy: 1.0000 - val_loss: 0.4399 - val_accuracy: 0.9198\n",
      "Epoch 69/500\n",
      "27/27 [==============================] - 0s 6ms/step - loss: 0.0488 - accuracy: 0.9976 - val_loss: 0.4217 - val_accuracy: 0.9245\n",
      "Epoch 70/500\n",
      "27/27 [==============================] - 0s 6ms/step - loss: 0.0471 - accuracy: 0.9988 - val_loss: 0.3835 - val_accuracy: 0.9245\n",
      "Epoch 71/500\n",
      "27/27 [==============================] - 0s 6ms/step - loss: 0.0461 - accuracy: 1.0000 - val_loss: 0.3973 - val_accuracy: 0.9292\n",
      "Epoch 72/500\n",
      "27/27 [==============================] - 0s 6ms/step - loss: 0.0452 - accuracy: 1.0000 - val_loss: 0.4088 - val_accuracy: 0.9198\n",
      "Epoch 73/500\n",
      "27/27 [==============================] - 0s 6ms/step - loss: 0.0455 - accuracy: 0.9988 - val_loss: 0.4218 - val_accuracy: 0.9198\n",
      "Epoch 74/500\n",
      "27/27 [==============================] - 0s 4ms/step - loss: 0.0420 - accuracy: 1.0000 - val_loss: 0.4269 - val_accuracy: 0.9340\n",
      "Epoch 75/500\n",
      "27/27 [==============================] - 0s 5ms/step - loss: 0.0422 - accuracy: 1.0000 - val_loss: 0.4259 - val_accuracy: 0.9245\n",
      "Epoch 76/500\n",
      "27/27 [==============================] - 0s 5ms/step - loss: 0.0425 - accuracy: 1.0000 - val_loss: 0.4093 - val_accuracy: 0.9151\n",
      "Epoch 77/500\n",
      "27/27 [==============================] - 0s 11ms/step - loss: 0.0424 - accuracy: 1.0000 - val_loss: 0.4233 - val_accuracy: 0.9245\n",
      "Epoch 78/500\n",
      "27/27 [==============================] - 0s 7ms/step - loss: 0.0425 - accuracy: 0.9988 - val_loss: 0.4449 - val_accuracy: 0.9292\n",
      "Epoch 79/500\n",
      "27/27 [==============================] - 0s 6ms/step - loss: 0.0458 - accuracy: 0.9965 - val_loss: 0.4056 - val_accuracy: 0.9245\n",
      "Epoch 80/500\n",
      "27/27 [==============================] - 0s 6ms/step - loss: 0.0452 - accuracy: 0.9953 - val_loss: 0.4383 - val_accuracy: 0.9104\n",
      "Epoch 81/500\n",
      "27/27 [==============================] - 0s 6ms/step - loss: 0.0438 - accuracy: 0.9988 - val_loss: 0.3854 - val_accuracy: 0.9151\n",
      "Epoch 82/500\n",
      "27/27 [==============================] - 0s 6ms/step - loss: 0.0586 - accuracy: 0.9906 - val_loss: 0.3997 - val_accuracy: 0.9245\n",
      "Epoch 83/500\n",
      "27/27 [==============================] - 0s 5ms/step - loss: 0.0490 - accuracy: 0.9953 - val_loss: 0.3894 - val_accuracy: 0.9104\n",
      "Epoch 84/500\n",
      "27/27 [==============================] - 0s 4ms/step - loss: 0.0502 - accuracy: 0.9965 - val_loss: 0.4173 - val_accuracy: 0.9198\n",
      "Epoch 85/500\n",
      "27/27 [==============================] - 0s 4ms/step - loss: 0.0463 - accuracy: 0.9965 - val_loss: 0.4063 - val_accuracy: 0.9198\n",
      "Epoch 86/500\n",
      "27/27 [==============================] - 0s 5ms/step - loss: 0.0553 - accuracy: 0.9941 - val_loss: 0.3590 - val_accuracy: 0.9245\n",
      "Epoch 87/500\n",
      "27/27 [==============================] - 0s 6ms/step - loss: 0.0483 - accuracy: 0.9976 - val_loss: 0.3900 - val_accuracy: 0.9198\n",
      "Epoch 88/500\n",
      "27/27 [==============================] - 0s 6ms/step - loss: 0.0455 - accuracy: 0.9976 - val_loss: 0.3988 - val_accuracy: 0.9198\n",
      "Epoch 89/500\n",
      "27/27 [==============================] - 0s 4ms/step - loss: 0.0479 - accuracy: 0.9976 - val_loss: 0.3919 - val_accuracy: 0.9292\n",
      "Epoch 90/500\n",
      "27/27 [==============================] - 0s 4ms/step - loss: 0.0701 - accuracy: 0.9882 - val_loss: 0.3493 - val_accuracy: 0.9292\n",
      "Epoch 91/500\n",
      "27/27 [==============================] - 0s 5ms/step - loss: 0.0850 - accuracy: 0.9823 - val_loss: 0.3920 - val_accuracy: 0.9104\n",
      "Epoch 92/500\n",
      "27/27 [==============================] - 0s 6ms/step - loss: 0.0560 - accuracy: 0.9941 - val_loss: 0.3948 - val_accuracy: 0.9151\n",
      "Epoch 93/500\n",
      "27/27 [==============================] - 0s 6ms/step - loss: 0.0478 - accuracy: 0.9965 - val_loss: 0.4332 - val_accuracy: 0.9198\n",
      "Epoch 94/500\n",
      "27/27 [==============================] - 0s 6ms/step - loss: 0.0432 - accuracy: 0.9988 - val_loss: 0.4281 - val_accuracy: 0.9198\n",
      "Epoch 95/500\n",
      "27/27 [==============================] - 0s 6ms/step - loss: 0.0508 - accuracy: 0.9976 - val_loss: 0.3767 - val_accuracy: 0.9340\n",
      "Epoch 96/500\n",
      "27/27 [==============================] - 0s 5ms/step - loss: 0.0519 - accuracy: 0.9965 - val_loss: 0.5080 - val_accuracy: 0.9104\n",
      "Epoch 97/500\n",
      "27/27 [==============================] - 0s 5ms/step - loss: 0.0534 - accuracy: 0.9929 - val_loss: 0.4397 - val_accuracy: 0.9151\n",
      "Epoch 98/500\n",
      "27/27 [==============================] - 0s 6ms/step - loss: 0.0556 - accuracy: 0.9906 - val_loss: 0.3898 - val_accuracy: 0.9104\n",
      "Epoch 99/500\n",
      "27/27 [==============================] - 0s 6ms/step - loss: 0.0502 - accuracy: 0.9965 - val_loss: 0.3549 - val_accuracy: 0.9340\n",
      "Epoch 100/500\n",
      "27/27 [==============================] - 0s 6ms/step - loss: 0.0440 - accuracy: 0.9976 - val_loss: 0.3979 - val_accuracy: 0.9245\n",
      "Epoch 101/500\n",
      "27/27 [==============================] - 0s 6ms/step - loss: 0.0525 - accuracy: 0.9953 - val_loss: 0.3703 - val_accuracy: 0.9198\n",
      "Epoch 102/500\n",
      "27/27 [==============================] - 0s 6ms/step - loss: 0.0577 - accuracy: 0.9929 - val_loss: 0.3512 - val_accuracy: 0.9340\n",
      "Epoch 103/500\n",
      "27/27 [==============================] - 0s 5ms/step - loss: 0.0638 - accuracy: 0.9906 - val_loss: 0.3327 - val_accuracy: 0.9151\n",
      "Epoch 104/500\n",
      "27/27 [==============================] - 0s 4ms/step - loss: 0.0453 - accuracy: 0.9988 - val_loss: 0.3906 - val_accuracy: 0.9151\n",
      "Epoch 105/500\n",
      "27/27 [==============================] - 0s 4ms/step - loss: 0.0421 - accuracy: 1.0000 - val_loss: 0.4053 - val_accuracy: 0.9104\n",
      "Epoch 106/500\n",
      "27/27 [==============================] - 0s 5ms/step - loss: 0.0403 - accuracy: 1.0000 - val_loss: 0.4234 - val_accuracy: 0.9245\n",
      "Epoch 107/500\n",
      "27/27 [==============================] - 0s 6ms/step - loss: 0.0397 - accuracy: 1.0000 - val_loss: 0.4201 - val_accuracy: 0.9292\n",
      "Epoch 108/500\n",
      "27/27 [==============================] - 0s 6ms/step - loss: 0.0394 - accuracy: 1.0000 - val_loss: 0.4108 - val_accuracy: 0.9245\n",
      "Epoch 109/500\n",
      "27/27 [==============================] - 0s 6ms/step - loss: 0.0409 - accuracy: 0.9988 - val_loss: 0.4129 - val_accuracy: 0.9340\n",
      "Epoch 110/500\n",
      "27/27 [==============================] - 0s 6ms/step - loss: 0.0389 - accuracy: 1.0000 - val_loss: 0.4048 - val_accuracy: 0.9292\n",
      "Epoch 111/500\n",
      "27/27 [==============================] - 0s 6ms/step - loss: 0.0384 - accuracy: 1.0000 - val_loss: 0.4005 - val_accuracy: 0.9292\n",
      "Epoch 112/500\n",
      "27/27 [==============================] - 0s 6ms/step - loss: 0.0377 - accuracy: 1.0000 - val_loss: 0.4119 - val_accuracy: 0.9245\n",
      "Epoch 113/500\n",
      "27/27 [==============================] - 0s 5ms/step - loss: 0.0378 - accuracy: 1.0000 - val_loss: 0.4086 - val_accuracy: 0.9198\n",
      "Epoch 114/500\n",
      "27/27 [==============================] - 0s 4ms/step - loss: 0.0384 - accuracy: 1.0000 - val_loss: 0.4204 - val_accuracy: 0.9245\n",
      "Epoch 115/500\n",
      "27/27 [==============================] - 0s 4ms/step - loss: 0.0374 - accuracy: 1.0000 - val_loss: 0.4143 - val_accuracy: 0.9292\n",
      "Epoch 116/500\n",
      "27/27 [==============================] - 0s 5ms/step - loss: 0.0370 - accuracy: 1.0000 - val_loss: 0.4284 - val_accuracy: 0.9245\n",
      "Epoch 117/500\n",
      "27/27 [==============================] - 0s 4ms/step - loss: 0.0371 - accuracy: 1.0000 - val_loss: 0.4256 - val_accuracy: 0.9245\n",
      "Epoch 118/500\n",
      "27/27 [==============================] - 0s 6ms/step - loss: 0.0362 - accuracy: 1.0000 - val_loss: 0.4180 - val_accuracy: 0.9245\n",
      "Epoch 119/500\n",
      "27/27 [==============================] - 0s 5ms/step - loss: 0.0361 - accuracy: 1.0000 - val_loss: 0.4163 - val_accuracy: 0.9198\n",
      "Epoch 120/500\n",
      "27/27 [==============================] - 0s 6ms/step - loss: 0.0495 - accuracy: 0.9953 - val_loss: 0.3853 - val_accuracy: 0.9245\n",
      "Epoch 121/500\n",
      "27/27 [==============================] - 0s 6ms/step - loss: 0.0483 - accuracy: 0.9953 - val_loss: 0.3877 - val_accuracy: 0.9292\n",
      "Epoch 122/500\n",
      "27/27 [==============================] - 0s 5ms/step - loss: 0.0430 - accuracy: 0.9976 - val_loss: 0.3986 - val_accuracy: 0.9198\n",
      "Epoch 123/500\n",
      "27/27 [==============================] - 0s 6ms/step - loss: 0.0508 - accuracy: 0.9941 - val_loss: 0.3548 - val_accuracy: 0.9340\n",
      "Epoch 124/500\n",
      "27/27 [==============================] - 0s 5ms/step - loss: 0.0405 - accuracy: 0.9988 - val_loss: 0.3571 - val_accuracy: 0.9340\n",
      "Epoch 125/500\n",
      "27/27 [==============================] - 0s 6ms/step - loss: 0.0383 - accuracy: 1.0000 - val_loss: 0.3775 - val_accuracy: 0.9292\n",
      "Epoch 126/500\n",
      "27/27 [==============================] - 0s 5ms/step - loss: 0.0371 - accuracy: 1.0000 - val_loss: 0.3923 - val_accuracy: 0.9340\n",
      "Epoch 127/500\n",
      "27/27 [==============================] - 0s 4ms/step - loss: 0.0503 - accuracy: 0.9906 - val_loss: 0.4712 - val_accuracy: 0.9151\n",
      "Epoch 128/500\n",
      "27/27 [==============================] - 0s 4ms/step - loss: 0.0994 - accuracy: 0.9788 - val_loss: 0.3123 - val_accuracy: 0.9292\n",
      "Epoch 129/500\n",
      "27/27 [==============================] - 0s 4ms/step - loss: 0.0659 - accuracy: 0.9906 - val_loss: 0.3744 - val_accuracy: 0.9245\n",
      "Epoch 130/500\n",
      "27/27 [==============================] - 0s 4ms/step - loss: 0.0430 - accuracy: 0.9976 - val_loss: 0.3710 - val_accuracy: 0.9245\n",
      "Epoch 131/500\n",
      "27/27 [==============================] - 0s 4ms/step - loss: 0.0422 - accuracy: 0.9976 - val_loss: 0.3923 - val_accuracy: 0.9387\n",
      "Epoch 132/500\n",
      "27/27 [==============================] - 0s 4ms/step - loss: 0.0533 - accuracy: 0.9906 - val_loss: 0.4752 - val_accuracy: 0.9104\n",
      "Epoch 133/500\n",
      "27/27 [==============================] - 0s 5ms/step - loss: 0.0685 - accuracy: 0.9906 - val_loss: 0.3739 - val_accuracy: 0.9151\n",
      "Epoch 134/500\n",
      "27/27 [==============================] - 0s 4ms/step - loss: 0.0424 - accuracy: 0.9988 - val_loss: 0.4362 - val_accuracy: 0.9245\n",
      "Epoch 135/500\n",
      "27/27 [==============================] - 0s 5ms/step - loss: 0.0403 - accuracy: 1.0000 - val_loss: 0.3942 - val_accuracy: 0.9151\n",
      "Epoch 136/500\n",
      "27/27 [==============================] - 0s 6ms/step - loss: 0.0383 - accuracy: 1.0000 - val_loss: 0.4421 - val_accuracy: 0.9198\n",
      "Epoch 137/500\n",
      "27/27 [==============================] - 0s 6ms/step - loss: 0.0388 - accuracy: 1.0000 - val_loss: 0.4253 - val_accuracy: 0.9245\n",
      "Epoch 138/500\n",
      "27/27 [==============================] - 0s 4ms/step - loss: 0.0368 - accuracy: 1.0000 - val_loss: 0.4235 - val_accuracy: 0.9292\n",
      "Epoch 139/500\n",
      "27/27 [==============================] - 0s 4ms/step - loss: 0.0367 - accuracy: 1.0000 - val_loss: 0.4156 - val_accuracy: 0.9340\n",
      "Epoch 140/500\n",
      "27/27 [==============================] - 0s 4ms/step - loss: 0.0366 - accuracy: 1.0000 - val_loss: 0.4149 - val_accuracy: 0.9292\n",
      "Epoch 141/500\n",
      "27/27 [==============================] - 0s 4ms/step - loss: 0.0364 - accuracy: 1.0000 - val_loss: 0.4252 - val_accuracy: 0.9292\n",
      "Epoch 142/500\n",
      "27/27 [==============================] - 0s 4ms/step - loss: 0.0361 - accuracy: 1.0000 - val_loss: 0.4143 - val_accuracy: 0.9245\n",
      "Epoch 143/500\n",
      "27/27 [==============================] - 0s 4ms/step - loss: 0.0351 - accuracy: 1.0000 - val_loss: 0.3997 - val_accuracy: 0.9340\n",
      "Epoch 144/500\n",
      "27/27 [==============================] - 0s 6ms/step - loss: 0.0367 - accuracy: 1.0000 - val_loss: 0.4001 - val_accuracy: 0.9292\n",
      "Epoch 145/500\n",
      "27/27 [==============================] - 0s 6ms/step - loss: 0.0369 - accuracy: 0.9988 - val_loss: 0.3829 - val_accuracy: 0.9387\n",
      "Epoch 146/500\n",
      "27/27 [==============================] - 0s 15ms/step - loss: 0.0371 - accuracy: 0.9988 - val_loss: 0.3745 - val_accuracy: 0.9340\n",
      "Epoch 147/500\n",
      "27/27 [==============================] - 0s 4ms/step - loss: 0.0361 - accuracy: 0.9988 - val_loss: 0.3786 - val_accuracy: 0.9340\n",
      "Epoch 148/500\n",
      "27/27 [==============================] - 0s 4ms/step - loss: 0.0376 - accuracy: 1.0000 - val_loss: 0.3496 - val_accuracy: 0.9387\n",
      "Epoch 149/500\n",
      "27/27 [==============================] - 0s 5ms/step - loss: 0.0388 - accuracy: 0.9976 - val_loss: 0.3868 - val_accuracy: 0.9292\n",
      "Epoch 150/500\n",
      "27/27 [==============================] - 0s 6ms/step - loss: 0.0366 - accuracy: 1.0000 - val_loss: 0.4015 - val_accuracy: 0.9340\n",
      "Epoch 151/500\n",
      "27/27 [==============================] - 0s 6ms/step - loss: 0.0353 - accuracy: 1.0000 - val_loss: 0.4040 - val_accuracy: 0.9434\n",
      "Epoch 152/500\n",
      "27/27 [==============================] - 0s 6ms/step - loss: 0.0347 - accuracy: 1.0000 - val_loss: 0.3921 - val_accuracy: 0.9434\n",
      "Epoch 153/500\n",
      "27/27 [==============================] - 0s 5ms/step - loss: 0.0346 - accuracy: 1.0000 - val_loss: 0.3977 - val_accuracy: 0.9340\n",
      "Epoch 154/500\n",
      "27/27 [==============================] - 0s 7ms/step - loss: 0.0346 - accuracy: 1.0000 - val_loss: 0.3756 - val_accuracy: 0.9387\n",
      "Epoch 155/500\n",
      "27/27 [==============================] - 0s 5ms/step - loss: 0.0343 - accuracy: 1.0000 - val_loss: 0.3684 - val_accuracy: 0.9245\n",
      "Epoch 156/500\n",
      "27/27 [==============================] - 0s 4ms/step - loss: 0.0342 - accuracy: 1.0000 - val_loss: 0.3693 - val_accuracy: 0.9434\n",
      "Epoch 157/500\n",
      "27/27 [==============================] - 0s 5ms/step - loss: 0.0337 - accuracy: 1.0000 - val_loss: 0.3805 - val_accuracy: 0.9292\n",
      "Epoch 158/500\n",
      "27/27 [==============================] - 0s 5ms/step - loss: 0.0344 - accuracy: 1.0000 - val_loss: 0.3799 - val_accuracy: 0.9340\n",
      "Epoch 159/500\n",
      "27/27 [==============================] - 0s 5ms/step - loss: 0.0346 - accuracy: 1.0000 - val_loss: 0.3706 - val_accuracy: 0.9340\n",
      "Epoch 160/500\n",
      "27/27 [==============================] - 0s 5ms/step - loss: 0.0362 - accuracy: 0.9988 - val_loss: 0.4084 - val_accuracy: 0.9104\n",
      "Epoch 161/500\n",
      "27/27 [==============================] - 0s 5ms/step - loss: 0.0399 - accuracy: 0.9965 - val_loss: 0.3327 - val_accuracy: 0.9434\n",
      "Epoch 162/500\n",
      "27/27 [==============================] - 0s 5ms/step - loss: 0.0360 - accuracy: 1.0000 - val_loss: 0.3998 - val_accuracy: 0.9340\n",
      "Epoch 163/500\n",
      "27/27 [==============================] - 0s 5ms/step - loss: 0.0376 - accuracy: 0.9988 - val_loss: 0.3905 - val_accuracy: 0.9340\n",
      "Epoch 164/500\n",
      "27/27 [==============================] - 0s 6ms/step - loss: 0.0339 - accuracy: 1.0000 - val_loss: 0.3677 - val_accuracy: 0.9387\n",
      "Epoch 165/500\n",
      "27/27 [==============================] - 0s 9ms/step - loss: 0.0343 - accuracy: 1.0000 - val_loss: 0.3725 - val_accuracy: 0.9292\n",
      "Epoch 166/500\n",
      "27/27 [==============================] - 0s 9ms/step - loss: 0.0333 - accuracy: 1.0000 - val_loss: 0.3636 - val_accuracy: 0.9434\n",
      "Epoch 167/500\n",
      "27/27 [==============================] - 0s 9ms/step - loss: 0.0329 - accuracy: 1.0000 - val_loss: 0.3740 - val_accuracy: 0.9434\n",
      "Epoch 168/500\n",
      "27/27 [==============================] - 0s 9ms/step - loss: 0.0324 - accuracy: 1.0000 - val_loss: 0.3662 - val_accuracy: 0.9198\n"
     ]
    }
   ],
   "source": [
    "history = model.fit(x_train, y_train, epochs=500, validation_split=0.2, callbacks=callback)"
   ]
  },
  {
   "cell_type": "code",
   "execution_count": 10,
   "metadata": {},
   "outputs": [
    {
     "data": {
      "text/plain": [
       "0.9847259670495987"
      ]
     },
     "execution_count": 10,
     "metadata": {},
     "output_type": "execute_result"
    }
   ],
   "source": [
    "np.mean(history.history[\"accuracy\"])"
   ]
  },
  {
   "cell_type": "code",
   "execution_count": 11,
   "metadata": {},
   "outputs": [
    {
     "data": {
      "text/plain": [
       "0.9216082656667346"
      ]
     },
     "execution_count": 11,
     "metadata": {},
     "output_type": "execute_result"
    }
   ],
   "source": [
    "np.mean(history.history[\"val_accuracy\"])"
   ]
  },
  {
   "cell_type": "code",
   "execution_count": 33,
   "metadata": {},
   "outputs": [
    {
     "data": {
      "image/png": "[encoded data removed]",
      "text/plain": [
       "<Figure size 432x288 with 1 Axes>"
      ]
     },
     "metadata": {
      "needs_background": "light"
     },
     "output_type": "display_data"
    }
   ],
   "source": [
    "plt.plot(history.history['accuracy'])\n",
    "plt.plot(history.history['val_accuracy'])\n",
    "plt.title('model accuracy')\n",
    "plt.ylabel('accuracy')\n",
    "plt.xlabel('epoch')\n",
    "plt.legend(['training', 'validation'], loc='upper left')\n",
    "plt.show()"
   ]
  },
  {
   "cell_type": "code",
   "execution_count": 34,
   "metadata": {},
   "outputs": [
    {
     "data": {
      "image/png": "[encoded data removed]",
      "text/plain": [
       "<Figure size 432x288 with 1 Axes>"
      ]
     },
     "metadata": {
      "needs_background": "light"
     },
     "output_type": "display_data"
    }
   ],
   "source": [
    "plt.plot(history.history['loss'])\n",
    "plt.plot(history.history['val_loss'])\n",
    "plt.title('model loss')\n",
    "plt.ylabel('loss')\n",
    "plt.xlabel('epoch')\n",
    "plt.legend(['training', 'validation'], loc='upper left')\n",
    "plt.show()"
   ]
  },
  {
   "cell_type": "code",
   "execution_count": 35,
   "metadata": {},
   "outputs": [],
   "source": [
    "# x_train.to_csv('x_train.csv')\n",
    "# y_train.to_csv('y_train.csv')\n",
    "# x_test.to_csv('x_test.csv')\n",
    "# y_test.to_csv('y_test.csv')"
   ]
  },
  {
   "cell_type": "code",
   "execution_count": 42,
   "metadata": {},
   "outputs": [],
   "source": [
    "# import pickle\n",
    "# with open(\"gb.pkl\", \"wb\") as file:\n",
    "#     pickle.dump(gb_clf, file)"
   ]
  },
  {
   "cell_type": "code",
   "execution_count": 2,
   "metadata": {},
   "outputs": [
    {
     "name": "stdout",
     "output_type": "stream",
     "text": [
      "WARNING:tensorflow:From <ipython-input-2-c8bbe5d2e66a>:67: Sequential.predict_classes (from tensorflow.python.keras.engine.sequential) is deprecated and will be removed after 2021-01-01.\n",
      "Instructions for updating:\n",
      "Please use instead:* `np.argmax(model.predict(x), axis=-1)`,   if your model does multi-class classification   (e.g. if it uses a `softmax` last-layer activation).* `(model.predict(x) > 0.5).astype(\"int32\")`,   if your model does binary classification   (e.g. if it uses a `sigmoid` last-layer activation).\n"
     ]
    }
   ],
   "source": [
    "# Testing all the models on the test dataset.\n",
    "x_train = pd.read_csv('x_train.csv', index_col=0)\n",
    "y_train = pd.read_csv('y_train.csv', index_col=0)\n",
    "x_test = pd.read_csv('x_test.csv', index_col=0)\n",
    "y_test = pd.read_csv('y_test.csv', index_col=0)\n",
    "y_train = y_train.values.ravel()\n",
    "y_test = y_test.values.ravel()\n",
    "\n",
    "\n",
    "\n",
    "import pickle\n",
    "with open(\"svc.pkl\", 'rb') as file:\n",
    "    pickle_model_svc = pickle.load(file)\n",
    "svc_ac = accuracy_score(y_test, pickle_model_svc.predict(x_test))\n",
    "svc_precision = precision_score(y_test, pickle_model_svc.predict(x_test))\n",
    "svc_recall = recall_score(y_test, pickle_model_svc.predict(x_test))\n",
    "svc_f1 = f1_score(y_test, pickle_model_svc.predict(x_test))\n",
    "svc_fpr, svc_tpr, svc_thresholds = roc_curve(y_test, pickle_model_svc.predict(x_test)) \n",
    "svc_auc = auc(svc_fpr, svc_tpr)\n",
    "                          \n",
    "\n",
    "with open(\"rf.pkl\", 'rb') as file:\n",
    "    pickle_model_rf = pickle.load(file)\n",
    "rf_ac = accuracy_score(y_test, pickle_model_rf.predict(x_test))\n",
    "rf_precision = precision_score(y_test, pickle_model_rf.predict(x_test))\n",
    "rf_recall = recall_score(y_test, pickle_model_rf.predict(x_test))\n",
    "rf_f1 = f1_score(y_test, pickle_model_rf.predict(x_test))\n",
    "rf_fpr, rf_tpr, rf_thresholds = roc_curve(y_test, pickle_model_rf.predict(x_test)) \n",
    "rf_auc = auc(rf_fpr, rf_tpr)\n",
    "\n",
    "with open(\"lr.pkl\", 'rb') as file:\n",
    "    pickle_model_lr = pickle.load(file)\n",
    "lr_ac = accuracy_score(y_test, pickle_model_lr.predict(x_test))\n",
    "lr_precision = precision_score(y_test, pickle_model_lr.predict(x_test))\n",
    "lr_recall = recall_score(y_test, pickle_model_lr.predict(x_test))\n",
    "lr_f1 = f1_score(y_test, pickle_model_lr.predict(x_test))\n",
    "lr_fpr, lr_tpr, lr_thresholds = roc_curve(y_test, pickle_model_lr.predict(x_test)) \n",
    "lr_auc = auc(lr_fpr, lr_tpr)\n",
    "\n",
    "with open(\"gb.pkl\", 'rb') as file:\n",
    "    pickle_model_gb = pickle.load(file)\n",
    "gb_ac = accuracy_score(y_test, pickle_model_gb.predict(x_test))\n",
    "gb_precision = precision_score(y_test, pickle_model_gb.predict(x_test))\n",
    "gb_recall = recall_score(y_test, pickle_model_gb.predict(x_test))\n",
    "gb_f1 = f1_score(y_test, pickle_model_gb.predict(x_test))\n",
    "gb_fpr, gb_tpr, gb_thresholds = roc_curve(y_test, pickle_model_gb.predict(x_test)) \n",
    "gb_auc = auc(gb_fpr, gb_tpr)\n",
    "\n",
    "with open(\"dt.pkl\", 'rb') as file:\n",
    "    pickle_model_dt = pickle.load(file)\n",
    "dt_ac = accuracy_score(y_test, pickle_model_dt.predict(x_test))\n",
    "dt_precision = precision_score(y_test, pickle_model_dt.predict(x_test))\n",
    "dt_recall = recall_score(y_test, pickle_model_dt.predict(x_test))\n",
    "dt_f1 = f1_score(y_test, pickle_model_dt.predict(x_test))\n",
    "dt_fpr, dt_tpr, dt_thresholds = roc_curve(y_test, pickle_model_dt.predict(x_test)) \n",
    "dt_auc = auc(dt_fpr, dt_tpr)\n",
    "\n",
    "with open(\"knn.pkl\", 'rb') as file:\n",
    "    pickle_model_knn = pickle.load(file)\n",
    "knn_ac = accuracy_score(y_test, pickle_model_knn.predict(x_test))\n",
    "knn_precision = precision_score(y_test, pickle_model_knn.predict(x_test))\n",
    "knn_recall = recall_score(y_test, pickle_model_knn.predict(x_test))\n",
    "knn_f1 = f1_score(y_test, pickle_model_knn.predict(x_test))\n",
    "knn_fpr, knn_tpr, knn_thresholds = roc_curve(y_test, pickle_model_knn.predict(x_test)) \n",
    "knn_auc = auc(knn_fpr, knn_tpr)\n",
    "\n",
    "dnn_model = load_model('dnn.h5')\n",
    "dnn_pred = dnn_model.predict_classes(x_test)\n",
    "dnn_ac = accuracy_score(y_test, dnn_pred)\n",
    "dnn_precision = precision_score(y_test, dnn_pred)\n",
    "dnn_recall = recall_score(y_test, dnn_pred)\n",
    "dnn_f1 = f1_score(y_test, dnn_pred)\n",
    "dnn_fpr, dnn_tpr, dnn_thresholds = roc_curve(y_test, dnn_pred) \n",
    "dnn_auc = auc(dnn_fpr, dnn_tpr)"
   ]
  },
  {
   "cell_type": "code",
   "execution_count": 3,
   "metadata": {},
   "outputs": [
    {
     "data": {
      "text/html": [
       "<style  type=\"text/css\" >\n",
       "    #T_95aff82c_7c60_11eb_be92_4c1d964a5208row5_col0 {\n",
       "            background:  lightblue;\n",
       "        }    #T_95aff82c_7c60_11eb_be92_4c1d964a5208row5_col1 {\n",
       "            background:  lightblue;\n",
       "        }    #T_95aff82c_7c60_11eb_be92_4c1d964a5208row5_col2 {\n",
       "            background:  lightblue;\n",
       "        }    #T_95aff82c_7c60_11eb_be92_4c1d964a5208row5_col3 {\n",
       "            background:  lightblue;\n",
       "        }    #T_95aff82c_7c60_11eb_be92_4c1d964a5208row5_col4 {\n",
       "            background:  lightblue;\n",
       "        }    #T_95aff82c_7c60_11eb_be92_4c1d964a5208row5_col5 {\n",
       "            background:  lightblue;\n",
       "        }</style><table id=\"T_95aff82c_7c60_11eb_be92_4c1d964a5208\" ><thead>    <tr>        <th class=\"blank level0\" ></th>        <th class=\"col_heading level0 col0\" >Models</th>        <th class=\"col_heading level0 col1\" >Accuracy</th>        <th class=\"col_heading level0 col2\" >Precision</th>        <th class=\"col_heading level0 col3\" >Recall</th>        <th class=\"col_heading level0 col4\" >F1</th>        <th class=\"col_heading level0 col5\" >AUC</th>    </tr></thead><tbody>\n",
       "                <tr>\n",
       "                        <th id=\"T_95aff82c_7c60_11eb_be92_4c1d964a5208level0_row0\" class=\"row_heading level0 row0\" >0</th>\n",
       "                        <td id=\"T_95aff82c_7c60_11eb_be92_4c1d964a5208row0_col0\" class=\"data row0 col0\" >DNN</td>\n",
       "                        <td id=\"T_95aff82c_7c60_11eb_be92_4c1d964a5208row0_col1\" class=\"data row0 col1\" >0.966165</td>\n",
       "                        <td id=\"T_95aff82c_7c60_11eb_be92_4c1d964a5208row0_col2\" class=\"data row0 col2\" >0.949275</td>\n",
       "                        <td id=\"T_95aff82c_7c60_11eb_be92_4c1d964a5208row0_col3\" class=\"data row0 col3\" >0.984962</td>\n",
       "                        <td id=\"T_95aff82c_7c60_11eb_be92_4c1d964a5208row0_col4\" class=\"data row0 col4\" >0.966790</td>\n",
       "                        <td id=\"T_95aff82c_7c60_11eb_be92_4c1d964a5208row0_col5\" class=\"data row0 col5\" >0.966165</td>\n",
       "            </tr>\n",
       "            <tr>\n",
       "                        <th id=\"T_95aff82c_7c60_11eb_be92_4c1d964a5208level0_row1\" class=\"row_heading level0 row1\" >1</th>\n",
       "                        <td id=\"T_95aff82c_7c60_11eb_be92_4c1d964a5208row1_col0\" class=\"data row1 col0\" >Decision-Tree</td>\n",
       "                        <td id=\"T_95aff82c_7c60_11eb_be92_4c1d964a5208row1_col1\" class=\"data row1 col1\" >0.951128</td>\n",
       "                        <td id=\"T_95aff82c_7c60_11eb_be92_4c1d964a5208row1_col2\" class=\"data row1 col2\" >0.941176</td>\n",
       "                        <td id=\"T_95aff82c_7c60_11eb_be92_4c1d964a5208row1_col3\" class=\"data row1 col3\" >0.962406</td>\n",
       "                        <td id=\"T_95aff82c_7c60_11eb_be92_4c1d964a5208row1_col4\" class=\"data row1 col4\" >0.951673</td>\n",
       "                        <td id=\"T_95aff82c_7c60_11eb_be92_4c1d964a5208row1_col5\" class=\"data row1 col5\" >0.951128</td>\n",
       "            </tr>\n",
       "            <tr>\n",
       "                        <th id=\"T_95aff82c_7c60_11eb_be92_4c1d964a5208level0_row2\" class=\"row_heading level0 row2\" >2</th>\n",
       "                        <td id=\"T_95aff82c_7c60_11eb_be92_4c1d964a5208row2_col0\" class=\"data row2 col0\" >Gradient Boosting</td>\n",
       "                        <td id=\"T_95aff82c_7c60_11eb_be92_4c1d964a5208row2_col1\" class=\"data row2 col1\" >0.966165</td>\n",
       "                        <td id=\"T_95aff82c_7c60_11eb_be92_4c1d964a5208row2_col2\" class=\"data row2 col2\" >0.942857</td>\n",
       "                        <td id=\"T_95aff82c_7c60_11eb_be92_4c1d964a5208row2_col3\" class=\"data row2 col3\" >0.992481</td>\n",
       "                        <td id=\"T_95aff82c_7c60_11eb_be92_4c1d964a5208row2_col4\" class=\"data row2 col4\" >0.967033</td>\n",
       "                        <td id=\"T_95aff82c_7c60_11eb_be92_4c1d964a5208row2_col5\" class=\"data row2 col5\" >0.966165</td>\n",
       "            </tr>\n",
       "            <tr>\n",
       "                        <th id=\"T_95aff82c_7c60_11eb_be92_4c1d964a5208level0_row3\" class=\"row_heading level0 row3\" >3</th>\n",
       "                        <td id=\"T_95aff82c_7c60_11eb_be92_4c1d964a5208row3_col0\" class=\"data row3 col0\" >KNN</td>\n",
       "                        <td id=\"T_95aff82c_7c60_11eb_be92_4c1d964a5208row3_col1\" class=\"data row3 col1\" >0.962406</td>\n",
       "                        <td id=\"T_95aff82c_7c60_11eb_be92_4c1d964a5208row3_col2\" class=\"data row3 col2\" >0.942446</td>\n",
       "                        <td id=\"T_95aff82c_7c60_11eb_be92_4c1d964a5208row3_col3\" class=\"data row3 col3\" >0.984962</td>\n",
       "                        <td id=\"T_95aff82c_7c60_11eb_be92_4c1d964a5208row3_col4\" class=\"data row3 col4\" >0.963235</td>\n",
       "                        <td id=\"T_95aff82c_7c60_11eb_be92_4c1d964a5208row3_col5\" class=\"data row3 col5\" >0.962406</td>\n",
       "            </tr>\n",
       "            <tr>\n",
       "                        <th id=\"T_95aff82c_7c60_11eb_be92_4c1d964a5208level0_row4\" class=\"row_heading level0 row4\" >4</th>\n",
       "                        <td id=\"T_95aff82c_7c60_11eb_be92_4c1d964a5208row4_col0\" class=\"data row4 col0\" >Logistic Regression</td>\n",
       "                        <td id=\"T_95aff82c_7c60_11eb_be92_4c1d964a5208row4_col1\" class=\"data row4 col1\" >0.966165</td>\n",
       "                        <td id=\"T_95aff82c_7c60_11eb_be92_4c1d964a5208row4_col2\" class=\"data row4 col2\" >0.942857</td>\n",
       "                        <td id=\"T_95aff82c_7c60_11eb_be92_4c1d964a5208row4_col3\" class=\"data row4 col3\" >0.992481</td>\n",
       "                        <td id=\"T_95aff82c_7c60_11eb_be92_4c1d964a5208row4_col4\" class=\"data row4 col4\" >0.967033</td>\n",
       "                        <td id=\"T_95aff82c_7c60_11eb_be92_4c1d964a5208row4_col5\" class=\"data row4 col5\" >0.966165</td>\n",
       "            </tr>\n",
       "            <tr>\n",
       "                        <th id=\"T_95aff82c_7c60_11eb_be92_4c1d964a5208level0_row5\" class=\"row_heading level0 row5\" >5</th>\n",
       "                        <td id=\"T_95aff82c_7c60_11eb_be92_4c1d964a5208row5_col0\" class=\"data row5 col0\" >Random-Forest</td>\n",
       "                        <td id=\"T_95aff82c_7c60_11eb_be92_4c1d964a5208row5_col1\" class=\"data row5 col1\" >0.984962</td>\n",
       "                        <td id=\"T_95aff82c_7c60_11eb_be92_4c1d964a5208row5_col2\" class=\"data row5 col2\" >0.977778</td>\n",
       "                        <td id=\"T_95aff82c_7c60_11eb_be92_4c1d964a5208row5_col3\" class=\"data row5 col3\" >0.992481</td>\n",
       "                        <td id=\"T_95aff82c_7c60_11eb_be92_4c1d964a5208row5_col4\" class=\"data row5 col4\" >0.985075</td>\n",
       "                        <td id=\"T_95aff82c_7c60_11eb_be92_4c1d964a5208row5_col5\" class=\"data row5 col5\" >0.984962</td>\n",
       "            </tr>\n",
       "            <tr>\n",
       "                        <th id=\"T_95aff82c_7c60_11eb_be92_4c1d964a5208level0_row6\" class=\"row_heading level0 row6\" >6</th>\n",
       "                        <td id=\"T_95aff82c_7c60_11eb_be92_4c1d964a5208row6_col0\" class=\"data row6 col0\" >SVM</td>\n",
       "                        <td id=\"T_95aff82c_7c60_11eb_be92_4c1d964a5208row6_col1\" class=\"data row6 col1\" >0.966165</td>\n",
       "                        <td id=\"T_95aff82c_7c60_11eb_be92_4c1d964a5208row6_col2\" class=\"data row6 col2\" >0.942857</td>\n",
       "                        <td id=\"T_95aff82c_7c60_11eb_be92_4c1d964a5208row6_col3\" class=\"data row6 col3\" >0.992481</td>\n",
       "                        <td id=\"T_95aff82c_7c60_11eb_be92_4c1d964a5208row6_col4\" class=\"data row6 col4\" >0.967033</td>\n",
       "                        <td id=\"T_95aff82c_7c60_11eb_be92_4c1d964a5208row6_col5\" class=\"data row6 col5\" >0.966165</td>\n",
       "            </tr>\n",
       "    </tbody></table>"
      ],
      "text/plain": [
       "<pandas.io.formats.style.Styler at 0x2134c636be0>"
      ]
     },
     "metadata": {},
     "output_type": "display_data"
    }
   ],
   "source": [
    "all_accuracy = [dnn_ac, dt_ac, gb_ac, knn_ac, lr_ac, rf_ac, svc_ac]\n",
    "all_precision = [dnn_precision, dt_precision, gb_precision, knn_precision, lr_precision, rf_precision, svc_precision]\n",
    "all_recall = [dnn_recall, dt_recall, gb_recall, knn_recall, lr_recall, rf_recall, svc_recall]\n",
    "all_f1 = [dnn_f1, dt_f1, gb_f1, knn_f1, lr_f1, rf_f1, svc_f1]\n",
    "all_auc = [dnn_auc, dt_auc, gb_auc, knn_auc, lr_auc, rf_auc, svc_auc]\n",
    "models = [\"DNN\", \"Decision-Tree\", \"Gradient Boosting\", \"KNN\", \"Logistic Regression\", \"Random-Forest\", \"SVM\"]\n",
    "data = {'Models':models, 'Accuracy':all_accuracy, \"Precision\":all_precision, \"Recall\":all_recall, \"F1\":all_f1, \"AUC\":all_auc}\n",
    "dfg = pd.DataFrame(data, columns=['Models',\"Accuracy\", \"Precision\", \"Recall\", \"F1\", \"AUC\"])\n",
    "display(dfg.style.apply(lambda x: ['background: lightblue' if i == max(dfg[\"Accuracy\"]) else '' for i in dfg[\"Accuracy\"]]))"
   ]
  },
  {
   "cell_type": "code",
   "execution_count": 12,
   "metadata": {},
   "outputs": [],
   "source": [
    "# model.save('dnn.h5')"
   ]
  },
  {
   "cell_type": "code",
   "execution_count": 8,
   "metadata": {},
   "outputs": [
    {
     "data": {
      "image/png": "[encoded data removed]",
      "text/plain": [
       "<Figure size 432x288 with 2 Axes>"
      ]
     },
     "metadata": {
      "needs_background": "light"
     },
     "output_type": "display_data"
    }
   ],
   "source": [
    "# Confusion Matrix from Random-Forest Classifier\n",
    "import seaborn as sns\n",
    "from sklearn.metrics import confusion_matrix\n",
    "cf_matrix = confusion_matrix(y_test, pickle_model_rf.predict(x_test))\n",
    "group_names = ['True Pos', 'False Neg', 'False Pos', 'True Neg']\n",
    "group_counts = cf_matrix.flatten()\n",
    "group_percentages = np.round(cf_matrix.flatten()/sum(cf_matrix.flatten()), 2)\n",
    "labels = [f\"{v1}\\n{v2}\\n{v3}\" for v1, v2, v3 in\n",
    "          zip(group_names,group_counts,group_percentages)]\n",
    "labels = np.asarray(labels).reshape(2,2)\n",
    "sns.heatmap(cf_matrix, annot=labels, cmap='Blues', fmt='')\n",
    "plt.xlabel('Predicted Labels')\n",
    "plt.ylabel('True Labels')\n",
    "plt.title('Confusion Matrix for CHEMBL_2842')\n",
    "plt.show()"
   ]
  },
  {
   "cell_type": "code",
   "execution_count": 11,
   "metadata": {},
   "outputs": [
    {
     "data": {
      "text/plain": [
       "<sklearn.metrics._plot.roc_curve.RocCurveDisplay at 0x213531ebe50>"
      ]
     },
     "execution_count": 11,
     "metadata": {},
     "output_type": "execute_result"
    },
    {
     "data": {
      "image/png": "[encoded data removed]",
      "text/plain": [
       "<Figure size 432x288 with 1 Axes>"
      ]
     },
     "metadata": {
      "needs_background": "light"
     },
     "output_type": "display_data"
    }
   ],
   "source": [
    "# ROC curve for Random-Forest Classifier\n",
    "from sklearn.metrics import plot_roc_curve\n",
    "plot_roc_curve(pickle_model_rf, x_test, y_test)"
   ]
  },
  {
   "cell_type": "code",
   "execution_count": 18,
   "metadata": {},
   "outputs": [
    {
     "data": {
      "text/plain": [
       "[<matplotlib.lines.Line2D at 0x21353444610>]"
      ]
     },
     "execution_count": 18,
     "metadata": {},
     "output_type": "execute_result"
    },
    {
     "data": {
      "image/png": "[encoded data removed]",
      "text/plain": [
       "<Figure size 432x288 with 1 Axes>"
      ]
     },
     "metadata": {
      "needs_background": "light"
     },
     "output_type": "display_data"
    }
   ],
   "source": [
    "plt.plot(dnn_fpr, dnn_tpr)"
   ]
  },
  {
   "cell_type": "code",
   "execution_count": null,
   "metadata": {},
   "outputs": [],
   "source": []
  }
 ],
 "metadata": {
  "kernelspec": {
   "display_name": "Python 3",
   "language": "python",
   "name": "python3"
  },
  "language_info": {
   "codemirror_mode": {
    "name": "ipython",
    "version": 3
   },
   "file_extension": ".py",
   "mimetype": "text/x-python",
   "name": "python",
   "nbconvert_exporter": "python",
   "pygments_lexer": "ipython3",
   "version": "3.8.3"
  }
 },
 "nbformat": 4,
 "nbformat_minor": 4
}
