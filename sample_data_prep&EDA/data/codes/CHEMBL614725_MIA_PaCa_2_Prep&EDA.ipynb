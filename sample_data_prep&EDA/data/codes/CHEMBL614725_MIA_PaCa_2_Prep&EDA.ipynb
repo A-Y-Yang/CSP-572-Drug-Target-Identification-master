{
  "nbformat": 4,
  "nbformat_minor": 0,
  "metadata": {
    "colab": {
      "name": "CHEMBL614725_MIA-PaCa-2_Prep&EDA.ipynb",
      "provenance": [],
      "collapsed_sections": [],
      "toc_visible": true
    },
    "kernelspec": {
      "name": "python3",
      "display_name": "Python 3"
    }
  },
  "cells": [
    {
      "cell_type": "markdown",
      "metadata": {
        "id": "bF5d8D1ubqCe"
      },
      "source": [
        "# **Load ChEMBL data**"
      ]
    },
    {
      "cell_type": "code",
      "metadata": {
        "id": "6z0BHw7iXNbx"
      },
      "source": [
        "import pandas as pd"
      ],
      "execution_count": 1,
      "outputs": []
    },
    {
      "cell_type": "code",
      "metadata": {
        "colab": {
          "base_uri": "https://localhost:8080/",
          "height": 400
        },
        "id": "_EboNnE9U5Tl",
        "outputId": "ef22d85d-aac2-4bf8-ce6f-3f5b8e9b8a6b"
      },
      "source": [
        "df = pd.read_csv('raw_CHEMBL614725_MIA-PaCa-2.csv',sep=\";\")\n",
        "print(df.shape)\n",
        "df.head(3)"
      ],
      "execution_count": 3,
      "outputs": [
        {
          "output_type": "stream",
          "text": [
            "(2182, 45)\n"
          ],
          "name": "stdout"
        },
        {
          "output_type": "execute_result",
          "data": {
            "text/html": [
              "<div>\n",
              "<style scoped>\n",
              "    .dataframe tbody tr th:only-of-type {\n",
              "        vertical-align: middle;\n",
              "    }\n",
              "\n",
              "    .dataframe tbody tr th {\n",
              "        vertical-align: top;\n",
              "    }\n",
              "\n",
              "    .dataframe thead th {\n",
              "        text-align: right;\n",
              "    }\n",
              "</style>\n",
              "<table border=\"1\" class=\"dataframe\">\n",
              "  <thead>\n",
              "    <tr style=\"text-align: right;\">\n",
              "      <th></th>\n",
              "      <th>Molecule ChEMBL ID</th>\n",
              "      <th>Molecule Name</th>\n",
              "      <th>Molecule Max Phase</th>\n",
              "      <th>Molecular Weight</th>\n",
              "      <th>#RO5 Violations</th>\n",
              "      <th>AlogP</th>\n",
              "      <th>Compound Key</th>\n",
              "      <th>Smiles</th>\n",
              "      <th>Standard Type</th>\n",
              "      <th>Standard Relation</th>\n",
              "      <th>Standard Value</th>\n",
              "      <th>Standard Units</th>\n",
              "      <th>pChEMBL Value</th>\n",
              "      <th>Data Validity Comment</th>\n",
              "      <th>Comment</th>\n",
              "      <th>Uo Units</th>\n",
              "      <th>Ligand Efficiency BEI</th>\n",
              "      <th>Ligand Efficiency LE</th>\n",
              "      <th>Ligand Efficiency LLE</th>\n",
              "      <th>Ligand Efficiency SEI</th>\n",
              "      <th>Potential Duplicate</th>\n",
              "      <th>Assay ChEMBL ID</th>\n",
              "      <th>Assay Description</th>\n",
              "      <th>Assay Type</th>\n",
              "      <th>BAO Format ID</th>\n",
              "      <th>BAO Label</th>\n",
              "      <th>Assay Organism</th>\n",
              "      <th>Assay Tissue ChEMBL ID</th>\n",
              "      <th>Assay Tissue Name</th>\n",
              "      <th>Assay Cell Type</th>\n",
              "      <th>Assay Subcellular Fraction</th>\n",
              "      <th>Assay Parameters</th>\n",
              "      <th>Assay Variant Accession</th>\n",
              "      <th>Assay Variant Mutation</th>\n",
              "      <th>Target ChEMBL ID</th>\n",
              "      <th>Target Name</th>\n",
              "      <th>Target Organism</th>\n",
              "      <th>Target Type</th>\n",
              "      <th>Document ChEMBL ID</th>\n",
              "      <th>Source ID</th>\n",
              "      <th>Source Description</th>\n",
              "      <th>Document Journal</th>\n",
              "      <th>Document Year</th>\n",
              "      <th>Cell ChEMBL ID</th>\n",
              "      <th>Properties</th>\n",
              "    </tr>\n",
              "  </thead>\n",
              "  <tbody>\n",
              "    <tr>\n",
              "      <th>0</th>\n",
              "      <td>CHEMBL4470501</td>\n",
              "      <td>NaN</td>\n",
              "      <td>0</td>\n",
              "      <td>545.08</td>\n",
              "      <td>0</td>\n",
              "      <td>2.85</td>\n",
              "      <td>5</td>\n",
              "      <td>C[N+](C)(C)CCc1cc(I)c(O)c(I)c1.O=C([O-])C(F)(F)F</td>\n",
              "      <td>IC50</td>\n",
              "      <td>NaN</td>\n",
              "      <td>NaN</td>\n",
              "      <td>NaN</td>\n",
              "      <td>NaN</td>\n",
              "      <td>NaN</td>\n",
              "      <td>Not Active</td>\n",
              "      <td>NaN</td>\n",
              "      <td>NaN</td>\n",
              "      <td>NaN</td>\n",
              "      <td>NaN</td>\n",
              "      <td>NaN</td>\n",
              "      <td>False</td>\n",
              "      <td>CHEMBL4321671</td>\n",
              "      <td>Cytotoxicity in human MIAPaCa2 cells incubated...</td>\n",
              "      <td>F</td>\n",
              "      <td>BAO_0000219</td>\n",
              "      <td>cell-based format</td>\n",
              "      <td>Homo sapiens</td>\n",
              "      <td>None</td>\n",
              "      <td>None</td>\n",
              "      <td>MIA PaCa-2</td>\n",
              "      <td>None</td>\n",
              "      <td>NaN</td>\n",
              "      <td>NaN</td>\n",
              "      <td>NaN</td>\n",
              "      <td>CHEMBL614725</td>\n",
              "      <td>MIA PaCa-2</td>\n",
              "      <td>Homo sapiens</td>\n",
              "      <td>CELL-LINE</td>\n",
              "      <td>CHEMBL4316651</td>\n",
              "      <td>1</td>\n",
              "      <td>Scientific Literature</td>\n",
              "      <td>J Nat Prod</td>\n",
              "      <td>2019.0</td>\n",
              "      <td>CHEMBL3308500</td>\n",
              "      <td>NaN</td>\n",
              "    </tr>\n",
              "    <tr>\n",
              "      <th>1</th>\n",
              "      <td>CHEMBL4060096</td>\n",
              "      <td>NaN</td>\n",
              "      <td>0</td>\n",
              "      <td>266.34</td>\n",
              "      <td>0</td>\n",
              "      <td>4.34</td>\n",
              "      <td>16b</td>\n",
              "      <td>CCCc1ccc(C2CC=CC(=O)O2)c2ccccc12</td>\n",
              "      <td>IC50</td>\n",
              "      <td>'='</td>\n",
              "      <td>1500.0</td>\n",
              "      <td>nM</td>\n",
              "      <td>5.82</td>\n",
              "      <td>NaN</td>\n",
              "      <td>NaN</td>\n",
              "      <td>UO_0000065</td>\n",
              "      <td>NaN</td>\n",
              "      <td>NaN</td>\n",
              "      <td>NaN</td>\n",
              "      <td>NaN</td>\n",
              "      <td>False</td>\n",
              "      <td>CHEMBL4057053</td>\n",
              "      <td>Antiproliferative activity against human MIAPa...</td>\n",
              "      <td>F</td>\n",
              "      <td>BAO_0000219</td>\n",
              "      <td>cell-based format</td>\n",
              "      <td>Homo sapiens</td>\n",
              "      <td>None</td>\n",
              "      <td>None</td>\n",
              "      <td>MIA PaCa-2</td>\n",
              "      <td>None</td>\n",
              "      <td>NaN</td>\n",
              "      <td>NaN</td>\n",
              "      <td>NaN</td>\n",
              "      <td>CHEMBL614725</td>\n",
              "      <td>MIA PaCa-2</td>\n",
              "      <td>Homo sapiens</td>\n",
              "      <td>CELL-LINE</td>\n",
              "      <td>CHEMBL4052751</td>\n",
              "      <td>1</td>\n",
              "      <td>Scientific Literature</td>\n",
              "      <td>Bioorg Med Chem</td>\n",
              "      <td>2017.0</td>\n",
              "      <td>CHEMBL3308500</td>\n",
              "      <td>NaN</td>\n",
              "    </tr>\n",
              "    <tr>\n",
              "      <th>2</th>\n",
              "      <td>CHEMBL1092797</td>\n",
              "      <td>DIHYDROCELASTROL</td>\n",
              "      <td>0</td>\n",
              "      <td>452.64</td>\n",
              "      <td>1</td>\n",
              "      <td>6.64</td>\n",
              "      <td>2</td>\n",
              "      <td>Cc1c(O)c(O)cc2c1CC=C1[C@@]3(C)CC[C@@]4(C)CC[C@...</td>\n",
              "      <td>IC50</td>\n",
              "      <td>'='</td>\n",
              "      <td>720.0</td>\n",
              "      <td>nM</td>\n",
              "      <td>6.14</td>\n",
              "      <td>NaN</td>\n",
              "      <td>NaN</td>\n",
              "      <td>UO_0000065</td>\n",
              "      <td>NaN</td>\n",
              "      <td>NaN</td>\n",
              "      <td>NaN</td>\n",
              "      <td>NaN</td>\n",
              "      <td>False</td>\n",
              "      <td>CHEMBL4133423</td>\n",
              "      <td>Antiproliferative activity against human MIAPa...</td>\n",
              "      <td>F</td>\n",
              "      <td>BAO_0000219</td>\n",
              "      <td>cell-based format</td>\n",
              "      <td>Homo sapiens</td>\n",
              "      <td>None</td>\n",
              "      <td>None</td>\n",
              "      <td>MIA PaCa-2</td>\n",
              "      <td>None</td>\n",
              "      <td>NaN</td>\n",
              "      <td>NaN</td>\n",
              "      <td>NaN</td>\n",
              "      <td>CHEMBL614725</td>\n",
              "      <td>MIA PaCa-2</td>\n",
              "      <td>Homo sapiens</td>\n",
              "      <td>CELL-LINE</td>\n",
              "      <td>CHEMBL4130422</td>\n",
              "      <td>1</td>\n",
              "      <td>Scientific Literature</td>\n",
              "      <td>Eur J Med Chem</td>\n",
              "      <td>2017.0</td>\n",
              "      <td>CHEMBL3308500</td>\n",
              "      <td>NaN</td>\n",
              "    </tr>\n",
              "  </tbody>\n",
              "</table>\n",
              "</div>"
            ],
            "text/plain": [
              "  Molecule ChEMBL ID     Molecule Name  ...  Cell ChEMBL ID  Properties\n",
              "0      CHEMBL4470501               NaN  ...   CHEMBL3308500         NaN\n",
              "1      CHEMBL4060096               NaN  ...   CHEMBL3308500         NaN\n",
              "2      CHEMBL1092797  DIHYDROCELASTROL  ...   CHEMBL3308500         NaN\n",
              "\n",
              "[3 rows x 45 columns]"
            ]
          },
          "metadata": {
            "tags": []
          },
          "execution_count": 3
        }
      ]
    },
    {
      "cell_type": "code",
      "metadata": {
        "id": "9ulYUxxuxf3R"
      },
      "source": [
        "#print(df.columns)"
      ],
      "execution_count": 4,
      "outputs": []
    },
    {
      "cell_type": "markdown",
      "metadata": {
        "id": "Bxh_BJXXD44a"
      },
      "source": [
        "## **Filter data by standard units**"
      ]
    },
    {
      "cell_type": "code",
      "metadata": {
        "colab": {
          "base_uri": "https://localhost:8080/"
        },
        "id": "5gGi-IkhXgH5",
        "outputId": "24e6a157-8d72-4488-f101-8578a050e9cf"
      },
      "source": [
        "# Check if the data only has target_organism=='Homo sapiens'\n",
        "print(pd.unique(df['Target Organism']))\n",
        "# Filter data by target_organism=='Homo sapiens'\n",
        "df=df[df['Target Organism'].isin(['Homo sapiens'])]\n",
        "print(pd.unique(df['Target Organism']))\n",
        "print(df.shape)\n",
        "\n",
        "# Check if the data only has standard_type=='IC50'\n",
        "print(pd.unique(df['Standard Type']))\n",
        "\n",
        "print(pd.unique(df['Standard Units']))\n",
        "# Filter data by units = ['nM','ug.mL-1','uM','pM','ug/g']\n",
        "units = ['nM','ug.mL-1','uM','pM','ug/g']\n",
        "df=df[df['Standard Units'].isin(units)].reset_index().drop(columns='index')\n",
        "\n",
        "print(pd.unique(df['Standard Units']))\n",
        "print(df.shape)"
      ],
      "execution_count": 5,
      "outputs": [
        {
          "output_type": "stream",
          "text": [
            "['Homo sapiens']\n",
            "['Homo sapiens']\n",
            "(2182, 45)\n",
            "['IC50']\n",
            "[nan 'nM' 'ug.mL-1' 'ug/g']\n",
            "['nM' 'ug.mL-1' 'ug/g']\n",
            "(2115, 45)\n"
          ],
          "name": "stdout"
        }
      ]
    },
    {
      "cell_type": "markdown",
      "metadata": {
        "id": "Tv3c702db5Mp"
      },
      "source": [
        "# **Data Cleaning**\n"
      ]
    },
    {
      "cell_type": "markdown",
      "metadata": {
        "id": "8f4FZxXvb-he"
      },
      "source": [
        "* Drop missing SMILE notation\n",
        "* Drop missing standard values\n",
        "* Drop duplicated assays (by assay ID)\n"
      ]
    },
    {
      "cell_type": "code",
      "metadata": {
        "colab": {
          "base_uri": "https://localhost:8080/",
          "height": 417
        },
        "id": "a5ktVeW-cSs0",
        "outputId": "f531c25d-dc5f-4165-bfb3-815b37bf306a"
      },
      "source": [
        "# Drop compounds having missing standard_value.\n",
        "df2 = df[df['Standard Value'].notna()]\n",
        "print(df2.shape)\n",
        "\n",
        "# Drop compounds having missing canonical_smiles column.\n",
        "df2 = df2[df['Smiles'].notna()]\n",
        "print(df2.shape)\n",
        "\n",
        "# Reset index\n",
        "df2 = df2.reset_index().drop(columns='index')\n",
        "print(df2.shape)\n",
        "df2.head(3)"
      ],
      "execution_count": 6,
      "outputs": [
        {
          "output_type": "stream",
          "text": [
            "(2115, 45)\n",
            "(2114, 45)\n",
            "(2114, 45)\n"
          ],
          "name": "stdout"
        },
        {
          "output_type": "execute_result",
          "data": {
            "text/html": [
              "<div>\n",
              "<style scoped>\n",
              "    .dataframe tbody tr th:only-of-type {\n",
              "        vertical-align: middle;\n",
              "    }\n",
              "\n",
              "    .dataframe tbody tr th {\n",
              "        vertical-align: top;\n",
              "    }\n",
              "\n",
              "    .dataframe thead th {\n",
              "        text-align: right;\n",
              "    }\n",
              "</style>\n",
              "<table border=\"1\" class=\"dataframe\">\n",
              "  <thead>\n",
              "    <tr style=\"text-align: right;\">\n",
              "      <th></th>\n",
              "      <th>Molecule ChEMBL ID</th>\n",
              "      <th>Molecule Name</th>\n",
              "      <th>Molecule Max Phase</th>\n",
              "      <th>Molecular Weight</th>\n",
              "      <th>#RO5 Violations</th>\n",
              "      <th>AlogP</th>\n",
              "      <th>Compound Key</th>\n",
              "      <th>Smiles</th>\n",
              "      <th>Standard Type</th>\n",
              "      <th>Standard Relation</th>\n",
              "      <th>Standard Value</th>\n",
              "      <th>Standard Units</th>\n",
              "      <th>pChEMBL Value</th>\n",
              "      <th>Data Validity Comment</th>\n",
              "      <th>Comment</th>\n",
              "      <th>Uo Units</th>\n",
              "      <th>Ligand Efficiency BEI</th>\n",
              "      <th>Ligand Efficiency LE</th>\n",
              "      <th>Ligand Efficiency LLE</th>\n",
              "      <th>Ligand Efficiency SEI</th>\n",
              "      <th>Potential Duplicate</th>\n",
              "      <th>Assay ChEMBL ID</th>\n",
              "      <th>Assay Description</th>\n",
              "      <th>Assay Type</th>\n",
              "      <th>BAO Format ID</th>\n",
              "      <th>BAO Label</th>\n",
              "      <th>Assay Organism</th>\n",
              "      <th>Assay Tissue ChEMBL ID</th>\n",
              "      <th>Assay Tissue Name</th>\n",
              "      <th>Assay Cell Type</th>\n",
              "      <th>Assay Subcellular Fraction</th>\n",
              "      <th>Assay Parameters</th>\n",
              "      <th>Assay Variant Accession</th>\n",
              "      <th>Assay Variant Mutation</th>\n",
              "      <th>Target ChEMBL ID</th>\n",
              "      <th>Target Name</th>\n",
              "      <th>Target Organism</th>\n",
              "      <th>Target Type</th>\n",
              "      <th>Document ChEMBL ID</th>\n",
              "      <th>Source ID</th>\n",
              "      <th>Source Description</th>\n",
              "      <th>Document Journal</th>\n",
              "      <th>Document Year</th>\n",
              "      <th>Cell ChEMBL ID</th>\n",
              "      <th>Properties</th>\n",
              "    </tr>\n",
              "  </thead>\n",
              "  <tbody>\n",
              "    <tr>\n",
              "      <th>0</th>\n",
              "      <td>CHEMBL4060096</td>\n",
              "      <td>NaN</td>\n",
              "      <td>0</td>\n",
              "      <td>266.34</td>\n",
              "      <td>0</td>\n",
              "      <td>4.34</td>\n",
              "      <td>16b</td>\n",
              "      <td>CCCc1ccc(C2CC=CC(=O)O2)c2ccccc12</td>\n",
              "      <td>IC50</td>\n",
              "      <td>'='</td>\n",
              "      <td>1500.0</td>\n",
              "      <td>nM</td>\n",
              "      <td>5.82</td>\n",
              "      <td>NaN</td>\n",
              "      <td>NaN</td>\n",
              "      <td>UO_0000065</td>\n",
              "      <td>NaN</td>\n",
              "      <td>NaN</td>\n",
              "      <td>NaN</td>\n",
              "      <td>NaN</td>\n",
              "      <td>False</td>\n",
              "      <td>CHEMBL4057053</td>\n",
              "      <td>Antiproliferative activity against human MIAPa...</td>\n",
              "      <td>F</td>\n",
              "      <td>BAO_0000219</td>\n",
              "      <td>cell-based format</td>\n",
              "      <td>Homo sapiens</td>\n",
              "      <td>None</td>\n",
              "      <td>None</td>\n",
              "      <td>MIA PaCa-2</td>\n",
              "      <td>None</td>\n",
              "      <td>NaN</td>\n",
              "      <td>NaN</td>\n",
              "      <td>NaN</td>\n",
              "      <td>CHEMBL614725</td>\n",
              "      <td>MIA PaCa-2</td>\n",
              "      <td>Homo sapiens</td>\n",
              "      <td>CELL-LINE</td>\n",
              "      <td>CHEMBL4052751</td>\n",
              "      <td>1</td>\n",
              "      <td>Scientific Literature</td>\n",
              "      <td>Bioorg Med Chem</td>\n",
              "      <td>2017.0</td>\n",
              "      <td>CHEMBL3308500</td>\n",
              "      <td>NaN</td>\n",
              "    </tr>\n",
              "    <tr>\n",
              "      <th>1</th>\n",
              "      <td>CHEMBL1092797</td>\n",
              "      <td>DIHYDROCELASTROL</td>\n",
              "      <td>0</td>\n",
              "      <td>452.64</td>\n",
              "      <td>1</td>\n",
              "      <td>6.64</td>\n",
              "      <td>2</td>\n",
              "      <td>Cc1c(O)c(O)cc2c1CC=C1[C@@]3(C)CC[C@@]4(C)CC[C@...</td>\n",
              "      <td>IC50</td>\n",
              "      <td>'='</td>\n",
              "      <td>720.0</td>\n",
              "      <td>nM</td>\n",
              "      <td>6.14</td>\n",
              "      <td>NaN</td>\n",
              "      <td>NaN</td>\n",
              "      <td>UO_0000065</td>\n",
              "      <td>NaN</td>\n",
              "      <td>NaN</td>\n",
              "      <td>NaN</td>\n",
              "      <td>NaN</td>\n",
              "      <td>False</td>\n",
              "      <td>CHEMBL4133423</td>\n",
              "      <td>Antiproliferative activity against human MIAPa...</td>\n",
              "      <td>F</td>\n",
              "      <td>BAO_0000219</td>\n",
              "      <td>cell-based format</td>\n",
              "      <td>Homo sapiens</td>\n",
              "      <td>None</td>\n",
              "      <td>None</td>\n",
              "      <td>MIA PaCa-2</td>\n",
              "      <td>None</td>\n",
              "      <td>NaN</td>\n",
              "      <td>NaN</td>\n",
              "      <td>NaN</td>\n",
              "      <td>CHEMBL614725</td>\n",
              "      <td>MIA PaCa-2</td>\n",
              "      <td>Homo sapiens</td>\n",
              "      <td>CELL-LINE</td>\n",
              "      <td>CHEMBL4130422</td>\n",
              "      <td>1</td>\n",
              "      <td>Scientific Literature</td>\n",
              "      <td>Eur J Med Chem</td>\n",
              "      <td>2017.0</td>\n",
              "      <td>CHEMBL3308500</td>\n",
              "      <td>NaN</td>\n",
              "    </tr>\n",
              "    <tr>\n",
              "      <th>2</th>\n",
              "      <td>CHEMBL2376666</td>\n",
              "      <td>NaN</td>\n",
              "      <td>0</td>\n",
              "      <td>560.32</td>\n",
              "      <td>1</td>\n",
              "      <td>3.82</td>\n",
              "      <td>28</td>\n",
              "      <td>NC(=O)c1c(Nc2ccc(I)cc2F)cc(F)cc1Oc1cccc(NS(N)(...</td>\n",
              "      <td>IC50</td>\n",
              "      <td>'='</td>\n",
              "      <td>23.0</td>\n",
              "      <td>nM</td>\n",
              "      <td>7.64</td>\n",
              "      <td>NaN</td>\n",
              "      <td>NaN</td>\n",
              "      <td>UO_0000065</td>\n",
              "      <td>NaN</td>\n",
              "      <td>NaN</td>\n",
              "      <td>NaN</td>\n",
              "      <td>NaN</td>\n",
              "      <td>False</td>\n",
              "      <td>CHEMBL2379930</td>\n",
              "      <td>Antiproliferative activity against human MIAPa...</td>\n",
              "      <td>F</td>\n",
              "      <td>BAO_0000219</td>\n",
              "      <td>cell-based format</td>\n",
              "      <td>Homo sapiens</td>\n",
              "      <td>None</td>\n",
              "      <td>None</td>\n",
              "      <td>MIA PaCa-2</td>\n",
              "      <td>None</td>\n",
              "      <td>NaN</td>\n",
              "      <td>NaN</td>\n",
              "      <td>NaN</td>\n",
              "      <td>CHEMBL614725</td>\n",
              "      <td>MIA PaCa-2</td>\n",
              "      <td>Homo sapiens</td>\n",
              "      <td>CELL-LINE</td>\n",
              "      <td>CHEMBL2375237</td>\n",
              "      <td>1</td>\n",
              "      <td>Scientific Literature</td>\n",
              "      <td>Bioorg. Med. Chem. Lett.</td>\n",
              "      <td>2013.0</td>\n",
              "      <td>CHEMBL3308500</td>\n",
              "      <td>NaN</td>\n",
              "    </tr>\n",
              "  </tbody>\n",
              "</table>\n",
              "</div>"
            ],
            "text/plain": [
              "  Molecule ChEMBL ID     Molecule Name  ...  Cell ChEMBL ID  Properties\n",
              "0      CHEMBL4060096               NaN  ...   CHEMBL3308500         NaN\n",
              "1      CHEMBL1092797  DIHYDROCELASTROL  ...   CHEMBL3308500         NaN\n",
              "2      CHEMBL2376666               NaN  ...   CHEMBL3308500         NaN\n",
              "\n",
              "[3 rows x 45 columns]"
            ]
          },
          "metadata": {
            "tags": []
          },
          "execution_count": 6
        }
      ]
    },
    {
      "cell_type": "markdown",
      "metadata": {
        "id": "vkJFVW2Ybmxj"
      },
      "source": [
        "## **Convert Standard Units**"
      ]
    },
    {
      "cell_type": "code",
      "metadata": {
        "id": "_iUqTZLpbpME"
      },
      "source": [
        "#df['Molecular Weight']"
      ],
      "execution_count": 7,
      "outputs": []
    },
    {
      "cell_type": "code",
      "metadata": {
        "colab": {
          "base_uri": "https://localhost:8080/",
          "height": 204
        },
        "id": "HP2I57jCrrci",
        "outputId": "88a0b07e-79ed-4c98-b966-6c54eaf161e5"
      },
      "source": [
        "df2 = df2.sort_values('Standard Value').reset_index().drop(columns='index')\n",
        "df2[['Standard Units','Standard Value','Molecular Weight']].tail(5)"
      ],
      "execution_count": 8,
      "outputs": [
        {
          "output_type": "execute_result",
          "data": {
            "text/html": [
              "<div>\n",
              "<style scoped>\n",
              "    .dataframe tbody tr th:only-of-type {\n",
              "        vertical-align: middle;\n",
              "    }\n",
              "\n",
              "    .dataframe tbody tr th {\n",
              "        vertical-align: top;\n",
              "    }\n",
              "\n",
              "    .dataframe thead th {\n",
              "        text-align: right;\n",
              "    }\n",
              "</style>\n",
              "<table border=\"1\" class=\"dataframe\">\n",
              "  <thead>\n",
              "    <tr style=\"text-align: right;\">\n",
              "      <th></th>\n",
              "      <th>Standard Units</th>\n",
              "      <th>Standard Value</th>\n",
              "      <th>Molecular Weight</th>\n",
              "    </tr>\n",
              "  </thead>\n",
              "  <tbody>\n",
              "    <tr>\n",
              "      <th>2109</th>\n",
              "      <td>nM</td>\n",
              "      <td>6.459000e+06</td>\n",
              "      <td>295.73</td>\n",
              "    </tr>\n",
              "    <tr>\n",
              "      <th>2110</th>\n",
              "      <td>nM</td>\n",
              "      <td>9.186066e+06</td>\n",
              "      <td>338.21</td>\n",
              "    </tr>\n",
              "    <tr>\n",
              "      <th>2111</th>\n",
              "      <td>nM</td>\n",
              "      <td>1.890000e+07</td>\n",
              "      <td>111.03</td>\n",
              "    </tr>\n",
              "    <tr>\n",
              "      <th>2112</th>\n",
              "      <td>nM</td>\n",
              "      <td>2.226319e+07</td>\n",
              "      <td>129.17</td>\n",
              "    </tr>\n",
              "    <tr>\n",
              "      <th>2113</th>\n",
              "      <td>nM</td>\n",
              "      <td>1.000000e+08</td>\n",
              "      <td>357.79</td>\n",
              "    </tr>\n",
              "  </tbody>\n",
              "</table>\n",
              "</div>"
            ],
            "text/plain": [
              "     Standard Units  Standard Value  Molecular Weight\n",
              "2109             nM    6.459000e+06            295.73\n",
              "2110             nM    9.186066e+06            338.21\n",
              "2111             nM    1.890000e+07            111.03\n",
              "2112             nM    2.226319e+07            129.17\n",
              "2113             nM    1.000000e+08            357.79"
            ]
          },
          "metadata": {
            "tags": []
          },
          "execution_count": 8
        }
      ]
    },
    {
      "cell_type": "code",
      "metadata": {
        "id": "kddmF1CadME5"
      },
      "source": [
        "#units = ['nM','ug.mL-1','uM','pM','ug/g']\n",
        "\n",
        "standard_unit_nM = []\n",
        "\n",
        "for i,j,k in zip(df2['Standard Units'],df2['Standard Value'],df2['Molecular Weight']):\n",
        "    if i == 'nM':\n",
        "      standard_unit_nM.append(float(j))\n",
        "    elif i == 'ug.mL-1':\n",
        "      standard_unit_nM.append(float(1000000*float(j)/float(k)))\n",
        "    elif i == 'uM':\n",
        "      standard_unit_nM.append(float(1000*float(j)))\n",
        "    elif i == 'pM':\n",
        "      standard_unit_nM.append(float(float(j)/1000))\n",
        "    elif i == 'ug/g':\n",
        "      standard_unit_nM.append(float(1000000*float(j)/float(k)))\n",
        "\n"
      ],
      "execution_count": 9,
      "outputs": []
    },
    {
      "cell_type": "code",
      "metadata": {
        "colab": {
          "base_uri": "https://localhost:8080/"
        },
        "id": "6O_2HGa9sppb",
        "outputId": "84bf5828-8825-482c-d352-ac34712b875b"
      },
      "source": [
        "#standard_unit_nM\n",
        "standard_value_nM = pd.Series(standard_unit_nM, name='standard_value_nM')\n",
        "print(standard_value_nM.shape)\n",
        "standard_value_nM.tail(3)"
      ],
      "execution_count": 10,
      "outputs": [
        {
          "output_type": "stream",
          "text": [
            "(2114,)\n"
          ],
          "name": "stdout"
        },
        {
          "output_type": "execute_result",
          "data": {
            "text/plain": [
              "2111    1.890000e+07\n",
              "2112    2.226319e+07\n",
              "2113    1.000000e+08\n",
              "Name: standard_value_nM, dtype: float64"
            ]
          },
          "metadata": {
            "tags": []
          },
          "execution_count": 10
        }
      ]
    },
    {
      "cell_type": "code",
      "metadata": {
        "colab": {
          "base_uri": "https://localhost:8080/",
          "height": 193
        },
        "id": "YzdgVxskqaw_",
        "outputId": "6fa4e900-6834-49d2-de76-9f7c53430eda"
      },
      "source": [
        "df3 = pd.concat([df2, standard_value_nM], axis=1)\n",
        "#df3.columns\n",
        "#df3[['Standard Value','Standard Units','standard_unit_nM']]\n",
        "\n",
        "print(standard_value_nM.shape)\n",
        "print(df2.shape)\n",
        "print(df3.shape)\n",
        "\n",
        "# Sort data by ascending 'standard_unit_nM' values.\n",
        "df3 = df3.sort_values('standard_value_nM',ascending=True).reset_index().drop(columns='index')\n",
        "df3[['Standard Value','Standard Units','standard_value_nM', 'Molecular Weight']].loc[(df3['Standard Units']=='ug.mL-1')].tail(3)"
      ],
      "execution_count": 11,
      "outputs": [
        {
          "output_type": "stream",
          "text": [
            "(2114,)\n",
            "(2114, 45)\n",
            "(2114, 46)\n"
          ],
          "name": "stdout"
        },
        {
          "output_type": "execute_result",
          "data": {
            "text/html": [
              "<div>\n",
              "<style scoped>\n",
              "    .dataframe tbody tr th:only-of-type {\n",
              "        vertical-align: middle;\n",
              "    }\n",
              "\n",
              "    .dataframe tbody tr th {\n",
              "        vertical-align: top;\n",
              "    }\n",
              "\n",
              "    .dataframe thead th {\n",
              "        text-align: right;\n",
              "    }\n",
              "</style>\n",
              "<table border=\"1\" class=\"dataframe\">\n",
              "  <thead>\n",
              "    <tr style=\"text-align: right;\">\n",
              "      <th></th>\n",
              "      <th>Standard Value</th>\n",
              "      <th>Standard Units</th>\n",
              "      <th>standard_value_nM</th>\n",
              "      <th>Molecular Weight</th>\n",
              "    </tr>\n",
              "  </thead>\n",
              "  <tbody>\n",
              "    <tr>\n",
              "      <th>2039</th>\n",
              "      <td>100.0</td>\n",
              "      <td>ug.mL-1</td>\n",
              "      <td>259457.215505</td>\n",
              "      <td>385.42</td>\n",
              "    </tr>\n",
              "    <tr>\n",
              "      <th>2043</th>\n",
              "      <td>100.0</td>\n",
              "      <td>ug.mL-1</td>\n",
              "      <td>269978.401728</td>\n",
              "      <td>370.40</td>\n",
              "    </tr>\n",
              "    <tr>\n",
              "      <th>2057</th>\n",
              "      <td>100.0</td>\n",
              "      <td>ug.mL-1</td>\n",
              "      <td>376917.568128</td>\n",
              "      <td>265.31</td>\n",
              "    </tr>\n",
              "  </tbody>\n",
              "</table>\n",
              "</div>"
            ],
            "text/plain": [
              "      Standard Value Standard Units  standard_value_nM  Molecular Weight\n",
              "2039           100.0        ug.mL-1      259457.215505            385.42\n",
              "2043           100.0        ug.mL-1      269978.401728            370.40\n",
              "2057           100.0        ug.mL-1      376917.568128            265.31"
            ]
          },
          "metadata": {
            "tags": []
          },
          "execution_count": 11
        }
      ]
    },
    {
      "cell_type": "markdown",
      "metadata": {
        "id": "PxcOhE9hp1Zw"
      },
      "source": [
        "## **Duplicated Compounds**"
      ]
    },
    {
      "cell_type": "code",
      "metadata": {
        "colab": {
          "base_uri": "https://localhost:8080/"
        },
        "id": "cZxrOP7zdaCN",
        "outputId": "07c575c3-5e7b-4287-aea6-f8987ce85427"
      },
      "source": [
        "# Keep the one with minimum standard_value for duplicated ['compound_ID','target_ID']\n",
        "df3 = df3.drop_duplicates(subset=['Molecule ChEMBL ID','Target ChEMBL ID'], keep='first').reset_index().drop(columns='index')\n",
        "print(df3.shape)\n",
        "df3['standard_value_nM'].head"
      ],
      "execution_count": 12,
      "outputs": [
        {
          "output_type": "stream",
          "text": [
            "(1926, 46)\n"
          ],
          "name": "stdout"
        },
        {
          "output_type": "execute_result",
          "data": {
            "text/plain": [
              "<bound method NDFrame.head of 0       1.300000e-03\n",
              "1       2.100000e-03\n",
              "2       1.000000e-01\n",
              "3       1.100000e-01\n",
              "4       2.500000e-01\n",
              "            ...     \n",
              "1921    6.459000e+06\n",
              "1922    9.186066e+06\n",
              "1923    1.890000e+07\n",
              "1924    2.226319e+07\n",
              "1925    1.000000e+08\n",
              "Name: standard_value_nM, Length: 1926, dtype: float64>"
            ]
          },
          "metadata": {
            "tags": []
          },
          "execution_count": 12
        }
      ]
    },
    {
      "cell_type": "code",
      "metadata": {
        "colab": {
          "base_uri": "https://localhost:8080/",
          "height": 159
        },
        "id": "6rlWB_0lye-Z",
        "outputId": "202371ba-8173-4cef-ed20-f4941e6207ac"
      },
      "source": [
        "# Data pre-processing\n",
        "# Combine columns (molecule_chembl_id,canonical_smiles,standard_value) and bioactivity_class into a DataFrame\n",
        "selection = ['Molecule ChEMBL ID','Smiles','standard_value_nM']\n",
        "df4 = df3[selection].rename(columns={'Molecule ChEMBL ID':'molecule_chembl_id','Smiles':'canonical_smiles','standard_unit_nM':'standard_value'})\n",
        "print(df4.shape)\n",
        "df4.tail(3)"
      ],
      "execution_count": 13,
      "outputs": [
        {
          "output_type": "stream",
          "text": [
            "(1926, 3)\n"
          ],
          "name": "stdout"
        },
        {
          "output_type": "execute_result",
          "data": {
            "text/html": [
              "<div>\n",
              "<style scoped>\n",
              "    .dataframe tbody tr th:only-of-type {\n",
              "        vertical-align: middle;\n",
              "    }\n",
              "\n",
              "    .dataframe tbody tr th {\n",
              "        vertical-align: top;\n",
              "    }\n",
              "\n",
              "    .dataframe thead th {\n",
              "        text-align: right;\n",
              "    }\n",
              "</style>\n",
              "<table border=\"1\" class=\"dataframe\">\n",
              "  <thead>\n",
              "    <tr style=\"text-align: right;\">\n",
              "      <th></th>\n",
              "      <th>molecule_chembl_id</th>\n",
              "      <th>canonical_smiles</th>\n",
              "      <th>standard_value_nM</th>\n",
              "    </tr>\n",
              "  </thead>\n",
              "  <tbody>\n",
              "    <tr>\n",
              "      <th>1923</th>\n",
              "      <td>CHEMBL1256289</td>\n",
              "      <td>NC(=O)C(=O)[O-].[Na+]</td>\n",
              "      <td>1.890000e+07</td>\n",
              "    </tr>\n",
              "    <tr>\n",
              "      <th>1924</th>\n",
              "      <td>CHEMBL1431</td>\n",
              "      <td>CN(C)C(=N)NC(=N)N</td>\n",
              "      <td>2.226319e+07</td>\n",
              "    </tr>\n",
              "    <tr>\n",
              "      <th>1925</th>\n",
              "      <td>CHEMBL6</td>\n",
              "      <td>COc1ccc2c(c1)c(CC(=O)O)c(C)n2C(=O)c1ccc(Cl)cc1</td>\n",
              "      <td>1.000000e+08</td>\n",
              "    </tr>\n",
              "  </tbody>\n",
              "</table>\n",
              "</div>"
            ],
            "text/plain": [
              "     molecule_chembl_id  ... standard_value_nM\n",
              "1923      CHEMBL1256289  ...      1.890000e+07\n",
              "1924         CHEMBL1431  ...      2.226319e+07\n",
              "1925            CHEMBL6  ...      1.000000e+08\n",
              "\n",
              "[3 rows x 3 columns]"
            ]
          },
          "metadata": {
            "tags": []
          },
          "execution_count": 13
        }
      ]
    },
    {
      "cell_type": "code",
      "metadata": {
        "id": "rJEX8wAmy5IA"
      },
      "source": [
        "# Saves to CSV \n",
        "df4.to_csv('CHEMBL614725_bioactivity_data_preprocessed.csv', index=False)"
      ],
      "execution_count": 14,
      "outputs": []
    },
    {
      "cell_type": "markdown",
      "metadata": {
        "id": "4ATMJyGiyJ1O"
      },
      "source": [
        "# **Labeling** "
      ]
    },
    {
      "cell_type": "code",
      "metadata": {
        "colab": {
          "base_uri": "https://localhost:8080/",
          "height": 142
        },
        "id": "xJG2yuaEbmNn",
        "outputId": "c5aec452-f133-42c6-d77a-47de3cea2d84"
      },
      "source": [
        "import pandas as pd\n",
        "\n",
        "df5 = pd.read_csv('CHEMBL614725_bioactivity_data_preprocessed.csv')\n",
        "df5.tail(3)"
      ],
      "execution_count": 15,
      "outputs": [
        {
          "output_type": "execute_result",
          "data": {
            "text/html": [
              "<div>\n",
              "<style scoped>\n",
              "    .dataframe tbody tr th:only-of-type {\n",
              "        vertical-align: middle;\n",
              "    }\n",
              "\n",
              "    .dataframe tbody tr th {\n",
              "        vertical-align: top;\n",
              "    }\n",
              "\n",
              "    .dataframe thead th {\n",
              "        text-align: right;\n",
              "    }\n",
              "</style>\n",
              "<table border=\"1\" class=\"dataframe\">\n",
              "  <thead>\n",
              "    <tr style=\"text-align: right;\">\n",
              "      <th></th>\n",
              "      <th>molecule_chembl_id</th>\n",
              "      <th>canonical_smiles</th>\n",
              "      <th>standard_value_nM</th>\n",
              "    </tr>\n",
              "  </thead>\n",
              "  <tbody>\n",
              "    <tr>\n",
              "      <th>1923</th>\n",
              "      <td>CHEMBL1256289</td>\n",
              "      <td>NC(=O)C(=O)[O-].[Na+]</td>\n",
              "      <td>1.890000e+07</td>\n",
              "    </tr>\n",
              "    <tr>\n",
              "      <th>1924</th>\n",
              "      <td>CHEMBL1431</td>\n",
              "      <td>CN(C)C(=N)NC(=N)N</td>\n",
              "      <td>2.226319e+07</td>\n",
              "    </tr>\n",
              "    <tr>\n",
              "      <th>1925</th>\n",
              "      <td>CHEMBL6</td>\n",
              "      <td>COc1ccc2c(c1)c(CC(=O)O)c(C)n2C(=O)c1ccc(Cl)cc1</td>\n",
              "      <td>1.000000e+08</td>\n",
              "    </tr>\n",
              "  </tbody>\n",
              "</table>\n",
              "</div>"
            ],
            "text/plain": [
              "     molecule_chembl_id  ... standard_value_nM\n",
              "1923      CHEMBL1256289  ...      1.890000e+07\n",
              "1924         CHEMBL1431  ...      2.226319e+07\n",
              "1925            CHEMBL6  ...      1.000000e+08\n",
              "\n",
              "[3 rows x 3 columns]"
            ]
          },
          "metadata": {
            "tags": []
          },
          "execution_count": 15
        }
      ]
    },
    {
      "cell_type": "markdown",
      "metadata": {
        "id": "Jse8SYTMnWzZ"
      },
      "source": [
        "### Distribution\n"
      ]
    },
    {
      "cell_type": "code",
      "metadata": {
        "id": "nwy1d6v9o2jC"
      },
      "source": [
        "import seaborn as sns\n",
        "import numpy as np\n",
        "sns.set(style='ticks')\n",
        "import matplotlib.pyplot as plt"
      ],
      "execution_count": 16,
      "outputs": []
    },
    {
      "cell_type": "code",
      "metadata": {
        "id": "WzUiY02tqW2X"
      },
      "source": [
        "#df5.standard_value_nM.describe()"
      ],
      "execution_count": 17,
      "outputs": []
    },
    {
      "cell_type": "code",
      "metadata": {
        "colab": {
          "base_uri": "https://localhost:8080/",
          "height": 431
        },
        "id": "_2qyjFhNnUvL",
        "outputId": "22b67ffa-e693-4917-b69e-189d8fa4fdb1"
      },
      "source": [
        "plt.figure(figsize=(20,5.5))\n",
        "sns.set_theme(); \n",
        "ax = sns.distplot(df5['standard_value_nM'])"
      ],
      "execution_count": 18,
      "outputs": [
        {
          "output_type": "stream",
          "text": [
            "/usr/local/lib/python3.7/dist-packages/seaborn/distributions.py:2557: FutureWarning: `distplot` is a deprecated function and will be removed in a future version. Please adapt your code to use either `displot` (a figure-level function with similar flexibility) or `histplot` (an axes-level function for histograms).\n",
            "  warnings.warn(msg, FutureWarning)\n"
          ],
          "name": "stderr"
        },
        {
          "output_type": "display_data",
          "data": {
            "image/png": "[encoded data removed]",
            "text/plain": [
              "<Figure size 1440x396 with 1 Axes>"
            ]
          },
          "metadata": {
            "tags": []
          }
        }
      ]
    },
    {
      "cell_type": "markdown",
      "metadata": {
        "id": "K7UYU_-TptnI"
      },
      "source": [
        "### Scaling (pIC50)\n"
      ]
    },
    {
      "cell_type": "markdown",
      "metadata": {
        "id": "aijs6l-ZqKUg"
      },
      "source": [
        "To allow **IC50** data to be more uniformly distributed, we will convert **IC50** to the negative logarithmic scale which is essentially **-log10(IC50)**.\n",
        "\n",
        "This custom function pIC50() will accept a DataFrame as input and will:\n",
        "* Take the IC50 values from the ``standard_value`` column and converts it from nM to M by multiplying the value by 10$^{-9}$\n",
        "* Take the molar value and apply -log10\n",
        "* Delete the ``standard_value`` column and create a new ``pIC50`` column"
      ]
    },
    {
      "cell_type": "code",
      "metadata": {
        "id": "LgNKbaYNps9M"
      },
      "source": [
        "import numpy as np\n",
        "\n",
        "def pIC50(input):\n",
        "    pIC50 = []\n",
        "\n",
        "    for i in input['standard_value_norm']:\n",
        "        molar = i*(10**-9) # Converts nM to M\n",
        "        pIC50.append(-np.log10(molar))\n",
        "\n",
        "    input['pIC50'] = pIC50\n",
        "    x = input.drop('standard_value_norm', 1)\n",
        "        \n",
        "    return x"
      ],
      "execution_count": 19,
      "outputs": []
    },
    {
      "cell_type": "code",
      "metadata": {
        "id": "xrSdwGReqSk1"
      },
      "source": [
        "def norm_value(input):\n",
        "    norm = []\n",
        "\n",
        "    for i in input['standard_value_nM']:\n",
        "        #  Values greater than 100,000,000 will be fixed at 100,000,000 otherwise the negative logarithmic value will become negative.\n",
        "        if i > 100000000:\n",
        "          i = 100000000\n",
        "        norm.append(i)\n",
        "\n",
        "    input['standard_value_norm'] = norm\n",
        "    x = input.drop('standard_value_nM', 1)\n",
        "        \n",
        "    return x"
      ],
      "execution_count": 20,
      "outputs": []
    },
    {
      "cell_type": "code",
      "metadata": {
        "colab": {
          "base_uri": "https://localhost:8080/"
        },
        "id": "livYW_z0t31P",
        "outputId": "cd625503-832a-40c5-f191-c5cec9b3642a"
      },
      "source": [
        "# Normalization\n",
        "df6 = norm_value(df5)\n",
        "df_norm = pIC50(df6)\n",
        "df_norm.head #.pIC50.describe()"
      ],
      "execution_count": 22,
      "outputs": [
        {
          "output_type": "execute_result",
          "data": {
            "text/plain": [
              "<bound method NDFrame.head of      molecule_chembl_id  ...      pIC50\n",
              "0         CHEMBL2321905  ...  11.886057\n",
              "1         CHEMBL2324630  ...  11.677781\n",
              "2         CHEMBL4176275  ...  10.000000\n",
              "3         CHEMBL2324627  ...   9.958607\n",
              "4         CHEMBL2324629  ...   9.602060\n",
              "...                 ...  ...        ...\n",
              "1921       CHEMBL549659  ...   2.189835\n",
              "1922       CHEMBL483849  ...   2.036870\n",
              "1923      CHEMBL1256289  ...   1.723538\n",
              "1924         CHEMBL1431  ...   1.652413\n",
              "1925            CHEMBL6  ...   1.000000\n",
              "\n",
              "[1926 rows x 3 columns]>"
            ]
          },
          "metadata": {
            "tags": []
          },
          "execution_count": 22
        }
      ]
    },
    {
      "cell_type": "code",
      "metadata": {
        "id": "SlN_auK1wRIr"
      },
      "source": [
        "#df_norm.pIC50.describe()"
      ],
      "execution_count": 23,
      "outputs": []
    },
    {
      "cell_type": "markdown",
      "metadata": {
        "id": "gShl3lIZx_wB"
      },
      "source": [
        "#### **Distribution plots**"
      ]
    },
    {
      "cell_type": "code",
      "metadata": {
        "id": "Gx1J3iN4743l",
        "colab": {
          "base_uri": "https://localhost:8080/"
        },
        "outputId": "b88c7ac3-7998-4e5b-eb5c-952aa71e92c7"
      },
      "source": [
        "botton_line = np.percentile(df_norm.pIC50, 20)\n",
        "top_line = np.percentile(df_norm.pIC50, 80)\n",
        "print(botton_line,top_line)"
      ],
      "execution_count": 25,
      "outputs": [
        {
          "output_type": "stream",
          "text": [
            "4.031517051446065 5.823908740944319\n"
          ],
          "name": "stdout"
        }
      ]
    },
    {
      "cell_type": "code",
      "metadata": {
        "colab": {
          "base_uri": "https://localhost:8080/",
          "height": 69
        },
        "id": "rF9HV3o-u8A6",
        "outputId": "7de241b8-5e63-42d3-82bf-0f4064420ecc"
      },
      "source": [
        "'''plt.figure(figsize=(16, 4))\n",
        "\n",
        "sns.set_theme(); \n",
        "\n",
        "ax = sns.distplot(df_norm['pIC50'], hist=True, color='#388E3C')\n",
        "kde_x, kde_y = ax.lines[0].get_data()\n",
        "\n",
        "#plotting the two lines\n",
        "p1 = plt.axvline(x=botton_line,color='#EF9A9A')\n",
        "p2 = plt.axvline(x=top_line,color='#EF9A9A')\n",
        "\n",
        "ax.fill_between(kde_x, kde_y, where=(kde_x<botton_line) | (kde_x>top_line) , \n",
        "                interpolate=True, color='#EF9A9A')'''"
      ],
      "execution_count": 26,
      "outputs": [
        {
          "output_type": "execute_result",
          "data": {
            "application/vnd.google.colaboratory.intrinsic+json": {
              "type": "string"
            },
            "text/plain": [
              "\"plt.figure(figsize=(16, 4))\\n\\nsns.set_theme(); \\n\\nax = sns.distplot(df_norm['pIC50'], hist=True, color='#388E3C')\\nkde_x, kde_y = ax.lines[0].get_data()\\n\\n#plotting the two lines\\np1 = plt.axvline(x=botton_line,color='#EF9A9A')\\np2 = plt.axvline(x=top_line,color='#EF9A9A')\\n\\nax.fill_between(kde_x, kde_y, where=(kde_x<botton_line) | (kde_x>top_line) , \\n                interpolate=True, color='#EF9A9A')\""
            ]
          },
          "metadata": {
            "tags": []
          },
          "execution_count": 26
        }
      ]
    },
    {
      "cell_type": "code",
      "metadata": {
        "colab": {
          "base_uri": "https://localhost:8080/",
          "height": 339
        },
        "id": "RHv2gN4uxp-J",
        "outputId": "a6ac80d6-a713-48c2-ccf3-1fd00e0f2443"
      },
      "source": [
        "import numpy as np\n",
        "import matplotlib.pyplot as plt\n",
        "import seaborn as sns\n",
        "\n",
        "plt.figure(figsize=(16, 4))\n",
        "\n",
        "#plotting the two lines\n",
        "p1 = plt.axvline(x=botton_line,color='#6DB6FF')\n",
        "p2 = plt.axvline(x=top_line,color='#EF9A9A')\n",
        "\n",
        "#plotting the PDF\n",
        "ax = sns.distplot(df_norm['pIC50'], hist=True, color='#388E3C')\n",
        "\n",
        "xlim = ax.get_xlim()\n",
        "ax.axvspan(xlim[0], botton_line, color='#6DB6FF', alpha=0.5)\n",
        "ax.axvspan(top_line, xlim[1], color='#EF9A9A', alpha=0.5)\n",
        "#reset xlim\n",
        "ax.set_xlim(xlim)\n",
        "plt.show()"
      ],
      "execution_count": 27,
      "outputs": [
        {
          "output_type": "stream",
          "text": [
            "/usr/local/lib/python3.7/dist-packages/seaborn/distributions.py:2557: FutureWarning: `distplot` is a deprecated function and will be removed in a future version. Please adapt your code to use either `displot` (a figure-level function with similar flexibility) or `histplot` (an axes-level function for histograms).\n",
            "  warnings.warn(msg, FutureWarning)\n"
          ],
          "name": "stderr"
        },
        {
          "output_type": "display_data",
          "data": {
            "image/png": "[encoded data removed]",
            "text/plain": [
              "<Figure size 1152x288 with 1 Axes>"
            ]
          },
          "metadata": {
            "tags": []
          }
        }
      ]
    },
    {
      "cell_type": "markdown",
      "metadata": {
        "id": "E33rC1EfpGY8"
      },
      "source": [
        "## **Labeling**"
      ]
    },
    {
      "cell_type": "code",
      "metadata": {
        "id": "_CUzp1ro0kqY"
      },
      "source": [
        "bioactivity_threshold = []\n",
        "for i in df_norm.pIC50:\n",
        "  if float(i) >= top_line:\n",
        "    bioactivity_threshold.append(\"active\")\n",
        "  elif float(i) <= botton_line:\n",
        "    bioactivity_threshold.append(\"inactive\")\n",
        "  else:\n",
        "    bioactivity_threshold.append(\"intermediate\")"
      ],
      "execution_count": 28,
      "outputs": []
    },
    {
      "cell_type": "code",
      "metadata": {
        "colab": {
          "base_uri": "https://localhost:8080/",
          "height": 159
        },
        "id": "NxLqyTTZ0t7m",
        "outputId": "a8013b81-25e8-465f-f9b0-6292720aac39"
      },
      "source": [
        "# Combine the data\n",
        "bioactivity_class = pd.Series(bioactivity_threshold, name='bioactivity_class')\n",
        "df7 = pd.concat([df_norm, bioactivity_class], axis=1)\n",
        "print(df7.shape)\n",
        "df7.head(3)"
      ],
      "execution_count": 29,
      "outputs": [
        {
          "output_type": "stream",
          "text": [
            "(1926, 4)\n"
          ],
          "name": "stdout"
        },
        {
          "output_type": "execute_result",
          "data": {
            "text/html": [
              "<div>\n",
              "<style scoped>\n",
              "    .dataframe tbody tr th:only-of-type {\n",
              "        vertical-align: middle;\n",
              "    }\n",
              "\n",
              "    .dataframe tbody tr th {\n",
              "        vertical-align: top;\n",
              "    }\n",
              "\n",
              "    .dataframe thead th {\n",
              "        text-align: right;\n",
              "    }\n",
              "</style>\n",
              "<table border=\"1\" class=\"dataframe\">\n",
              "  <thead>\n",
              "    <tr style=\"text-align: right;\">\n",
              "      <th></th>\n",
              "      <th>molecule_chembl_id</th>\n",
              "      <th>canonical_smiles</th>\n",
              "      <th>pIC50</th>\n",
              "      <th>bioactivity_class</th>\n",
              "    </tr>\n",
              "  </thead>\n",
              "  <tbody>\n",
              "    <tr>\n",
              "      <th>0</th>\n",
              "      <td>CHEMBL2321905</td>\n",
              "      <td>COC(=O)c1cc(-c2ccc(NC(=O)c3cc(NC(=O)CCCOc4cc5c...</td>\n",
              "      <td>11.886057</td>\n",
              "      <td>active</td>\n",
              "    </tr>\n",
              "    <tr>\n",
              "      <th>1</th>\n",
              "      <td>CHEMBL2324630</td>\n",
              "      <td>COC(=O)c1cc(-c2ccc(NC(=O)c3nc(NC(=O)CCCOc4cc5c...</td>\n",
              "      <td>11.677781</td>\n",
              "      <td>active</td>\n",
              "    </tr>\n",
              "    <tr>\n",
              "      <th>2</th>\n",
              "      <td>CHEMBL4176275</td>\n",
              "      <td>COc1c(Br)c2c(c(OC)c1OC)-c1cc3cc(CO)n(C)c3cc1[C...</td>\n",
              "      <td>10.000000</td>\n",
              "      <td>active</td>\n",
              "    </tr>\n",
              "  </tbody>\n",
              "</table>\n",
              "</div>"
            ],
            "text/plain": [
              "  molecule_chembl_id  ... bioactivity_class\n",
              "0      CHEMBL2321905  ...            active\n",
              "1      CHEMBL2324630  ...            active\n",
              "2      CHEMBL4176275  ...            active\n",
              "\n",
              "[3 rows x 4 columns]"
            ]
          },
          "metadata": {
            "tags": []
          },
          "execution_count": 29
        }
      ]
    },
    {
      "cell_type": "code",
      "metadata": {
        "colab": {
          "base_uri": "https://localhost:8080/"
        },
        "id": "CwE3zly1FOSV",
        "outputId": "a1eb0b84-8e58-40b2-9c0e-8d94f889b772"
      },
      "source": [
        "print(\n",
        "    ' active',df7['bioactivity_class'][df7['bioactivity_class']==\"active\"].count(),'\\n',\n",
        "    'inactive',df7['bioactivity_class'][df7['bioactivity_class']==\"inactive\"].count(),'\\n',\n",
        "    'intermediate',df7['bioactivity_class'][df7['bioactivity_class']==\"intermediate\"].count()\n",
        ")"
      ],
      "execution_count": 30,
      "outputs": [
        {
          "output_type": "stream",
          "text": [
            " active 386 \n",
            " inactive 386 \n",
            " intermediate 1154\n"
          ],
          "name": "stdout"
        }
      ]
    },
    {
      "cell_type": "markdown",
      "metadata": {
        "id": "R-EQhCYy3Oqg"
      },
      "source": [
        "Saves dataframe to CSV file"
      ]
    },
    {
      "cell_type": "code",
      "metadata": {
        "id": "XQRKMWkz3HRw"
      },
      "source": [
        "df7.to_csv('CHEMBL614725_bioactivity_data_curated.csv', index=False)"
      ],
      "execution_count": 31,
      "outputs": []
    },
    {
      "cell_type": "markdown",
      "metadata": {
        "id": "ykt8L9OY245J"
      },
      "source": [
        "# **Removing 'intermediate' class**"
      ]
    },
    {
      "cell_type": "code",
      "metadata": {
        "colab": {
          "base_uri": "https://localhost:8080/"
        },
        "id": "Ix-7ZlcO24FQ",
        "outputId": "2387e214-4e57-45bb-cc5b-5f52914cb42a"
      },
      "source": [
        "df_2class = df7[df7['bioactivity_class'] != 'intermediate']\n",
        "df_2class.shape"
      ],
      "execution_count": 35,
      "outputs": [
        {
          "output_type": "execute_result",
          "data": {
            "text/plain": [
              "(772, 4)"
            ]
          },
          "metadata": {
            "tags": []
          },
          "execution_count": 35
        }
      ]
    },
    {
      "cell_type": "code",
      "metadata": {
        "id": "5l8MbEye3W-Z"
      },
      "source": [
        "df_2class.to_csv('CHEMBL614725_2classes_data.csv', index=False)"
      ],
      "execution_count": 36,
      "outputs": []
    },
    {
      "cell_type": "markdown",
      "metadata": {
        "id": "mN02KVSU0P6P"
      },
      "source": [
        "# **Exporatory Data Analysis**"
      ]
    },
    {
      "cell_type": "markdown",
      "metadata": {
        "id": "VYmfB1ya1fiU"
      },
      "source": [
        "## **Install conda and rdkit**"
      ]
    },
    {
      "cell_type": "code",
      "metadata": {
        "colab": {
          "base_uri": "https://localhost:8080/"
        },
        "id": "cO_z9cZ10ww6",
        "outputId": "26fd7acd-73b4-41b6-87ea-ef15045f1444"
      },
      "source": [
        "# Install conda and rdkit\n",
        "! wget https://repo.anaconda.com/miniconda/Miniconda3-py37_4.8.2-Linux-x86_64.sh\n",
        "! chmod +x Miniconda3-py37_4.8.2-Linux-x86_64.sh\n",
        "! bash ./Miniconda3-py37_4.8.2-Linux-x86_64.sh -b -f -p /usr/local\n",
        "! conda install -c rdkit rdkit -y\n",
        "import sys\n",
        "sys.path.append('/usr/local/lib/python3.7/site-packages/')"
      ],
      "execution_count": 37,
      "outputs": [
        {
          "output_type": "stream",
          "text": [
            "--2021-04-08 18:58:59--  https://repo.anaconda.com/miniconda/Miniconda3-py37_4.8.2-Linux-x86_64.sh\n",
            "Resolving repo.anaconda.com (repo.anaconda.com)... 104.16.131.3, 104.16.130.3, 2606:4700::6810:8303, ...\n",
            "Connecting to repo.anaconda.com (repo.anaconda.com)|104.16.131.3|:443... connected.\n",
            "HTTP request sent, awaiting response... 200 OK\n",
            "Length: 85055499 (81M) [application/x-sh]\n",
            "Saving to: ‘Miniconda3-py37_4.8.2-Linux-x86_64.sh’\n",
            "\n",
            "Miniconda3-py37_4.8 100%[===================>]  81.12M   135MB/s    in 0.6s    \n",
            "\n",
            "2021-04-08 18:59:00 (135 MB/s) - ‘Miniconda3-py37_4.8.2-Linux-x86_64.sh’ saved [85055499/85055499]\n",
            "\n",
            "PREFIX=/usr/local\n",
            "Unpacking payload ...\n",
            "Collecting package metadata (current_repodata.json): - \b\b\\ \b\b| \b\bdone\n",
            "Solving environment: - \b\b\\ \b\bdone\n",
            "\n",
            "## Package Plan ##\n",
            "\n",
            "  environment location: /usr/local\n",
            "\n",
            "  added / updated specs:\n",
            "    - _libgcc_mutex==0.1=main\n",
            "    - asn1crypto==1.3.0=py37_0\n",
            "    - ca-certificates==2020.1.1=0\n",
            "    - certifi==2019.11.28=py37_0\n",
            "    - cffi==1.14.0=py37h2e261b9_0\n",
            "    - chardet==3.0.4=py37_1003\n",
            "    - conda-package-handling==1.6.0=py37h7b6447c_0\n",
            "    - conda==4.8.2=py37_0\n",
            "    - cryptography==2.8=py37h1ba5d50_0\n",
            "    - idna==2.8=py37_0\n",
            "    - ld_impl_linux-64==2.33.1=h53a641e_7\n",
            "    - libedit==3.1.20181209=hc058e9b_0\n",
            "    - libffi==3.2.1=hd88cf55_4\n",
            "    - libgcc-ng==9.1.0=hdf63c60_0\n",
            "    - libstdcxx-ng==9.1.0=hdf63c60_0\n",
            "    - ncurses==6.2=he6710b0_0\n",
            "    - openssl==1.1.1d=h7b6447c_4\n",
            "    - pip==20.0.2=py37_1\n",
            "    - pycosat==0.6.3=py37h7b6447c_0\n",
            "    - pycparser==2.19=py37_0\n",
            "    - pyopenssl==19.1.0=py37_0\n",
            "    - pysocks==1.7.1=py37_0\n",
            "    - python==3.7.6=h0371630_2\n",
            "    - readline==7.0=h7b6447c_5\n",
            "    - requests==2.22.0=py37_1\n",
            "    - ruamel_yaml==0.15.87=py37h7b6447c_0\n",
            "    - setuptools==45.2.0=py37_0\n",
            "    - six==1.14.0=py37_0\n",
            "    - sqlite==3.31.1=h7b6447c_0\n",
            "    - tk==8.6.8=hbc83047_0\n",
            "    - tqdm==4.42.1=py_0\n",
            "    - urllib3==1.25.8=py37_0\n",
            "    - wheel==0.34.2=py37_0\n",
            "    - xz==5.2.4=h14c3975_4\n",
            "    - yaml==0.1.7=had09818_2\n",
            "    - zlib==1.2.11=h7b6447c_3\n",
            "\n",
            "\n",
            "The following NEW packages will be INSTALLED:\n",
            "\n",
            "  _libgcc_mutex      pkgs/main/linux-64::_libgcc_mutex-0.1-main\n",
            "  asn1crypto         pkgs/main/linux-64::asn1crypto-1.3.0-py37_0\n",
            "  ca-certificates    pkgs/main/linux-64::ca-certificates-2020.1.1-0\n",
            "  certifi            pkgs/main/linux-64::certifi-2019.11.28-py37_0\n",
            "  cffi               pkgs/main/linux-64::cffi-1.14.0-py37h2e261b9_0\n",
            "  chardet            pkgs/main/linux-64::chardet-3.0.4-py37_1003\n",
            "  conda              pkgs/main/linux-64::conda-4.8.2-py37_0\n",
            "  conda-package-han~ pkgs/main/linux-64::conda-package-handling-1.6.0-py37h7b6447c_0\n",
            "  cryptography       pkgs/main/linux-64::cryptography-2.8-py37h1ba5d50_0\n",
            "  idna               pkgs/main/linux-64::idna-2.8-py37_0\n",
            "  ld_impl_linux-64   pkgs/main/linux-64::ld_impl_linux-64-2.33.1-h53a641e_7\n",
            "  libedit            pkgs/main/linux-64::libedit-3.1.20181209-hc058e9b_0\n",
            "  libffi             pkgs/main/linux-64::libffi-3.2.1-hd88cf55_4\n",
            "  libgcc-ng          pkgs/main/linux-64::libgcc-ng-9.1.0-hdf63c60_0\n",
            "  libstdcxx-ng       pkgs/main/linux-64::libstdcxx-ng-9.1.0-hdf63c60_0\n",
            "  ncurses            pkgs/main/linux-64::ncurses-6.2-he6710b0_0\n",
            "  openssl            pkgs/main/linux-64::openssl-1.1.1d-h7b6447c_4\n",
            "  pip                pkgs/main/linux-64::pip-20.0.2-py37_1\n",
            "  pycosat            pkgs/main/linux-64::pycosat-0.6.3-py37h7b6447c_0\n",
            "  pycparser          pkgs/main/linux-64::pycparser-2.19-py37_0\n",
            "  pyopenssl          pkgs/main/linux-64::pyopenssl-19.1.0-py37_0\n",
            "  pysocks            pkgs/main/linux-64::pysocks-1.7.1-py37_0\n",
            "  python             pkgs/main/linux-64::python-3.7.6-h0371630_2\n",
            "  readline           pkgs/main/linux-64::readline-7.0-h7b6447c_5\n",
            "  requests           pkgs/main/linux-64::requests-2.22.0-py37_1\n",
            "  ruamel_yaml        pkgs/main/linux-64::ruamel_yaml-0.15.87-py37h7b6447c_0\n",
            "  setuptools         pkgs/main/linux-64::setuptools-45.2.0-py37_0\n",
            "  six                pkgs/main/linux-64::six-1.14.0-py37_0\n",
            "  sqlite             pkgs/main/linux-64::sqlite-3.31.1-h7b6447c_0\n",
            "  tk                 pkgs/main/linux-64::tk-8.6.8-hbc83047_0\n",
            "  tqdm               pkgs/main/noarch::tqdm-4.42.1-py_0\n",
            "  urllib3            pkgs/main/linux-64::urllib3-1.25.8-py37_0\n",
            "  wheel              pkgs/main/linux-64::wheel-0.34.2-py37_0\n",
            "  xz                 pkgs/main/linux-64::xz-5.2.4-h14c3975_4\n",
            "  yaml               pkgs/main/linux-64::yaml-0.1.7-had09818_2\n",
            "  zlib               pkgs/main/linux-64::zlib-1.2.11-h7b6447c_3\n",
            "\n",
            "\n",
            "Preparing transaction: / \b\b- \b\b\\ \b\b| \b\bdone\n",
            "Executing transaction: - \b\b\\ \b\b| \b\b/ \b\b- \b\b\\ \b\b| \b\b/ \b\b- \b\b\\ \b\b| \b\b/ \b\b- \b\b\\ \b\b| \b\bdone\n",
            "installation finished.\n",
            "WARNING:\n",
            "    You currently have a PYTHONPATH environment variable set. This may cause\n",
            "    unexpected behavior when running the Python interpreter in Miniconda3.\n",
            "    For best results, please verify that your PYTHONPATH only points to\n",
            "    directories of packages that are compatible with the Python interpreter\n",
            "    in Miniconda3: /usr/local\n",
            "Collecting package metadata (current_repodata.json): - \b\b\\ \b\b| \b\b/ \b\b- \b\b\\ \b\b| \b\b/ \b\b- \b\b\\ \b\b| \b\b/ \b\b- \b\b\\ \b\b| \b\b/ \b\b- \b\bdone\n",
            "Solving environment: | \b\b/ \b\b- \b\b\\ \b\b| \b\b/ \b\b- \b\b\\ \b\b| \b\b/ \b\b- \b\bdone\n",
            "\n",
            "## Package Plan ##\n",
            "\n",
            "  environment location: /usr/local\n",
            "\n",
            "  added / updated specs:\n",
            "    - rdkit\n",
            "\n",
            "\n",
            "The following packages will be downloaded:\n",
            "\n",
            "    package                    |            build\n",
            "    ---------------------------|-----------------\n",
            "    blas-1.0                   |              mkl           6 KB\n",
            "    bzip2-1.0.8                |       h7b6447c_0          78 KB\n",
            "    ca-certificates-2021.1.19  |       h06a4308_1         118 KB\n",
            "    cairo-1.16.0               |       hf32fb01_1         1.0 MB\n",
            "    certifi-2020.12.5          |   py37h06a4308_0         141 KB\n",
            "    conda-4.10.0               |   py37h06a4308_0         2.9 MB\n",
            "    fontconfig-2.13.1          |       h6c09931_0         250 KB\n",
            "    freetype-2.10.4            |       h5ab3b9f_0         596 KB\n",
            "    glib-2.68.0                |       h36276a3_0         3.0 MB\n",
            "    icu-58.2                   |       he6710b0_3        10.5 MB\n",
            "    intel-openmp-2020.2        |              254         786 KB\n",
            "    jpeg-9b                    |       h024ee3a_2         214 KB\n",
            "    lcms2-2.12                 |       h3be6417_0         312 KB\n",
            "    libboost-1.73.0            |      h3ff78a5_11        13.9 MB\n",
            "    libffi-3.3                 |       he6710b0_2          50 KB\n",
            "    libpng-1.6.37              |       hbc83047_0         278 KB\n",
            "    libtiff-4.2.0              |       h85742a9_0         502 KB\n",
            "    libuuid-1.0.3              |       h1bed415_2          15 KB\n",
            "    libwebp-base-1.2.0         |       h27cfd23_0         437 KB\n",
            "    libxcb-1.14                |       h7b6447c_0         505 KB\n",
            "    libxml2-2.9.10             |       hb55368b_3         1.2 MB\n",
            "    lz4-c-1.9.3                |       h2531618_0         186 KB\n",
            "    mkl-2020.2                 |              256       138.3 MB\n",
            "    mkl-service-2.3.0          |   py37he8ac12f_0          52 KB\n",
            "    mkl_fft-1.3.0              |   py37h54f3939_0         167 KB\n",
            "    mkl_random-1.1.1           |   py37h0573a6f_0         322 KB\n",
            "    numpy-1.19.2               |   py37h54aff64_0          22 KB\n",
            "    numpy-base-1.19.2          |   py37hfa32c7d_0         4.1 MB\n",
            "    olefile-0.46               |           py37_0          50 KB\n",
            "    openssl-1.1.1k             |       h27cfd23_0         2.5 MB\n",
            "    pandas-1.2.3               |   py37ha9443f7_0         8.5 MB\n",
            "    pcre-8.44                  |       he6710b0_0         212 KB\n",
            "    pillow-8.2.0               |   py37he98fc37_0         622 KB\n",
            "    pixman-0.40.0              |       h7b6447c_0         370 KB\n",
            "    py-boost-1.73.0            |  py37ha9443f7_11         204 KB\n",
            "    python-dateutil-2.8.1      |     pyhd3eb1b0_0         221 KB\n",
            "    pytz-2021.1                |     pyhd3eb1b0_0         181 KB\n",
            "    rdkit-2020.09.1.0          |   py37hd50e099_1        25.8 MB  rdkit\n",
            "    xz-5.2.5                   |       h7b6447c_0         341 KB\n",
            "    zstd-1.4.5                 |       h9ceee32_0         619 KB\n",
            "    ------------------------------------------------------------\n",
            "                                           Total:       219.5 MB\n",
            "\n",
            "The following NEW packages will be INSTALLED:\n",
            "\n",
            "  blas               pkgs/main/linux-64::blas-1.0-mkl\n",
            "  bzip2              pkgs/main/linux-64::bzip2-1.0.8-h7b6447c_0\n",
            "  cairo              pkgs/main/linux-64::cairo-1.16.0-hf32fb01_1\n",
            "  fontconfig         pkgs/main/linux-64::fontconfig-2.13.1-h6c09931_0\n",
            "  freetype           pkgs/main/linux-64::freetype-2.10.4-h5ab3b9f_0\n",
            "  glib               pkgs/main/linux-64::glib-2.68.0-h36276a3_0\n",
            "  icu                pkgs/main/linux-64::icu-58.2-he6710b0_3\n",
            "  intel-openmp       pkgs/main/linux-64::intel-openmp-2020.2-254\n",
            "  jpeg               pkgs/main/linux-64::jpeg-9b-h024ee3a_2\n",
            "  lcms2              pkgs/main/linux-64::lcms2-2.12-h3be6417_0\n",
            "  libboost           pkgs/main/linux-64::libboost-1.73.0-h3ff78a5_11\n",
            "  libpng             pkgs/main/linux-64::libpng-1.6.37-hbc83047_0\n",
            "  libtiff            pkgs/main/linux-64::libtiff-4.2.0-h85742a9_0\n",
            "  libuuid            pkgs/main/linux-64::libuuid-1.0.3-h1bed415_2\n",
            "  libwebp-base       pkgs/main/linux-64::libwebp-base-1.2.0-h27cfd23_0\n",
            "  libxcb             pkgs/main/linux-64::libxcb-1.14-h7b6447c_0\n",
            "  libxml2            pkgs/main/linux-64::libxml2-2.9.10-hb55368b_3\n",
            "  lz4-c              pkgs/main/linux-64::lz4-c-1.9.3-h2531618_0\n",
            "  mkl                pkgs/main/linux-64::mkl-2020.2-256\n",
            "  mkl-service        pkgs/main/linux-64::mkl-service-2.3.0-py37he8ac12f_0\n",
            "  mkl_fft            pkgs/main/linux-64::mkl_fft-1.3.0-py37h54f3939_0\n",
            "  mkl_random         pkgs/main/linux-64::mkl_random-1.1.1-py37h0573a6f_0\n",
            "  numpy              pkgs/main/linux-64::numpy-1.19.2-py37h54aff64_0\n",
            "  numpy-base         pkgs/main/linux-64::numpy-base-1.19.2-py37hfa32c7d_0\n",
            "  olefile            pkgs/main/linux-64::olefile-0.46-py37_0\n",
            "  pandas             pkgs/main/linux-64::pandas-1.2.3-py37ha9443f7_0\n",
            "  pcre               pkgs/main/linux-64::pcre-8.44-he6710b0_0\n",
            "  pillow             pkgs/main/linux-64::pillow-8.2.0-py37he98fc37_0\n",
            "  pixman             pkgs/main/linux-64::pixman-0.40.0-h7b6447c_0\n",
            "  py-boost           pkgs/main/linux-64::py-boost-1.73.0-py37ha9443f7_11\n",
            "  python-dateutil    pkgs/main/noarch::python-dateutil-2.8.1-pyhd3eb1b0_0\n",
            "  pytz               pkgs/main/noarch::pytz-2021.1-pyhd3eb1b0_0\n",
            "  rdkit              rdkit/linux-64::rdkit-2020.09.1.0-py37hd50e099_1\n",
            "  zstd               pkgs/main/linux-64::zstd-1.4.5-h9ceee32_0\n",
            "\n",
            "The following packages will be UPDATED:\n",
            "\n",
            "  ca-certificates                                2020.1.1-0 --> 2021.1.19-h06a4308_1\n",
            "  certifi                                 2019.11.28-py37_0 --> 2020.12.5-py37h06a4308_0\n",
            "  conda                                        4.8.2-py37_0 --> 4.10.0-py37h06a4308_0\n",
            "  libffi                                   3.2.1-hd88cf55_4 --> 3.3-he6710b0_2\n",
            "  openssl                                 1.1.1d-h7b6447c_4 --> 1.1.1k-h27cfd23_0\n",
            "  xz                                       5.2.4-h14c3975_4 --> 5.2.5-h7b6447c_0\n",
            "\n",
            "\n",
            "\n",
            "Downloading and Extracting Packages\n",
            "mkl-service-2.3.0    | 52 KB     | : 100% 1.0/1 [00:00<00:00, 14.09it/s]\n",
            "mkl-2020.2           | 138.3 MB  | : 100% 1.0/1 [00:05<00:00,  5.50s/it]              \n",
            "jpeg-9b              | 214 KB    | : 100% 1.0/1 [00:00<00:00,  9.22it/s]\n",
            "mkl_fft-1.3.0        | 167 KB    | : 100% 1.0/1 [00:00<00:00, 16.82it/s]\n",
            "freetype-2.10.4      | 596 KB    | : 100% 1.0/1 [00:00<00:00, 13.34it/s]\n",
            "bzip2-1.0.8          | 78 KB     | : 100% 1.0/1 [00:00<00:00, 18.27it/s]\n",
            "lcms2-2.12           | 312 KB    | : 100% 1.0/1 [00:00<00:00, 15.41it/s]\n",
            "numpy-1.19.2         | 22 KB     | : 100% 1.0/1 [00:00<00:00, 18.51it/s]\n",
            "py-boost-1.73.0      | 204 KB    | : 100% 1.0/1 [00:00<00:00, 13.36it/s]\n",
            "cairo-1.16.0         | 1.0 MB    | : 100% 1.0/1 [00:00<00:00, 11.14it/s]\n",
            "certifi-2020.12.5    | 141 KB    | : 100% 1.0/1 [00:00<00:00, 17.10it/s]\n",
            "lz4-c-1.9.3          | 186 KB    | : 100% 1.0/1 [00:00<00:00, 17.09it/s]\n",
            "pandas-1.2.3         | 8.5 MB    | : 100% 1.0/1 [00:00<00:00,  2.10it/s]\n",
            "pytz-2021.1          | 181 KB    | : 100% 1.0/1 [00:00<00:00, 11.62it/s]\n",
            "xz-5.2.5             | 341 KB    | : 100% 1.0/1 [00:00<00:00, 14.17it/s]\n",
            "rdkit-2020.09.1.0    | 25.8 MB   | : 100% 1.0/1 [00:05<00:00,  5.17s/it]\n",
            "olefile-0.46         | 50 KB     | : 100% 1.0/1 [00:00<00:00, 17.47it/s]\n",
            "openssl-1.1.1k       | 2.5 MB    | : 100% 1.0/1 [00:00<00:00,  7.02it/s]\n",
            "intel-openmp-2020.2  | 786 KB    | : 100% 1.0/1 [00:00<00:00, 12.82it/s]\n",
            "libpng-1.6.37        | 278 KB    | : 100% 1.0/1 [00:00<00:00, 15.71it/s]\n",
            "numpy-base-1.19.2    | 4.1 MB    | : 100% 1.0/1 [00:00<00:00,  3.45it/s]\n",
            "mkl_random-1.1.1     | 322 KB    | : 100% 1.0/1 [00:00<00:00, 11.38it/s]\n",
            "fontconfig-2.13.1    | 250 KB    | : 100% 1.0/1 [00:00<00:00, 12.98it/s]\n",
            "libxml2-2.9.10       | 1.2 MB    | : 100% 1.0/1 [00:00<00:00,  8.54it/s]\n",
            "libuuid-1.0.3        | 15 KB     | : 100% 1.0/1 [00:00<00:00, 19.83it/s]\n",
            "glib-2.68.0          | 3.0 MB    | : 100% 1.0/1 [00:00<00:00,  5.15it/s]\n",
            "python-dateutil-2.8. | 221 KB    | : 100% 1.0/1 [00:00<00:00, 17.55it/s]\n",
            "conda-4.10.0         | 2.9 MB    | : 100% 1.0/1 [00:00<00:00,  5.21it/s]\n",
            "pillow-8.2.0         | 622 KB    | : 100% 1.0/1 [00:00<00:00, 11.87it/s]\n",
            "icu-58.2             | 10.5 MB   | : 100% 1.0/1 [00:00<00:00,  1.84it/s]               \n",
            "libwebp-base-1.2.0   | 437 KB    | : 100% 1.0/1 [00:00<00:00, 10.81it/s]\n",
            "libffi-3.3           | 50 KB     | : 100% 1.0/1 [00:00<00:00, 17.68it/s]\n",
            "zstd-1.4.5           | 619 KB    | : 100% 1.0/1 [00:00<00:00, 17.25it/s]\n",
            "libboost-1.73.0      | 13.9 MB   | : 100% 1.0/1 [00:02<00:00,  2.02s/it]               \n",
            "pcre-8.44            | 212 KB    | : 100% 1.0/1 [00:00<00:00, 12.68it/s]\n",
            "pixman-0.40.0        | 370 KB    | : 100% 1.0/1 [00:00<00:00, 15.04it/s]\n",
            "libtiff-4.2.0        | 502 KB    | : 100% 1.0/1 [00:00<00:00, 14.55it/s]\n",
            "ca-certificates-2021 | 118 KB    | : 100% 1.0/1 [00:00<00:00, 24.42it/s]\n",
            "blas-1.0             | 6 KB      | : 100% 1.0/1 [00:00<00:00, 18.04it/s]\n",
            "libxcb-1.14          | 505 KB    | : 100% 1.0/1 [00:00<00:00, 12.63it/s]\n",
            "Preparing transaction: | \b\b/ \b\b- \b\b\\ \b\b| \b\b/ \b\b- \b\b\\ \b\b| \b\b/ \b\bdone\n",
            "Verifying transaction: \\ \b\b| \b\b/ \b\b- \b\b\\ \b\b| \b\b/ \b\b- \b\b\\ \b\b| \b\b/ \b\b- \b\b\\ \b\b| \b\b/ \b\b- \b\b\\ \b\b| \b\b/ \b\b- \b\b\\ \b\b| \b\b/ \b\b- \b\b\\ \b\b| \b\b/ \b\bdone\n",
            "Executing transaction: \\ \b\b| \b\b/ \b\b- \b\b\\ \b\b| \b\b/ \b\b- \b\b\\ \b\b| \b\b/ \b\b- \b\b\\ \b\b| \b\b/ \b\b- \b\b\\ \b\b| \b\b/ \b\b- \b\b\\ \b\b| \b\b/ \b\b- \b\b\\ \b\b| \b\b/ \b\b- \b\b\\ \b\b| \b\b/ \b\b- \b\b\\ \b\b| \b\b/ \b\b- \b\b\\ \b\b| \b\b/ \b\b- \b\b\\ \b\b| \b\b/ \b\b- \b\b\\ \b\b| \b\b/ \b\b- \b\b\\ \b\b| \b\b/ \b\b- \b\b\\ \b\b| \b\b/ \b\b- \b\b\\ \b\b| \b\b/ \b\b- \b\b\\ \b\b| \b\b/ \b\b- \b\b\\ \b\b| \b\b/ \b\b- \b\b\\ \b\b| \b\b/ \b\b- \b\b\\ \b\b| \b\b/ \b\b- \b\b\\ \b\b| \b\b/ \b\b- \b\b\\ \b\b| \b\b/ \b\b- \b\b\\ \b\b| \b\b/ \b\b- \b\b\\ \b\b| \b\b/ \b\b- \b\b\\ \b\b| \b\b/ \b\b- \b\b\\ \b\b| \b\b/ \b\b- \b\b\\ \b\b| \b\b/ \b\b- \b\b\\ \b\b| \b\b/ \b\b- \b\b\\ \b\b| \b\b/ \b\b- \b\b\\ \b\b| \b\b/ \b\b- \b\b\\ \b\b| \b\b/ \b\b- \b\b\\ \b\b| \b\b/ \b\b- \b\b\\ \b\b| \b\b/ \b\b- \b\b\\ \b\b| \b\b/ \b\b- \b\b\\ \b\b| \b\b/ \b\b- \b\b\\ \b\b| \b\b/ \b\b- \b\b\\ \b\b| \b\b/ \b\b- \b\b\\ \b\b| \b\b/ \b\b- \b\b\\ \b\b| \b\b/ \b\b- \b\b\\ \b\b| \b\b/ \b\b- \b\b\\ \b\b| \b\b/ \b\b- \b\b\\ \b\b| \b\b/ \b\b- \b\b\\ \b\b| \b\b/ \b\b- \b\b\\ \b\b| \b\b/ \b\b- \b\b\\ \b\b| \b\b/ \b\b- \b\b\\ \b\b| \b\b/ \b\b- \b\b\\ \b\b| \b\b/ \b\b- \b\b\\ \b\b| \b\b/ \b\b- \b\b\\ \b\b| \b\b/ \b\b- \b\b\\ \b\b| \b\b/ \b\b- \b\b\\ \b\b| \b\b/ \b\b- \b\b\\ \b\b| \b\b/ \b\b- \b\b\\ \b\b| \b\b/ \b\b- \b\b\\ \b\b| \b\b/ \b\b- \b\b\\ \b\b| \b\b/ \b\b- \b\b\\ \b\b| \b\b/ \b\b- \b\b\\ \b\b| \b\b/ \b\b- \b\b\\ \b\b| \b\b/ \b\b- \b\b\\ \b\b| \b\b/ \b\b- \b\b\\ \b\b| \b\b/ \b\b- \b\b\\ \b\b| \b\b/ \b\b- \b\b\\ \b\b| \b\b/ \b\b- \b\b\\ \b\b| \b\b/ \b\b- \b\b\\ \b\b| \b\b/ \b\b- \b\b\\ \b\b| \b\b/ \b\b- \b\b\\ \b\b| \b\b/ \b\b- \b\b\\ \b\b| \b\b/ \b\b- \b\b\\ \b\b| \b\b/ \b\b- \b\b\\ \b\b| \b\b/ \b\b- \b\b\\ \b\b| \b\b/ \b\b- \b\b\\ \b\b| \b\b/ \b\b- \b\b\\ \b\b| \b\b/ \b\b- \b\b\\ \b\b| \b\b/ \b\b- \b\b\\ \b\b| \b\b/ \b\b- \b\b\\ \b\b| \b\b/ \b\b- \b\b\\ \b\b| \b\b/ \b\b- \b\b\\ \b\b| \b\b/ \b\b- \b\b\\ \b\b| \b\b/ \b\bdone\n"
          ],
          "name": "stdout"
        }
      ]
    },
    {
      "cell_type": "markdown",
      "metadata": {
        "id": "oWgueg3f1nGa"
      },
      "source": [
        "## **Lipinski 5-rule descriptors**\n"
      ]
    },
    {
      "cell_type": "code",
      "metadata": {
        "id": "5eWpwLJR0zgL"
      },
      "source": [
        "import pandas as pd"
      ],
      "execution_count": 38,
      "outputs": []
    },
    {
      "cell_type": "code",
      "metadata": {
        "colab": {
          "base_uri": "https://localhost:8080/",
          "height": 142
        },
        "id": "UzT5_MP_05b2",
        "outputId": "0f59d62f-8e41-4f0f-eeb9-5344f7b0ef28"
      },
      "source": [
        "df = pd.read_csv('CHEMBL614725_2classes_data.csv')\n",
        "df.head(3)"
      ],
      "execution_count": 39,
      "outputs": [
        {
          "output_type": "execute_result",
          "data": {
            "text/html": [
              "<div>\n",
              "<style scoped>\n",
              "    .dataframe tbody tr th:only-of-type {\n",
              "        vertical-align: middle;\n",
              "    }\n",
              "\n",
              "    .dataframe tbody tr th {\n",
              "        vertical-align: top;\n",
              "    }\n",
              "\n",
              "    .dataframe thead th {\n",
              "        text-align: right;\n",
              "    }\n",
              "</style>\n",
              "<table border=\"1\" class=\"dataframe\">\n",
              "  <thead>\n",
              "    <tr style=\"text-align: right;\">\n",
              "      <th></th>\n",
              "      <th>molecule_chembl_id</th>\n",
              "      <th>canonical_smiles</th>\n",
              "      <th>pIC50</th>\n",
              "      <th>bioactivity_class</th>\n",
              "    </tr>\n",
              "  </thead>\n",
              "  <tbody>\n",
              "    <tr>\n",
              "      <th>0</th>\n",
              "      <td>CHEMBL2321905</td>\n",
              "      <td>COC(=O)c1cc(-c2ccc(NC(=O)c3cc(NC(=O)CCCOc4cc5c...</td>\n",
              "      <td>11.886057</td>\n",
              "      <td>active</td>\n",
              "    </tr>\n",
              "    <tr>\n",
              "      <th>1</th>\n",
              "      <td>CHEMBL2324630</td>\n",
              "      <td>COC(=O)c1cc(-c2ccc(NC(=O)c3nc(NC(=O)CCCOc4cc5c...</td>\n",
              "      <td>11.677781</td>\n",
              "      <td>active</td>\n",
              "    </tr>\n",
              "    <tr>\n",
              "      <th>2</th>\n",
              "      <td>CHEMBL4176275</td>\n",
              "      <td>COc1c(Br)c2c(c(OC)c1OC)-c1cc3cc(CO)n(C)c3cc1[C...</td>\n",
              "      <td>10.000000</td>\n",
              "      <td>active</td>\n",
              "    </tr>\n",
              "  </tbody>\n",
              "</table>\n",
              "</div>"
            ],
            "text/plain": [
              "  molecule_chembl_id  ... bioactivity_class\n",
              "0      CHEMBL2321905  ...            active\n",
              "1      CHEMBL2324630  ...            active\n",
              "2      CHEMBL4176275  ...            active\n",
              "\n",
              "[3 rows x 4 columns]"
            ]
          },
          "metadata": {
            "tags": []
          },
          "execution_count": 39
        }
      ]
    },
    {
      "cell_type": "markdown",
      "metadata": {
        "id": "D75WOK7A2Y-L"
      },
      "source": [
        "### **Import libraries**"
      ]
    },
    {
      "cell_type": "code",
      "metadata": {
        "id": "pvxChLRD0881"
      },
      "source": [
        "import numpy as np\n",
        "from rdkit import Chem\n",
        "from rdkit.Chem import Descriptors, Lipinski"
      ],
      "execution_count": 40,
      "outputs": []
    },
    {
      "cell_type": "markdown",
      "metadata": {
        "id": "dDZzNuib2eZi"
      },
      "source": [
        "### **Calculate descriptors**"
      ]
    },
    {
      "cell_type": "code",
      "metadata": {
        "id": "9WKZ2gJD2cMd"
      },
      "source": [
        "# Inspired by: https://codeocean.com/explore/capsules?query=tag:data-curation\n",
        "\n",
        "def lipinski(smiles, verbose=False):\n",
        "\n",
        "    moldata= []\n",
        "    for elem in smiles:\n",
        "        mol=Chem.MolFromSmiles(elem) \n",
        "        moldata.append(mol)\n",
        "       \n",
        "    baseData= np.arange(1,1)\n",
        "    i=0  \n",
        "    for mol in moldata:        \n",
        "       \n",
        "        desc_MolWt = Descriptors.MolWt(mol)\n",
        "        desc_MolLogP = Descriptors.MolLogP(mol)\n",
        "        desc_NumHDonors = Lipinski.NumHDonors(mol)\n",
        "        desc_NumHAcceptors = Lipinski.NumHAcceptors(mol)\n",
        "           \n",
        "        row = np.array([desc_MolWt,\n",
        "                        desc_MolLogP,\n",
        "                        desc_NumHDonors,\n",
        "                        desc_NumHAcceptors])   \n",
        "    \n",
        "        if(i==0):\n",
        "            baseData=row\n",
        "        else:\n",
        "            baseData=np.vstack([baseData, row])\n",
        "        i=i+1      \n",
        "    \n",
        "    columnNames=[\"MW\",\"LogP\",\"NumHDonors\",\"NumHAcceptors\"]   \n",
        "    descriptors = pd.DataFrame(data=baseData,columns=columnNames)\n",
        "    \n",
        "    return descriptors"
      ],
      "execution_count": 41,
      "outputs": []
    },
    {
      "cell_type": "code",
      "metadata": {
        "colab": {
          "base_uri": "https://localhost:8080/",
          "height": 419
        },
        "id": "A0Y7_wNk2fyu",
        "outputId": "af5797ee-d8b9-4143-a2c2-7e256330bacd"
      },
      "source": [
        "df_lipinski = lipinski(df.canonical_smiles)\n",
        "df_lipinski.head(3)"
      ],
      "execution_count": 42,
      "outputs": [
        {
          "output_type": "execute_result",
          "data": {
            "text/html": [
              "<div>\n",
              "<style scoped>\n",
              "    .dataframe tbody tr th:only-of-type {\n",
              "        vertical-align: middle;\n",
              "    }\n",
              "\n",
              "    .dataframe tbody tr th {\n",
              "        vertical-align: top;\n",
              "    }\n",
              "\n",
              "    .dataframe thead th {\n",
              "        text-align: right;\n",
              "    }\n",
              "</style>\n",
              "<table border=\"1\" class=\"dataframe\">\n",
              "  <thead>\n",
              "    <tr style=\"text-align: right;\">\n",
              "      <th></th>\n",
              "      <th>MW</th>\n",
              "      <th>LogP</th>\n",
              "      <th>NumHDonors</th>\n",
              "      <th>NumHAcceptors</th>\n",
              "    </tr>\n",
              "  </thead>\n",
              "  <tbody>\n",
              "    <tr>\n",
              "      <th>0</th>\n",
              "      <td>666.735</td>\n",
              "      <td>5.19630</td>\n",
              "      <td>2.0</td>\n",
              "      <td>10.0</td>\n",
              "    </tr>\n",
              "    <tr>\n",
              "      <th>1</th>\n",
              "      <td>667.723</td>\n",
              "      <td>4.59130</td>\n",
              "      <td>2.0</td>\n",
              "      <td>11.0</td>\n",
              "    </tr>\n",
              "    <tr>\n",
              "      <th>2</th>\n",
              "      <td>503.393</td>\n",
              "      <td>4.24930</td>\n",
              "      <td>2.0</td>\n",
              "      <td>6.0</td>\n",
              "    </tr>\n",
              "    <tr>\n",
              "      <th>3</th>\n",
              "      <td>681.750</td>\n",
              "      <td>4.98140</td>\n",
              "      <td>2.0</td>\n",
              "      <td>11.0</td>\n",
              "    </tr>\n",
              "    <tr>\n",
              "      <th>4</th>\n",
              "      <td>789.850</td>\n",
              "      <td>5.18210</td>\n",
              "      <td>3.0</td>\n",
              "      <td>13.0</td>\n",
              "    </tr>\n",
              "    <tr>\n",
              "      <th>...</th>\n",
              "      <td>...</td>\n",
              "      <td>...</td>\n",
              "      <td>...</td>\n",
              "      <td>...</td>\n",
              "    </tr>\n",
              "    <tr>\n",
              "      <th>767</th>\n",
              "      <td>295.729</td>\n",
              "      <td>4.53830</td>\n",
              "      <td>1.0</td>\n",
              "      <td>3.0</td>\n",
              "    </tr>\n",
              "    <tr>\n",
              "      <th>768</th>\n",
              "      <td>338.213</td>\n",
              "      <td>-2.70730</td>\n",
              "      <td>6.0</td>\n",
              "      <td>9.0</td>\n",
              "    </tr>\n",
              "    <tr>\n",
              "      <th>769</th>\n",
              "      <td>111.032</td>\n",
              "      <td>-5.77440</td>\n",
              "      <td>1.0</td>\n",
              "      <td>3.0</td>\n",
              "    </tr>\n",
              "    <tr>\n",
              "      <th>770</th>\n",
              "      <td>129.167</td>\n",
              "      <td>-1.03416</td>\n",
              "      <td>4.0</td>\n",
              "      <td>2.0</td>\n",
              "    </tr>\n",
              "    <tr>\n",
              "      <th>771</th>\n",
              "      <td>357.793</td>\n",
              "      <td>3.92732</td>\n",
              "      <td>1.0</td>\n",
              "      <td>4.0</td>\n",
              "    </tr>\n",
              "  </tbody>\n",
              "</table>\n",
              "<p>772 rows × 4 columns</p>\n",
              "</div>"
            ],
            "text/plain": [
              "          MW     LogP  NumHDonors  NumHAcceptors\n",
              "0    666.735  5.19630         2.0           10.0\n",
              "1    667.723  4.59130         2.0           11.0\n",
              "2    503.393  4.24930         2.0            6.0\n",
              "3    681.750  4.98140         2.0           11.0\n",
              "4    789.850  5.18210         3.0           13.0\n",
              "..       ...      ...         ...            ...\n",
              "767  295.729  4.53830         1.0            3.0\n",
              "768  338.213 -2.70730         6.0            9.0\n",
              "769  111.032 -5.77440         1.0            3.0\n",
              "770  129.167 -1.03416         4.0            2.0\n",
              "771  357.793  3.92732         1.0            4.0\n",
              "\n",
              "[772 rows x 4 columns]"
            ]
          },
          "metadata": {
            "tags": []
          },
          "execution_count": 42
        }
      ]
    },
    {
      "cell_type": "code",
      "metadata": {
        "colab": {
          "base_uri": "https://localhost:8080/",
          "height": 142
        },
        "id": "rSpYubJg2f1W",
        "outputId": "29b0eb96-205e-49ac-8a2b-5a946dcfb775"
      },
      "source": [
        "df_combined = pd.concat([df,df_lipinski], axis=1)\n",
        "df_combined.head(3)"
      ],
      "execution_count": 43,
      "outputs": [
        {
          "output_type": "execute_result",
          "data": {
            "text/html": [
              "<div>\n",
              "<style scoped>\n",
              "    .dataframe tbody tr th:only-of-type {\n",
              "        vertical-align: middle;\n",
              "    }\n",
              "\n",
              "    .dataframe tbody tr th {\n",
              "        vertical-align: top;\n",
              "    }\n",
              "\n",
              "    .dataframe thead th {\n",
              "        text-align: right;\n",
              "    }\n",
              "</style>\n",
              "<table border=\"1\" class=\"dataframe\">\n",
              "  <thead>\n",
              "    <tr style=\"text-align: right;\">\n",
              "      <th></th>\n",
              "      <th>molecule_chembl_id</th>\n",
              "      <th>canonical_smiles</th>\n",
              "      <th>pIC50</th>\n",
              "      <th>bioactivity_class</th>\n",
              "      <th>MW</th>\n",
              "      <th>LogP</th>\n",
              "      <th>NumHDonors</th>\n",
              "      <th>NumHAcceptors</th>\n",
              "    </tr>\n",
              "  </thead>\n",
              "  <tbody>\n",
              "    <tr>\n",
              "      <th>0</th>\n",
              "      <td>CHEMBL2321905</td>\n",
              "      <td>COC(=O)c1cc(-c2ccc(NC(=O)c3cc(NC(=O)CCCOc4cc5c...</td>\n",
              "      <td>11.886057</td>\n",
              "      <td>active</td>\n",
              "      <td>666.735</td>\n",
              "      <td>5.1963</td>\n",
              "      <td>2.0</td>\n",
              "      <td>10.0</td>\n",
              "    </tr>\n",
              "    <tr>\n",
              "      <th>1</th>\n",
              "      <td>CHEMBL2324630</td>\n",
              "      <td>COC(=O)c1cc(-c2ccc(NC(=O)c3nc(NC(=O)CCCOc4cc5c...</td>\n",
              "      <td>11.677781</td>\n",
              "      <td>active</td>\n",
              "      <td>667.723</td>\n",
              "      <td>4.5913</td>\n",
              "      <td>2.0</td>\n",
              "      <td>11.0</td>\n",
              "    </tr>\n",
              "    <tr>\n",
              "      <th>2</th>\n",
              "      <td>CHEMBL4176275</td>\n",
              "      <td>COc1c(Br)c2c(c(OC)c1OC)-c1cc3cc(CO)n(C)c3cc1[C...</td>\n",
              "      <td>10.000000</td>\n",
              "      <td>active</td>\n",
              "      <td>503.393</td>\n",
              "      <td>4.2493</td>\n",
              "      <td>2.0</td>\n",
              "      <td>6.0</td>\n",
              "    </tr>\n",
              "  </tbody>\n",
              "</table>\n",
              "</div>"
            ],
            "text/plain": [
              "  molecule_chembl_id  ... NumHAcceptors\n",
              "0      CHEMBL2321905  ...          10.0\n",
              "1      CHEMBL2324630  ...          11.0\n",
              "2      CHEMBL4176275  ...           6.0\n",
              "\n",
              "[3 rows x 8 columns]"
            ]
          },
          "metadata": {
            "tags": []
          },
          "execution_count": 43
        }
      ]
    },
    {
      "cell_type": "code",
      "metadata": {
        "id": "c7L2E2vP4tjT"
      },
      "source": [
        "df_combined.to_csv('CHEMBL614725_2classes_lipinski_EDA_data.csv', index=False)"
      ],
      "execution_count": 44,
      "outputs": []
    },
    {
      "cell_type": "markdown",
      "metadata": {
        "id": "GEfrg6U93ssv"
      },
      "source": [
        "## **Chemical Space Analysis**"
      ]
    },
    {
      "cell_type": "markdown",
      "metadata": {
        "id": "7yFscNqT3zry"
      },
      "source": [
        "### **Import library**"
      ]
    },
    {
      "cell_type": "code",
      "metadata": {
        "id": "NygP-A292f37"
      },
      "source": [
        "import seaborn as sns\n",
        "sns.set(style='ticks')\n",
        "import matplotlib.pyplot as plt"
      ],
      "execution_count": 45,
      "outputs": []
    },
    {
      "cell_type": "markdown",
      "metadata": {
        "id": "y5QuFqXmAmGQ"
      },
      "source": [
        "**Statistical analysis | Mann-Whitney U Test**"
      ]
    },
    {
      "cell_type": "code",
      "metadata": {
        "id": "6qTqH0mlAmjq"
      },
      "source": [
        "def mannwhitney(descriptor, verbose=False):\n",
        "  # https://machinelearningmastery.com/nonparametric-statistical-significance-tests-in-python/\n",
        "  from numpy.random import seed\n",
        "  from numpy.random import randn\n",
        "  from scipy.stats import mannwhitneyu\n",
        "\n",
        "# seed the random number generator\n",
        "  seed(1)\n",
        "\n",
        "# actives and inactives\n",
        "  selection = [descriptor, 'bioactivity_class']\n",
        "  df = df_combined[selection]\n",
        "  active = df[df.bioactivity_class == 'active']\n",
        "  active = active[descriptor]\n",
        "\n",
        "  selection = [descriptor, 'bioactivity_class']\n",
        "  df = df_combined[selection]\n",
        "  inactive = df[df.bioactivity_class == 'inactive']\n",
        "  inactive = inactive[descriptor]\n",
        "\n",
        "# compare samples\n",
        "  stat, p = mannwhitneyu(active, inactive)\n",
        "  #print('Statistics=%.3f, p=%.3f' % (stat, p))\n",
        "\n",
        "# interpret\n",
        "  alpha = 0.05\n",
        "  if p > alpha:\n",
        "    interpretation = 'Same distribution (fail to reject H0)'\n",
        "  else:\n",
        "    interpretation = 'Different distribution (reject H0)'\n",
        "  \n",
        "  results = pd.DataFrame({'Descriptor':descriptor,\n",
        "                          'Statistics':stat,\n",
        "                          'p':p,\n",
        "                          'alpha':alpha,\n",
        "                          'Interpretation':interpretation}, index=[0])\n",
        "  filename = 'CHEMBL614725_MIA-PaCa-2_mannwhitneyu_' + descriptor + '.csv'\n",
        "  results.to_csv(filename)\n",
        "\n",
        "  return results"
      ],
      "execution_count": 46,
      "outputs": []
    },
    {
      "cell_type": "markdown",
      "metadata": {
        "id": "nWZLW7cN4nX8"
      },
      "source": [
        "### **Scatter plot of MW versus LogP**\n",
        "\n"
      ]
    },
    {
      "cell_type": "code",
      "metadata": {
        "colab": {
          "base_uri": "https://localhost:8080/",
          "height": 476
        },
        "id": "TRqrXyR_2f6V",
        "outputId": "672d6f35-bcd3-450b-af6d-2cea81533c44"
      },
      "source": [
        "plt.figure(figsize=(7.5, 7.5))\n",
        "\n",
        "sns.scatterplot(x='MW', y='LogP', data=df_combined, hue='bioactivity_class', size='pIC50', edgecolor='black', alpha=0.7)\n",
        "\n",
        "plt.xlabel('MW', fontsize=14, fontweight='bold')\n",
        "plt.ylabel('LogP', fontsize=14, fontweight='bold')\n",
        "plt.legend(bbox_to_anchor=(1.05, 1), loc=2, borderaxespad=0)\n",
        "plt.savefig('CHEMBL614725_MIA-PaCa-2_plot_MW_vs_LogP.pdf')"
      ],
      "execution_count": 47,
      "outputs": [
        {
          "output_type": "display_data",
          "data": {
            "image/png": "[encoded data removed]",
            "text/plain": [
              "<Figure size 540x540 with 1 Axes>"
            ]
          },
          "metadata": {
            "tags": []
          }
        }
      ]
    },
    {
      "cell_type": "markdown",
      "metadata": {
        "id": "SF50Sw9f5Gr7"
      },
      "source": [
        "### **Box plots &　Hypothesis Test**"
      ]
    },
    {
      "cell_type": "markdown",
      "metadata": {
        "id": "DGpwctnfAYkQ"
      },
      "source": [
        "#### **MW**"
      ]
    },
    {
      "cell_type": "code",
      "metadata": {
        "colab": {
          "base_uri": "https://localhost:8080/",
          "height": 476
        },
        "id": "TKZqdjty2f-s",
        "outputId": "2943080f-bf31-4a2f-fd26-6955952e0c40"
      },
      "source": [
        "plt.figure(figsize=(7.5, 7.5))\n",
        "\n",
        "sns.boxplot(x = 'bioactivity_class', y = 'pIC50', data = df_combined)\n",
        "\n",
        "plt.xlabel('Bioactivity class', fontsize=14, fontweight='bold')\n",
        "plt.ylabel('pIC50 value', fontsize=14, fontweight='bold')\n",
        "\n",
        "plt.savefig('CHEMBL614725_MIA-PaCa-2_plot_ic50.pdf')"
      ],
      "execution_count": 48,
      "outputs": [
        {
          "output_type": "display_data",
          "data": {
            "image/png": "[encoded data removed]",
            "text/plain": [
              "<Figure size 540x540 with 1 Axes>"
            ]
          },
          "metadata": {
            "tags": []
          }
        }
      ]
    },
    {
      "cell_type": "code",
      "metadata": {
        "colab": {
          "base_uri": "https://localhost:8080/",
          "height": 80
        },
        "id": "lSIUD0bEAfDP",
        "outputId": "a5b4769c-1e5a-4092-f401-9f75622f4f3c"
      },
      "source": [
        "mannwhitney('MW')"
      ],
      "execution_count": 49,
      "outputs": [
        {
          "output_type": "execute_result",
          "data": {
            "text/html": [
              "<div>\n",
              "<style scoped>\n",
              "    .dataframe tbody tr th:only-of-type {\n",
              "        vertical-align: middle;\n",
              "    }\n",
              "\n",
              "    .dataframe tbody tr th {\n",
              "        vertical-align: top;\n",
              "    }\n",
              "\n",
              "    .dataframe thead th {\n",
              "        text-align: right;\n",
              "    }\n",
              "</style>\n",
              "<table border=\"1\" class=\"dataframe\">\n",
              "  <thead>\n",
              "    <tr style=\"text-align: right;\">\n",
              "      <th></th>\n",
              "      <th>Descriptor</th>\n",
              "      <th>Statistics</th>\n",
              "      <th>p</th>\n",
              "      <th>alpha</th>\n",
              "      <th>Interpretation</th>\n",
              "    </tr>\n",
              "  </thead>\n",
              "  <tbody>\n",
              "    <tr>\n",
              "      <th>0</th>\n",
              "      <td>MW</td>\n",
              "      <td>35625.0</td>\n",
              "      <td>2.051980e-36</td>\n",
              "      <td>0.05</td>\n",
              "      <td>Different distribution (reject H0)</td>\n",
              "    </tr>\n",
              "  </tbody>\n",
              "</table>\n",
              "</div>"
            ],
            "text/plain": [
              "  Descriptor  Statistics  ...  alpha                      Interpretation\n",
              "0         MW     35625.0  ...   0.05  Different distribution (reject H0)\n",
              "\n",
              "[1 rows x 5 columns]"
            ]
          },
          "metadata": {
            "tags": []
          },
          "execution_count": 49
        }
      ]
    },
    {
      "cell_type": "markdown",
      "metadata": {
        "id": "nPPBQokSBDFU"
      },
      "source": [
        "#### **LogP**"
      ]
    },
    {
      "cell_type": "code",
      "metadata": {
        "colab": {
          "base_uri": "https://localhost:8080/",
          "height": 476
        },
        "id": "-wQC3ZRF2gAo",
        "outputId": "3c3d3726-a017-451d-bc95-65f5f53c30d9"
      },
      "source": [
        "plt.figure(figsize=(7.5, 7.5))\n",
        "\n",
        "sns.boxplot(x = 'bioactivity_class', y = 'MW', data = df_combined)\n",
        "\n",
        "plt.xlabel('Bioactivity class', fontsize=14, fontweight='bold')\n",
        "plt.ylabel('MW', fontsize=14, fontweight='bold')\n",
        "\n",
        "plt.savefig('CHEMBL614725_MIA-PaCa-2_plot_MW.pdf')"
      ],
      "execution_count": 50,
      "outputs": [
        {
          "output_type": "display_data",
          "data": {
            "image/png": "[encoded data removed]",
            "text/plain": [
              "<Figure size 540x540 with 1 Axes>"
            ]
          },
          "metadata": {
            "tags": []
          }
        }
      ]
    },
    {
      "cell_type": "markdown",
      "metadata": {
        "id": "6_cq6l1eBGzG"
      },
      "source": [
        "#### **NumHDonors**"
      ]
    },
    {
      "cell_type": "code",
      "metadata": {
        "colab": {
          "base_uri": "https://localhost:8080/",
          "height": 367
        },
        "id": "P0NoHvK82gF6",
        "outputId": "ce7a8492-0018-479c-9bbf-e2e19f39add7"
      },
      "source": [
        "plt.figure(figsize=(5.5, 5.5))\n",
        "\n",
        "sns.boxplot(x = 'bioactivity_class', y = 'LogP', data = df_combined)\n",
        "\n",
        "plt.xlabel('Bioactivity class', fontsize=14, fontweight='bold')\n",
        "plt.ylabel('LogP', fontsize=14, fontweight='bold')\n",
        "\n",
        "plt.savefig('CHEMBL614725_MIA-PaCa-2_plot_LogP.pdf')"
      ],
      "execution_count": 51,
      "outputs": [
        {
          "output_type": "display_data",
          "data": {
            "image/png": "[encoded data removed]",
            "text/plain": [
              "<Figure size 396x396 with 1 Axes>"
            ]
          },
          "metadata": {
            "tags": []
          }
        }
      ]
    },
    {
      "cell_type": "code",
      "metadata": {
        "colab": {
          "base_uri": "https://localhost:8080/",
          "height": 80
        },
        "id": "88uD1eV9BMze",
        "outputId": "9a6bf184-1bdc-4b77-eaa9-cb573f64b3b5"
      },
      "source": [
        "mannwhitney('NumHDonors')"
      ],
      "execution_count": 52,
      "outputs": [
        {
          "output_type": "execute_result",
          "data": {
            "text/html": [
              "<div>\n",
              "<style scoped>\n",
              "    .dataframe tbody tr th:only-of-type {\n",
              "        vertical-align: middle;\n",
              "    }\n",
              "\n",
              "    .dataframe tbody tr th {\n",
              "        vertical-align: top;\n",
              "    }\n",
              "\n",
              "    .dataframe thead th {\n",
              "        text-align: right;\n",
              "    }\n",
              "</style>\n",
              "<table border=\"1\" class=\"dataframe\">\n",
              "  <thead>\n",
              "    <tr style=\"text-align: right;\">\n",
              "      <th></th>\n",
              "      <th>Descriptor</th>\n",
              "      <th>Statistics</th>\n",
              "      <th>p</th>\n",
              "      <th>alpha</th>\n",
              "      <th>Interpretation</th>\n",
              "    </tr>\n",
              "  </thead>\n",
              "  <tbody>\n",
              "    <tr>\n",
              "      <th>0</th>\n",
              "      <td>NumHDonors</td>\n",
              "      <td>64503.5</td>\n",
              "      <td>0.000445</td>\n",
              "      <td>0.05</td>\n",
              "      <td>Different distribution (reject H0)</td>\n",
              "    </tr>\n",
              "  </tbody>\n",
              "</table>\n",
              "</div>"
            ],
            "text/plain": [
              "   Descriptor  Statistics         p  alpha                      Interpretation\n",
              "0  NumHDonors     64503.5  0.000445   0.05  Different distribution (reject H0)"
            ]
          },
          "metadata": {
            "tags": []
          },
          "execution_count": 52
        }
      ]
    },
    {
      "cell_type": "markdown",
      "metadata": {
        "id": "Am-Ehr84BIgq"
      },
      "source": [
        "#### **NumHAcceptors**"
      ]
    },
    {
      "cell_type": "code",
      "metadata": {
        "colab": {
          "base_uri": "https://localhost:8080/",
          "height": 367
        },
        "id": "mCIW8rniABmG",
        "outputId": "d8c18877-5336-4e56-c4b9-69ba5c6cc547"
      },
      "source": [
        "plt.figure(figsize=(5.5, 5.5))\n",
        "\n",
        "sns.boxplot(x = 'bioactivity_class', y = 'NumHDonors', data = df_combined)\n",
        "\n",
        "plt.xlabel('Bioactivity class', fontsize=14, fontweight='bold')\n",
        "plt.ylabel('NumHDonors', fontsize=14, fontweight='bold')\n",
        "\n",
        "plt.savefig('CHEMBL614725_MIA-PaCa-2_plot_NumHDonors.pdf')"
      ],
      "execution_count": 53,
      "outputs": [
        {
          "output_type": "display_data",
          "data": {
            "image/png": "[encoded data removed]",
            "text/plain": [
              "<Figure size 396x396 with 1 Axes>"
            ]
          },
          "metadata": {
            "tags": []
          }
        }
      ]
    },
    {
      "cell_type": "code",
      "metadata": {
        "colab": {
          "base_uri": "https://localhost:8080/",
          "height": 80
        },
        "id": "4XoT9mhJAD_l",
        "outputId": "9f68763c-6a41-464e-afa7-d098f3a5327b"
      },
      "source": [
        "mannwhitney('NumHAcceptors')"
      ],
      "execution_count": 54,
      "outputs": [
        {
          "output_type": "execute_result",
          "data": {
            "text/html": [
              "<div>\n",
              "<style scoped>\n",
              "    .dataframe tbody tr th:only-of-type {\n",
              "        vertical-align: middle;\n",
              "    }\n",
              "\n",
              "    .dataframe tbody tr th {\n",
              "        vertical-align: top;\n",
              "    }\n",
              "\n",
              "    .dataframe thead th {\n",
              "        text-align: right;\n",
              "    }\n",
              "</style>\n",
              "<table border=\"1\" class=\"dataframe\">\n",
              "  <thead>\n",
              "    <tr style=\"text-align: right;\">\n",
              "      <th></th>\n",
              "      <th>Descriptor</th>\n",
              "      <th>Statistics</th>\n",
              "      <th>p</th>\n",
              "      <th>alpha</th>\n",
              "      <th>Interpretation</th>\n",
              "    </tr>\n",
              "  </thead>\n",
              "  <tbody>\n",
              "    <tr>\n",
              "      <th>0</th>\n",
              "      <td>NumHAcceptors</td>\n",
              "      <td>53854.0</td>\n",
              "      <td>9.183939e-12</td>\n",
              "      <td>0.05</td>\n",
              "      <td>Different distribution (reject H0)</td>\n",
              "    </tr>\n",
              "  </tbody>\n",
              "</table>\n",
              "</div>"
            ],
            "text/plain": [
              "      Descriptor  Statistics  ...  alpha                      Interpretation\n",
              "0  NumHAcceptors     53854.0  ...   0.05  Different distribution (reject H0)\n",
              "\n",
              "[1 rows x 5 columns]"
            ]
          },
          "metadata": {
            "tags": []
          },
          "execution_count": 54
        }
      ]
    },
    {
      "cell_type": "markdown",
      "metadata": {
        "id": "RMDuuVetBk5e"
      },
      "source": [
        "# **Zip files**"
      ]
    },
    {
      "cell_type": "code",
      "metadata": {
        "colab": {
          "base_uri": "https://localhost:8080/"
        },
        "id": "u12x-HeXBRZL",
        "outputId": "64de313a-344c-4542-964e-b663c8afbfae"
      },
      "source": [
        "! zip -r results.zip . -i *.csv *.pdf"
      ],
      "execution_count": 55,
      "outputs": [
        {
          "output_type": "stream",
          "text": [
            "  adding: CHEMBL614725_2classes_lipinski_EDA_data.csv (deflated 74%)\n",
            "  adding: CHEMBL614725_MIA-PaCa-2_mannwhitneyu_MW.csv (deflated 9%)\n",
            "  adding: CHEMBL614725_MIA-PaCa-2_mannwhitneyu_NumHDonors.csv (deflated 11%)\n",
            "  adding: CHEMBL614725_bioactivity_data_curated.csv (deflated 78%)\n",
            "  adding: CHEMBL614725_MIA-PaCa-2_plot_ic50.pdf (deflated 37%)\n",
            "  adding: CHEMBL614725_MIA-PaCa-2_plot_MW.pdf (deflated 38%)\n",
            "  adding: CHEMBL614725_2classes_data.csv (deflated 77%)\n",
            "  adding: CHEMBL614725_MIA-PaCa-2_plot_NumHDonors.pdf (deflated 39%)\n",
            "  adding: CHEMBL614725_MIA-PaCa-2_plot_LogP.pdf (deflated 40%)\n",
            "  adding: CHEMBL614725_MIA-PaCa-2_plot_MW_vs_LogP.pdf (deflated 5%)\n",
            "  adding: CHEMBL614725_bioactivity_data_preprocessed.csv (deflated 77%)\n",
            "  adding: CHEMBL614725_MIA-PaCa-2_mannwhitneyu_NumHAcceptors.csv (deflated 10%)\n",
            "  adding: raw_CHEMBL614725_MIA-PaCa-2.csv (deflated 88%)\n"
          ],
          "name": "stdout"
        }
      ]
    },
    {
      "cell_type": "markdown",
      "metadata": {
        "id": "7zYqT9UkDpzl"
      },
      "source": [
        "# **Calculate fingerprint descriptors**"
      ]
    },
    {
      "cell_type": "markdown",
      "metadata": {
        "id": "lLmPOXL4EYAd"
      },
      "source": [
        "## **Download PaDEL-Descriptor**"
      ]
    },
    {
      "cell_type": "code",
      "metadata": {
        "colab": {
          "base_uri": "https://localhost:8080/"
        },
        "id": "5fV2fprbEbs1",
        "outputId": "2c1c2968-8f3f-461c-cb89-2304a5c0623a"
      },
      "source": [
        "! wget http://www.yapcwsoft.com/dd/padeldescriptor/PaDEL-Descriptor.zip"
      ],
      "execution_count": 56,
      "outputs": [
        {
          "output_type": "stream",
          "text": [
            "--2021-04-08 19:00:52--  http://www.yapcwsoft.com/dd/padeldescriptor/PaDEL-Descriptor.zip\n",
            "Resolving www.yapcwsoft.com (www.yapcwsoft.com)... 118.189.195.172\n",
            "Connecting to www.yapcwsoft.com (www.yapcwsoft.com)|118.189.195.172|:80... connected.\n",
            "HTTP request sent, awaiting response... 200 OK\n",
            "Length: 20875190 (20M) [application/zip]\n",
            "Saving to: ‘PaDEL-Descriptor.zip’\n",
            "\n",
            "PaDEL-Descriptor.zi 100%[===================>]  19.91M  5.09MB/s    in 3.9s    \n",
            "\n",
            "2021-04-08 19:00:56 (5.09 MB/s) - ‘PaDEL-Descriptor.zip’ saved [20875190/20875190]\n",
            "\n"
          ],
          "name": "stdout"
        }
      ]
    },
    {
      "cell_type": "code",
      "metadata": {
        "colab": {
          "base_uri": "https://localhost:8080/"
        },
        "id": "WG7LY8tR25CM",
        "outputId": "a5f6657d-0a3b-4140-b830-76fabec09dad"
      },
      "source": [
        "! unzip PaDEL-Descriptor.zip"
      ],
      "execution_count": 57,
      "outputs": [
        {
          "output_type": "stream",
          "text": [
            "Archive:  PaDEL-Descriptor.zip\n",
            "  inflating: Descriptors.xls         \n",
            "  inflating: descriptors.xml         \n",
            "   creating: lib/\n",
            "  inflating: lib/ambit2-base-2.4.7-SNAPSHOT.jar  \n",
            "  inflating: lib/ambit2-core-2.4.7-SNAPSHOT.jar  \n",
            "  inflating: lib/ambit2-smarts-2.4.7-SNAPSHOT.jar  \n",
            "  inflating: lib/appframework-1.0.3.jar  \n",
            "  inflating: lib/cdk-1.4.15.jar      \n",
            "  inflating: lib/commons-cli-1.2.jar  \n",
            "  inflating: lib/guava-17.0.jar      \n",
            "  inflating: lib/jama.jar            \n",
            "  inflating: lib/jgrapht-0.6.0.jar   \n",
            "  inflating: lib/l2fprod-common-all.jar  \n",
            "  inflating: lib/libPaDEL-Descriptor.jar  \n",
            "  inflating: lib/libPaDEL-Jobs.jar   \n",
            "  inflating: lib/libPaDEL.jar        \n",
            "  inflating: lib/swing-worker-1.1.jar  \n",
            "  inflating: lib/vecmath1.2-1.14.jar  \n",
            "  inflating: lib/xom-1.1.jar         \n",
            "   creating: license/\n",
            "  inflating: license/lgpl-2.1.txt    \n",
            "  inflating: license/lgpl.license    \n",
            "  inflating: license/LICENSE.txt     \n",
            "  inflating: license/README - CDK    \n",
            "  inflating: PaDEL-Descriptor.jar    \n"
          ],
          "name": "stdout"
        }
      ]
    },
    {
      "cell_type": "code",
      "metadata": {
        "id": "SYNPJi3027H9"
      },
      "source": [
        "# Modify the descriptors.xml file for calculation\n",
        "import lxml.etree\n",
        "\n",
        "# input\n",
        "doc = lxml.etree.parse('descriptors.xml')\n",
        "# modification\n",
        "for el in doc.xpath(\"//Descriptor[@name!='PubchemFingerprinter']\"):\n",
        "  el.attrib['value'] = 'false'\n",
        "# output\n",
        "# open('output_file.xml', 'w').write(lxml.etree.tostring(doc))\n",
        "doc.write('pubchemfingerprinter.xml')"
      ],
      "execution_count": 58,
      "outputs": []
    },
    {
      "cell_type": "markdown",
      "metadata": {
        "id": "PIZ1oP3wEkgH"
      },
      "source": [
        "## **Load bioactivity data**"
      ]
    },
    {
      "cell_type": "code",
      "metadata": {
        "id": "ueR-XNr7EntS"
      },
      "source": [
        "import pandas as pd"
      ],
      "execution_count": 59,
      "outputs": []
    },
    {
      "cell_type": "code",
      "metadata": {
        "colab": {
          "base_uri": "https://localhost:8080/",
          "height": 142
        },
        "id": "03IVnWisEtna",
        "outputId": "dee2b0c6-26db-4db1-9796-6b251874d167"
      },
      "source": [
        "df = pd.read_csv('CHEMBL614725_2classes_lipinski_EDA_data.csv')\n",
        "df.tail(3)"
      ],
      "execution_count": 60,
      "outputs": [
        {
          "output_type": "execute_result",
          "data": {
            "text/html": [
              "<div>\n",
              "<style scoped>\n",
              "    .dataframe tbody tr th:only-of-type {\n",
              "        vertical-align: middle;\n",
              "    }\n",
              "\n",
              "    .dataframe tbody tr th {\n",
              "        vertical-align: top;\n",
              "    }\n",
              "\n",
              "    .dataframe thead th {\n",
              "        text-align: right;\n",
              "    }\n",
              "</style>\n",
              "<table border=\"1\" class=\"dataframe\">\n",
              "  <thead>\n",
              "    <tr style=\"text-align: right;\">\n",
              "      <th></th>\n",
              "      <th>molecule_chembl_id</th>\n",
              "      <th>canonical_smiles</th>\n",
              "      <th>pIC50</th>\n",
              "      <th>bioactivity_class</th>\n",
              "      <th>MW</th>\n",
              "      <th>LogP</th>\n",
              "      <th>NumHDonors</th>\n",
              "      <th>NumHAcceptors</th>\n",
              "    </tr>\n",
              "  </thead>\n",
              "  <tbody>\n",
              "    <tr>\n",
              "      <th>769</th>\n",
              "      <td>CHEMBL1256289</td>\n",
              "      <td>NC(=O)C(=O)[O-].[Na+]</td>\n",
              "      <td>1.723538</td>\n",
              "      <td>inactive</td>\n",
              "      <td>111.032</td>\n",
              "      <td>-5.77440</td>\n",
              "      <td>1.0</td>\n",
              "      <td>3.0</td>\n",
              "    </tr>\n",
              "    <tr>\n",
              "      <th>770</th>\n",
              "      <td>CHEMBL1431</td>\n",
              "      <td>CN(C)C(=N)NC(=N)N</td>\n",
              "      <td>1.652413</td>\n",
              "      <td>inactive</td>\n",
              "      <td>129.167</td>\n",
              "      <td>-1.03416</td>\n",
              "      <td>4.0</td>\n",
              "      <td>2.0</td>\n",
              "    </tr>\n",
              "    <tr>\n",
              "      <th>771</th>\n",
              "      <td>CHEMBL6</td>\n",
              "      <td>COc1ccc2c(c1)c(CC(=O)O)c(C)n2C(=O)c1ccc(Cl)cc1</td>\n",
              "      <td>1.000000</td>\n",
              "      <td>inactive</td>\n",
              "      <td>357.793</td>\n",
              "      <td>3.92732</td>\n",
              "      <td>1.0</td>\n",
              "      <td>4.0</td>\n",
              "    </tr>\n",
              "  </tbody>\n",
              "</table>\n",
              "</div>"
            ],
            "text/plain": [
              "    molecule_chembl_id  ... NumHAcceptors\n",
              "769      CHEMBL1256289  ...           3.0\n",
              "770         CHEMBL1431  ...           2.0\n",
              "771            CHEMBL6  ...           4.0\n",
              "\n",
              "[3 rows x 8 columns]"
            ]
          },
          "metadata": {
            "tags": []
          },
          "execution_count": 60
        }
      ]
    },
    {
      "cell_type": "code",
      "metadata": {
        "id": "386U4iOFFWMN"
      },
      "source": [
        "selection = ['canonical_smiles','molecule_chembl_id']\n",
        "df_selection = df[selection]\n",
        "df_selection.to_csv('molecule.smi', sep='\\t', index=False, header=False)"
      ],
      "execution_count": 61,
      "outputs": []
    },
    {
      "cell_type": "code",
      "metadata": {
        "colab": {
          "base_uri": "https://localhost:8080/"
        },
        "id": "ME4dcBrBFeV8",
        "outputId": "203e60a3-a341-4c12-e0d4-9999f859c6cc"
      },
      "source": [
        "! cat molecule.smi | head -5"
      ],
      "execution_count": 62,
      "outputs": [
        {
          "output_type": "stream",
          "text": [
            "COC(=O)c1cc(-c2ccc(NC(=O)c3cc(NC(=O)CCCOc4cc5c(cc4OC)C(=O)N4CCC[C@H]4C=N5)cn3C)cc2)cn1C\tCHEMBL2321905\n",
            "COC(=O)c1cc(-c2ccc(NC(=O)c3nc(NC(=O)CCCOc4cc5c(cc4OC)C(=O)N4CCC[C@H]4C=N5)cn3C)cc2)cn1C\tCHEMBL2324630\n",
            "COc1c(Br)c2c(c(OC)c1OC)-c1cc3cc(CO)n(C)c3cc1[C@@H](NC(C)=O)CC2\tCHEMBL4176275\n",
            "CCOC(=O)c1nc(NC(=O)c2cc(-c3ccc(NC(=O)CCCOc4cc5c(cc4OC)C(=O)N4CCC[C@H]4C=N5)cc3)cn2C)cn1C\tCHEMBL2324627\n",
            "COC(=O)c1nc(NC(=O)c2cc(NC(=O)c3cc(-c4ccc(NC(=O)CCCOc5cc6c(cc5OC)C(=O)N5CCC[C@H]5C=N6)cc4)cn3C)cn2C)cn1C\tCHEMBL2324629\n"
          ],
          "name": "stdout"
        }
      ]
    },
    {
      "cell_type": "code",
      "metadata": {
        "colab": {
          "base_uri": "https://localhost:8080/"
        },
        "id": "c5tzx1eAFhRu",
        "outputId": "7d7e3445-24f0-4e65-9a93-edd19e3b098a"
      },
      "source": [
        "! cat molecule.smi | wc -l"
      ],
      "execution_count": 63,
      "outputs": [
        {
          "output_type": "stream",
          "text": [
            "772\n"
          ],
          "name": "stdout"
        }
      ]
    },
    {
      "cell_type": "markdown",
      "metadata": {
        "id": "9anZlv9tD88m"
      },
      "source": [
        "## **Calculate PaDEL descriptors**"
      ]
    },
    {
      "cell_type": "code",
      "metadata": {
        "id": "5vUYbg0hC-yY",
        "colab": {
          "base_uri": "https://localhost:8080/"
        },
        "outputId": "c39a5dee-5cf9-45be-801b-52a639dd5095"
      },
      "source": [
        "! java -Xms1G -Xmx1G -Djava.awt.headless=true -jar ./PaDEL-Descriptor.jar -removesalt -standardizenitro -fingerprints -descriptortypes ./pubchemfingerprinter.xml -dir ./ -file binary_descriptors_output.csv"
      ],
      "execution_count": 64,
      "outputs": [
        {
          "output_type": "stream",
          "text": [
            "Processing CHEMBL2321905 in molecule.smi (1/772). \n",
            "Processing CHEMBL2324630 in molecule.smi (2/772). \n",
            "Processing CHEMBL4176275 in molecule.smi (3/772). \n",
            "Processing CHEMBL2324627 in molecule.smi (4/772). Average speed: 2.62 s/mol.\n",
            "Processing CHEMBL2324628 in molecule.smi (6/772). Average speed: 2.47 s/mol.\n",
            "Processing CHEMBL2324629 in molecule.smi (5/772). Average speed: 2.39 s/mol.\n",
            "Processing CHEMBL2324626 in molecule.smi (7/772). Average speed: 1.85 s/mol.\n",
            "Processing CHEMBL2324625 in molecule.smi (8/772). Average speed: 1.55 s/mol.\n",
            "Processing CHEMBL4458738 in molecule.smi (9/772). Average speed: 1.48 s/mol.\n",
            "Processing CHEMBL4439731 in molecule.smi (10/772). Average speed: 1.40 s/mol.\n",
            "Processing CHEMBL450955 in molecule.smi (11/772). Average speed: 1.25 s/mol.\n",
            "Processing CHEMBL126916 in molecule.smi (12/772). Average speed: 1.31 s/mol.\n",
            "Processing CHEMBL385064 in molecule.smi (13/772). Average speed: 1.19 s/mol.\n",
            "Processing CHEMBL4539214 in molecule.smi (14/772). Average speed: 1.11 s/mol.\n",
            "Processing CHEMBL223643 in molecule.smi (15/772). Average speed: 1.06 s/mol.\n",
            "Processing CHEMBL2324624 in molecule.smi (16/772). Average speed: 1.01 s/mol.\n",
            "Processing CHEMBL107 in molecule.smi (17/772). Average speed: 1.00 s/mol.\n",
            "Processing CHEMBL2180983 in molecule.smi (19/772). Average speed: 0.96 s/mol.\n",
            "Processing CHEMBL94657 in molecule.smi (18/772). Average speed: 0.98 s/mol.\n",
            "Processing CHEMBL151233 in molecule.smi (20/772). Average speed: 0.91 s/mol.\n",
            "Processing CHEMBL289498 in molecule.smi (21/772). Average speed: 0.87 s/mol.\n",
            "Processing CHEMBL4452137 in molecule.smi (22/772). Average speed: 0.87 s/mol.\n",
            "Processing CHEMBL2180985 in molecule.smi (23/772). Average speed: 0.88 s/mol.\n",
            "Processing CHEMBL2180984 in molecule.smi (24/772). Average speed: 0.98 s/mol.\n",
            "Processing CHEMBL215032 in molecule.smi (25/772). Average speed: 1.04 s/mol.\n",
            "Processing CHEMBL4280973 in molecule.smi (26/772). Average speed: 0.98 s/mol.\n",
            "Processing CHEMBL2180982 in molecule.smi (27/772). Average speed: 0.94 s/mol.\n",
            "Processing CHEMBL65 in molecule.smi (28/772). Average speed: 1.03 s/mol.\n",
            "Processing CHEMBL1771376 in molecule.smi (29/772). Average speed: 1.05 s/mol.\n",
            "Processing CHEMBL4527861 in molecule.smi (30/772). Average speed: 0.98 s/mol.\n",
            "Processing CHEMBL4578214 in molecule.smi (31/772). Average speed: 0.97 s/mol.\n",
            "Processing CHEMBL217089 in molecule.smi (32/772). Average speed: 0.94 s/mol.\n",
            "Processing CHEMBL3545252 in molecule.smi (33/772). Average speed: 0.93 s/mol.\n",
            "Processing CHEMBL96926 in molecule.smi (34/772). Average speed: 0.92 s/mol.\n",
            "Processing CHEMBL1614766 in molecule.smi (35/772). Average speed: 0.94 s/mol.\n",
            "Processing CHEMBL159 in molecule.smi (36/772). Average speed: 0.89 s/mol.\n",
            "Processing CHEMBL253178 in molecule.smi (37/772). Average speed: 0.87 s/mol.\n",
            "Processing CHEMBL4456801 in molecule.smi (38/772). Average speed: 0.86 s/mol.\n",
            "Processing CHEMBL53463 in molecule.smi (39/772). Average speed: 0.85 s/mol.\n",
            "Processing CHEMBL4450657 in molecule.smi (41/772). Average speed: 0.84 s/mol.\n",
            "Processing CHEMBL4535757 in molecule.smi (40/772). Average speed: 0.85 s/mol.\n",
            "Processing CHEMBL2435248 in molecule.smi (42/772). Average speed: 0.82 s/mol.\n",
            "Processing CHEMBL2203744 in molecule.smi (43/772). Average speed: 0.81 s/mol.\n",
            "Processing CHEMBL4450519 in molecule.smi (44/772). Average speed: 0.80 s/mol.\n",
            "Processing CHEMBL498271 in molecule.smi (45/772). Average speed: 0.79 s/mol.\n",
            "Processing CHEMBL3672295 in molecule.smi (46/772). Average speed: 0.78 s/mol.\n",
            "Processing CHEMBL553025 in molecule.smi (47/772). Average speed: 0.77 s/mol.\n",
            "Processing CHEMBL4465551 in molecule.smi (48/772). Average speed: 0.76 s/mol.\n",
            "Processing CHEMBL428647 in molecule.smi (49/772). Average speed: 0.76 s/mol.\n",
            "Processing CHEMBL4103012 in molecule.smi (50/772). Average speed: 0.75 s/mol.\n",
            "Processing CHEMBL1233002 in molecule.smi (51/772). Average speed: 0.75 s/mol.\n",
            "Processing CHEMBL67 in molecule.smi (52/772). Average speed: 0.74 s/mol.\n",
            "Processing CHEMBL254849 in molecule.smi (54/772). Average speed: 0.72 s/mol.\n",
            "Processing CHEMBL2420629 in molecule.smi (53/772). Average speed: 0.73 s/mol.\n",
            "Processing CHEMBL4441771 in molecule.smi (55/772). Average speed: 0.71 s/mol.\n",
            "Processing CHEMBL3216446 in molecule.smi (56/772). Average speed: 0.70 s/mol.\n",
            "Processing CHEMBL3215587 in molecule.smi (57/772). Average speed: 0.70 s/mol.\n",
            "Processing CHEMBL2335138 in molecule.smi (58/772). Average speed: 0.70 s/mol.\n",
            "Processing CHEMBL2335142 in molecule.smi (59/772). Average speed: 0.68 s/mol.\n",
            "Processing CHEMBL4078023 in molecule.smi (60/772). Average speed: 0.68 s/mol.\n",
            "Processing CHEMBL4159771 in molecule.smi (62/772). Average speed: 0.67 s/mol.\n",
            "Processing CHEMBL3215586 in molecule.smi (61/772). Average speed: 0.68 s/mol.\n",
            "Processing CHEMBL4452622 in molecule.smi (64/772). Average speed: 0.66 s/mol.\n",
            "Processing CHEMBL109480 in molecule.smi (63/772). Average speed: 0.66 s/mol.\n",
            "Processing CHEMBL4439782 in molecule.smi (65/772). Average speed: 0.65 s/mol.\n",
            "Processing CHEMBL18351 in molecule.smi (66/772). Average speed: 0.65 s/mol.\n",
            "Processing CHEMBL4450041 in molecule.smi (67/772). Average speed: 0.64 s/mol.\n",
            "Processing CHEMBL837 in molecule.smi (68/772). Average speed: 0.64 s/mol.\n",
            "Processing CHEMBL4449810 in molecule.smi (69/772). Average speed: 0.64 s/mol.\n",
            "Processing CHEMBL4465918 in molecule.smi (70/772). Average speed: 0.63 s/mol.\n",
            "Processing CHEMBL90555 in molecule.smi (71/772). Average speed: 0.63 s/mol.\n",
            "Processing CHEMBL252164 in molecule.smi (72/772). Average speed: 0.64 s/mol.\n",
            "Processing CHEMBL4097664 in molecule.smi (74/772). Average speed: 0.63 s/mol.\n",
            "Processing CHEMBL4591772 in molecule.smi (73/772). Average speed: 0.64 s/mol.\n",
            "Processing CHEMBL888 in molecule.smi (76/772). Average speed: 0.62 s/mol.\n",
            "Processing CHEMBL4458041 in molecule.smi (75/772). Average speed: 0.63 s/mol.\n",
            "Processing CHEMBL4070492 in molecule.smi (77/772). Average speed: 0.62 s/mol.\n",
            "Processing CHEMBL4569344 in molecule.smi (78/772). Average speed: 0.61 s/mol.\n",
            "Processing CHEMBL507361 in molecule.smi (79/772). Average speed: 0.61 s/mol.\n",
            "Processing CHEMBL1972860 in molecule.smi (80/772). Average speed: 0.61 s/mol.\n",
            "Processing CHEMBL4454645 in molecule.smi (81/772). Average speed: 0.60 s/mol.\n",
            "Processing CHEMBL2146520 in molecule.smi (82/772). Average speed: 0.60 s/mol.\n",
            "Processing CHEMBL519668 in molecule.smi (83/772). Average speed: 0.60 s/mol.\n",
            "Processing CHEMBL4476547 in molecule.smi (84/772). Average speed: 0.59 s/mol.\n",
            "Processing CHEMBL464221 in molecule.smi (85/772). Average speed: 0.59 s/mol.\n",
            "Processing CHEMBL1083151 in molecule.smi (86/772). Average speed: 0.58 s/mol.\n",
            "Processing CHEMBL2376666 in molecule.smi (88/772). Average speed: 0.57 s/mol.\n",
            "Processing CHEMBL4469638 in molecule.smi (87/772). Average speed: 0.58 s/mol.\n",
            "Processing CHEMBL2172463 in molecule.smi (89/772). Average speed: 0.57 s/mol.\n",
            "Processing CHEMBL325023 in molecule.smi (90/772). Average speed: 0.57 s/mol.\n",
            "Processing CHEMBL1172549 in molecule.smi (91/772). Average speed: 0.57 s/mol.\n",
            "Processing CHEMBL4093642 in molecule.smi (92/772). Average speed: 0.56 s/mol.\n",
            "Processing CHEMBL3672369 in molecule.smi (93/772). Average speed: 0.56 s/mol.\n",
            "Processing CHEMBL553 in molecule.smi (94/772). Average speed: 0.57 s/mol.\n",
            "Processing CHEMBL1643903 in molecule.smi (95/772). Average speed: 0.56 s/mol.\n",
            "Processing CHEMBL4517656 in molecule.smi (96/772). Average speed: 0.57 s/mol.\n",
            "Processing CHEMBL1094709 in molecule.smi (98/772). Average speed: 0.56 s/mol.\n",
            "Processing CHEMBL4167516 in molecule.smi (97/772). Average speed: 0.56 s/mol.\n",
            "Processing CHEMBL106653 in molecule.smi (99/772). Average speed: 0.56 s/mol.\n",
            "Processing CHEMBL320647 in molecule.smi (100/772). Average speed: 0.56 s/mol.\n",
            "Processing CHEMBL3216912 in molecule.smi (101/772). Average speed: 0.56 s/mol.\n",
            "Processing CHEMBL2335140 in molecule.smi (102/772). Average speed: 0.56 s/mol.\n",
            "Processing CHEMBL490294 in molecule.smi (103/772). Average speed: 0.55 s/mol.\n",
            "Processing CHEMBL4438343 in molecule.smi (104/772). Average speed: 0.55 s/mol.\n",
            "Processing CHEMBL1094408 in molecule.smi (105/772). Average speed: 0.55 s/mol.\n",
            "Processing CHEMBL4460245 in molecule.smi (106/772). Average speed: 0.55 s/mol.\n",
            "Processing CHEMBL2047532 in molecule.smi (107/772). Average speed: 0.54 s/mol.\n",
            "Processing CHEMBL2013119 in molecule.smi (108/772). Average speed: 0.54 s/mol.\n",
            "Processing CHEMBL108793 in molecule.smi (109/772). Average speed: 0.54 s/mol.\n",
            "Processing CHEMBL2435247 in molecule.smi (110/772). Average speed: 0.54 s/mol.\n",
            "Processing CHEMBL1272140 in molecule.smi (111/772). Average speed: 0.54 s/mol.\n",
            "Processing CHEMBL3216447 in molecule.smi (112/772). Average speed: 0.54 s/mol.\n",
            "Processing CHEMBL3216913 in molecule.smi (113/772). Average speed: 0.53 s/mol.\n",
            "Processing CHEMBL594764 in molecule.smi (114/772). Average speed: 0.53 s/mol.\n",
            "Processing CHEMBL280643 in molecule.smi (115/772). Average speed: 0.53 s/mol.\n",
            "Processing CHEMBL1083152 in molecule.smi (116/772). Average speed: 0.53 s/mol.\n",
            "Processing CHEMBL4103889 in molecule.smi (118/772). Average speed: 0.52 s/mol.\n",
            "Processing CHEMBL4100071 in molecule.smi (117/772). Average speed: 0.52 s/mol.\n",
            "Processing CHEMBL108063 in molecule.smi (120/772). Average speed: 0.52 s/mol.\n",
            "Processing CHEMBL4464335 in molecule.smi (119/772). Average speed: 0.52 s/mol.\n",
            "Processing CHEMBL4435076 in molecule.smi (122/772). Average speed: 0.51 s/mol.\n",
            "Processing CHEMBL2419515 in molecule.smi (121/772). Average speed: 0.52 s/mol.\n",
            "Processing CHEMBL393760 in molecule.smi (124/772). Average speed: 0.51 s/mol.\n",
            "Processing CHEMBL1269246 in molecule.smi (123/772). Average speed: 0.51 s/mol.\n",
            "Processing CHEMBL524493 in molecule.smi (125/772). Average speed: 0.51 s/mol.\n",
            "Processing CHEMBL4064361 in molecule.smi (126/772). Average speed: 0.51 s/mol.\n",
            "Processing CHEMBL1879463 in molecule.smi (127/772). Average speed: 0.51 s/mol.\n",
            "Processing CHEMBL205487 in molecule.smi (129/772). Average speed: 0.50 s/mol.\n",
            "Processing CHEMBL210209 in molecule.smi (128/772). Average speed: 0.50 s/mol.\n",
            "Processing CHEMBL391714 in molecule.smi (130/772). Average speed: 0.50 s/mol.\n",
            "Processing CHEMBL101871 in molecule.smi (131/772). Average speed: 0.50 s/mol.\n",
            "Processing CHEMBL4085902 in molecule.smi (132/772). Average speed: 0.49 s/mol.\n",
            "Processing CHEMBL1172550 in molecule.smi (133/772). Average speed: 0.49 s/mol.\n",
            "Processing CHEMBL4094546 in molecule.smi (134/772). Average speed: 0.49 s/mol.\n",
            "Processing CHEMBL2435249 in molecule.smi (135/772). Average speed: 0.49 s/mol.\n",
            "Processing CHEMBL203996 in molecule.smi (136/772). Average speed: 0.48 s/mol.\n",
            "Processing CHEMBL4089932 in molecule.smi (137/772). Average speed: 0.48 s/mol.\n",
            "Processing CHEMBL1094710 in molecule.smi (138/772). Average speed: 0.49 s/mol.\n",
            "Processing CHEMBL1289102 in molecule.smi (139/772). Average speed: 0.48 s/mol.\n",
            "Processing CHEMBL467793 in molecule.smi (141/772). Average speed: 0.48 s/mol.\n",
            "Processing CHEMBL210390 in molecule.smi (140/772). Average speed: 0.48 s/mol.\n",
            "Processing CHEMBL468595 in molecule.smi (142/772). Average speed: 0.48 s/mol.\n",
            "Processing CHEMBL1094707 in molecule.smi (143/772). Average speed: 0.47 s/mol.\n",
            "Processing CHEMBL594283 in molecule.smi (145/772). Average speed: 0.47 s/mol.\n",
            "Processing CHEMBL511749 in molecule.smi (144/772). Average speed: 0.47 s/mol.\n",
            "Processing CHEMBL1091474 in molecule.smi (147/772). Average speed: 0.47 s/mol.\n",
            "Processing CHEMBL1076939 in molecule.smi (146/772). Average speed: 0.47 s/mol.\n",
            "Processing CHEMBL235325 in molecule.smi (149/772). Average speed: 0.46 s/mol.\n",
            "Processing CHEMBL2047533 in molecule.smi (148/772). Average speed: 0.46 s/mol.\n",
            "Processing CHEMBL2164993 in molecule.smi (150/772). Average speed: 0.46 s/mol.\n",
            "Processing CHEMBL1269245 in molecule.smi (151/772). Average speed: 0.46 s/mol.\n",
            "Processing CHEMBL403664 in molecule.smi (152/772). Average speed: 0.46 s/mol.\n",
            "Processing CHEMBL1092981 in molecule.smi (154/772). Average speed: 0.46 s/mol.\n",
            "Processing CHEMBL1269247 in molecule.smi (153/772). Average speed: 0.46 s/mol.\n",
            "Processing CHEMBL351590 in molecule.smi (155/772). Average speed: 0.46 s/mol.\n",
            "Processing CHEMBL2435250 in molecule.smi (156/772). Average speed: 0.46 s/mol.\n",
            "Processing CHEMBL298445 in molecule.smi (157/772). Average speed: 0.46 s/mol.\n",
            "Processing CHEMBL377603 in molecule.smi (158/772). Average speed: 0.45 s/mol.\n",
            "Processing CHEMBL1614701 in molecule.smi (159/772). Average speed: 0.46 s/mol.\n",
            "Processing CHEMBL199360 in molecule.smi (160/772). Average speed: 0.45 s/mol.\n",
            "Processing CHEMBL200805 in molecule.smi (161/772). Average speed: 0.45 s/mol.\n",
            "Processing CHEMBL4085476 in molecule.smi (162/772). Average speed: 0.45 s/mol.\n",
            "Processing CHEMBL72793 in molecule.smi (163/772). Average speed: 0.45 s/mol.\n",
            "Processing CHEMBL393025 in molecule.smi (164/772). Average speed: 0.44 s/mol.\n",
            "Processing CHEMBL3216239 in molecule.smi (165/772). Average speed: 0.44 s/mol.\n",
            "Processing CHEMBL1084630 in molecule.smi (167/772). Average speed: 0.44 s/mol.\n",
            "Processing CHEMBL2380834 in molecule.smi (166/772). Average speed: 0.44 s/mol.\n",
            "Processing CHEMBL46817 in molecule.smi (168/772). Average speed: 0.44 s/mol.\n",
            "Processing CHEMBL235326 in molecule.smi (169/772). Average speed: 0.44 s/mol.\n",
            "Processing CHEMBL373195 in molecule.smi (171/772). Average speed: 0.43 s/mol.\n",
            "Processing CHEMBL502199 in molecule.smi (170/772). Average speed: 0.44 s/mol.\n",
            "Processing CHEMBL4554359 in molecule.smi (172/772). Average speed: 0.43 s/mol.\n",
            "Processing CHEMBL236820 in molecule.smi (173/772). Average speed: 0.43 s/mol.\n",
            "Processing CHEMBL1088735 in molecule.smi (174/772). Average speed: 0.43 s/mol.\n",
            "Processing CHEMBL493188 in molecule.smi (175/772). Average speed: 0.43 s/mol.\n",
            "Processing CHEMBL4214675 in molecule.smi (176/772). Average speed: 0.43 s/mol.\n",
            "Processing CHEMBL491277 in molecule.smi (177/772). Average speed: 0.43 s/mol.\n",
            "Processing CHEMBL490295 in molecule.smi (178/772). Average speed: 0.43 s/mol.\n",
            "Processing CHEMBL2380829 in molecule.smi (180/772). Average speed: 0.43 s/mol.\n",
            "Processing CHEMBL4436271 in molecule.smi (179/772). Average speed: 0.42 s/mol.\n",
            "Processing CHEMBL505363 in molecule.smi (181/772). Average speed: 0.43 s/mol.\n",
            "Processing CHEMBL369474 in molecule.smi (182/772). Average speed: 0.43 s/mol.\n",
            "Processing CHEMBL2380837 in molecule.smi (183/772). Average speed: 0.43 s/mol.\n",
            "Processing CHEMBL237620 in molecule.smi (184/772). Average speed: 0.42 s/mol.\n",
            "Processing CHEMBL463298 in molecule.smi (185/772). Average speed: 0.42 s/mol.\n",
            "Processing CHEMBL1084715 in molecule.smi (186/772). Average speed: 0.42 s/mol.\n",
            "Processing CHEMBL2107358 in molecule.smi (187/772). Average speed: 0.42 s/mol.\n",
            "Processing CHEMBL1083150 in molecule.smi (188/772). Average speed: 0.42 s/mol.\n",
            "Processing CHEMBL4439395 in molecule.smi (189/772). Average speed: 0.42 s/mol.\n",
            "Processing CHEMBL575448 in molecule.smi (190/772). Average speed: 0.41 s/mol.\n",
            "Processing CHEMBL2380835 in molecule.smi (191/772). Average speed: 0.41 s/mol.\n",
            "Processing CHEMBL449158 in molecule.smi (192/772). Average speed: 0.41 s/mol.\n",
            "Processing CHEMBL235324 in molecule.smi (193/772). Average speed: 0.41 s/mol.\n",
            "Processing CHEMBL393095 in molecule.smi (194/772). Average speed: 0.41 s/mol.\n",
            "Processing CHEMBL373432 in molecule.smi (195/772). Average speed: 0.41 s/mol.\n",
            "Processing CHEMBL3216809 in molecule.smi (196/772). Average speed: 0.41 s/mol.\n",
            "Processing CHEMBL151546 in molecule.smi (197/772). Average speed: 0.41 s/mol.\n",
            "Processing CHEMBL1084629 in molecule.smi (198/772). Average speed: 0.41 s/mol.\n",
            "Processing CHEMBL105 in molecule.smi (199/772). Average speed: 0.41 s/mol.\n",
            "Processing CHEMBL9470 in molecule.smi (200/772). Average speed: 0.41 s/mol.\n",
            "Processing CHEMBL482967 in molecule.smi (201/772). Average speed: 0.41 s/mol.\n",
            "Processing CHEMBL2380831 in molecule.smi (202/772). Average speed: 0.41 s/mol.\n",
            "Processing CHEMBL1201182 in molecule.smi (203/772). Average speed: 0.40 s/mol.\n",
            "Processing CHEMBL483892 in molecule.smi (204/772). Average speed: 0.40 s/mol.\n",
            "Processing CHEMBL4208224 in molecule.smi (205/772). Average speed: 0.40 s/mol.\n",
            "Processing CHEMBL236821 in molecule.smi (207/772). Average speed: 0.40 s/mol.\n",
            "Processing CHEMBL4204412 in molecule.smi (206/772). Average speed: 0.40 s/mol.\n",
            "Processing CHEMBL4227515 in molecule.smi (208/772). Average speed: 0.40 s/mol.\n",
            "Processing CHEMBL4167347 in molecule.smi (209/772). Average speed: 0.40 s/mol.\n",
            "Processing CHEMBL517794 in molecule.smi (210/772). Average speed: 0.40 s/mol.\n",
            "Processing CHEMBL2380845 in molecule.smi (212/772). Average speed: 0.40 s/mol.\n",
            "Processing CHEMBL289228 in molecule.smi (211/772). Average speed: 0.40 s/mol.\n",
            "Processing CHEMBL4167018 in molecule.smi (213/772). Average speed: 0.40 s/mol.\n",
            "Processing CHEMBL4216597 in molecule.smi (214/772). Average speed: 0.40 s/mol.\n",
            "Processing CHEMBL438850 in molecule.smi (215/772). Average speed: 0.40 s/mol.\n",
            "Processing CHEMBL4169367 in molecule.smi (216/772). Average speed: 0.40 s/mol.\n",
            "Processing CHEMBL388978 in molecule.smi (217/772). Average speed: 0.40 s/mol.\n",
            "Processing CHEMBL2041933 in molecule.smi (219/772). Average speed: 0.40 s/mol.\n",
            "Processing CHEMBL2380830 in molecule.smi (218/772). Average speed: 0.40 s/mol.\n",
            "Processing CHEMBL4177211 in molecule.smi (220/772). Average speed: 0.40 s/mol.\n",
            "Processing CHEMBL4061865 in molecule.smi (221/772). Average speed: 0.40 s/mol.\n",
            "Processing CHEMBL242114 in molecule.smi (222/772). Average speed: 0.40 s/mol.\n",
            "Processing CHEMBL4085197 in molecule.smi (223/772). Average speed: 0.40 s/mol.\n",
            "Processing CHEMBL519491 in molecule.smi (224/772). Average speed: 0.40 s/mol.\n",
            "Processing CHEMBL4545956 in molecule.smi (225/772). Average speed: 0.40 s/mol.\n",
            "Processing CHEMBL4174559 in molecule.smi (226/772). Average speed: 0.40 s/mol.\n",
            "Processing CHEMBL4218069 in molecule.smi (227/772). Average speed: 0.40 s/mol.\n",
            "Processing CHEMBL2380824 in molecule.smi (228/772). Average speed: 0.40 s/mol.\n",
            "Processing CHEMBL2380832 in molecule.smi (229/772). Average speed: 0.40 s/mol.\n",
            "Processing CHEMBL235531 in molecule.smi (230/772). Average speed: 0.40 s/mol.\n",
            "Processing CHEMBL4204906 in molecule.smi (231/772). Average speed: 0.40 s/mol.\n",
            "Processing CHEMBL4208743 in molecule.smi (232/772). Average speed: 0.39 s/mol.\n",
            "Processing CHEMBL445813 in molecule.smi (233/772). Average speed: 0.40 s/mol.\n",
            "Processing CHEMBL236819 in molecule.smi (234/772). Average speed: 0.40 s/mol.\n",
            "Processing CHEMBL101299 in molecule.smi (235/772). Average speed: 0.39 s/mol.\n",
            "Processing CHEMBL382593 in molecule.smi (236/772). Average speed: 0.39 s/mol.\n",
            "Processing CHEMBL3126004 in molecule.smi (237/772). Average speed: 0.39 s/mol.\n",
            "Processing CHEMBL516877 in molecule.smi (238/772). Average speed: 0.39 s/mol.\n",
            "Processing CHEMBL199359 in molecule.smi (239/772). Average speed: 0.39 s/mol.\n",
            "Processing CHEMBL351001 in molecule.smi (241/772). Average speed: 0.39 s/mol.\n",
            "Processing CHEMBL4203982 in molecule.smi (240/772). Average speed: 0.39 s/mol.\n",
            "Processing CHEMBL4227747 in molecule.smi (242/772). Average speed: 0.39 s/mol.\n",
            "Processing CHEMBL301982 in molecule.smi (243/772). Average speed: 0.39 s/mol.\n",
            "Processing CHEMBL3126175 in molecule.smi (244/772). Average speed: 0.39 s/mol.\n",
            "Processing CHEMBL1093860 in molecule.smi (245/772). Average speed: 0.39 s/mol.\n",
            "Processing CHEMBL217354 in molecule.smi (246/772). Average speed: 0.38 s/mol.\n",
            "Processing CHEMBL4165936 in molecule.smi (247/772). Average speed: 0.39 s/mol.\n",
            "Processing CHEMBL564906 in molecule.smi (248/772). Average speed: 0.39 s/mol.\n",
            "Processing CHEMBL4065858 in molecule.smi (249/772). Average speed: 0.39 s/mol.\n",
            "Processing CHEMBL1084969 in molecule.smi (250/772). Average speed: 0.39 s/mol.\n",
            "Processing CHEMBL237619 in molecule.smi (251/772). Average speed: 0.38 s/mol.\n",
            "Processing CHEMBL4464785 in molecule.smi (252/772). Average speed: 0.38 s/mol.\n",
            "Processing CHEMBL483693 in molecule.smi (253/772). Average speed: 0.38 s/mol.\n",
            "Processing CHEMBL483494 in molecule.smi (254/772). Average speed: 0.38 s/mol.\n",
            "Processing CHEMBL3216681 in molecule.smi (255/772). Average speed: 0.38 s/mol.\n",
            "Processing CHEMBL596160 in molecule.smi (256/772). Average speed: 0.38 s/mol.\n",
            "Processing CHEMBL4211213 in molecule.smi (258/772). Average speed: 0.38 s/mol.\n",
            "Processing CHEMBL251833 in molecule.smi (257/772). Average speed: 0.38 s/mol.\n",
            "Processing CHEMBL357217 in molecule.smi (259/772). Average speed: 0.38 s/mol.\n",
            "Processing CHEMBL596136 in molecule.smi (260/772). Average speed: 0.38 s/mol.\n",
            "Processing CHEMBL138865 in molecule.smi (261/772). Average speed: 0.38 s/mol.\n",
            "Processing CHEMBL1807120 in molecule.smi (262/772). Average speed: 0.38 s/mol.\n",
            "Processing CHEMBL4174287 in molecule.smi (263/772). Average speed: 0.38 s/mol.\n",
            "Processing CHEMBL3659991 in molecule.smi (264/772). Average speed: 0.38 s/mol.\n",
            "Processing CHEMBL558299 in molecule.smi (265/772). Average speed: 0.38 s/mol.\n",
            "Processing CHEMBL4213683 in molecule.smi (266/772). Average speed: 0.38 s/mol.\n",
            "Processing CHEMBL1093861 in molecule.smi (267/772). Average speed: 0.37 s/mol.\n",
            "Processing CHEMBL4173484 in molecule.smi (268/772). Average speed: 0.37 s/mol.\n",
            "Processing CHEMBL4209268 in molecule.smi (269/772). Average speed: 0.37 s/mol.\n",
            "Processing CHEMBL4215659 in molecule.smi (270/772). Average speed: 0.38 s/mol.\n",
            "Processing CHEMBL398015 in molecule.smi (271/772). Average speed: 0.38 s/mol.\n",
            "Processing CHEMBL3126177 in molecule.smi (272/772). Average speed: 0.37 s/mol.\n",
            "Processing CHEMBL1090583 in molecule.smi (273/772). Average speed: 0.38 s/mol.\n",
            "Processing CHEMBL383264 in molecule.smi (275/772). Average speed: 0.37 s/mol.\n",
            "Processing CHEMBL4171122 in molecule.smi (274/772). Average speed: 0.37 s/mol.\n",
            "Processing CHEMBL4540891 in molecule.smi (277/772). Average speed: 0.37 s/mol.\n",
            "Processing CHEMBL483495 in molecule.smi (276/772). Average speed: 0.37 s/mol.\n",
            "Processing CHEMBL523435 in molecule.smi (278/772). Average speed: 0.37 s/mol.\n",
            "Processing CHEMBL1088345 in molecule.smi (280/772). Average speed: 0.37 s/mol.\n",
            "Processing CHEMBL522881 in molecule.smi (279/772). Average speed: 0.37 s/mol.\n",
            "Processing CHEMBL2363137 in molecule.smi (281/772). Average speed: 0.37 s/mol.\n",
            "Processing CHEMBL1083786 in molecule.smi (282/772). Average speed: 0.37 s/mol.\n",
            "Processing CHEMBL1083484 in molecule.smi (283/772). Average speed: 0.37 s/mol.\n",
            "Processing CHEMBL1083785 in molecule.smi (284/772). Average speed: 0.37 s/mol.\n",
            "Processing CHEMBL4209285 in molecule.smi (285/772). Average speed: 0.37 s/mol.\n",
            "Processing CHEMBL4228652 in molecule.smi (286/772). Average speed: 0.37 s/mol.\n",
            "Processing CHEMBL4216711 in molecule.smi (287/772). Average speed: 0.37 s/mol.\n",
            "Processing CHEMBL4446403 in molecule.smi (288/772). Average speed: 0.37 s/mol.\n",
            "Processing CHEMBL4213144 in molecule.smi (289/772). Average speed: 0.37 s/mol.\n",
            "Processing CHEMBL4083642 in molecule.smi (290/772). Average speed: 0.37 s/mol.\n",
            "Processing CHEMBL454401 in molecule.smi (291/772). Average speed: 0.37 s/mol.\n",
            "Processing CHEMBL469274 in molecule.smi (292/772). Average speed: 0.37 s/mol.\n",
            "Processing CHEMBL2380827 in molecule.smi (293/772). Average speed: 0.37 s/mol.\n",
            "Processing CHEMBL1092797 in molecule.smi (294/772). Average speed: 0.37 s/mol.\n",
            "Processing CHEMBL561248 in molecule.smi (295/772). Average speed: 0.37 s/mol.\n",
            "Processing CHEMBL1806792 in molecule.smi (296/772). Average speed: 0.37 s/mol.\n",
            "Processing CHEMBL206073 in molecule.smi (297/772). Average speed: 0.37 s/mol.\n",
            "Processing CHEMBL4163906 in molecule.smi (298/772). Average speed: 0.36 s/mol.\n",
            "Processing CHEMBL4159441 in molecule.smi (299/772). Average speed: 0.36 s/mol.\n",
            "Processing CHEMBL4462971 in molecule.smi (300/772). Average speed: 0.36 s/mol.\n",
            "Processing CHEMBL1091815 in molecule.smi (301/772). Average speed: 0.36 s/mol.\n",
            "Processing CHEMBL1164216 in molecule.smi (302/772). Average speed: 0.36 s/mol.\n",
            "Processing CHEMBL2047535 in molecule.smi (303/772). Average speed: 0.36 s/mol.\n",
            "Processing CHEMBL2087832 in molecule.smi (304/772). Average speed: 0.36 s/mol.\n",
            "Processing CHEMBL4209769 in molecule.smi (305/772). Average speed: 0.36 s/mol.\n",
            "Processing CHEMBL521616 in molecule.smi (306/772). Average speed: 0.36 s/mol.\n",
            "Processing CHEMBL483893 in molecule.smi (307/772). Average speed: 0.36 s/mol.\n",
            "Processing CHEMBL2380833 in molecule.smi (308/772). Average speed: 0.36 s/mol.\n",
            "Processing CHEMBL306688 in molecule.smi (310/772). Average speed: 0.36 s/mol.\n",
            "Processing CHEMBL4076972 in molecule.smi (309/772). Average speed: 0.36 s/mol.\n",
            "Processing CHEMBL4553956 in molecule.smi (312/772). Average speed: 0.36 s/mol.\n",
            "Processing CHEMBL4204918 in molecule.smi (311/772). Average speed: 0.36 s/mol.\n",
            "Processing CHEMBL603469 in molecule.smi (313/772). Average speed: 0.36 s/mol.\n",
            "Processing CHEMBL1085626 in molecule.smi (314/772). Average speed: 0.36 s/mol.\n",
            "Processing CHEMBL210954 in molecule.smi (315/772). Average speed: 0.36 s/mol.\n",
            "Processing CHEMBL1094708 in molecule.smi (316/772). Average speed: 0.36 s/mol.\n",
            "Processing CHEMBL1088734 in molecule.smi (317/772). Average speed: 0.36 s/mol.\n",
            "Processing CHEMBL4447196 in molecule.smi (318/772). Average speed: 0.36 s/mol.\n",
            "Processing CHEMBL559257 in molecule.smi (319/772). Average speed: 0.36 s/mol.\n",
            "Processing CHEMBL468842 in molecule.smi (320/772). Average speed: 0.36 s/mol.\n",
            "Processing CHEMBL4069321 in molecule.smi (321/772). Average speed: 0.36 s/mol.\n",
            "Processing CHEMBL9514 in molecule.smi (322/772). Average speed: 0.36 s/mol.\n",
            "Processing CHEMBL2380825 in molecule.smi (323/772). Average speed: 0.35 s/mol.\n",
            "Processing CHEMBL1796213 in molecule.smi (324/772). Average speed: 0.35 s/mol.\n",
            "Processing CHEMBL1801204 in molecule.smi (326/772). Average speed: 0.35 s/mol.\n",
            "Processing CHEMBL208272 in molecule.smi (325/772). Average speed: 0.35 s/mol.\n",
            "Processing CHEMBL98 in molecule.smi (327/772). Average speed: 0.35 s/mol.\n",
            "Processing CHEMBL94277 in molecule.smi (329/772). Average speed: 0.35 s/mol.\n",
            "Processing CHEMBL502569 in molecule.smi (328/772). Average speed: 0.35 s/mol.\n",
            "Processing CHEMBL4211746 in molecule.smi (331/772). Average speed: 0.35 s/mol.\n",
            "Processing CHEMBL191384 in molecule.smi (330/772). Average speed: 0.35 s/mol.\n",
            "Processing CHEMBL1086088 in molecule.smi (332/772). Average speed: 0.35 s/mol.\n",
            "Processing CHEMBL513160 in molecule.smi (333/772). Average speed: 0.35 s/mol.\n",
            "Processing CHEMBL500064 in molecule.smi (334/772). Average speed: 0.35 s/mol.\n",
            "Processing CHEMBL70309 in molecule.smi (335/772). Average speed: 0.35 s/mol.\n",
            "Processing CHEMBL240182 in molecule.smi (336/772). Average speed: 0.35 s/mol.\n",
            "Processing CHEMBL550011 in molecule.smi (337/772). Average speed: 0.35 s/mol.\n",
            "Processing CHEMBL488747 in molecule.smi (338/772). Average speed: 0.35 s/mol.\n",
            "Processing CHEMBL487533 in molecule.smi (339/772). Average speed: 0.34 s/mol.\n",
            "Processing CHEMBL2393183 in molecule.smi (340/772). Average speed: 0.34 s/mol.\n",
            "Processing CHEMBL336688 in molecule.smi (342/772). Average speed: 0.34 s/mol.\n",
            "Processing CHEMBL4170738 in molecule.smi (341/772). Average speed: 0.34 s/mol.\n",
            "Processing CHEMBL4214165 in molecule.smi (344/772). Average speed: 0.34 s/mol.\n",
            "Processing CHEMBL4588486 in molecule.smi (343/772). Average speed: 0.34 s/mol.\n",
            "Processing CHEMBL1270737 in molecule.smi (345/772). Average speed: 0.34 s/mol.\n",
            "Processing CHEMBL336456 in molecule.smi (346/772). Average speed: 0.34 s/mol.\n",
            "Processing CHEMBL4086093 in molecule.smi (348/772). Average speed: 0.34 s/mol.\n",
            "Processing CHEMBL204347 in molecule.smi (347/772). Average speed: 0.34 s/mol.\n",
            "Processing CHEMBL504777 in molecule.smi (349/772). Average speed: 0.34 s/mol.\n",
            "Processing CHEMBL228191 in molecule.smi (351/772). Average speed: 0.34 s/mol.\n",
            "Processing CHEMBL1171837 in molecule.smi (350/772). Average speed: 0.34 s/mol.\n",
            "Processing CHEMBL1448 in molecule.smi (353/772). Average speed: 0.34 s/mol.\n",
            "Processing CHEMBL141921 in molecule.smi (352/772). Average speed: 0.34 s/mol.\n",
            "Processing CHEMBL1230165 in molecule.smi (354/772). Average speed: 0.34 s/mol.\n",
            "Processing CHEMBL450152 in molecule.smi (356/772). Average speed: 0.34 s/mol.\n",
            "Processing CHEMBL4213146 in molecule.smi (355/772). Average speed: 0.34 s/mol.\n",
            "Processing CHEMBL2380838 in molecule.smi (357/772). Average speed: 0.34 s/mol.\n",
            "Processing CHEMBL485043 in molecule.smi (358/772). Average speed: 0.34 s/mol.\n",
            "Processing CHEMBL565493 in molecule.smi (359/772). Average speed: 0.34 s/mol.\n",
            "Processing CHEMBL266971 in molecule.smi (360/772). Average speed: 0.34 s/mol.\n",
            "Processing CHEMBL4071114 in molecule.smi (362/772). Average speed: 0.34 s/mol.\n",
            "Processing CHEMBL4081890 in molecule.smi (361/772). Average speed: 0.34 s/mol.\n",
            "Processing CHEMBL1084454 in molecule.smi (363/772). Average speed: 0.34 s/mol.\n",
            "Processing CHEMBL137885 in molecule.smi (364/772). Average speed: 0.34 s/mol.\n",
            "Processing CHEMBL1956073 in molecule.smi (365/772). Average speed: 0.34 s/mol.\n",
            "Processing CHEMBL2069884 in molecule.smi (366/772). Average speed: 0.34 s/mol.\n",
            "Processing CHEMBL4207316 in molecule.smi (367/772). Average speed: 0.34 s/mol.\n",
            "Processing CHEMBL4100075 in molecule.smi (368/772). Average speed: 0.34 s/mol.\n",
            "Processing CHEMBL4289082 in molecule.smi (369/772). Average speed: 0.34 s/mol.\n",
            "Processing CHEMBL4226832 in molecule.smi (370/772). Average speed: 0.34 s/mol.\n",
            "Processing CHEMBL3335794 in molecule.smi (372/772). Average speed: 0.34 s/mol.\n",
            "Processing CHEMBL481 in molecule.smi (371/772). Average speed: 0.34 s/mol.\n",
            "Processing CHEMBL585951 in molecule.smi (373/772). Average speed: 0.34 s/mol.\n",
            "Processing CHEMBL4103362 in molecule.smi (374/772). Average speed: 0.34 s/mol.\n",
            "Processing CHEMBL564426 in molecule.smi (375/772). Average speed: 0.34 s/mol.\n",
            "Processing CHEMBL4063903 in molecule.smi (376/772). Average speed: 0.34 s/mol.\n",
            "Processing CHEMBL142064 in molecule.smi (377/772). Average speed: 0.34 s/mol.\n",
            "Processing CHEMBL4211503 in molecule.smi (378/772). Average speed: 0.34 s/mol.\n",
            "Processing CHEMBL3126002 in molecule.smi (379/772). Average speed: 0.34 s/mol.\n",
            "Processing CHEMBL4162536 in molecule.smi (380/772). Average speed: 0.34 s/mol.\n",
            "Processing CHEMBL803 in molecule.smi (381/772). Average speed: 0.34 s/mol.\n",
            "Processing CHEMBL4060096 in molecule.smi (382/772). Average speed: 0.34 s/mol.\n",
            "Processing CHEMBL4566049 in molecule.smi (383/772). Average speed: 0.34 s/mol.\n",
            "Processing CHEMBL4067409 in molecule.smi (384/772). Average speed: 0.34 s/mol.\n",
            "Processing CHEMBL1254246 in molecule.smi (385/772). Average speed: 0.34 s/mol.\n",
            "Processing CHEMBL4075241 in molecule.smi (386/772). Average speed: 0.34 s/mol.\n",
            "Processing CHEMBL570570 in molecule.smi (387/772). Average speed: 0.34 s/mol.\n",
            "Processing CHEMBL2261785 in molecule.smi (388/772). Average speed: 0.34 s/mol.\n",
            "Processing CHEMBL4081923 in molecule.smi (389/772). Average speed: 0.34 s/mol.\n",
            "Processing CHEMBL1834035 in molecule.smi (390/772). Average speed: 0.34 s/mol.\n",
            "Processing CHEMBL258844 in molecule.smi (391/772). Average speed: 0.34 s/mol.\n",
            "Processing CHEMBL223784 in molecule.smi (392/772). Average speed: 0.33 s/mol.\n",
            "Processing CHEMBL2315755 in molecule.smi (393/772). Average speed: 0.33 s/mol.\n",
            "Processing CHEMBL406137 in molecule.smi (394/772). Average speed: 0.33 s/mol.\n",
            "Processing CHEMBL1798010 in molecule.smi (395/772). Average speed: 0.33 s/mol.\n",
            "Processing CHEMBL1784018 in molecule.smi (396/772). Average speed: 0.33 s/mol.\n",
            "Processing CHEMBL225116 in molecule.smi (397/772). Average speed: 0.33 s/mol.\n",
            "Processing CHEMBL1224502 in molecule.smi (398/772). Average speed: 0.33 s/mol.\n",
            "Processing CHEMBL3216533 in molecule.smi (399/772). Average speed: 0.33 s/mol.\n",
            "Processing CHEMBL396569 in molecule.smi (400/772). Average speed: 0.33 s/mol.\n",
            "Processing CHEMBL2036523 in molecule.smi (401/772). Average speed: 0.33 s/mol.\n",
            "Processing CHEMBL3215888 in molecule.smi (402/772). Average speed: 0.33 s/mol.\n",
            "Processing CHEMBL376080 in molecule.smi (403/772). Average speed: 0.33 s/mol.\n",
            "Processing CHEMBL500883 in molecule.smi (404/772). Average speed: 0.33 s/mol.\n",
            "Processing CHEMBL1784012 in molecule.smi (405/772). Average speed: 0.33 s/mol.\n",
            "Processing CHEMBL1784013 in molecule.smi (406/772). Average speed: 0.33 s/mol.\n",
            "Processing CHEMBL1796223 in molecule.smi (408/772). Average speed: 0.33 s/mol.\n",
            "Processing CHEMBL3216534 in molecule.smi (407/772). Average speed: 0.33 s/mol.\n",
            "Processing CHEMBL228108 in molecule.smi (409/772). Average speed: 0.33 s/mol.\n",
            "Processing CHEMBL1835795 in molecule.smi (411/772). Average speed: 0.33 s/mol.\n",
            "Processing CHEMBL366969 in molecule.smi (410/772). Average speed: 0.33 s/mol.\n",
            "Processing CHEMBL1224505 in molecule.smi (413/772). Average speed: 0.33 s/mol.\n",
            "Processing CHEMBL176204 in molecule.smi (412/772). Average speed: 0.33 s/mol.\n",
            "Processing CHEMBL364721 in molecule.smi (414/772). Average speed: 0.33 s/mol.\n",
            "Processing CHEMBL1224504 in molecule.smi (416/772). Average speed: 0.32 s/mol.\n",
            "Processing CHEMBL388131 in molecule.smi (415/772). Average speed: 0.32 s/mol.\n",
            "Processing CHEMBL1835803 in molecule.smi (417/772). Average speed: 0.32 s/mol.\n",
            "Processing CHEMBL1796215 in molecule.smi (418/772). Average speed: 0.32 s/mol.\n",
            "Processing CHEMBL1796216 in molecule.smi (420/772). Average speed: 0.32 s/mol.\n",
            "Processing CHEMBL175578 in molecule.smi (419/772). Average speed: 0.32 s/mol.\n",
            "Processing CHEMBL1784009 in molecule.smi (421/772). Average speed: 0.32 s/mol.\n",
            "Processing CHEMBL1835798 in molecule.smi (423/772). Average speed: 0.32 s/mol.\n",
            "Processing CHEMBL427872 in molecule.smi (422/772). Average speed: 0.32 s/mol.\n",
            "Processing CHEMBL2069709 in molecule.smi (424/772). Average speed: 0.32 s/mol.\n",
            "Processing CHEMBL373818 in molecule.smi (425/772). Average speed: 0.32 s/mol.\n",
            "Processing CHEMBL241982 in molecule.smi (426/772). Average speed: 0.32 s/mol.\n",
            "Processing CHEMBL1165573 in molecule.smi (428/772). Average speed: 0.32 s/mol.\n",
            "Processing CHEMBL1813345 in molecule.smi (427/772). Average speed: 0.32 s/mol.\n",
            "Processing CHEMBL227094 in molecule.smi (429/772). Average speed: 0.32 s/mol.\n",
            "Processing CHEMBL2261789 in molecule.smi (431/772). Average speed: 0.32 s/mol.\n",
            "Processing CHEMBL370746 in molecule.smi (430/772). Average speed: 0.32 s/mol.\n",
            "Processing CHEMBL474168 in molecule.smi (432/772). Average speed: 0.32 s/mol.\n",
            "Processing CHEMBL388835 in molecule.smi (433/772). Average speed: 0.32 s/mol.\n",
            "Processing CHEMBL2069618 in molecule.smi (435/772). Average speed: 0.32 s/mol.\n",
            "Processing CHEMBL2036520 in molecule.smi (434/772). Average speed: 0.32 s/mol.\n",
            "Processing CHEMBL1784011 in molecule.smi (436/772). Average speed: 0.32 s/mol.\n",
            "Processing CHEMBL511046 in molecule.smi (437/772). Average speed: 0.32 s/mol.\n",
            "Processing CHEMBL453609 in molecule.smi (438/772). Average speed: 0.31 s/mol.\n",
            "Processing CHEMBL452211 in molecule.smi (439/772). Average speed: 0.32 s/mol.\n",
            "Processing CHEMBL493630 in molecule.smi (440/772). Average speed: 0.32 s/mol.\n",
            "Processing CHEMBL522007 in molecule.smi (441/772). Average speed: 0.31 s/mol.\n",
            "Processing CHEMBL376559 in molecule.smi (442/772). Average speed: 0.31 s/mol.\n",
            "Processing CHEMBL190073 in molecule.smi (443/772). Average speed: 0.31 s/mol.\n",
            "Processing CHEMBL361666 in molecule.smi (444/772). Average speed: 0.31 s/mol.\n",
            "Processing CHEMBL397183 in molecule.smi (445/772). Average speed: 0.31 s/mol.\n",
            "Processing CHEMBL4098449 in molecule.smi (446/772). Average speed: 0.31 s/mol.\n",
            "Processing CHEMBL233317 in molecule.smi (447/772). Average speed: 0.31 s/mol.\n",
            "Processing CHEMBL2036519 in molecule.smi (448/772). Average speed: 0.31 s/mol.\n",
            "Processing CHEMBL2315754 in molecule.smi (449/772). Average speed: 0.31 s/mol.\n",
            "Processing CHEMBL208654 in molecule.smi (450/772). Average speed: 0.31 s/mol.\n",
            "Processing CHEMBL2261788 in molecule.smi (451/772). Average speed: 0.31 s/mol.\n",
            "Processing CHEMBL1784017 in molecule.smi (452/772). Average speed: 0.31 s/mol.\n",
            "Processing CHEMBL1163441 in molecule.smi (453/772). Average speed: 0.31 s/mol.\n",
            "Processing CHEMBL155204 in molecule.smi (454/772). Average speed: 0.31 s/mol.\n",
            "Processing CHEMBL389057 in molecule.smi (455/772). Average speed: 0.31 s/mol.\n",
            "Processing CHEMBL425114 in molecule.smi (456/772). Average speed: 0.31 s/mol.\n",
            "Processing CHEMBL190413 in molecule.smi (457/772). Average speed: 0.31 s/mol.\n",
            "Processing CHEMBL210951 in molecule.smi (458/772). Average speed: 0.31 s/mol.\n",
            "Processing CHEMBL425694 in molecule.smi (459/772). Average speed: 0.31 s/mol.\n",
            "Processing CHEMBL1806782 in molecule.smi (460/772). Average speed: 0.31 s/mol.\n",
            "Processing CHEMBL370287 in molecule.smi (461/772). Average speed: 0.31 s/mol.\n",
            "Processing CHEMBL243330 in molecule.smi (462/772). Average speed: 0.31 s/mol.\n",
            "Processing CHEMBL1784014 in molecule.smi (463/772). Average speed: 0.31 s/mol.\n",
            "Processing CHEMBL470521 in molecule.smi (464/772). Average speed: 0.31 s/mol.\n",
            "Processing CHEMBL4105091 in molecule.smi (465/772). Average speed: 0.31 s/mol.\n",
            "Processing CHEMBL1835804 in molecule.smi (466/772). Average speed: 0.31 s/mol.\n",
            "Processing CHEMBL4099804 in molecule.smi (467/772). Average speed: 0.30 s/mol.\n",
            "Processing CHEMBL1224573 in molecule.smi (468/772). Average speed: 0.30 s/mol.\n",
            "Processing CHEMBL1835800 in molecule.smi (469/772). Average speed: 0.30 s/mol.\n",
            "Processing CHEMBL354908 in molecule.smi (470/772). Average speed: 0.30 s/mol.\n",
            "Processing CHEMBL1797175 in molecule.smi (471/772). Average speed: 0.30 s/mol.\n",
            "Processing CHEMBL389246 in molecule.smi (472/772). Average speed: 0.30 s/mol.\n",
            "Processing CHEMBL4070204 in molecule.smi (473/772). Average speed: 0.30 s/mol.\n",
            "Processing CHEMBL234962 in molecule.smi (474/772). Average speed: 0.30 s/mol.\n",
            "Processing CHEMBL1813343 in molecule.smi (475/772). Average speed: 0.30 s/mol.\n",
            "Processing CHEMBL359485 in molecule.smi (476/772). Average speed: 0.30 s/mol.\n",
            "Processing CHEMBL175784 in molecule.smi (477/772). Average speed: 0.30 s/mol.\n",
            "Processing CHEMBL240383 in molecule.smi (478/772). Average speed: 0.30 s/mol.\n",
            "Processing CHEMBL1796220 in molecule.smi (479/772). Average speed: 0.30 s/mol.\n",
            "Processing CHEMBL455417 in molecule.smi (480/772). Average speed: 0.30 s/mol.\n",
            "Processing CHEMBL375669 in molecule.smi (481/772). Average speed: 0.30 s/mol.\n",
            "Processing CHEMBL179050 in molecule.smi (482/772). Average speed: 0.30 s/mol.\n",
            "Processing CHEMBL1813348 in molecule.smi (483/772). Average speed: 0.30 s/mol.\n",
            "Processing CHEMBL1172115 in molecule.smi (484/772). Average speed: 0.30 s/mol.\n",
            "Processing CHEMBL1797182 in molecule.smi (485/772). Average speed: 0.30 s/mol.\n",
            "Processing CHEMBL175994 in molecule.smi (486/772). Average speed: 0.30 s/mol.\n",
            "Processing CHEMBL2261791 in molecule.smi (487/772). Average speed: 0.30 s/mol.\n",
            "Processing CHEMBL190911 in molecule.smi (489/772). Average speed: 0.30 s/mol.\n",
            "Processing CHEMBL472604 in molecule.smi (488/772). Average speed: 0.30 s/mol.\n",
            "Processing CHEMBL1172343 in molecule.smi (491/772). Average speed: 0.30 s/mol.\n",
            "Processing CHEMBL2069620 in molecule.smi (490/772). Average speed: 0.30 s/mol.\n",
            "Processing CHEMBL1806789 in molecule.smi (492/772). Average speed: 0.30 s/mol.\n",
            "Processing CHEMBL1835801 in molecule.smi (493/772). Average speed: 0.30 s/mol.\n",
            "Processing CHEMBL227091 in molecule.smi (494/772). Average speed: 0.30 s/mol.\n",
            "Processing CHEMBL1835805 in molecule.smi (495/772). Average speed: 0.30 s/mol.\n",
            "Processing CHEMBL4227801 in molecule.smi (496/772). Average speed: 0.30 s/mol.\n",
            "Processing CHEMBL474169 in molecule.smi (497/772). Average speed: 0.30 s/mol.\n",
            "Processing CHEMBL228213 in molecule.smi (499/772). Average speed: 0.30 s/mol.\n",
            "Processing CHEMBL4226410 in molecule.smi (498/772). Average speed: 0.30 s/mol.\n",
            "Processing CHEMBL175740 in molecule.smi (500/772). Average speed: 0.30 s/mol.\n",
            "Processing CHEMBL178400 in molecule.smi (501/772). Average speed: 0.30 s/mol.\n",
            "Processing CHEMBL1224500 in molecule.smi (502/772). Average speed: 0.29 s/mol.\n",
            "Processing CHEMBL4085098 in molecule.smi (503/772). Average speed: 0.29 s/mol.\n",
            "Processing CHEMBL366469 in molecule.smi (504/772). Average speed: 0.29 s/mol.\n",
            "Processing CHEMBL369228 in molecule.smi (505/772). Average speed: 0.29 s/mol.\n",
            "Processing CHEMBL503034 in molecule.smi (507/772). Average speed: 0.29 s/mol.\n",
            "Processing CHEMBL4173153 in molecule.smi (506/772). Average speed: 0.29 s/mol.\n",
            "Processing CHEMBL391148 in molecule.smi (508/772). Average speed: 0.29 s/mol.\n",
            "Processing CHEMBL394405 in molecule.smi (509/772). Average speed: 0.29 s/mol.\n",
            "Processing CHEMBL179040 in molecule.smi (510/772). Average speed: 0.29 s/mol.\n",
            "Processing CHEMBL1835796 in molecule.smi (511/772). Average speed: 0.29 s/mol.\n",
            "Processing CHEMBL3215913 in molecule.smi (512/772). Average speed: 0.29 s/mol.\n",
            "Processing CHEMBL1784015 in molecule.smi (513/772). Average speed: 0.29 s/mol.\n",
            "Processing CHEMBL2261790 in molecule.smi (514/772). Average speed: 0.29 s/mol.\n",
            "Processing CHEMBL1806784 in molecule.smi (515/772). Average speed: 0.29 s/mol.\n",
            "Processing CHEMBL266328 in molecule.smi (516/772). Average speed: 0.29 s/mol.\n",
            "Processing CHEMBL1796217 in molecule.smi (517/772). Average speed: 0.29 s/mol.\n",
            "Processing CHEMBL2261786 in molecule.smi (518/772). Average speed: 0.29 s/mol.\n",
            "Processing CHEMBL240171 in molecule.smi (519/772). Average speed: 0.29 s/mol.\n",
            "Processing CHEMBL1806780 in molecule.smi (520/772). Average speed: 0.29 s/mol.\n",
            "Processing CHEMBL1224503 in molecule.smi (521/772). Average speed: 0.29 s/mol.\n",
            "Processing CHEMBL427457 in molecule.smi (522/772). Average speed: 0.29 s/mol.\n",
            "Processing CHEMBL366693 in molecule.smi (523/772). Average speed: 0.29 s/mol.\n",
            "Processing CHEMBL515 in molecule.smi (524/772). Average speed: 0.29 s/mol.\n",
            "Processing CHEMBL389009 in molecule.smi (525/772). Average speed: 0.29 s/mol.\n",
            "Processing CHEMBL4072744 in molecule.smi (526/772). Average speed: 0.29 s/mol.\n",
            "Processing CHEMBL472603 in molecule.smi (527/772). Average speed: 0.29 s/mol.\n",
            "Processing CHEMBL366597 in molecule.smi (528/772). Average speed: 0.29 s/mol.\n",
            "Processing CHEMBL348000 in molecule.smi (529/772). Average speed: 0.29 s/mol.\n",
            "Processing CHEMBL367869 in molecule.smi (531/772). Average speed: 0.29 s/mol.\n",
            "Processing CHEMBL1224574 in molecule.smi (530/772). Average speed: 0.29 s/mol.\n",
            "Processing CHEMBL4096017 in molecule.smi (533/772). Average speed: 0.29 s/mol.\n",
            "Processing CHEMBL1796382 in molecule.smi (532/772). Average speed: 0.29 s/mol.\n",
            "Processing CHEMBL4216519 in molecule.smi (534/772). Average speed: 0.28 s/mol.\n",
            "Processing CHEMBL2315762 in molecule.smi (536/772). Average speed: 0.28 s/mol.\n",
            "Processing CHEMBL468947 in molecule.smi (535/772). Average speed: 0.28 s/mol.\n",
            "Processing CHEMBL3741392 in molecule.smi (538/772). Average speed: 0.28 s/mol.\n",
            "Processing CHEMBL388690 in molecule.smi (537/772). Average speed: 0.28 s/mol.\n",
            "Processing CHEMBL397609 in molecule.smi (539/772). Average speed: 0.28 s/mol.\n",
            "Processing CHEMBL1796383 in molecule.smi (540/772). Average speed: 0.28 s/mol.\n",
            "Processing CHEMBL1835793 in molecule.smi (541/772). Average speed: 0.28 s/mol.\n",
            "Processing CHEMBL315331 in molecule.smi (542/772). Average speed: 0.28 s/mol.\n",
            "Processing CHEMBL1784016 in molecule.smi (543/772). Average speed: 0.28 s/mol.\n",
            "Processing CHEMBL521837 in molecule.smi (544/772). Average speed: 0.28 s/mol.\n",
            "Processing CHEMBL36394 in molecule.smi (545/772). Average speed: 0.28 s/mol.\n",
            "Processing CHEMBL389920 in molecule.smi (546/772). Average speed: 0.28 s/mol.\n",
            "Processing CHEMBL1806791 in molecule.smi (547/772). Average speed: 0.28 s/mol.\n",
            "Processing CHEMBL390309 in molecule.smi (548/772). Average speed: 0.28 s/mol.\n",
            "Processing CHEMBL4097381 in molecule.smi (549/772). Average speed: 0.28 s/mol.\n",
            "Processing CHEMBL4078061 in molecule.smi (550/772). Average speed: 0.28 s/mol.\n",
            "Processing CHEMBL1224572 in molecule.smi (551/772). Average speed: 0.28 s/mol.\n",
            "Processing CHEMBL4083055 in molecule.smi (552/772). Average speed: 0.28 s/mol.\n",
            "Processing CHEMBL4224698 in molecule.smi (553/772). Average speed: 0.28 s/mol.\n",
            "Processing CHEMBL4287904 in molecule.smi (554/772). Average speed: 0.28 s/mol.\n",
            "Processing CHEMBL4216135 in molecule.smi (555/772). Average speed: 0.28 s/mol.\n",
            "Processing CHEMBL175912 in molecule.smi (556/772). Average speed: 0.28 s/mol.\n",
            "Processing CHEMBL4228193 in molecule.smi (557/772). Average speed: 0.28 s/mol.\n",
            "Processing CHEMBL2261784 in molecule.smi (558/772). Average speed: 0.28 s/mol.\n",
            "Processing CHEMBL175796 in molecule.smi (559/772). Average speed: 0.28 s/mol.\n",
            "Processing CHEMBL360590 in molecule.smi (560/772). Average speed: 0.28 s/mol.\n",
            "Processing CHEMBL4080858 in molecule.smi (561/772). Average speed: 0.28 s/mol.\n",
            "Processing CHEMBL388834 in molecule.smi (562/772). Average speed: 0.28 s/mol.\n",
            "Processing CHEMBL387532 in molecule.smi (563/772). Average speed: 0.28 s/mol.\n",
            "Processing CHEMBL227144 in molecule.smi (564/772). Average speed: 0.28 s/mol.\n",
            "Processing CHEMBL1797173 in molecule.smi (565/772). Average speed: 0.28 s/mol.\n",
            "Processing CHEMBL4080430 in molecule.smi (566/772). Average speed: 0.28 s/mol.\n",
            "Processing CHEMBL494977 in molecule.smi (567/772). Average speed: 0.28 s/mol.\n",
            "Processing CHEMBL4211547 in molecule.smi (568/772). Average speed: 0.28 s/mol.\n",
            "Processing CHEMBL465176 in molecule.smi (569/772). Average speed: 0.28 s/mol.\n",
            "Processing CHEMBL175669 in molecule.smi (570/772). Average speed: 0.28 s/mol.\n",
            "Processing CHEMBL1164573 in molecule.smi (571/772). Average speed: 0.27 s/mol.\n",
            "Processing CHEMBL4214088 in molecule.smi (572/772). Average speed: 0.27 s/mol.\n",
            "Processing CHEMBL4078776 in molecule.smi (573/772). Average speed: 0.27 s/mol.\n",
            "Processing CHEMBL4103976 in molecule.smi (574/772). Average speed: 0.27 s/mol.\n",
            "Processing CHEMBL2036517 in molecule.smi (575/772). Average speed: 0.27 s/mol.\n",
            "Processing CHEMBL240593 in molecule.smi (576/772). Average speed: 0.27 s/mol.\n",
            "Processing CHEMBL1806778 in molecule.smi (577/772). Average speed: 0.27 s/mol.\n",
            "Processing CHEMBL369400 in molecule.smi (578/772). Average speed: 0.27 s/mol.\n",
            "Processing CHEMBL4226956 in molecule.smi (579/772). Average speed: 0.27 s/mol.\n",
            "Processing CHEMBL1796379 in molecule.smi (580/772). Average speed: 0.27 s/mol.\n",
            "Processing CHEMBL1835797 in molecule.smi (581/772). Average speed: 0.27 s/mol.\n",
            "Processing CHEMBL4088392 in molecule.smi (582/772). Average speed: 0.27 s/mol.\n",
            "Processing CHEMBL1796214 in molecule.smi (583/772). Average speed: 0.27 s/mol.\n",
            "Processing CHEMBL499820 in molecule.smi (584/772). Average speed: 0.27 s/mol.\n",
            "Processing CHEMBL1796222 in molecule.smi (585/772). Average speed: 0.27 s/mol.\n",
            "Processing CHEMBL38107 in molecule.smi (586/772). Average speed: 0.27 s/mol.\n",
            "Processing CHEMBL177805 in molecule.smi (587/772). Average speed: 0.27 s/mol.\n",
            "Processing CHEMBL4225229 in molecule.smi (588/772). Average speed: 0.27 s/mol.\n",
            "Processing CHEMBL2261783 in molecule.smi (589/772). Average speed: 0.27 s/mol.\n",
            "Processing CHEMBL4081787 in molecule.smi (590/772). Average speed: 0.27 s/mol.\n",
            "Processing CHEMBL175439 in molecule.smi (591/772). Average speed: 0.27 s/mol.\n",
            "Processing CHEMBL496707 in molecule.smi (592/772). Average speed: 0.27 s/mol.\n",
            "Processing CHEMBL37731 in molecule.smi (593/772). Average speed: 0.27 s/mol.\n",
            "Processing CHEMBL368499 in molecule.smi (594/772). Average speed: 0.27 s/mol.\n",
            "Processing CHEMBL2315752 in molecule.smi (595/772). Average speed: 0.27 s/mol.\n",
            "Processing CHEMBL1835802 in molecule.smi (596/772). Average speed: 0.27 s/mol.\n",
            "Processing CHEMBL1224501 in molecule.smi (597/772). Average speed: 0.27 s/mol.\n",
            "Processing CHEMBL521528 in molecule.smi (598/772). Average speed: 0.27 s/mol.\n",
            "Processing CHEMBL1797174 in molecule.smi (599/772). Average speed: 0.27 s/mol.\n",
            "Processing CHEMBL2315756 in molecule.smi (600/772). Average speed: 0.27 s/mol.\n",
            "Processing CHEMBL1224571 in molecule.smi (601/772). Average speed: 0.27 s/mol.\n",
            "Processing CHEMBL369425 in molecule.smi (602/772). Average speed: 0.27 s/mol.\n",
            "Processing CHEMBL1796218 in molecule.smi (603/772). Average speed: 0.27 s/mol.\n",
            "Processing CHEMBL2315760 in molecule.smi (604/772). Average speed: 0.27 s/mol.\n",
            "Processing CHEMBL233523 in molecule.smi (605/772). Average speed: 0.27 s/mol.\n",
            "Processing CHEMBL175898 in molecule.smi (606/772). Average speed: 0.27 s/mol.\n",
            "Processing CHEMBL2261787 in molecule.smi (608/772). Average speed: 0.27 s/mol.\n",
            "Processing CHEMBL1796224 in molecule.smi (607/772). Average speed: 0.27 s/mol.\n",
            "Processing CHEMBL1796381 in molecule.smi (609/772). Average speed: 0.27 s/mol.\n",
            "Processing CHEMBL1224575 in molecule.smi (610/772). Average speed: 0.26 s/mol.\n",
            "Processing CHEMBL1784010 in molecule.smi (612/772). Average speed: 0.26 s/mol.\n",
            "Processing CHEMBL2315753 in molecule.smi (611/772). Average speed: 0.26 s/mol.\n",
            "Processing CHEMBL1834027 in molecule.smi (613/772). Average speed: 0.26 s/mol.\n",
            "Processing CHEMBL26915 in molecule.smi (614/772). Average speed: 0.26 s/mol.\n",
            "Processing CHEMBL1834036 in molecule.smi (615/772). Average speed: 0.26 s/mol.\n",
            "Processing CHEMBL1087021 in molecule.smi (617/772). Average speed: 0.26 s/mol.\n",
            "Processing CHEMBL1086616 in molecule.smi (616/772). Average speed: 0.26 s/mol.\n",
            "Processing CHEMBL1087018 in molecule.smi (619/772). Average speed: 0.26 s/mol.\n",
            "Processing CHEMBL1088169 in molecule.smi (618/772). Average speed: 0.26 s/mol.\n",
            "Processing CHEMBL1088454 in molecule.smi (620/772). Average speed: 0.26 s/mol.\n",
            "Processing CHEMBL521851 in molecule.smi (621/772). Average speed: 0.26 s/mol.\n",
            "Processing CHEMBL240954 in molecule.smi (622/772). Average speed: 0.26 s/mol.\n",
            "Processing CHEMBL1798013 in molecule.smi (623/772). Average speed: 0.26 s/mol.\n",
            "Processing CHEMBL1798015 in molecule.smi (624/772). Average speed: 0.26 s/mol.\n",
            "Processing CHEMBL571058 in molecule.smi (625/772). Average speed: 0.26 s/mol.\n",
            "Processing CHEMBL1795418 in molecule.smi (626/772). Average speed: 0.26 s/mol.\n",
            "Processing CHEMBL1076746 in molecule.smi (627/772). Average speed: 0.26 s/mol.\n",
            "Processing CHEMBL191334 in molecule.smi (628/772). Average speed: 0.26 s/mol.\n",
            "Processing CHEMBL373469 in molecule.smi (629/772). Average speed: 0.26 s/mol.\n",
            "Processing CHEMBL569640 in molecule.smi (630/772). Average speed: 0.26 s/mol.\n",
            "Processing CHEMBL443684 in molecule.smi (631/772). Average speed: 0.26 s/mol.\n",
            "Processing CHEMBL1173055 in molecule.smi (632/772). Average speed: 0.26 s/mol.\n",
            "Processing CHEMBL1834028 in molecule.smi (633/772). Average speed: 0.26 s/mol.\n",
            "Processing CHEMBL1254152 in molecule.smi (634/772). Average speed: 0.26 s/mol.\n",
            "Processing CHEMBL571059 in molecule.smi (636/772). Average speed: 0.26 s/mol.\n",
            "Processing CHEMBL4227251 in molecule.smi (635/772). Average speed: 0.26 s/mol.\n",
            "Processing CHEMBL92309 in molecule.smi (637/772). Average speed: 0.26 s/mol.\n",
            "Processing CHEMBL391213 in molecule.smi (638/772). Average speed: 0.26 s/mol.\n",
            "Processing CHEMBL555438 in molecule.smi (640/772). Average speed: 0.26 s/mol.\n",
            "Processing CHEMBL1795423 in molecule.smi (639/772). Average speed: 0.26 s/mol.\n",
            "Processing CHEMBL1795417 in molecule.smi (642/772). Average speed: 0.26 s/mol.\n",
            "Processing CHEMBL18797 in molecule.smi (641/772). Average speed: 0.26 s/mol.\n",
            "Processing CHEMBL4290203 in molecule.smi (643/772). Average speed: 0.26 s/mol.\n",
            "Processing CHEMBL595935 in molecule.smi (644/772). Average speed: 0.26 s/mol.\n",
            "Processing CHEMBL609854 in molecule.smi (645/772). Average speed: 0.26 s/mol.\n",
            "Processing CHEMBL4286509 in molecule.smi (646/772). Average speed: 0.26 s/mol.\n",
            "Processing CHEMBL32926 in molecule.smi (647/772). Average speed: 0.26 s/mol.\n",
            "Processing CHEMBL569641 in molecule.smi (648/772). Average speed: 0.26 s/mol.\n",
            "Processing CHEMBL189584 in molecule.smi (649/772). Average speed: 0.26 s/mol.\n",
            "Processing CHEMBL570349 in molecule.smi (650/772). Average speed: 0.26 s/mol.\n",
            "Processing CHEMBL223783 in molecule.smi (651/772). Average speed: 0.26 s/mol.\n",
            "Processing CHEMBL1834031 in molecule.smi (653/772). Average speed: 0.26 s/mol.\n",
            "Processing CHEMBL2134202 in molecule.smi (652/772). Average speed: 0.26 s/mol.\n",
            "Processing CHEMBL1834026 in molecule.smi (655/772). Average speed: 0.26 s/mol.\n",
            "Processing CHEMBL4289939 in molecule.smi (654/772). Average speed: 0.26 s/mol.\n",
            "Processing CHEMBL1834033 in molecule.smi (656/772). Average speed: 0.26 s/mol.\n",
            "Processing CHEMBL569169 in molecule.smi (657/772). Average speed: 0.26 s/mol.\n",
            "Processing CHEMBL1253966 in molecule.smi (658/772). Average speed: 0.26 s/mol.\n",
            "Processing CHEMBL312727 in molecule.smi (659/772). Average speed: 0.26 s/mol.\n",
            "Processing CHEMBL591429 in molecule.smi (660/772). Average speed: 0.26 s/mol.\n",
            "Processing CHEMBL1090771 in molecule.smi (661/772). Average speed: 0.26 s/mol.\n",
            "Processing CHEMBL374082 in molecule.smi (662/772). Average speed: 0.26 s/mol.\n",
            "Processing CHEMBL375356 in molecule.smi (663/772). Average speed: 0.26 s/mol.\n",
            "Processing CHEMBL374003 in molecule.smi (664/772). Average speed: 0.26 s/mol.\n",
            "Processing CHEMBL4294388 in molecule.smi (665/772). Average speed: 0.26 s/mol.\n",
            "Processing CHEMBL488025 in molecule.smi (666/772). Average speed: 0.26 s/mol.\n",
            "Processing CHEMBL229439 in molecule.smi (667/772). Average speed: 0.26 s/mol.\n",
            "Processing CHEMBL229969 in molecule.smi (668/772). Average speed: 0.26 s/mol.\n",
            "Processing CHEMBL4279570 in molecule.smi (670/772). Average speed: 0.26 s/mol.\n",
            "Processing CHEMBL229385 in molecule.smi (669/772). Average speed: 0.26 s/mol.\n",
            "Processing CHEMBL229384 in molecule.smi (671/772). Average speed: 0.26 s/mol.\n",
            "Processing CHEMBL226752 in molecule.smi (673/772). Average speed: 0.26 s/mol.\n",
            "Processing CHEMBL15770 in molecule.smi (672/772). Average speed: 0.26 s/mol.\n",
            "Processing CHEMBL227093 in molecule.smi (674/772). Average speed: 0.26 s/mol.\n",
            "Processing CHEMBL321217 in molecule.smi (675/772). Average speed: 0.26 s/mol.\n",
            "Processing CHEMBL521686 in molecule.smi (677/772). Average speed: 0.26 s/mol.\n",
            "Processing CHEMBL373729 in molecule.smi (676/772). Average speed: 0.26 s/mol.\n",
            "Processing CHEMBL222437 in molecule.smi (678/772). Average speed: 0.26 s/mol.\n",
            "Processing CHEMBL376059 in molecule.smi (679/772). Average speed: 0.26 s/mol.\n",
            "Processing CHEMBL436304 in molecule.smi (680/772). Average speed: 0.26 s/mol.\n",
            "Processing CHEMBL221938 in molecule.smi (681/772). Average speed: 0.26 s/mol.\n",
            "Processing CHEMBL376204 in molecule.smi (682/772). Average speed: 0.26 s/mol.\n",
            "Processing CHEMBL375249 in molecule.smi (683/772). Average speed: 0.26 s/mol.\n",
            "Processing CHEMBL221452 in molecule.smi (684/772). Average speed: 0.26 s/mol.\n",
            "Processing CHEMBL576081 in molecule.smi (685/772). Average speed: 0.26 s/mol.\n",
            "Processing CHEMBL373660 in molecule.smi (687/772). Average speed: 0.26 s/mol.\n",
            "Processing CHEMBL376422 in molecule.smi (686/772). Average speed: 0.26 s/mol.\n",
            "Processing CHEMBL376423 in molecule.smi (689/772). Average speed: 0.26 s/mol.\n",
            "Processing CHEMBL224903 in molecule.smi (688/772). Average speed: 0.26 s/mol.\n",
            "Processing CHEMBL1076804 in molecule.smi (691/772). Average speed: 0.26 s/mol.\n",
            "Processing CHEMBL222389 in molecule.smi (690/772). Average speed: 0.26 s/mol.\n",
            "Processing CHEMBL374285 in molecule.smi (693/772). Average speed: 0.26 s/mol.\n",
            "Processing CHEMBL1254059 in molecule.smi (692/772). Average speed: 0.26 s/mol.\n",
            "Processing CHEMBL222357 in molecule.smi (695/772). Average speed: 0.26 s/mol.\n",
            "Processing CHEMBL222360 in molecule.smi (694/772). Average speed: 0.26 s/mol.\n",
            "Processing CHEMBL848 in molecule.smi (697/772). Average speed: 0.26 s/mol.\n",
            "Processing CHEMBL223835 in molecule.smi (696/772). Average speed: 0.26 s/mol.\n",
            "Processing CHEMBL222390 in molecule.smi (698/772). Average speed: 0.26 s/mol.\n",
            "Processing CHEMBL373656 in molecule.smi (700/772). Average speed: 0.26 s/mol.\n",
            "Processing CHEMBL1761341 in molecule.smi (699/772). Average speed: 0.26 s/mol.\n",
            "Processing CHEMBL221451 in molecule.smi (702/772). Average speed: 0.26 s/mol.\n",
            "Processing CHEMBL389717 in molecule.smi (701/772). Average speed: 0.26 s/mol.\n",
            "Processing CHEMBL593598 in molecule.smi (704/772). Average speed: 0.26 s/mol.\n",
            "Processing CHEMBL375382 in molecule.smi (703/772). Average speed: 0.26 s/mol.\n",
            "Processing CHEMBL4287572 in molecule.smi (706/772). Average speed: 0.26 s/mol.\n",
            "Processing CHEMBL14227 in molecule.smi (705/772). Average speed: 0.26 s/mol.\n",
            "Processing CHEMBL376082 in molecule.smi (707/772). Average speed: 0.26 s/mol.\n",
            "Processing CHEMBL225115 in molecule.smi (709/772). Average speed: 0.26 s/mol.\n",
            "Processing CHEMBL221555 in molecule.smi (708/772). Average speed: 0.26 s/mol.\n",
            "Processing CHEMBL1834037 in molecule.smi (711/772). Average speed: 0.26 s/mol.\n",
            "Processing CHEMBL222336 in molecule.smi (710/772). Average speed: 0.26 s/mol.\n",
            "Processing CHEMBL221828 in molecule.smi (713/772). Average speed: 0.25 s/mol.\n",
            "Processing CHEMBL573693 in molecule.smi (712/772). Average speed: 0.26 s/mol.\n",
            "Processing CHEMBL103667 in molecule.smi (714/772). Average speed: 0.25 s/mol.\n",
            "Processing CHEMBL4286087 in molecule.smi (715/772). Average speed: 0.25 s/mol.\n",
            "Processing CHEMBL583323 in molecule.smi (716/772). Average speed: 0.26 s/mol.\n",
            "Processing CHEMBL149829 in molecule.smi (717/772). Average speed: 0.25 s/mol.\n",
            "Processing CHEMBL569627 in molecule.smi (718/772). Average speed: 0.25 s/mol.\n",
            "Processing CHEMBL222102 in molecule.smi (719/772). Average speed: 0.25 s/mol.\n",
            "Processing CHEMBL1088315 in molecule.smi (720/772). Average speed: 0.25 s/mol.\n",
            "Processing CHEMBL1087019 in molecule.smi (721/772). Average speed: 0.25 s/mol.\n",
            "Processing CHEMBL1795424 in molecule.smi (722/772). Average speed: 0.25 s/mol.\n",
            "Processing CHEMBL549484 in molecule.smi (724/772). Average speed: 0.25 s/mol.\n",
            "Processing CHEMBL571496 in molecule.smi (723/772). Average speed: 0.25 s/mol.\n",
            "Processing CHEMBL506871 in molecule.smi (725/772). Average speed: 0.25 s/mol.\n",
            "Processing CHEMBL570332 in molecule.smi (727/772). Average speed: 0.25 s/mol.\n",
            "Processing CHEMBL225525 in molecule.smi (726/772). Average speed: 0.25 s/mol.\n",
            "Processing CHEMBL1795413 in molecule.smi (729/772). Average speed: 0.25 s/mol.\n",
            "Processing CHEMBL571272 in molecule.smi (728/772). Average speed: 0.25 s/mol.\n",
            "Processing CHEMBL210618 in molecule.smi (731/772). Average speed: 0.25 s/mol.\n",
            "Processing CHEMBL1795412 in molecule.smi (730/772). Average speed: 0.25 s/mol.\n",
            "Processing CHEMBL1253686 in molecule.smi (733/772). Average speed: 0.25 s/mol.\n",
            "Processing CHEMBL1761335 in molecule.smi (732/772). Average speed: 0.25 s/mol.\n",
            "Processing CHEMBL473417 in molecule.smi (735/772). Average speed: 0.25 s/mol.\n",
            "Processing CHEMBL560774 in molecule.smi (734/772). Average speed: 0.25 s/mol.\n",
            "Processing CHEMBL228043 in molecule.smi (737/772). Average speed: 0.25 s/mol.\n",
            "Processing CHEMBL472004 in molecule.smi (736/772). Average speed: 0.25 s/mol.\n",
            "Processing CHEMBL255342 in molecule.smi (738/772). Average speed: 0.25 s/mol.\n",
            "Processing CHEMBL1086615 in molecule.smi (739/772). Average speed: 0.25 s/mol.\n",
            "Processing CHEMBL1088170 in molecule.smi (741/772). Average speed: 0.25 s/mol.\n",
            "Processing CHEMBL1088181 in molecule.smi (740/772). Average speed: 0.25 s/mol.\n",
            "Processing CHEMBL563194 in molecule.smi (743/772). Average speed: 0.25 s/mol.\n",
            "Processing CHEMBL563329 in molecule.smi (742/772). Average speed: 0.25 s/mol.\n",
            "Processing CHEMBL563966 in molecule.smi (745/772). Average speed: 0.25 s/mol.\n",
            "Processing CHEMBL1795415 in molecule.smi (744/772). Average speed: 0.25 s/mol.\n",
            "Processing CHEMBL551946 in molecule.smi (747/772). Average speed: 0.25 s/mol.\n",
            "Processing CHEMBL1795416 in molecule.smi (746/772). Average speed: 0.25 s/mol.\n",
            "Processing CHEMBL561249 in molecule.smi (748/772). Average speed: 0.25 s/mol.\n",
            "Processing CHEMBL560848 in molecule.smi (749/772). Average speed: 0.25 s/mol.\n",
            "Processing CHEMBL549863 in molecule.smi (750/772). Average speed: 0.25 s/mol.\n",
            "Processing CHEMBL556310 in molecule.smi (751/772). Average speed: 0.25 s/mol.\n",
            "Processing CHEMBL1254245 in molecule.smi (753/772). Average speed: 0.25 s/mol.\n",
            "Processing CHEMBL1834025 in molecule.smi (752/772). Average speed: 0.25 s/mol.\n",
            "Processing CHEMBL1761337 in molecule.smi (755/772). Average speed: 0.25 s/mol.\n",
            "Processing CHEMBL1253685 in molecule.smi (754/772). Average speed: 0.25 s/mol.\n",
            "Processing CHEMBL1834029 in molecule.smi (756/772). Average speed: 0.25 s/mol.\n",
            "Processing CHEMBL552351 in molecule.smi (757/772). Average speed: 0.25 s/mol.\n",
            "Processing CHEMBL551945 in molecule.smi (758/772). Average speed: 0.25 s/mol.\n",
            "Processing CHEMBL556722 in molecule.smi (759/772). Average speed: 0.25 s/mol.\n",
            "Processing CHEMBL538388 in molecule.smi (760/772). Average speed: 0.25 s/mol.\n",
            "Processing CHEMBL1761338 in molecule.smi (761/772). Average speed: 0.25 s/mol.\n",
            "Processing CHEMBL1253965 in molecule.smi (762/772). Average speed: 0.25 s/mol.\n",
            "Processing CHEMBL27246 in molecule.smi (763/772). Average speed: 0.25 s/mol.\n",
            "Processing CHEMBL2311596 in molecule.smi (764/772). Average speed: 0.25 s/mol.\n",
            "Processing CHEMBL2311594 in molecule.smi (765/772). Average speed: 0.25 s/mol.\n",
            "Processing CHEMBL2311595 in molecule.smi (766/772). Average speed: 0.25 s/mol.\n",
            "Processing CHEMBL25 in molecule.smi (767/772). Average speed: 0.25 s/mol.\n",
            "Processing CHEMBL549659 in molecule.smi (768/772). Average speed: 0.25 s/mol.\n",
            "Processing CHEMBL483849 in molecule.smi (769/772). Average speed: 0.25 s/mol.\n",
            "Processing CHEMBL1256289 in molecule.smi (770/772). Average speed: 0.25 s/mol.\n",
            "Processing CHEMBL1431 in molecule.smi (771/772). Average speed: 0.25 s/mol.\n",
            "Processing CHEMBL6 in molecule.smi (772/772). Average speed: 0.25 s/mol.\n",
            "Descriptor calculation completed in 3 mins 11.225 secs . Average speed: 0.25 s/mol.\n"
          ],
          "name": "stdout"
        }
      ]
    },
    {
      "cell_type": "code",
      "metadata": {
        "colab": {
          "base_uri": "https://localhost:8080/"
        },
        "id": "g4fa1crxEDfu",
        "outputId": "54bf9843-da90-45f3-ccad-ddeea1d8369b"
      },
      "source": [
        "! ls -l"
      ],
      "execution_count": 65,
      "outputs": [
        {
          "output_type": "stream",
          "text": [
            "total 108368\n",
            "-rw-r--r-- 1 root root  1383525 Apr  8 19:04 binary_descriptors_output.csv\n",
            "-rw-r--r-- 1 root root    71036 Apr  8 18:58 CHEMBL614725_2classes_data.csv\n",
            "-rw-r--r-- 1 root root   103777 Apr  8 19:00 CHEMBL614725_2classes_lipinski_EDA_data.csv\n",
            "-rw-r--r-- 1 root root   187381 Apr  8 18:58 CHEMBL614725_bioactivity_data_curated.csv\n",
            "-rw-r--r-- 1 root root   151258 Apr  8 18:56 CHEMBL614725_bioactivity_data_preprocessed.csv\n",
            "-rw-r--r-- 1 root root      122 Apr  8 19:00 CHEMBL614725_MIA-PaCa-2_mannwhitneyu_MW.csv\n",
            "-rw-r--r-- 1 root root      131 Apr  8 19:00 CHEMBL614725_MIA-PaCa-2_mannwhitneyu_NumHAcceptors.csv\n",
            "-rw-r--r-- 1 root root      129 Apr  8 19:00 CHEMBL614725_MIA-PaCa-2_mannwhitneyu_NumHDonors.csv\n",
            "-rw-r--r-- 1 root root    15319 Apr  8 19:00 CHEMBL614725_MIA-PaCa-2_plot_ic50.pdf\n",
            "-rw-r--r-- 1 root root    13907 Apr  8 19:00 CHEMBL614725_MIA-PaCa-2_plot_LogP.pdf\n",
            "-rw-r--r-- 1 root root    13632 Apr  8 19:00 CHEMBL614725_MIA-PaCa-2_plot_MW.pdf\n",
            "-rw-r--r-- 1 root root   148942 Apr  8 19:00 CHEMBL614725_MIA-PaCa-2_plot_MW_vs_LogP.pdf\n",
            "-rw-r--r-- 1 root root    14424 Apr  8 19:00 CHEMBL614725_MIA-PaCa-2_plot_NumHDonors.pdf\n",
            "-rw-r--r-- 1 root root   957952 Jun 26  2014 Descriptors.xls\n",
            "-rw-r--r-- 1 root root     4669 Jun 13  2014 descriptors.xml\n",
            "drwxr-xr-x 2 root root     4096 Jul 21  2014 lib\n",
            "drwxr-xr-x 2 root root     4096 May  8  2012 license\n",
            "-rwxr-xr-x 1 root root 85055499 Mar 11  2020 Miniconda3-py37_4.8.2-Linux-x86_64.sh\n",
            "-rw-r--r-- 1 root root    54664 Apr  8 19:01 molecule.smi\n",
            "-rw-r--r-- 1 root root   268084 Jul 21  2014 PaDEL-Descriptor.jar\n",
            "-rw-r--r-- 1 root root 20875190 Jul 21  2014 PaDEL-Descriptor.zip\n",
            "-rw-r--r-- 1 root root     4645 Apr  8 19:00 pubchemfingerprinter.xml\n",
            "-rw-r--r-- 1 root root  1144658 Apr  8 18:54 raw_CHEMBL614725_MIA-PaCa-2.csv\n",
            "-rw-r--r-- 1 root root   432118 Apr  8 19:00 results.zip\n",
            "drwxr-xr-x 1 root root     4096 Apr  7 13:36 sample_data\n"
          ],
          "name": "stdout"
        }
      ]
    },
    {
      "cell_type": "markdown",
      "metadata": {
        "id": "41z0RKrzFt6l"
      },
      "source": [
        "# **Preparing the X and Y Data Matrices**"
      ]
    },
    {
      "cell_type": "markdown",
      "metadata": {
        "id": "51Nu2IYEGHxE"
      },
      "source": [
        "## **X data matrix**"
      ]
    },
    {
      "cell_type": "code",
      "metadata": {
        "colab": {
          "base_uri": "https://localhost:8080/",
          "height": 253
        },
        "id": "Sf-Ei-wJGHMM",
        "outputId": "d067a855-f520-4f2f-9467-4d80050ec5d9"
      },
      "source": [
        "df_X = pd.read_csv('binary_descriptors_output.csv')\n",
        "df_X.head(5)"
      ],
      "execution_count": 66,
      "outputs": [
        {
          "output_type": "execute_result",
          "data": {
            "text/html": [
              "<div>\n",
              "<style scoped>\n",
              "    .dataframe tbody tr th:only-of-type {\n",
              "        vertical-align: middle;\n",
              "    }\n",
              "\n",
              "    .dataframe tbody tr th {\n",
              "        vertical-align: top;\n",
              "    }\n",
              "\n",
              "    .dataframe thead th {\n",
              "        text-align: right;\n",
              "    }\n",
              "</style>\n",
              "<table border=\"1\" class=\"dataframe\">\n",
              "  <thead>\n",
              "    <tr style=\"text-align: right;\">\n",
              "      <th></th>\n",
              "      <th>Name</th>\n",
              "      <th>PubchemFP0</th>\n",
              "      <th>PubchemFP1</th>\n",
              "      <th>PubchemFP2</th>\n",
              "      <th>PubchemFP3</th>\n",
              "      <th>PubchemFP4</th>\n",
              "      <th>PubchemFP5</th>\n",
              "      <th>PubchemFP6</th>\n",
              "      <th>PubchemFP7</th>\n",
              "      <th>PubchemFP8</th>\n",
              "      <th>PubchemFP9</th>\n",
              "      <th>PubchemFP10</th>\n",
              "      <th>PubchemFP11</th>\n",
              "      <th>PubchemFP12</th>\n",
              "      <th>PubchemFP13</th>\n",
              "      <th>PubchemFP14</th>\n",
              "      <th>PubchemFP15</th>\n",
              "      <th>PubchemFP16</th>\n",
              "      <th>PubchemFP17</th>\n",
              "      <th>PubchemFP18</th>\n",
              "      <th>PubchemFP19</th>\n",
              "      <th>PubchemFP20</th>\n",
              "      <th>PubchemFP21</th>\n",
              "      <th>PubchemFP22</th>\n",
              "      <th>PubchemFP23</th>\n",
              "      <th>PubchemFP24</th>\n",
              "      <th>PubchemFP25</th>\n",
              "      <th>PubchemFP26</th>\n",
              "      <th>PubchemFP27</th>\n",
              "      <th>PubchemFP28</th>\n",
              "      <th>PubchemFP29</th>\n",
              "      <th>PubchemFP30</th>\n",
              "      <th>PubchemFP31</th>\n",
              "      <th>PubchemFP32</th>\n",
              "      <th>PubchemFP33</th>\n",
              "      <th>PubchemFP34</th>\n",
              "      <th>PubchemFP35</th>\n",
              "      <th>PubchemFP36</th>\n",
              "      <th>PubchemFP37</th>\n",
              "      <th>PubchemFP38</th>\n",
              "      <th>...</th>\n",
              "      <th>PubchemFP841</th>\n",
              "      <th>PubchemFP842</th>\n",
              "      <th>PubchemFP843</th>\n",
              "      <th>PubchemFP844</th>\n",
              "      <th>PubchemFP845</th>\n",
              "      <th>PubchemFP846</th>\n",
              "      <th>PubchemFP847</th>\n",
              "      <th>PubchemFP848</th>\n",
              "      <th>PubchemFP849</th>\n",
              "      <th>PubchemFP850</th>\n",
              "      <th>PubchemFP851</th>\n",
              "      <th>PubchemFP852</th>\n",
              "      <th>PubchemFP853</th>\n",
              "      <th>PubchemFP854</th>\n",
              "      <th>PubchemFP855</th>\n",
              "      <th>PubchemFP856</th>\n",
              "      <th>PubchemFP857</th>\n",
              "      <th>PubchemFP858</th>\n",
              "      <th>PubchemFP859</th>\n",
              "      <th>PubchemFP860</th>\n",
              "      <th>PubchemFP861</th>\n",
              "      <th>PubchemFP862</th>\n",
              "      <th>PubchemFP863</th>\n",
              "      <th>PubchemFP864</th>\n",
              "      <th>PubchemFP865</th>\n",
              "      <th>PubchemFP866</th>\n",
              "      <th>PubchemFP867</th>\n",
              "      <th>PubchemFP868</th>\n",
              "      <th>PubchemFP869</th>\n",
              "      <th>PubchemFP870</th>\n",
              "      <th>PubchemFP871</th>\n",
              "      <th>PubchemFP872</th>\n",
              "      <th>PubchemFP873</th>\n",
              "      <th>PubchemFP874</th>\n",
              "      <th>PubchemFP875</th>\n",
              "      <th>PubchemFP876</th>\n",
              "      <th>PubchemFP877</th>\n",
              "      <th>PubchemFP878</th>\n",
              "      <th>PubchemFP879</th>\n",
              "      <th>PubchemFP880</th>\n",
              "    </tr>\n",
              "  </thead>\n",
              "  <tbody>\n",
              "    <tr>\n",
              "      <th>0</th>\n",
              "      <td>CHEMBL2324630</td>\n",
              "      <td>1</td>\n",
              "      <td>1</td>\n",
              "      <td>1</td>\n",
              "      <td>1</td>\n",
              "      <td>0</td>\n",
              "      <td>0</td>\n",
              "      <td>0</td>\n",
              "      <td>0</td>\n",
              "      <td>0</td>\n",
              "      <td>1</td>\n",
              "      <td>1</td>\n",
              "      <td>1</td>\n",
              "      <td>1</td>\n",
              "      <td>1</td>\n",
              "      <td>1</td>\n",
              "      <td>1</td>\n",
              "      <td>1</td>\n",
              "      <td>0</td>\n",
              "      <td>1</td>\n",
              "      <td>1</td>\n",
              "      <td>1</td>\n",
              "      <td>0</td>\n",
              "      <td>0</td>\n",
              "      <td>0</td>\n",
              "      <td>0</td>\n",
              "      <td>0</td>\n",
              "      <td>0</td>\n",
              "      <td>0</td>\n",
              "      <td>0</td>\n",
              "      <td>0</td>\n",
              "      <td>0</td>\n",
              "      <td>0</td>\n",
              "      <td>0</td>\n",
              "      <td>0</td>\n",
              "      <td>0</td>\n",
              "      <td>0</td>\n",
              "      <td>0</td>\n",
              "      <td>0</td>\n",
              "      <td>0</td>\n",
              "      <td>...</td>\n",
              "      <td>0</td>\n",
              "      <td>0</td>\n",
              "      <td>0</td>\n",
              "      <td>0</td>\n",
              "      <td>0</td>\n",
              "      <td>0</td>\n",
              "      <td>0</td>\n",
              "      <td>0</td>\n",
              "      <td>0</td>\n",
              "      <td>0</td>\n",
              "      <td>0</td>\n",
              "      <td>0</td>\n",
              "      <td>0</td>\n",
              "      <td>0</td>\n",
              "      <td>0</td>\n",
              "      <td>0</td>\n",
              "      <td>0</td>\n",
              "      <td>0</td>\n",
              "      <td>0</td>\n",
              "      <td>0</td>\n",
              "      <td>0</td>\n",
              "      <td>0</td>\n",
              "      <td>0</td>\n",
              "      <td>0</td>\n",
              "      <td>0</td>\n",
              "      <td>0</td>\n",
              "      <td>0</td>\n",
              "      <td>0</td>\n",
              "      <td>0</td>\n",
              "      <td>0</td>\n",
              "      <td>0</td>\n",
              "      <td>0</td>\n",
              "      <td>0</td>\n",
              "      <td>0</td>\n",
              "      <td>0</td>\n",
              "      <td>0</td>\n",
              "      <td>0</td>\n",
              "      <td>0</td>\n",
              "      <td>0</td>\n",
              "      <td>0</td>\n",
              "    </tr>\n",
              "    <tr>\n",
              "      <th>1</th>\n",
              "      <td>CHEMBL2321905</td>\n",
              "      <td>1</td>\n",
              "      <td>1</td>\n",
              "      <td>1</td>\n",
              "      <td>1</td>\n",
              "      <td>0</td>\n",
              "      <td>0</td>\n",
              "      <td>0</td>\n",
              "      <td>0</td>\n",
              "      <td>0</td>\n",
              "      <td>1</td>\n",
              "      <td>1</td>\n",
              "      <td>1</td>\n",
              "      <td>1</td>\n",
              "      <td>1</td>\n",
              "      <td>1</td>\n",
              "      <td>1</td>\n",
              "      <td>1</td>\n",
              "      <td>0</td>\n",
              "      <td>1</td>\n",
              "      <td>1</td>\n",
              "      <td>1</td>\n",
              "      <td>0</td>\n",
              "      <td>0</td>\n",
              "      <td>0</td>\n",
              "      <td>0</td>\n",
              "      <td>0</td>\n",
              "      <td>0</td>\n",
              "      <td>0</td>\n",
              "      <td>0</td>\n",
              "      <td>0</td>\n",
              "      <td>0</td>\n",
              "      <td>0</td>\n",
              "      <td>0</td>\n",
              "      <td>0</td>\n",
              "      <td>0</td>\n",
              "      <td>0</td>\n",
              "      <td>0</td>\n",
              "      <td>0</td>\n",
              "      <td>0</td>\n",
              "      <td>...</td>\n",
              "      <td>0</td>\n",
              "      <td>0</td>\n",
              "      <td>0</td>\n",
              "      <td>0</td>\n",
              "      <td>0</td>\n",
              "      <td>0</td>\n",
              "      <td>0</td>\n",
              "      <td>0</td>\n",
              "      <td>0</td>\n",
              "      <td>0</td>\n",
              "      <td>0</td>\n",
              "      <td>0</td>\n",
              "      <td>0</td>\n",
              "      <td>0</td>\n",
              "      <td>0</td>\n",
              "      <td>0</td>\n",
              "      <td>0</td>\n",
              "      <td>0</td>\n",
              "      <td>0</td>\n",
              "      <td>0</td>\n",
              "      <td>0</td>\n",
              "      <td>0</td>\n",
              "      <td>0</td>\n",
              "      <td>0</td>\n",
              "      <td>0</td>\n",
              "      <td>0</td>\n",
              "      <td>0</td>\n",
              "      <td>0</td>\n",
              "      <td>0</td>\n",
              "      <td>0</td>\n",
              "      <td>0</td>\n",
              "      <td>0</td>\n",
              "      <td>0</td>\n",
              "      <td>0</td>\n",
              "      <td>0</td>\n",
              "      <td>0</td>\n",
              "      <td>0</td>\n",
              "      <td>0</td>\n",
              "      <td>0</td>\n",
              "      <td>0</td>\n",
              "    </tr>\n",
              "    <tr>\n",
              "      <th>2</th>\n",
              "      <td>CHEMBL4176275</td>\n",
              "      <td>1</td>\n",
              "      <td>1</td>\n",
              "      <td>1</td>\n",
              "      <td>0</td>\n",
              "      <td>0</td>\n",
              "      <td>0</td>\n",
              "      <td>0</td>\n",
              "      <td>0</td>\n",
              "      <td>0</td>\n",
              "      <td>1</td>\n",
              "      <td>1</td>\n",
              "      <td>1</td>\n",
              "      <td>1</td>\n",
              "      <td>0</td>\n",
              "      <td>1</td>\n",
              "      <td>1</td>\n",
              "      <td>0</td>\n",
              "      <td>0</td>\n",
              "      <td>1</td>\n",
              "      <td>1</td>\n",
              "      <td>1</td>\n",
              "      <td>0</td>\n",
              "      <td>0</td>\n",
              "      <td>0</td>\n",
              "      <td>0</td>\n",
              "      <td>0</td>\n",
              "      <td>0</td>\n",
              "      <td>0</td>\n",
              "      <td>0</td>\n",
              "      <td>0</td>\n",
              "      <td>0</td>\n",
              "      <td>0</td>\n",
              "      <td>0</td>\n",
              "      <td>0</td>\n",
              "      <td>0</td>\n",
              "      <td>0</td>\n",
              "      <td>0</td>\n",
              "      <td>0</td>\n",
              "      <td>0</td>\n",
              "      <td>...</td>\n",
              "      <td>0</td>\n",
              "      <td>0</td>\n",
              "      <td>0</td>\n",
              "      <td>0</td>\n",
              "      <td>0</td>\n",
              "      <td>0</td>\n",
              "      <td>0</td>\n",
              "      <td>0</td>\n",
              "      <td>0</td>\n",
              "      <td>0</td>\n",
              "      <td>0</td>\n",
              "      <td>0</td>\n",
              "      <td>0</td>\n",
              "      <td>0</td>\n",
              "      <td>0</td>\n",
              "      <td>0</td>\n",
              "      <td>0</td>\n",
              "      <td>0</td>\n",
              "      <td>0</td>\n",
              "      <td>0</td>\n",
              "      <td>0</td>\n",
              "      <td>0</td>\n",
              "      <td>0</td>\n",
              "      <td>0</td>\n",
              "      <td>0</td>\n",
              "      <td>0</td>\n",
              "      <td>0</td>\n",
              "      <td>0</td>\n",
              "      <td>0</td>\n",
              "      <td>0</td>\n",
              "      <td>0</td>\n",
              "      <td>0</td>\n",
              "      <td>0</td>\n",
              "      <td>0</td>\n",
              "      <td>0</td>\n",
              "      <td>0</td>\n",
              "      <td>0</td>\n",
              "      <td>0</td>\n",
              "      <td>0</td>\n",
              "      <td>0</td>\n",
              "    </tr>\n",
              "    <tr>\n",
              "      <th>3</th>\n",
              "      <td>CHEMBL2324627</td>\n",
              "      <td>1</td>\n",
              "      <td>1</td>\n",
              "      <td>1</td>\n",
              "      <td>1</td>\n",
              "      <td>0</td>\n",
              "      <td>0</td>\n",
              "      <td>0</td>\n",
              "      <td>0</td>\n",
              "      <td>0</td>\n",
              "      <td>1</td>\n",
              "      <td>1</td>\n",
              "      <td>1</td>\n",
              "      <td>1</td>\n",
              "      <td>1</td>\n",
              "      <td>1</td>\n",
              "      <td>1</td>\n",
              "      <td>1</td>\n",
              "      <td>0</td>\n",
              "      <td>1</td>\n",
              "      <td>1</td>\n",
              "      <td>1</td>\n",
              "      <td>0</td>\n",
              "      <td>0</td>\n",
              "      <td>0</td>\n",
              "      <td>0</td>\n",
              "      <td>0</td>\n",
              "      <td>0</td>\n",
              "      <td>0</td>\n",
              "      <td>0</td>\n",
              "      <td>0</td>\n",
              "      <td>0</td>\n",
              "      <td>0</td>\n",
              "      <td>0</td>\n",
              "      <td>0</td>\n",
              "      <td>0</td>\n",
              "      <td>0</td>\n",
              "      <td>0</td>\n",
              "      <td>0</td>\n",
              "      <td>0</td>\n",
              "      <td>...</td>\n",
              "      <td>0</td>\n",
              "      <td>0</td>\n",
              "      <td>0</td>\n",
              "      <td>0</td>\n",
              "      <td>0</td>\n",
              "      <td>0</td>\n",
              "      <td>0</td>\n",
              "      <td>0</td>\n",
              "      <td>0</td>\n",
              "      <td>0</td>\n",
              "      <td>0</td>\n",
              "      <td>0</td>\n",
              "      <td>0</td>\n",
              "      <td>0</td>\n",
              "      <td>0</td>\n",
              "      <td>0</td>\n",
              "      <td>0</td>\n",
              "      <td>0</td>\n",
              "      <td>0</td>\n",
              "      <td>0</td>\n",
              "      <td>0</td>\n",
              "      <td>0</td>\n",
              "      <td>0</td>\n",
              "      <td>0</td>\n",
              "      <td>0</td>\n",
              "      <td>0</td>\n",
              "      <td>0</td>\n",
              "      <td>0</td>\n",
              "      <td>0</td>\n",
              "      <td>0</td>\n",
              "      <td>0</td>\n",
              "      <td>0</td>\n",
              "      <td>0</td>\n",
              "      <td>0</td>\n",
              "      <td>0</td>\n",
              "      <td>0</td>\n",
              "      <td>0</td>\n",
              "      <td>0</td>\n",
              "      <td>0</td>\n",
              "      <td>0</td>\n",
              "    </tr>\n",
              "    <tr>\n",
              "      <th>4</th>\n",
              "      <td>CHEMBL2324629</td>\n",
              "      <td>1</td>\n",
              "      <td>1</td>\n",
              "      <td>1</td>\n",
              "      <td>1</td>\n",
              "      <td>0</td>\n",
              "      <td>0</td>\n",
              "      <td>0</td>\n",
              "      <td>0</td>\n",
              "      <td>0</td>\n",
              "      <td>1</td>\n",
              "      <td>1</td>\n",
              "      <td>1</td>\n",
              "      <td>1</td>\n",
              "      <td>1</td>\n",
              "      <td>1</td>\n",
              "      <td>1</td>\n",
              "      <td>1</td>\n",
              "      <td>1</td>\n",
              "      <td>1</td>\n",
              "      <td>1</td>\n",
              "      <td>1</td>\n",
              "      <td>1</td>\n",
              "      <td>0</td>\n",
              "      <td>0</td>\n",
              "      <td>0</td>\n",
              "      <td>0</td>\n",
              "      <td>0</td>\n",
              "      <td>0</td>\n",
              "      <td>0</td>\n",
              "      <td>0</td>\n",
              "      <td>0</td>\n",
              "      <td>0</td>\n",
              "      <td>0</td>\n",
              "      <td>0</td>\n",
              "      <td>0</td>\n",
              "      <td>0</td>\n",
              "      <td>0</td>\n",
              "      <td>0</td>\n",
              "      <td>0</td>\n",
              "      <td>...</td>\n",
              "      <td>0</td>\n",
              "      <td>0</td>\n",
              "      <td>0</td>\n",
              "      <td>0</td>\n",
              "      <td>0</td>\n",
              "      <td>0</td>\n",
              "      <td>0</td>\n",
              "      <td>0</td>\n",
              "      <td>0</td>\n",
              "      <td>0</td>\n",
              "      <td>0</td>\n",
              "      <td>0</td>\n",
              "      <td>0</td>\n",
              "      <td>0</td>\n",
              "      <td>0</td>\n",
              "      <td>0</td>\n",
              "      <td>0</td>\n",
              "      <td>0</td>\n",
              "      <td>0</td>\n",
              "      <td>0</td>\n",
              "      <td>0</td>\n",
              "      <td>0</td>\n",
              "      <td>0</td>\n",
              "      <td>0</td>\n",
              "      <td>0</td>\n",
              "      <td>0</td>\n",
              "      <td>0</td>\n",
              "      <td>0</td>\n",
              "      <td>0</td>\n",
              "      <td>0</td>\n",
              "      <td>0</td>\n",
              "      <td>0</td>\n",
              "      <td>0</td>\n",
              "      <td>0</td>\n",
              "      <td>0</td>\n",
              "      <td>0</td>\n",
              "      <td>0</td>\n",
              "      <td>0</td>\n",
              "      <td>0</td>\n",
              "      <td>0</td>\n",
              "    </tr>\n",
              "  </tbody>\n",
              "</table>\n",
              "<p>5 rows × 882 columns</p>\n",
              "</div>"
            ],
            "text/plain": [
              "            Name  PubchemFP0  ...  PubchemFP879  PubchemFP880\n",
              "0  CHEMBL2324630           1  ...             0             0\n",
              "1  CHEMBL2321905           1  ...             0             0\n",
              "2  CHEMBL4176275           1  ...             0             0\n",
              "3  CHEMBL2324627           1  ...             0             0\n",
              "4  CHEMBL2324629           1  ...             0             0\n",
              "\n",
              "[5 rows x 882 columns]"
            ]
          },
          "metadata": {
            "tags": []
          },
          "execution_count": 66
        }
      ]
    },
    {
      "cell_type": "code",
      "metadata": {
        "colab": {
          "base_uri": "https://localhost:8080/",
          "height": 208
        },
        "id": "OKwCV-VwFptC",
        "outputId": "897a1957-3ab2-43d7-ca21-79b8825a2fc4"
      },
      "source": [
        "df_X = df_X.drop(columns=['Name'])\n",
        "print(df_X.shape)\n",
        "df_X.head(3)"
      ],
      "execution_count": 67,
      "outputs": [
        {
          "output_type": "stream",
          "text": [
            "(772, 881)\n"
          ],
          "name": "stdout"
        },
        {
          "output_type": "execute_result",
          "data": {
            "text/html": [
              "<div>\n",
              "<style scoped>\n",
              "    .dataframe tbody tr th:only-of-type {\n",
              "        vertical-align: middle;\n",
              "    }\n",
              "\n",
              "    .dataframe tbody tr th {\n",
              "        vertical-align: top;\n",
              "    }\n",
              "\n",
              "    .dataframe thead th {\n",
              "        text-align: right;\n",
              "    }\n",
              "</style>\n",
              "<table border=\"1\" class=\"dataframe\">\n",
              "  <thead>\n",
              "    <tr style=\"text-align: right;\">\n",
              "      <th></th>\n",
              "      <th>PubchemFP0</th>\n",
              "      <th>PubchemFP1</th>\n",
              "      <th>PubchemFP2</th>\n",
              "      <th>PubchemFP3</th>\n",
              "      <th>PubchemFP4</th>\n",
              "      <th>PubchemFP5</th>\n",
              "      <th>PubchemFP6</th>\n",
              "      <th>PubchemFP7</th>\n",
              "      <th>PubchemFP8</th>\n",
              "      <th>PubchemFP9</th>\n",
              "      <th>PubchemFP10</th>\n",
              "      <th>PubchemFP11</th>\n",
              "      <th>PubchemFP12</th>\n",
              "      <th>PubchemFP13</th>\n",
              "      <th>PubchemFP14</th>\n",
              "      <th>PubchemFP15</th>\n",
              "      <th>PubchemFP16</th>\n",
              "      <th>PubchemFP17</th>\n",
              "      <th>PubchemFP18</th>\n",
              "      <th>PubchemFP19</th>\n",
              "      <th>PubchemFP20</th>\n",
              "      <th>PubchemFP21</th>\n",
              "      <th>PubchemFP22</th>\n",
              "      <th>PubchemFP23</th>\n",
              "      <th>PubchemFP24</th>\n",
              "      <th>PubchemFP25</th>\n",
              "      <th>PubchemFP26</th>\n",
              "      <th>PubchemFP27</th>\n",
              "      <th>PubchemFP28</th>\n",
              "      <th>PubchemFP29</th>\n",
              "      <th>PubchemFP30</th>\n",
              "      <th>PubchemFP31</th>\n",
              "      <th>PubchemFP32</th>\n",
              "      <th>PubchemFP33</th>\n",
              "      <th>PubchemFP34</th>\n",
              "      <th>PubchemFP35</th>\n",
              "      <th>PubchemFP36</th>\n",
              "      <th>PubchemFP37</th>\n",
              "      <th>PubchemFP38</th>\n",
              "      <th>PubchemFP39</th>\n",
              "      <th>...</th>\n",
              "      <th>PubchemFP841</th>\n",
              "      <th>PubchemFP842</th>\n",
              "      <th>PubchemFP843</th>\n",
              "      <th>PubchemFP844</th>\n",
              "      <th>PubchemFP845</th>\n",
              "      <th>PubchemFP846</th>\n",
              "      <th>PubchemFP847</th>\n",
              "      <th>PubchemFP848</th>\n",
              "      <th>PubchemFP849</th>\n",
              "      <th>PubchemFP850</th>\n",
              "      <th>PubchemFP851</th>\n",
              "      <th>PubchemFP852</th>\n",
              "      <th>PubchemFP853</th>\n",
              "      <th>PubchemFP854</th>\n",
              "      <th>PubchemFP855</th>\n",
              "      <th>PubchemFP856</th>\n",
              "      <th>PubchemFP857</th>\n",
              "      <th>PubchemFP858</th>\n",
              "      <th>PubchemFP859</th>\n",
              "      <th>PubchemFP860</th>\n",
              "      <th>PubchemFP861</th>\n",
              "      <th>PubchemFP862</th>\n",
              "      <th>PubchemFP863</th>\n",
              "      <th>PubchemFP864</th>\n",
              "      <th>PubchemFP865</th>\n",
              "      <th>PubchemFP866</th>\n",
              "      <th>PubchemFP867</th>\n",
              "      <th>PubchemFP868</th>\n",
              "      <th>PubchemFP869</th>\n",
              "      <th>PubchemFP870</th>\n",
              "      <th>PubchemFP871</th>\n",
              "      <th>PubchemFP872</th>\n",
              "      <th>PubchemFP873</th>\n",
              "      <th>PubchemFP874</th>\n",
              "      <th>PubchemFP875</th>\n",
              "      <th>PubchemFP876</th>\n",
              "      <th>PubchemFP877</th>\n",
              "      <th>PubchemFP878</th>\n",
              "      <th>PubchemFP879</th>\n",
              "      <th>PubchemFP880</th>\n",
              "    </tr>\n",
              "  </thead>\n",
              "  <tbody>\n",
              "    <tr>\n",
              "      <th>0</th>\n",
              "      <td>1</td>\n",
              "      <td>1</td>\n",
              "      <td>1</td>\n",
              "      <td>1</td>\n",
              "      <td>0</td>\n",
              "      <td>0</td>\n",
              "      <td>0</td>\n",
              "      <td>0</td>\n",
              "      <td>0</td>\n",
              "      <td>1</td>\n",
              "      <td>1</td>\n",
              "      <td>1</td>\n",
              "      <td>1</td>\n",
              "      <td>1</td>\n",
              "      <td>1</td>\n",
              "      <td>1</td>\n",
              "      <td>1</td>\n",
              "      <td>0</td>\n",
              "      <td>1</td>\n",
              "      <td>1</td>\n",
              "      <td>1</td>\n",
              "      <td>0</td>\n",
              "      <td>0</td>\n",
              "      <td>0</td>\n",
              "      <td>0</td>\n",
              "      <td>0</td>\n",
              "      <td>0</td>\n",
              "      <td>0</td>\n",
              "      <td>0</td>\n",
              "      <td>0</td>\n",
              "      <td>0</td>\n",
              "      <td>0</td>\n",
              "      <td>0</td>\n",
              "      <td>0</td>\n",
              "      <td>0</td>\n",
              "      <td>0</td>\n",
              "      <td>0</td>\n",
              "      <td>0</td>\n",
              "      <td>0</td>\n",
              "      <td>0</td>\n",
              "      <td>...</td>\n",
              "      <td>0</td>\n",
              "      <td>0</td>\n",
              "      <td>0</td>\n",
              "      <td>0</td>\n",
              "      <td>0</td>\n",
              "      <td>0</td>\n",
              "      <td>0</td>\n",
              "      <td>0</td>\n",
              "      <td>0</td>\n",
              "      <td>0</td>\n",
              "      <td>0</td>\n",
              "      <td>0</td>\n",
              "      <td>0</td>\n",
              "      <td>0</td>\n",
              "      <td>0</td>\n",
              "      <td>0</td>\n",
              "      <td>0</td>\n",
              "      <td>0</td>\n",
              "      <td>0</td>\n",
              "      <td>0</td>\n",
              "      <td>0</td>\n",
              "      <td>0</td>\n",
              "      <td>0</td>\n",
              "      <td>0</td>\n",
              "      <td>0</td>\n",
              "      <td>0</td>\n",
              "      <td>0</td>\n",
              "      <td>0</td>\n",
              "      <td>0</td>\n",
              "      <td>0</td>\n",
              "      <td>0</td>\n",
              "      <td>0</td>\n",
              "      <td>0</td>\n",
              "      <td>0</td>\n",
              "      <td>0</td>\n",
              "      <td>0</td>\n",
              "      <td>0</td>\n",
              "      <td>0</td>\n",
              "      <td>0</td>\n",
              "      <td>0</td>\n",
              "    </tr>\n",
              "    <tr>\n",
              "      <th>1</th>\n",
              "      <td>1</td>\n",
              "      <td>1</td>\n",
              "      <td>1</td>\n",
              "      <td>1</td>\n",
              "      <td>0</td>\n",
              "      <td>0</td>\n",
              "      <td>0</td>\n",
              "      <td>0</td>\n",
              "      <td>0</td>\n",
              "      <td>1</td>\n",
              "      <td>1</td>\n",
              "      <td>1</td>\n",
              "      <td>1</td>\n",
              "      <td>1</td>\n",
              "      <td>1</td>\n",
              "      <td>1</td>\n",
              "      <td>1</td>\n",
              "      <td>0</td>\n",
              "      <td>1</td>\n",
              "      <td>1</td>\n",
              "      <td>1</td>\n",
              "      <td>0</td>\n",
              "      <td>0</td>\n",
              "      <td>0</td>\n",
              "      <td>0</td>\n",
              "      <td>0</td>\n",
              "      <td>0</td>\n",
              "      <td>0</td>\n",
              "      <td>0</td>\n",
              "      <td>0</td>\n",
              "      <td>0</td>\n",
              "      <td>0</td>\n",
              "      <td>0</td>\n",
              "      <td>0</td>\n",
              "      <td>0</td>\n",
              "      <td>0</td>\n",
              "      <td>0</td>\n",
              "      <td>0</td>\n",
              "      <td>0</td>\n",
              "      <td>0</td>\n",
              "      <td>...</td>\n",
              "      <td>0</td>\n",
              "      <td>0</td>\n",
              "      <td>0</td>\n",
              "      <td>0</td>\n",
              "      <td>0</td>\n",
              "      <td>0</td>\n",
              "      <td>0</td>\n",
              "      <td>0</td>\n",
              "      <td>0</td>\n",
              "      <td>0</td>\n",
              "      <td>0</td>\n",
              "      <td>0</td>\n",
              "      <td>0</td>\n",
              "      <td>0</td>\n",
              "      <td>0</td>\n",
              "      <td>0</td>\n",
              "      <td>0</td>\n",
              "      <td>0</td>\n",
              "      <td>0</td>\n",
              "      <td>0</td>\n",
              "      <td>0</td>\n",
              "      <td>0</td>\n",
              "      <td>0</td>\n",
              "      <td>0</td>\n",
              "      <td>0</td>\n",
              "      <td>0</td>\n",
              "      <td>0</td>\n",
              "      <td>0</td>\n",
              "      <td>0</td>\n",
              "      <td>0</td>\n",
              "      <td>0</td>\n",
              "      <td>0</td>\n",
              "      <td>0</td>\n",
              "      <td>0</td>\n",
              "      <td>0</td>\n",
              "      <td>0</td>\n",
              "      <td>0</td>\n",
              "      <td>0</td>\n",
              "      <td>0</td>\n",
              "      <td>0</td>\n",
              "    </tr>\n",
              "    <tr>\n",
              "      <th>2</th>\n",
              "      <td>1</td>\n",
              "      <td>1</td>\n",
              "      <td>1</td>\n",
              "      <td>0</td>\n",
              "      <td>0</td>\n",
              "      <td>0</td>\n",
              "      <td>0</td>\n",
              "      <td>0</td>\n",
              "      <td>0</td>\n",
              "      <td>1</td>\n",
              "      <td>1</td>\n",
              "      <td>1</td>\n",
              "      <td>1</td>\n",
              "      <td>0</td>\n",
              "      <td>1</td>\n",
              "      <td>1</td>\n",
              "      <td>0</td>\n",
              "      <td>0</td>\n",
              "      <td>1</td>\n",
              "      <td>1</td>\n",
              "      <td>1</td>\n",
              "      <td>0</td>\n",
              "      <td>0</td>\n",
              "      <td>0</td>\n",
              "      <td>0</td>\n",
              "      <td>0</td>\n",
              "      <td>0</td>\n",
              "      <td>0</td>\n",
              "      <td>0</td>\n",
              "      <td>0</td>\n",
              "      <td>0</td>\n",
              "      <td>0</td>\n",
              "      <td>0</td>\n",
              "      <td>0</td>\n",
              "      <td>0</td>\n",
              "      <td>0</td>\n",
              "      <td>0</td>\n",
              "      <td>0</td>\n",
              "      <td>0</td>\n",
              "      <td>0</td>\n",
              "      <td>...</td>\n",
              "      <td>0</td>\n",
              "      <td>0</td>\n",
              "      <td>0</td>\n",
              "      <td>0</td>\n",
              "      <td>0</td>\n",
              "      <td>0</td>\n",
              "      <td>0</td>\n",
              "      <td>0</td>\n",
              "      <td>0</td>\n",
              "      <td>0</td>\n",
              "      <td>0</td>\n",
              "      <td>0</td>\n",
              "      <td>0</td>\n",
              "      <td>0</td>\n",
              "      <td>0</td>\n",
              "      <td>0</td>\n",
              "      <td>0</td>\n",
              "      <td>0</td>\n",
              "      <td>0</td>\n",
              "      <td>0</td>\n",
              "      <td>0</td>\n",
              "      <td>0</td>\n",
              "      <td>0</td>\n",
              "      <td>0</td>\n",
              "      <td>0</td>\n",
              "      <td>0</td>\n",
              "      <td>0</td>\n",
              "      <td>0</td>\n",
              "      <td>0</td>\n",
              "      <td>0</td>\n",
              "      <td>0</td>\n",
              "      <td>0</td>\n",
              "      <td>0</td>\n",
              "      <td>0</td>\n",
              "      <td>0</td>\n",
              "      <td>0</td>\n",
              "      <td>0</td>\n",
              "      <td>0</td>\n",
              "      <td>0</td>\n",
              "      <td>0</td>\n",
              "    </tr>\n",
              "  </tbody>\n",
              "</table>\n",
              "<p>3 rows × 881 columns</p>\n",
              "</div>"
            ],
            "text/plain": [
              "   PubchemFP0  PubchemFP1  PubchemFP2  ...  PubchemFP878  PubchemFP879  PubchemFP880\n",
              "0           1           1           1  ...             0             0             0\n",
              "1           1           1           1  ...             0             0             0\n",
              "2           1           1           1  ...             0             0             0\n",
              "\n",
              "[3 rows x 881 columns]"
            ]
          },
          "metadata": {
            "tags": []
          },
          "execution_count": 67
        }
      ]
    },
    {
      "cell_type": "markdown",
      "metadata": {
        "id": "EkfIr9PfGddE"
      },
      "source": [
        "## **Y variable**"
      ]
    },
    {
      "cell_type": "code",
      "metadata": {
        "colab": {
          "base_uri": "https://localhost:8080/"
        },
        "id": "PD9qu88RHA8G",
        "outputId": "19ecec18-7c6b-44ba-b85e-7ea3ad00f352"
      },
      "source": [
        "df_Y = df['bioactivity_class']\n",
        "df_Y.shape"
      ],
      "execution_count": 68,
      "outputs": [
        {
          "output_type": "execute_result",
          "data": {
            "text/plain": [
              "(772,)"
            ]
          },
          "metadata": {
            "tags": []
          },
          "execution_count": 68
        }
      ]
    },
    {
      "cell_type": "markdown",
      "metadata": {
        "id": "kPE9exhYHrsw"
      },
      "source": [
        "## **Final dataset**"
      ]
    },
    {
      "cell_type": "code",
      "metadata": {
        "colab": {
          "base_uri": "https://localhost:8080/",
          "height": 208
        },
        "id": "3g6U2SnAHvtG",
        "outputId": "5536b0a6-b30e-4887-d90e-9dbf176f1123"
      },
      "source": [
        "df_final = pd.concat([df_X,df_Y], axis=1)\n",
        "print(df_final.shape)\n",
        "df_final.head(3)"
      ],
      "execution_count": 69,
      "outputs": [
        {
          "output_type": "stream",
          "text": [
            "(772, 882)\n"
          ],
          "name": "stdout"
        },
        {
          "output_type": "execute_result",
          "data": {
            "text/html": [
              "<div>\n",
              "<style scoped>\n",
              "    .dataframe tbody tr th:only-of-type {\n",
              "        vertical-align: middle;\n",
              "    }\n",
              "\n",
              "    .dataframe tbody tr th {\n",
              "        vertical-align: top;\n",
              "    }\n",
              "\n",
              "    .dataframe thead th {\n",
              "        text-align: right;\n",
              "    }\n",
              "</style>\n",
              "<table border=\"1\" class=\"dataframe\">\n",
              "  <thead>\n",
              "    <tr style=\"text-align: right;\">\n",
              "      <th></th>\n",
              "      <th>PubchemFP0</th>\n",
              "      <th>PubchemFP1</th>\n",
              "      <th>PubchemFP2</th>\n",
              "      <th>PubchemFP3</th>\n",
              "      <th>PubchemFP4</th>\n",
              "      <th>PubchemFP5</th>\n",
              "      <th>PubchemFP6</th>\n",
              "      <th>PubchemFP7</th>\n",
              "      <th>PubchemFP8</th>\n",
              "      <th>PubchemFP9</th>\n",
              "      <th>PubchemFP10</th>\n",
              "      <th>PubchemFP11</th>\n",
              "      <th>PubchemFP12</th>\n",
              "      <th>PubchemFP13</th>\n",
              "      <th>PubchemFP14</th>\n",
              "      <th>PubchemFP15</th>\n",
              "      <th>PubchemFP16</th>\n",
              "      <th>PubchemFP17</th>\n",
              "      <th>PubchemFP18</th>\n",
              "      <th>PubchemFP19</th>\n",
              "      <th>PubchemFP20</th>\n",
              "      <th>PubchemFP21</th>\n",
              "      <th>PubchemFP22</th>\n",
              "      <th>PubchemFP23</th>\n",
              "      <th>PubchemFP24</th>\n",
              "      <th>PubchemFP25</th>\n",
              "      <th>PubchemFP26</th>\n",
              "      <th>PubchemFP27</th>\n",
              "      <th>PubchemFP28</th>\n",
              "      <th>PubchemFP29</th>\n",
              "      <th>PubchemFP30</th>\n",
              "      <th>PubchemFP31</th>\n",
              "      <th>PubchemFP32</th>\n",
              "      <th>PubchemFP33</th>\n",
              "      <th>PubchemFP34</th>\n",
              "      <th>PubchemFP35</th>\n",
              "      <th>PubchemFP36</th>\n",
              "      <th>PubchemFP37</th>\n",
              "      <th>PubchemFP38</th>\n",
              "      <th>PubchemFP39</th>\n",
              "      <th>...</th>\n",
              "      <th>PubchemFP842</th>\n",
              "      <th>PubchemFP843</th>\n",
              "      <th>PubchemFP844</th>\n",
              "      <th>PubchemFP845</th>\n",
              "      <th>PubchemFP846</th>\n",
              "      <th>PubchemFP847</th>\n",
              "      <th>PubchemFP848</th>\n",
              "      <th>PubchemFP849</th>\n",
              "      <th>PubchemFP850</th>\n",
              "      <th>PubchemFP851</th>\n",
              "      <th>PubchemFP852</th>\n",
              "      <th>PubchemFP853</th>\n",
              "      <th>PubchemFP854</th>\n",
              "      <th>PubchemFP855</th>\n",
              "      <th>PubchemFP856</th>\n",
              "      <th>PubchemFP857</th>\n",
              "      <th>PubchemFP858</th>\n",
              "      <th>PubchemFP859</th>\n",
              "      <th>PubchemFP860</th>\n",
              "      <th>PubchemFP861</th>\n",
              "      <th>PubchemFP862</th>\n",
              "      <th>PubchemFP863</th>\n",
              "      <th>PubchemFP864</th>\n",
              "      <th>PubchemFP865</th>\n",
              "      <th>PubchemFP866</th>\n",
              "      <th>PubchemFP867</th>\n",
              "      <th>PubchemFP868</th>\n",
              "      <th>PubchemFP869</th>\n",
              "      <th>PubchemFP870</th>\n",
              "      <th>PubchemFP871</th>\n",
              "      <th>PubchemFP872</th>\n",
              "      <th>PubchemFP873</th>\n",
              "      <th>PubchemFP874</th>\n",
              "      <th>PubchemFP875</th>\n",
              "      <th>PubchemFP876</th>\n",
              "      <th>PubchemFP877</th>\n",
              "      <th>PubchemFP878</th>\n",
              "      <th>PubchemFP879</th>\n",
              "      <th>PubchemFP880</th>\n",
              "      <th>bioactivity_class</th>\n",
              "    </tr>\n",
              "  </thead>\n",
              "  <tbody>\n",
              "    <tr>\n",
              "      <th>0</th>\n",
              "      <td>1</td>\n",
              "      <td>1</td>\n",
              "      <td>1</td>\n",
              "      <td>1</td>\n",
              "      <td>0</td>\n",
              "      <td>0</td>\n",
              "      <td>0</td>\n",
              "      <td>0</td>\n",
              "      <td>0</td>\n",
              "      <td>1</td>\n",
              "      <td>1</td>\n",
              "      <td>1</td>\n",
              "      <td>1</td>\n",
              "      <td>1</td>\n",
              "      <td>1</td>\n",
              "      <td>1</td>\n",
              "      <td>1</td>\n",
              "      <td>0</td>\n",
              "      <td>1</td>\n",
              "      <td>1</td>\n",
              "      <td>1</td>\n",
              "      <td>0</td>\n",
              "      <td>0</td>\n",
              "      <td>0</td>\n",
              "      <td>0</td>\n",
              "      <td>0</td>\n",
              "      <td>0</td>\n",
              "      <td>0</td>\n",
              "      <td>0</td>\n",
              "      <td>0</td>\n",
              "      <td>0</td>\n",
              "      <td>0</td>\n",
              "      <td>0</td>\n",
              "      <td>0</td>\n",
              "      <td>0</td>\n",
              "      <td>0</td>\n",
              "      <td>0</td>\n",
              "      <td>0</td>\n",
              "      <td>0</td>\n",
              "      <td>0</td>\n",
              "      <td>...</td>\n",
              "      <td>0</td>\n",
              "      <td>0</td>\n",
              "      <td>0</td>\n",
              "      <td>0</td>\n",
              "      <td>0</td>\n",
              "      <td>0</td>\n",
              "      <td>0</td>\n",
              "      <td>0</td>\n",
              "      <td>0</td>\n",
              "      <td>0</td>\n",
              "      <td>0</td>\n",
              "      <td>0</td>\n",
              "      <td>0</td>\n",
              "      <td>0</td>\n",
              "      <td>0</td>\n",
              "      <td>0</td>\n",
              "      <td>0</td>\n",
              "      <td>0</td>\n",
              "      <td>0</td>\n",
              "      <td>0</td>\n",
              "      <td>0</td>\n",
              "      <td>0</td>\n",
              "      <td>0</td>\n",
              "      <td>0</td>\n",
              "      <td>0</td>\n",
              "      <td>0</td>\n",
              "      <td>0</td>\n",
              "      <td>0</td>\n",
              "      <td>0</td>\n",
              "      <td>0</td>\n",
              "      <td>0</td>\n",
              "      <td>0</td>\n",
              "      <td>0</td>\n",
              "      <td>0</td>\n",
              "      <td>0</td>\n",
              "      <td>0</td>\n",
              "      <td>0</td>\n",
              "      <td>0</td>\n",
              "      <td>0</td>\n",
              "      <td>active</td>\n",
              "    </tr>\n",
              "    <tr>\n",
              "      <th>1</th>\n",
              "      <td>1</td>\n",
              "      <td>1</td>\n",
              "      <td>1</td>\n",
              "      <td>1</td>\n",
              "      <td>0</td>\n",
              "      <td>0</td>\n",
              "      <td>0</td>\n",
              "      <td>0</td>\n",
              "      <td>0</td>\n",
              "      <td>1</td>\n",
              "      <td>1</td>\n",
              "      <td>1</td>\n",
              "      <td>1</td>\n",
              "      <td>1</td>\n",
              "      <td>1</td>\n",
              "      <td>1</td>\n",
              "      <td>1</td>\n",
              "      <td>0</td>\n",
              "      <td>1</td>\n",
              "      <td>1</td>\n",
              "      <td>1</td>\n",
              "      <td>0</td>\n",
              "      <td>0</td>\n",
              "      <td>0</td>\n",
              "      <td>0</td>\n",
              "      <td>0</td>\n",
              "      <td>0</td>\n",
              "      <td>0</td>\n",
              "      <td>0</td>\n",
              "      <td>0</td>\n",
              "      <td>0</td>\n",
              "      <td>0</td>\n",
              "      <td>0</td>\n",
              "      <td>0</td>\n",
              "      <td>0</td>\n",
              "      <td>0</td>\n",
              "      <td>0</td>\n",
              "      <td>0</td>\n",
              "      <td>0</td>\n",
              "      <td>0</td>\n",
              "      <td>...</td>\n",
              "      <td>0</td>\n",
              "      <td>0</td>\n",
              "      <td>0</td>\n",
              "      <td>0</td>\n",
              "      <td>0</td>\n",
              "      <td>0</td>\n",
              "      <td>0</td>\n",
              "      <td>0</td>\n",
              "      <td>0</td>\n",
              "      <td>0</td>\n",
              "      <td>0</td>\n",
              "      <td>0</td>\n",
              "      <td>0</td>\n",
              "      <td>0</td>\n",
              "      <td>0</td>\n",
              "      <td>0</td>\n",
              "      <td>0</td>\n",
              "      <td>0</td>\n",
              "      <td>0</td>\n",
              "      <td>0</td>\n",
              "      <td>0</td>\n",
              "      <td>0</td>\n",
              "      <td>0</td>\n",
              "      <td>0</td>\n",
              "      <td>0</td>\n",
              "      <td>0</td>\n",
              "      <td>0</td>\n",
              "      <td>0</td>\n",
              "      <td>0</td>\n",
              "      <td>0</td>\n",
              "      <td>0</td>\n",
              "      <td>0</td>\n",
              "      <td>0</td>\n",
              "      <td>0</td>\n",
              "      <td>0</td>\n",
              "      <td>0</td>\n",
              "      <td>0</td>\n",
              "      <td>0</td>\n",
              "      <td>0</td>\n",
              "      <td>active</td>\n",
              "    </tr>\n",
              "    <tr>\n",
              "      <th>2</th>\n",
              "      <td>1</td>\n",
              "      <td>1</td>\n",
              "      <td>1</td>\n",
              "      <td>0</td>\n",
              "      <td>0</td>\n",
              "      <td>0</td>\n",
              "      <td>0</td>\n",
              "      <td>0</td>\n",
              "      <td>0</td>\n",
              "      <td>1</td>\n",
              "      <td>1</td>\n",
              "      <td>1</td>\n",
              "      <td>1</td>\n",
              "      <td>0</td>\n",
              "      <td>1</td>\n",
              "      <td>1</td>\n",
              "      <td>0</td>\n",
              "      <td>0</td>\n",
              "      <td>1</td>\n",
              "      <td>1</td>\n",
              "      <td>1</td>\n",
              "      <td>0</td>\n",
              "      <td>0</td>\n",
              "      <td>0</td>\n",
              "      <td>0</td>\n",
              "      <td>0</td>\n",
              "      <td>0</td>\n",
              "      <td>0</td>\n",
              "      <td>0</td>\n",
              "      <td>0</td>\n",
              "      <td>0</td>\n",
              "      <td>0</td>\n",
              "      <td>0</td>\n",
              "      <td>0</td>\n",
              "      <td>0</td>\n",
              "      <td>0</td>\n",
              "      <td>0</td>\n",
              "      <td>0</td>\n",
              "      <td>0</td>\n",
              "      <td>0</td>\n",
              "      <td>...</td>\n",
              "      <td>0</td>\n",
              "      <td>0</td>\n",
              "      <td>0</td>\n",
              "      <td>0</td>\n",
              "      <td>0</td>\n",
              "      <td>0</td>\n",
              "      <td>0</td>\n",
              "      <td>0</td>\n",
              "      <td>0</td>\n",
              "      <td>0</td>\n",
              "      <td>0</td>\n",
              "      <td>0</td>\n",
              "      <td>0</td>\n",
              "      <td>0</td>\n",
              "      <td>0</td>\n",
              "      <td>0</td>\n",
              "      <td>0</td>\n",
              "      <td>0</td>\n",
              "      <td>0</td>\n",
              "      <td>0</td>\n",
              "      <td>0</td>\n",
              "      <td>0</td>\n",
              "      <td>0</td>\n",
              "      <td>0</td>\n",
              "      <td>0</td>\n",
              "      <td>0</td>\n",
              "      <td>0</td>\n",
              "      <td>0</td>\n",
              "      <td>0</td>\n",
              "      <td>0</td>\n",
              "      <td>0</td>\n",
              "      <td>0</td>\n",
              "      <td>0</td>\n",
              "      <td>0</td>\n",
              "      <td>0</td>\n",
              "      <td>0</td>\n",
              "      <td>0</td>\n",
              "      <td>0</td>\n",
              "      <td>0</td>\n",
              "      <td>active</td>\n",
              "    </tr>\n",
              "  </tbody>\n",
              "</table>\n",
              "<p>3 rows × 882 columns</p>\n",
              "</div>"
            ],
            "text/plain": [
              "   PubchemFP0  PubchemFP1  ...  PubchemFP880  bioactivity_class\n",
              "0           1           1  ...             0             active\n",
              "1           1           1  ...             0             active\n",
              "2           1           1  ...             0             active\n",
              "\n",
              "[3 rows x 882 columns]"
            ]
          },
          "metadata": {
            "tags": []
          },
          "execution_count": 69
        }
      ]
    },
    {
      "cell_type": "code",
      "metadata": {
        "id": "AxAtUa1OH1e7"
      },
      "source": [
        "df_final.to_csv('CHEMBL614725_MIA-PaCa-2_2class_pubchem_fp.csv', index=False)"
      ],
      "execution_count": 70,
      "outputs": []
    },
    {
      "cell_type": "code",
      "metadata": {
        "id": "VgcNpy67tl6P"
      },
      "source": [
        "import pandas as pd"
      ],
      "execution_count": 71,
      "outputs": []
    },
    {
      "cell_type": "code",
      "metadata": {
        "colab": {
          "base_uri": "https://localhost:8080/"
        },
        "id": "QKIYNtWatobx",
        "outputId": "65b557d9-2752-43d5-c355-55365ac4d29d"
      },
      "source": [
        "df = pd.read_csv('CHEMBL614725_MIA-PaCa-2_2class_pubchem_fp.csv')\n",
        "df.head"
      ],
      "execution_count": 73,
      "outputs": [
        {
          "output_type": "execute_result",
          "data": {
            "text/plain": [
              "<bound method NDFrame.head of      PubchemFP0  PubchemFP1  ...  PubchemFP880  bioactivity_class\n",
              "0             1           1  ...             0             active\n",
              "1             1           1  ...             0             active\n",
              "2             1           1  ...             0             active\n",
              "3             1           1  ...             0             active\n",
              "4             1           1  ...             0             active\n",
              "..          ...         ...  ...           ...                ...\n",
              "767           1           1  ...             0           inactive\n",
              "768           0           0  ...             0           inactive\n",
              "769           1           1  ...             0           inactive\n",
              "770           1           1  ...             0           inactive\n",
              "771           1           1  ...             0           inactive\n",
              "\n",
              "[772 rows x 882 columns]>"
            ]
          },
          "metadata": {
            "tags": []
          },
          "execution_count": 73
        }
      ]
    },
    {
      "cell_type": "code",
      "metadata": {
        "id": "AZxwKsCL32yi"
      },
      "source": [
        ""
      ],
      "execution_count": null,
      "outputs": []
    }
  ]
}